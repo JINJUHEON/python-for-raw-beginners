{
 "cells": [
  {
   "cell_type": "markdown",
   "metadata": {},
   "source": [
    "# 자료구조: 튜플(tuple)과 셋(set)"
   ]
  },
  {
   "cell_type": "markdown",
   "metadata": {},
   "source": [
    "## 튜플\n",
    "\n",
    "튜플(tuple)은 수학적 개념인 순서쌍을 구현한 자료구조이다.\n",
    "튜플을 생성하는 방법은 `[]` 대신 `()`를 사용한다는 점을 제외하면 리스트와 동일하다.\n",
    "튜플도 인덱스를 이용해서 저장된 값에 접근한다.\n",
    "튜플과 리스트의 가장 큰 차이점은 리스트는 `mutable`하지만 튜플은 `immutable`하다는 것이다.\n",
    "따라서 일단 생성된 튜플은 수정할 수 없다.\n",
    "즉 값을 수정하거나 추가하거나 삭제할 수 없다."
   ]
  },
  {
   "cell_type": "code",
   "execution_count": 1,
   "metadata": {},
   "outputs": [
    {
     "name": "stdout",
     "output_type": "stream",
     "text": [
      "<class 'tuple'>\n",
      "('Darwin Dawkins Park', 184, 76)\n"
     ]
    }
   ],
   "source": [
    "heam = ('Darwin Dawkins Park', 184, 76)\n",
    "print(type(heam))\n",
    "print(heam)"
   ]
  },
  {
   "cell_type": "code",
   "execution_count": 2,
   "metadata": {},
   "outputs": [
    {
     "name": "stdout",
     "output_type": "stream",
     "text": [
      "184\n",
      "('Darwin Dawkins Park', 184)\n",
      "True\n"
     ]
    }
   ],
   "source": [
    "print(heam[1])\n",
    "print(heam[:2])\n",
    "print(184 in heam)"
   ]
  },
  {
   "cell_type": "code",
   "execution_count": 3,
   "metadata": {},
   "outputs": [
    {
     "name": "stdout",
     "output_type": "stream",
     "text": [
      "Darwin Dawkins Park\n",
      "184\n",
      "76\n"
     ]
    }
   ],
   "source": [
    "for value in heam:\n",
    "    print(value)"
   ]
  },
  {
   "cell_type": "code",
   "execution_count": 4,
   "metadata": {},
   "outputs": [
    {
     "name": "stdout",
     "output_type": "stream",
     "text": [
      "3\n",
      "1\n",
      "1\n"
     ]
    }
   ],
   "source": [
    "print(len(heam))\n",
    "print(heam.count(184))\n",
    "print(heam.index(184))"
   ]
  },
  {
   "cell_type": "code",
   "execution_count": 5,
   "metadata": {},
   "outputs": [
    {
     "ename": "TypeError",
     "evalue": "'tuple' object does not support item assignment",
     "output_type": "error",
     "traceback": [
      "\u001b[1;31m---------------------------------------------------------------------------\u001b[0m",
      "\u001b[1;31mTypeError\u001b[0m                                 Traceback (most recent call last)",
      "\u001b[1;32m<ipython-input-5-724e321ea7b8>\u001b[0m in \u001b[0;36m<module>\u001b[1;34m()\u001b[0m\n\u001b[1;32m----> 1\u001b[1;33m \u001b[0mheam\u001b[0m\u001b[1;33m[\u001b[0m\u001b[1;36m0\u001b[0m\u001b[1;33m]\u001b[0m \u001b[1;33m=\u001b[0m \u001b[1;34m'Charles Darwin'\u001b[0m\u001b[1;33m\u001b[0m\u001b[0m\n\u001b[0m",
      "\u001b[1;31mTypeError\u001b[0m: 'tuple' object does not support item assignment"
     ]
    }
   ],
   "source": [
    "heam[0] = 'Charles Darwin'"
   ]
  },
  {
   "cell_type": "code",
   "execution_count": 6,
   "metadata": {},
   "outputs": [
    {
     "ename": "AttributeError",
     "evalue": "'tuple' object has no attribute 'append'",
     "output_type": "error",
     "traceback": [
      "\u001b[1;31m---------------------------------------------------------------------------\u001b[0m",
      "\u001b[1;31mAttributeError\u001b[0m                            Traceback (most recent call last)",
      "\u001b[1;32m<ipython-input-6-f812cf52c951>\u001b[0m in \u001b[0;36m<module>\u001b[1;34m()\u001b[0m\n\u001b[1;32m----> 1\u001b[1;33m \u001b[0mheam\u001b[0m\u001b[1;33m.\u001b[0m\u001b[0mappend\u001b[0m\u001b[1;33m(\u001b[0m\u001b[1;36m30\u001b[0m\u001b[1;33m)\u001b[0m\u001b[1;33m\u001b[0m\u001b[0m\n\u001b[0m",
      "\u001b[1;31mAttributeError\u001b[0m: 'tuple' object has no attribute 'append'"
     ]
    }
   ],
   "source": [
    "heam.append(30)"
   ]
  },
  {
   "cell_type": "markdown",
   "metadata": {},
   "source": [
    "리스트 자료구조와 같이 튜플 간의 `+` 연산과 튜플에 대한 정수 곱셈 연산이 가능하다.\n",
    "이들 연산은 피연산자인 튜플을 변경하는 것이 아니라 연산 결과를 새로운 튜플로 준다,\n",
    "따라서 이들 연산 결과를 저장해야 다른 연산에 사용할 수 있다."
   ]
  },
  {
   "cell_type": "code",
   "execution_count": 7,
   "metadata": {},
   "outputs": [
    {
     "name": "stdout",
     "output_type": "stream",
     "text": [
      "('Darwin Dawkins Park', 184, 76, 'Darwin Dawkins Park', 184, 76)\n",
      "('Darwin Dawkins Park', 184, 76, 'Darwin Dawkins Park', 184, 76, 'Darwin Dawkins Park', 184, 76)\n"
     ]
    }
   ],
   "source": [
    "print(heam + heam)\n",
    "print(heam * 3)\n",
    "print(heam)"
   ]
  },
  {
   "cell_type": "markdown",
   "metadata": {},
   "source": [
    "내장함수 `list()`, `tuple()`를 사용하면 리스트를 튜플로 또는 튜플을 리스트로 변환할 수 있다."
   ]
  },
  {
   "cell_type": "code",
   "execution_count": 8,
   "metadata": {
    "collapsed": true
   },
   "outputs": [],
   "source": [
    "gender = ['M']*2 + ['F']*4 + ['M'] + ['F']*2 + ['M'] + \\\n",
    "        ['F']*2 + ['M'] + ['F']*4 + ['M']*2\n",
    "weight = [62.0, 62.9, 36.1, 54.6, 48.5, 42.0, 47.4, \\\n",
    "          50.6, 42.0, 48.7, 40.3, 33.1, 51.9, 42.4, \\\n",
    "          34.5, 51.1, 41.2, 51.9, 46.9]\n",
    "metabolic_rate = [1792, 1666, 995, 1425, 1396, 1418, 1362, 1502,\\\n",
    "        1256, 1614, 1189, 913, 1460, 1124, 1052, 1347,\\\n",
    "        1204, 1867, 1439]"
   ]
  },
  {
   "cell_type": "code",
   "execution_count": 9,
   "metadata": {},
   "outputs": [
    {
     "name": "stdout",
     "output_type": "stream",
     "text": [
      "<class 'list'>\n",
      "<class 'tuple'>\n",
      "<class 'list'>\n"
     ]
    }
   ],
   "source": [
    "print(type(gender))\n",
    "gender = tuple(gender)\n",
    "print(type(gender))\n",
    "gender = list(gender)\n",
    "print(type(gender))"
   ]
  },
  {
   "cell_type": "markdown",
   "metadata": {},
   "source": [
    "### 패킹(packing)\n",
    "\n",
    "여러 값을 한 변수에 저장하면 해당 변수는 모든 값을 저장한 튜플이 된다.\n",
    "이런 연산을 패킹이라 한다."
   ]
  },
  {
   "cell_type": "code",
   "execution_count": 10,
   "metadata": {},
   "outputs": [
    {
     "name": "stdout",
     "output_type": "stream",
     "text": [
      "<class 'tuple'>\n",
      "('joongyang park', 'GNU', 12345, 3.141592)\n"
     ]
    }
   ],
   "source": [
    "pack = 'joongyang' + ' ' + 'park', 'GNU', 12345, 3.141592\n",
    "print(type(pack))\n",
    "print(pack)"
   ]
  },
  {
   "cell_type": "markdown",
   "metadata": {},
   "source": [
    "## 셋\n",
    "\n",
    "값을 저장한 순서가 중요한 리스트나 튜플과 달리 **셋**(set)은 값의 순서는 아무런 의미가 없고 값의 중복도 허용하지 않는 자료구조이다.\n",
    "셋은 수학적 개념인 집합을 구현한 자료구조라고 할 수 있다.\n",
    "값이 저장된 순서가 아무런 의미도 없기 때문에 리스트와 튜플에서 사용했던 인덱스와 `[]`연산자를 셋에서는 사용할 수 없다.\n",
    "셋은 `mutable`하기 때문에 새로운 원소를 추가/삭제할 수 있으며, 특정한 값이 집합의 원소인가를 알아 보는 연산, 합집합 연산, 교집합 연산, 차집합 연산 등을 수행하는 메소드와 연산자가 구현되어 있다."
   ]
  },
  {
   "cell_type": "markdown",
   "metadata": {},
   "source": [
    "셋은 쉼표로 구분한 원소를 `{}`로 감싸서 생성한다.\n",
    "원소가 하나인 셋을 생성할 때도 값 뒤에 쉼표를 기재해야 한다."
   ]
  },
  {
   "cell_type": "code",
   "execution_count": 11,
   "metadata": {},
   "outputs": [
    {
     "name": "stdout",
     "output_type": "stream",
     "text": [
      "{'다', '나', '가'}\n",
      "<class 'set'>\n"
     ]
    }
   ],
   "source": [
    "A = {'가', '나', '다'}\n",
    "print(A)\n",
    "print(type(A))"
   ]
  },
  {
   "cell_type": "markdown",
   "metadata": {},
   "source": [
    "셋에 원소 하나를 추가할 때는 `add()` 메소드를 사용하고, 여러 개의 원소를 추가할 때는 추가할 원소의 리스트를 인자로 `update()` 메소드를 호출하면 된다.\n",
    "동일한 값을 여러 번 추가할 수는 있지만 셋은 중복을 허용하지 않기 때문에 한 번만 저장한다."
   ]
  },
  {
   "cell_type": "code",
   "execution_count": 12,
   "metadata": {},
   "outputs": [
    {
     "name": "stdout",
     "output_type": "stream",
     "text": [
      "{'다', '나', '라', '가'}\n",
      "{'라', '나', '다', '가', '마'}\n"
     ]
    }
   ],
   "source": [
    "A.add('라')\n",
    "print(A)\n",
    "A.update(['라', '라', '마', '마'])\n",
    "print(A)"
   ]
  },
  {
   "cell_type": "markdown",
   "metadata": {},
   "source": [
    "특정한 값을 제거하고자 하면 제거할 값을 인자로 `discard()` 또는 `remove()` 메소드를 호출하면 된다."
   ]
  },
  {
   "cell_type": "code",
   "execution_count": 13,
   "metadata": {},
   "outputs": [
    {
     "name": "stdout",
     "output_type": "stream",
     "text": [
      "{'라', '나', '다', '마'}\n",
      "{'라', '다', '마'}\n"
     ]
    }
   ],
   "source": [
    "A.discard('가')\n",
    "print(A)\n",
    "A.remove('나')\n",
    "print(A)"
   ]
  },
  {
   "cell_type": "markdown",
   "metadata": {},
   "source": [
    "`discard()` 메소드와 `remove()` 메소드의 차이는 셋에 없는 값을 삭제할 때 나타난다.\n",
    "`discard()` 메소드는 셋에 없는 값을 삭제하려고 하면 그냥 무시하지만 `remove()` 메소드는 `KeyError` 오류를 발생시킨다."
   ]
  },
  {
   "cell_type": "code",
   "execution_count": 14,
   "metadata": {},
   "outputs": [
    {
     "name": "stdout",
     "output_type": "stream",
     "text": [
      "{'라', '다', '마'}\n"
     ]
    },
    {
     "ename": "KeyError",
     "evalue": "'가'",
     "output_type": "error",
     "traceback": [
      "\u001b[1;31m---------------------------------------------------------------------------\u001b[0m",
      "\u001b[1;31mKeyError\u001b[0m                                  Traceback (most recent call last)",
      "\u001b[1;32m<ipython-input-14-f19b4e8e32f7>\u001b[0m in \u001b[0;36m<module>\u001b[1;34m()\u001b[0m\n\u001b[0;32m      1\u001b[0m \u001b[0mA\u001b[0m\u001b[1;33m.\u001b[0m\u001b[0mdiscard\u001b[0m\u001b[1;33m(\u001b[0m\u001b[1;34m'가'\u001b[0m\u001b[1;33m)\u001b[0m\u001b[1;33m\u001b[0m\u001b[0m\n\u001b[0;32m      2\u001b[0m \u001b[0mprint\u001b[0m\u001b[1;33m(\u001b[0m\u001b[0mA\u001b[0m\u001b[1;33m)\u001b[0m\u001b[1;33m\u001b[0m\u001b[0m\n\u001b[1;32m----> 3\u001b[1;33m \u001b[0mA\u001b[0m\u001b[1;33m.\u001b[0m\u001b[0mremove\u001b[0m\u001b[1;33m(\u001b[0m\u001b[1;34m'가'\u001b[0m\u001b[1;33m)\u001b[0m\u001b[1;33m\u001b[0m\u001b[0m\n\u001b[0m\u001b[0;32m      4\u001b[0m \u001b[0mprint\u001b[0m\u001b[1;33m(\u001b[0m\u001b[0mA\u001b[0m\u001b[1;33m)\u001b[0m\u001b[1;33m\u001b[0m\u001b[0m\n",
      "\u001b[1;31mKeyError\u001b[0m: '가'"
     ]
    }
   ],
   "source": [
    "A.discard('가')\n",
    "print(A)\n",
    "A.remove('가')\n",
    "print(A)"
   ]
  },
  {
   "cell_type": "markdown",
   "metadata": {},
   "source": [
    "특정한 값이 집합의 원소인가를 알아볼 때는 `in` 연산자, 합집합 연산은 `|` 연산자 또는 `union()` 메소드, 교집합 연산은 `&` 연산자 또는 `intersection()` 메소드, 차집합 연산은 `-` 연산자 또는 `difference()` 메소드를 이용하여 수행할 수 있다."
   ]
  },
  {
   "cell_type": "code",
   "execution_count": 15,
   "metadata": {},
   "outputs": [
    {
     "name": "stdout",
     "output_type": "stream",
     "text": [
      "{'라', '다', '마'}\n",
      "{'다', '나', '가'}\n"
     ]
    }
   ],
   "source": [
    "print(A)\n",
    "B = {'가', '나', '다'}\n",
    "print(B)"
   ]
  },
  {
   "cell_type": "code",
   "execution_count": 16,
   "metadata": {},
   "outputs": [
    {
     "name": "stdout",
     "output_type": "stream",
     "text": [
      "False\n",
      "True\n"
     ]
    }
   ],
   "source": [
    "print('가' in A)\n",
    "print('가' not in A)"
   ]
  },
  {
   "cell_type": "code",
   "execution_count": 17,
   "metadata": {},
   "outputs": [
    {
     "name": "stdout",
     "output_type": "stream",
     "text": [
      "라\n",
      "다\n",
      "마\n"
     ]
    }
   ],
   "source": [
    "for ele in A:\n",
    "    print(ele)"
   ]
  },
  {
   "cell_type": "code",
   "execution_count": 18,
   "metadata": {},
   "outputs": [
    {
     "name": "stdout",
     "output_type": "stream",
     "text": [
      "{'가', '라', '나', '마', '다'}\n",
      "{'가', '라', '나', '마', '다'}\n"
     ]
    }
   ],
   "source": [
    "AorB = A | B\n",
    "AcupB = A.union(B)\n",
    "print(AorB)\n",
    "print(AcupB)"
   ]
  },
  {
   "cell_type": "code",
   "execution_count": 19,
   "metadata": {},
   "outputs": [
    {
     "name": "stdout",
     "output_type": "stream",
     "text": [
      "{'다'}\n",
      "{'다'}\n"
     ]
    }
   ],
   "source": [
    "AandB = A & B\n",
    "AcapB = A.intersection(B)\n",
    "print(AandB)\n",
    "print(AcapB)"
   ]
  },
  {
   "cell_type": "code",
   "execution_count": 20,
   "metadata": {},
   "outputs": [
    {
     "name": "stdout",
     "output_type": "stream",
     "text": [
      "{'라', '마'}\n",
      "{'라', '마'}\n",
      "{'가', '나'}\n",
      "{'가', '나'}\n"
     ]
    }
   ],
   "source": [
    "AminusB = A - B\n",
    "AdiffB = A.difference(B)\n",
    "print(AminusB)\n",
    "print(AdiffB)\n",
    "BminusA = B - A\n",
    "BdiffA = B.difference(A)\n",
    "print(BminusA)\n",
    "print(BdiffA)"
   ]
  },
  {
   "cell_type": "markdown",
   "metadata": {},
   "source": [
    "그 외에도 한 집합이 다른 집합의 부분집합(subset)인지 확대집합(superset)인지 또는 서로소 집합인지를 검사하여 결과를 논리값으로 반환하는 `issubset()`, `issuperset()`, `isdisjoint()` 메소드가 있다."
   ]
  },
  {
   "cell_type": "code",
   "execution_count": 21,
   "metadata": {},
   "outputs": [
    {
     "name": "stdout",
     "output_type": "stream",
     "text": [
      "False\n"
     ]
    }
   ],
   "source": [
    "ans = A.issubset(B)\n",
    "print(ans)"
   ]
  },
  {
   "cell_type": "markdown",
   "metadata": {},
   "source": [
    "### 튜플과 셋에 사용할 수 있는 내장함수\n",
    "\n",
    "내장함수 `all()`, `any()`, `enumerate()`, `len()`, `max()`, `min()`, `sorted()`, `sum()`은 리스트 자료구조 뿐만 아니라 튜플과 셋 자료구조에도 사용할 수 있다."
   ]
  },
  {
   "cell_type": "markdown",
   "metadata": {},
   "source": [
    "## 연습문제\n",
    "\n",
    "1. 다음 패킹 또는 언패킹의 결과를 예상해보시오.\n",
    "    * `a, b = \"XY\"`\n",
    "    * `a, b = range(1, 10, 3)`\n",
    "    * `a, *b = 1, 2, 3, 4, 5, 6`\n",
    "    * `a, *b, c = 1, 2, 3, 4, 5, 6`\n",
    "    * `a, *b = \"X\"`\n",
    "    * `a, *b, c = \"XY\"`\n",
    "    * `*a, b = [1]`\n",
    "2. 전체집합 U, 부분집합 A, B가 아래와 같이 정의되어 있다. $A \\cap B^c$와 $\\left( A \\cup B \\right)^c$를 구하시오.\n",
    "```python\n",
    "U = set(range(1, 11))\n",
    "A = {1, 3, 5, 7, 9}\n",
    "B = {1, 2, 3, 4, 5}\n",
    "```\n",
    "3. 100 이하의 자연수 중에서 2의 배수 또는 3의 배수의 집합을 만들어 보시오.\n",
    "4. 전체 고객의 이름이 저장된 셋은 S, 지난 3개월간 구매한 적이 있는 고객의 이름이 저장된 셋은 C, 지난 3개월간 방문한 적이 있는 고객의 이름이 저장된 셋은 V이다.\n",
    "    * 지난 3개월간 구매한 적이 없는 고객의 명단을 구하시오.\n",
    "    * 지난 3개월간 방문한 적이 없는 고객의 명단을 구하시오.\n",
    "    * 지난 3개월간 방문했지만 구매한 적이 없는 고객의 명단을 구하시오."
   ]
  }
 ],
 "metadata": {
  "anaconda-cloud": {},
  "kernelspec": {
   "display_name": "Python [default]",
   "language": "python",
   "name": "python3"
  },
  "language_info": {
   "codemirror_mode": {
    "name": "ipython",
    "version": 3
   },
   "file_extension": ".py",
   "mimetype": "text/x-python",
   "name": "python",
   "nbconvert_exporter": "python",
   "pygments_lexer": "ipython3",
   "version": "3.6.3"
  }
 },
 "nbformat": 4,
 "nbformat_minor": 2
}
