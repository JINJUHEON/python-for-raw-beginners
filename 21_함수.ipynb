{
 "cells": [
  {
   "cell_type": "markdown",
   "metadata": {},
   "source": [
    "# 함수(function)\n",
    "\n",
    "다음과 같은 수학 문제를 생각해보자.\n",
    "\n",
    "$a=2$, $b=1$이고 $f(x) = 2x + 3$, $g(x, y) = x^2 + y^2$이다.\n",
    "식 $z = f(a) + f(b) + g(a, b)$를 계산한 결과는 무엇인가?\n",
    "\n",
    "이 문제에서 $f(x) = 2x + 3$, $g(x, y) = x^2 + y^2$는 함수 $f$와 $g$를 정의하는 것이고, $f(a)$, $f(b)$, $g(a, b)$는 정의된 함수를 이용하는 것이다.\n",
    "여기서 다음과 같은 점을 인식해야 한다.\n",
    "\n",
    "* 함수를 이용하기 전에 먼저 정의해야 한다.\n",
    "* 정의된 함수를 이용하는 것을 함수를 **호출(실행, call, invocation)**한다고 한다.\n",
    "* 한 번 정의한 함수는 반복해서 호출할 수 있다.\n",
    "* 함수 $f$를 정의할 때 사용된 변수 $x$와 함수 $g$를 정의할 때 사용된 변수 $x$는 이름이 같지만 서로 다른 변수이다.\n",
    "* 함수의 정의에서 $f$와 $g$를 함수의 이름이며 `()` 속에 기재한 변수를 **매개변수**(parameter)라고 한다.\n",
    "* $f(a)$, $f(b)$, $g(a, b)$는 함수를 호출하는 것이며 호출시 `()` 속에 기재한 것을 **인자**(argument)라고 한다.\n",
    "* 인자와 매개변수는 구별되어야 한다. (인자와 매개변수가 동일한 것을 가리키는지는 프로그래밍 언어에 따라 다르게 구현된다. 파이썬에서는 인자와 매개변수가 동일한 것을 가리키게 구현되어 있다.)\n",
    "* $f(a)$, $f(b)$, $g(a, b)$와 같이 함수를 호출하면, 먼저 인자 $a$, $b$를 매개변수 $x$, $y$에 대응시킨다. 즉, 묵시적으로 `매개변수 = 인자`를 실행한다. 그 다음에 함수의 $2x + 3$, $x^2 + y^2$ 부분이 실행되고, 실행 결과가 함수를 호출한 곳으로 전달된다.\n",
    "따라서 $z = 7 + 5 + 5$가 된다.\n",
    "* 함수의 정의 중에서 $2x + 3$, $x^2 + y^2$ 부분을 함수의 **몸체**(function body)라고 한다.\n",
    "* 매개변수는 함수의 몸체에서 사용된다."
   ]
  },
  {
   "cell_type": "markdown",
   "metadata": {},
   "source": [
    "프로그램을 작성할 때 특정한 코드가 반복되면 이 코드를 함수로 작성하는 것이 바람직하다.\n",
    "함수는 호출하기 전에 정의해야 한다.\n",
    "함수는 이름과 매개변수 그리고 몸체로 구성되며 매개변수는 몸체에서 이용된다.\n",
    "정의된 함수는 이름과 인자를 이용해서 호출한다.\n",
    "호출된 함수는 인자와 매개변수를 대응시킨 다음 몸체를 실행하고 그 결과를 호출한 곳으로 전달(반환, return)한다."
   ]
  },
  {
   "cell_type": "markdown",
   "metadata": {},
   "source": [
    "## 함수의 정의\n",
    "\n",
    "파이썬에서 함수를 정의하는 방법은 다음과 같다.\n",
    "함수의 몸체는 `:` 다음에 기재한다.\n",
    "`:` 다음에는 항상 들여쓰는 것이 파이썬의 기본 문법이다,\n",
    "\n",
    "```python\n",
    "def 함수이름(쉼표로_구분한_매개변수목록):\n",
    "    들여쓴_한_줄_이상의_함수_몸체\n",
    "    return 호출한_곳에_보낼_결과\n",
    "```\n",
    "\n",
    "매개변수가 없는 함수도 정의할 수 있다.\n",
    "이때는 함수 이름 다음에 `()`만 쓰면 된다.\n",
    "어떤 일을 하지만 호출한 곳에 아무런 결과를 보내지 않는 함수도 정의할 수 있다.\n",
    "이때는 `return` 다음에 `None`을 기재하거나 `return` 문장 자체를 기재하지 않으면 된다."
   ]
  },
  {
   "cell_type": "markdown",
   "metadata": {},
   "source": [
    "앞에서 언급한 수학 문제에 대해서는 다음과 같이 함수를 정의하고 호출하여 해결할 수 있다."
   ]
  },
  {
   "cell_type": "code",
   "execution_count": 1,
   "metadata": {},
   "outputs": [
    {
     "name": "stdout",
     "output_type": "stream",
     "text": [
      "17\n"
     ]
    }
   ],
   "source": [
    "def f(x):\n",
    "    fx = 2*x + 3\n",
    "    return fx\n",
    "\n",
    "def g(x, y):\n",
    "    gxy = x**2 + y**2\n",
    "    return gxy\n",
    "\n",
    "a = 2\n",
    "b = 1\n",
    "\n",
    "z = f(a) + f(b) + g(a, b)\n",
    "print(z)"
   ]
  },
  {
   "cell_type": "markdown",
   "metadata": {},
   "source": [
    "제품의 총구입비는 단가, 구입량, 배송비에 의해 결정된다.\n",
    "제품의 배송비는 배송할 제품의 수와 상관없이 항상 2500이라고 하자.\n",
    "따라서 총구입비는 $단가*구입량 + 2500$로 계산할 수 있다.\n",
    "고객에 따라 구입량과 단가는 달라질 수 있지만 총구입비를 계산하는 방식은 변하지 않는다.\n",
    "따라서 구입량과 단가를 매개변수로 해서 총구입비를 계산하는 함수를 다음과 같이 정의할 수 있다.\n",
    "\n",
    "함수의 이름은 함수가 수행하는 일을 나타내도록 하고, 매개변수 이름은 이 변수가 저장하는 값의 의미를 나타내도록 하는 것이 좋다."
   ]
  },
  {
   "cell_type": "code",
   "execution_count": 2,
   "metadata": {},
   "outputs": [],
   "source": [
    "def cost(nb_items, unit_price):\n",
    "    total = nb_items * unit_price + 2500\n",
    "    return total"
   ]
  },
  {
   "cell_type": "code",
   "execution_count": 3,
   "metadata": {},
   "outputs": [
    {
     "name": "stdout",
     "output_type": "stream",
     "text": [
      "62500\n",
      "12500\n"
     ]
    }
   ],
   "source": [
    "items = 5\n",
    "price = 12000\n",
    "total_cost = cost(items, price)\n",
    "print(total_cost)\n",
    "items = 10\n",
    "price = 1000\n",
    "total_cost = cost(items, price)\n",
    "print(total_cost)"
   ]
  },
  {
   "cell_type": "markdown",
   "metadata": {},
   "source": [
    "수치계산을 하는 수학 함수와 달리 프로그램에서의 함수는 다양한 일을 수행하도록 정의할 수 있다.\n",
    "\"안녕하세요, \\_\\_\\_\\_씨?\"라는 인사말을 출력하는 함수를 작성해보자.\n",
    "이때 \\_\\_\\_\\_에는 사람 이름이 들어가야 하고 이 이름은 때에 따라 변해야 한다.\n",
    "따라서 사람 이름을 매개변수로 받아서 인사말을 출력하는 함수를 작성하면 되겠다.\n",
    "이 함수가 인사말만 출력하면 된다고 생각하면 다음과 같이 호출하는 쪽에 아무것도 돌려주지 않아도 된다."
   ]
  },
  {
   "cell_type": "code",
   "execution_count": 4,
   "metadata": {},
   "outputs": [],
   "source": [
    "def say_hello(name):\n",
    "    greeting = \"안녕하세요, {}씨?\".format(name)\n",
    "    print(greeting)"
   ]
  },
  {
   "cell_type": "code",
   "execution_count": 5,
   "metadata": {},
   "outputs": [
    {
     "name": "stdout",
     "output_type": "stream",
     "text": [
      "안녕하세요, 박중양씨?\n",
      "안녕하세요, Darwin씨?\n"
     ]
    }
   ],
   "source": [
    "say_hello('박중양')\n",
    "say_hello('Darwin')"
   ]
  },
  {
   "cell_type": "markdown",
   "metadata": {},
   "source": [
    "만약 이 함수가 인사말을 출력하는 일이 아니라 인사말을 만들기만 하면 된다면 다음과 같이 생성한 인사말을 호출한 쪽에 돌려주게 하면 된다.\n",
    "이처럼 함수가 해야 할 일이 무엇인가를 분명하게 결정하고 나서 함수를 정의하여야 한다."
   ]
  },
  {
   "cell_type": "code",
   "execution_count": 6,
   "metadata": {},
   "outputs": [],
   "source": [
    "def create_greeting(name):\n",
    "    greeting = \"안녕하세요, {}씨?\".format(name)\n",
    "    return greeting"
   ]
  },
  {
   "cell_type": "code",
   "execution_count": 7,
   "metadata": {},
   "outputs": [
    {
     "name": "stdout",
     "output_type": "stream",
     "text": [
      "안녕하세요, 박중양씨?\n",
      "안녕하세요, Darwin씨?\n"
     ]
    }
   ],
   "source": [
    "greeting = create_greeting('박중양')\n",
    "print(greeting)\n",
    "greeting = create_greeting('Darwin')\n",
    "print(greeting)"
   ]
  },
  {
   "cell_type": "markdown",
   "metadata": {},
   "source": [
    "## 함수 호출\n",
    "\n",
    "함수가 호출되면 프로그램의 실행은 호출된 함수의 정의 부분으로 이동한다.\n",
    "제일 먼저 인자와 매개변수를 대응시키는 `매개변수 = 인자`가 묵시적으로 실행되면서 매개변수가 만들어진다.\n",
    "그 다음에 몸체 부분이 실행되고 마지막으로 `return` 문장이 실행되면 함수의 실행이 종료된다.\n",
    "함수의 실행이 종료되면 함수를 실행하기 위해 만든 매개변수와 다른 변수는 없어지고, 함수를 호출한 곳으로 프로그램의 실행이 되돌아 가서 프로그램의 다음 부분이 실행된다."
   ]
  },
  {
   "cell_type": "markdown",
   "metadata": {},
   "source": [
    "파이썬을 비롯한 대부분의 프로그래밍 언어의 `return` 문장은 하나의 값 또는 객체만 반환할 수 있다.\n",
    "여러 개의 결과를 반환하고 싶으면 반환하고자 하는 결과를 저장한 자료구조 객체를 반환하면 된다.\n",
    "파이썬에서는 `return` 문장에 여러 개의 값이나 객체를 쉼표로 구분하여 나열하면 자동적으로 튜플로 반환된다."
   ]
  },
  {
   "cell_type": "code",
   "execution_count": 8,
   "metadata": {},
   "outputs": [
    {
     "name": "stdout",
     "output_type": "stream",
     "text": [
      "(1, 'testing', ['a', 'b', 'c'])\n"
     ]
    }
   ],
   "source": [
    "def test_fct():\n",
    "    return 1, 'testing', ['a', 'b', 'c']\n",
    "\n",
    "result = test_fct()\n",
    "print(result)"
   ]
  },
  {
   "cell_type": "markdown",
   "metadata": {},
   "source": [
    "# 함수 외부에서 정의된 변수와 객체 사용하기\n",
    "\n",
    "함수의 몸체에서는 매개변수 뿐만 아니라 새로운 변수나 객체도 만들어 사용할 수 있으며 함수 외부에서 만든 변수와 객체도 사용할 수 있다.\n",
    "예를 들어 원의 면적을 계산하는 함수를 작성해보자.\n",
    "원의 면적을 계산하기 위해서는 반지름과 원주율이 필요하다.\n",
    "원주율은 중요한 상수이므로 `math` 모듈에 `pi`라는 이름으로 정의되어 있으므로 이를 사용하면 된다."
   ]
  },
  {
   "cell_type": "code",
   "execution_count": 9,
   "metadata": {},
   "outputs": [],
   "source": [
    "import math\n",
    "def circle_area(radius):\n",
    "    area = math.pi * math.pow(radius, 2.)\n",
    "    return area"
   ]
  },
  {
   "cell_type": "code",
   "execution_count": 10,
   "metadata": {},
   "outputs": [
    {
     "name": "stdout",
     "output_type": "stream",
     "text": [
      "78.53981633974483\n"
     ]
    }
   ],
   "source": [
    "area = circle_area(5)\n",
    "print(area)"
   ]
  },
  {
   "cell_type": "markdown",
   "metadata": {},
   "source": [
    "평균이 $\\mu$이고 표준편차가 $\\sigma$인 정규분포를 하는 변수 $X$가 $x$일 밀도\n",
    "\n",
    "$$\n",
    "\\frac{1}{\\sqrt{2\\pi} \\sigma} \\exp \\left( - \\frac{\\left( x - \\mu  \\right)^2}{2\\sigma^2}  \\right)\n",
    "$$\n",
    "\n",
    "를 계산해주는 함수는 원주율과 $\\mu$, $\\sigma$, $x$를 알아야 계산할 수 있다.\n",
    "원주율은 상수로 `math` 모듈에 `pi`로 정의되어 있으므로 밀도를 계산할 때는 $\\mu$, $\\sigma$, $x$를 제공해야 한다.\n",
    "따라서 다음과 같이 작성할 수 있다."
   ]
  },
  {
   "cell_type": "code",
   "execution_count": 11,
   "metadata": {},
   "outputs": [],
   "source": [
    "def normal_pdf(x, mu, sigma):\n",
    "    first = 1. / math.sqrt(2. * math.pi) / sigma\n",
    "    second = math.exp(-math.pow(x-mu, 2) / math.pow(sigma, 2) / 2)\n",
    "    pdf = first * second\n",
    "    return pdf"
   ]
  },
  {
   "cell_type": "code",
   "execution_count": 12,
   "metadata": {},
   "outputs": [
    {
     "name": "stdout",
     "output_type": "stream",
     "text": [
      "0.02129653370149015\n",
      "0.3989422804014327\n"
     ]
    }
   ],
   "source": [
    "pdf = normal_pdf(110, 100, 15)\n",
    "print(pdf)\n",
    "pdf = normal_pdf(0, 0, 1)\n",
    "print(pdf)"
   ]
  },
  {
   "cell_type": "markdown",
   "metadata": {},
   "source": [
    "매개변수와 몸체에서 만든 변수나 객체는 함수가 실행할 동안에만 존재하고 함수의 실행이 종료하면 없어지는다.\n",
    "이런 변수나 객체를 **지역변수**(local variable) 또는 **지역객체**라고 한다.\n",
    "지역변수는 함수의 몸체에서만 사용할 수 있다.\n",
    "즉 지역변수의 **사용범위**(scope)는 함수의 몸체로 제한된다.\n",
    "반면에 함수의 외부에서 만든 변수나 객체는 함수의 외부와 내부 모두에서 사용할 수 있다.\n",
    "이런 변수는 프로그램 전체에서 사용할 수 있으며 **전역변수**(global variable) 또는 **전역객체**라고 한다."
   ]
  },
  {
   "cell_type": "markdown",
   "metadata": {},
   "source": [
    "## 함수의 원형\n",
    "\n",
    "함수를 호출하려면 함수의 이름과 매개변수에 전달할 인자를 알아야 한다.\n",
    "호출하려는 함수가 자신이 작성한 것이면 함수 이름도 알고 있고 매개변수에 어떤 값을 전달해야 하는지도 알고 있으므로 별다른 문제가 없다.\n",
    "하지만 내장함수, 다른 모듈에서 정의한 함수, 다른 모듈에서 정의한 자료형의 메소드를 호출하는 일은 초보자에게 쉬운 일이 아니다.\n",
    "적어도 함수 이름과 매개변수에 대한 정보를 알아야 호출할 수 있다.\n",
    "이런 정보는 함수의 정의에서 몸체를 제외한 부분에 있는데 이를 **함수의 원형**(function prototype)이라 한다.\n",
    "\n",
    "함수를 제대로 이용하려면 함수의 원형과 뿐만 아니라 함수의 기능과 함수가 어떤 실행결과를 돌려주는지에 대해도 알아야 한다."
   ]
  },
  {
   "cell_type": "markdown",
   "metadata": {},
   "source": [
    "내장함수의 원형과 기능 그리고 실행결과에 대한 정보는 다음과 같이 `help()` 함수로 알아볼 수 있다."
   ]
  },
  {
   "cell_type": "markdown",
   "metadata": {},
   "source": [
    "help(len)"
   ]
  },
  {
   "cell_type": "code",
   "execution_count": 13,
   "metadata": {},
   "outputs": [
    {
     "name": "stdout",
     "output_type": "stream",
     "text": [
      "Help on built-in function round in module builtins:\n",
      "\n",
      "round(...)\n",
      "    round(number[, ndigits]) -> number\n",
      "    \n",
      "    Round a number to a given precision in decimal digits (default 0 digits).\n",
      "    This returns an int when called with one argument, otherwise the\n",
      "    same type as the number. ndigits may be negative.\n",
      "\n"
     ]
    }
   ],
   "source": [
    "help(round)"
   ]
  },
  {
   "cell_type": "markdown",
   "metadata": {},
   "source": [
    "다른 모듈에서 정의한 함수에 대한 정보도 `help()` 함수로 알아볼 수 있다."
   ]
  },
  {
   "cell_type": "code",
   "execution_count": 14,
   "metadata": {},
   "outputs": [
    {
     "name": "stdout",
     "output_type": "stream",
     "text": [
      "Help on built-in function sqrt in module math:\n",
      "\n",
      "sqrt(...)\n",
      "    sqrt(x)\n",
      "    \n",
      "    Return the square root of x.\n",
      "\n"
     ]
    }
   ],
   "source": [
    "help(math.sqrt)"
   ]
  },
  {
   "cell_type": "code",
   "execution_count": 15,
   "metadata": {},
   "outputs": [
    {
     "name": "stdout",
     "output_type": "stream",
     "text": [
      "Help on built-in function pow in module math:\n",
      "\n",
      "pow(...)\n",
      "    pow(x, y)\n",
      "    \n",
      "    Return x**y (x to the power of y).\n",
      "\n"
     ]
    }
   ],
   "source": [
    "help(math.pow)"
   ]
  },
  {
   "cell_type": "markdown",
   "metadata": {},
   "source": [
    "물론 프로그래머가 정의한 함수의 원형도 알아볼 수 있다.\n",
    "프로그래머가 정의한 함수의 매개변수와 실행결과에 대한 자세한 정보가 나오게 하려면 함수를 정의할 때 `docstring`을 작성해야 한다."
   ]
  },
  {
   "cell_type": "code",
   "execution_count": 16,
   "metadata": {},
   "outputs": [
    {
     "name": "stdout",
     "output_type": "stream",
     "text": [
      "Help on function normal_pdf in module __main__:\n",
      "\n",
      "normal_pdf(x, mu, sigma)\n",
      "\n"
     ]
    }
   ],
   "source": [
    "help(normal_pdf)"
   ]
  },
  {
   "cell_type": "markdown",
   "metadata": {},
   "source": [
    "함수를 정의할 때 함수의 기능, 매개변수, 실행결과에 대해 설명한 문자열을 `docstring`이라고 한다.\n",
    "`docstring`을 작성하면 `help()`함수는 함수의 원형과 함께 `docstring`을 보여준다."
   ]
  },
  {
   "cell_type": "code",
   "execution_count": 17,
   "metadata": {},
   "outputs": [],
   "source": [
    "def normal_pdf(x, mu, sigma):\n",
    "    \"\"\"\n",
    "    x -- 밀도를 계산할 값\n",
    "    mu -- 정규분포의 평균\n",
    "    sigma -- 정규분포의 표준편차\n",
    "    \n",
    "    평균이 mu이고 표준편차가 sigma인 정규분포에서 x에서의 밀도를 계산해준다.\n",
    "    \"\"\"\n",
    "    first = 1. / math.sqrt(2. * math.pi) / sigma\n",
    "    second = math.exp(-math.pow(x-mu, 2) / math.pow(sigma, 2) / 2)\n",
    "    pdf = first * second\n",
    "    return pdf"
   ]
  },
  {
   "cell_type": "code",
   "execution_count": 18,
   "metadata": {},
   "outputs": [
    {
     "name": "stdout",
     "output_type": "stream",
     "text": [
      "0.02129653370149015\n",
      "0.3989422804014327\n"
     ]
    }
   ],
   "source": [
    "pdf = normal_pdf(110, 100, 15)\n",
    "print(pdf)\n",
    "pdf = normal_pdf(0, 0, 1)\n",
    "print(pdf)"
   ]
  },
  {
   "cell_type": "code",
   "execution_count": 19,
   "metadata": {},
   "outputs": [
    {
     "name": "stdout",
     "output_type": "stream",
     "text": [
      "Help on function normal_pdf in module __main__:\n",
      "\n",
      "normal_pdf(x, mu, sigma)\n",
      "    x -- 밀도를 계산할 값\n",
      "    mu -- 정규분포의 평균\n",
      "    sigma -- 정규분포의 표준편차\n",
      "    \n",
      "    평균이 mu이고 표준편차가 sigma인 정규분포에서 x에서의 밀도를 계산해준다.\n",
      "\n"
     ]
    }
   ],
   "source": [
    "help(normal_pdf)"
   ]
  },
  {
   "cell_type": "markdown",
   "metadata": {},
   "source": [
    "## 매개변수의 기본값\n",
    "\n",
    "함수를 정의할 때 매개변수의 기본값(default value)을 지정할 수 있다.\n",
    "함수를 호출할 때 특정 매개변수에 전달할 인자를 지정하지 않으면 그 매개변수의 기본값이 매개변수에 전달된다.\n",
    "따라서 함수를 정의할 때 매개변수의 기본값을 지정하면 이 함수를 여러 가지 방법으로 호출할 수 있게 된다."
   ]
  },
  {
   "cell_type": "markdown",
   "metadata": {},
   "source": [
    "정규분포의 밀도함수를 계산하기 위해 정의한 `normal_pdf()`를 다시 정의해보기로 하자.\n",
    "이 함수를 호출하기 위해서는 밀도를 계산할 $x$, 평균 $\\mu$, 표준편차 $\\sigma$를 인자로 주어야 한다.\n",
    "평균이 0, 표준편차가 1인 표준정규분포의 밀도를 계산하는 경우가 대부분이므로 이 함수를 호출할 때 평균과 표준편차를 인자로 주지 않으면 자동적으로 평균이 0, 표준편차가 1로 전달하게 할 수 있다."
   ]
  },
  {
   "cell_type": "code",
   "execution_count": 20,
   "metadata": {},
   "outputs": [],
   "source": [
    "def normal_pdf(x, mu=0, sigma=1):\n",
    "    \"\"\"\n",
    "    x -- 밀도를 계산할 값\n",
    "    mu -- 정규분포의 평균\n",
    "    sigma -- 정규분포의 표준편차\n",
    "    \n",
    "    평균이 mu이고 표준편차가 sigma인 정규분포에서 x에서의 밀도를 계산해준다.\n",
    "    \"\"\"\n",
    "    first = 1. / math.sqrt(2. * math.pi) / sigma\n",
    "    second = math.exp(-math.pow(x-mu, 2) / math.pow(sigma, 2) / 2)\n",
    "    pdf = first * second\n",
    "    return pdf"
   ]
  },
  {
   "cell_type": "code",
   "execution_count": 21,
   "metadata": {},
   "outputs": [
    {
     "name": "stdout",
     "output_type": "stream",
     "text": [
      "Help on function normal_pdf in module __main__:\n",
      "\n",
      "normal_pdf(x, mu=0, sigma=1)\n",
      "    x -- 밀도를 계산할 값\n",
      "    mu -- 정규분포의 평균\n",
      "    sigma -- 정규분포의 표준편차\n",
      "    \n",
      "    평균이 mu이고 표준편차가 sigma인 정규분포에서 x에서의 밀도를 계산해준다.\n",
      "\n"
     ]
    }
   ],
   "source": [
    "help(normal_pdf)"
   ]
  },
  {
   "cell_type": "markdown",
   "metadata": {},
   "source": [
    "위와 같이 정의된 `normal_pdf()` 함수는 여러 가지 방법으로 호출할 수 있다."
   ]
  },
  {
   "cell_type": "code",
   "execution_count": 22,
   "metadata": {},
   "outputs": [
    {
     "data": {
      "text/plain": [
       "0.14956424214925135"
      ]
     },
     "execution_count": 22,
     "metadata": {},
     "output_type": "execute_result"
    }
   ],
   "source": [
    "# N(2, 2.5^2)\n",
    "normal_pdf(1.1, 2, 2.5) "
   ]
  },
  {
   "cell_type": "code",
   "execution_count": 23,
   "metadata": {},
   "outputs": [
    {
     "data": {
      "text/plain": [
       "0.14956424214925135"
      ]
     },
     "execution_count": 23,
     "metadata": {},
     "output_type": "execute_result"
    }
   ],
   "source": [
    "normal_pdf(x=1.1, mu=2, sigma=2.5) "
   ]
  },
  {
   "cell_type": "code",
   "execution_count": 24,
   "metadata": {},
   "outputs": [
    {
     "data": {
      "text/plain": [
       "0.14956424214925135"
      ]
     },
     "execution_count": 24,
     "metadata": {},
     "output_type": "execute_result"
    }
   ],
   "source": [
    "normal_pdf(mu=2, x=1.1, sigma=2.5) "
   ]
  },
  {
   "cell_type": "code",
   "execution_count": 25,
   "metadata": {},
   "outputs": [
    {
     "data": {
      "text/plain": [
       "0.14485395296523687"
      ]
     },
     "execution_count": 25,
     "metadata": {},
     "output_type": "execute_result"
    }
   ],
   "source": [
    "# N(0, 2.5^2)\n",
    "normal_pdf(1.1, 0, 2.5) "
   ]
  },
  {
   "cell_type": "code",
   "execution_count": 26,
   "metadata": {},
   "outputs": [
    {
     "data": {
      "text/plain": [
       "0.14485395296523687"
      ]
     },
     "execution_count": 26,
     "metadata": {},
     "output_type": "execute_result"
    }
   ],
   "source": [
    "normal_pdf(x=1.1, mu=0, sigma=2.5) "
   ]
  },
  {
   "cell_type": "code",
   "execution_count": 27,
   "metadata": {},
   "outputs": [
    {
     "data": {
      "text/plain": [
       "0.14485395296523687"
      ]
     },
     "execution_count": 27,
     "metadata": {},
     "output_type": "execute_result"
    }
   ],
   "source": [
    "normal_pdf(x=1.1, sigma=2.5) "
   ]
  },
  {
   "cell_type": "code",
   "execution_count": 28,
   "metadata": {},
   "outputs": [
    {
     "data": {
      "text/plain": [
       "0.14485395296523687"
      ]
     },
     "execution_count": 28,
     "metadata": {},
     "output_type": "execute_result"
    }
   ],
   "source": [
    "normal_pdf(sigma=2.5, x=1.1) "
   ]
  },
  {
   "cell_type": "code",
   "execution_count": 29,
   "metadata": {},
   "outputs": [
    {
     "data": {
      "text/plain": [
       "0.21785217703255053"
      ]
     },
     "execution_count": 29,
     "metadata": {},
     "output_type": "execute_result"
    }
   ],
   "source": [
    "# N(0, 1)\n",
    "normal_pdf(x=1.1, mu=0, sigma=1) "
   ]
  },
  {
   "cell_type": "code",
   "execution_count": 30,
   "metadata": {},
   "outputs": [
    {
     "data": {
      "text/plain": [
       "0.21785217703255053"
      ]
     },
     "execution_count": 30,
     "metadata": {},
     "output_type": "execute_result"
    }
   ],
   "source": [
    "normal_pdf(1.1, mu=0) "
   ]
  },
  {
   "cell_type": "code",
   "execution_count": 31,
   "metadata": {},
   "outputs": [
    {
     "data": {
      "text/plain": [
       "0.21785217703255053"
      ]
     },
     "execution_count": 31,
     "metadata": {},
     "output_type": "execute_result"
    }
   ],
   "source": [
    "normal_pdf(1.1) "
   ]
  },
  {
   "cell_type": "code",
   "execution_count": 32,
   "metadata": {},
   "outputs": [
    {
     "data": {
      "text/plain": [
       "0.21785217703255053"
      ]
     },
     "execution_count": 32,
     "metadata": {},
     "output_type": "execute_result"
    }
   ],
   "source": [
    "normal_pdf(1.1, sigma=1)"
   ]
  },
  {
   "cell_type": "markdown",
   "metadata": {},
   "source": [
    "## 연습문제\n",
    "\n",
    "1. 프로그램을 작성할 때 함수를 이용하면 어떤 이점이 있는가?\n",
    "2. 함수의 실행이 종료할 때 지역변수나 객체는 어떻게 되는가?\n",
    "3. `statistics.py`라는 파이썬 프로그램 파일에 본문에서 정의한 `normal_pdf()` 함수를 정의했다.\n",
    "다른 프로그램에서 이 함수를 이용해서 $x=1$에서 표준정규분포의 밀도를 구하려면 어떻게 해야 하는가?\n",
    "4. 정수를 매개변수로 받아서 홀수이면 True, 짝수이면 False를 반환하는 is_odd() 함수와 짝수이면 True, 짝수이면 False를 반환하는 is_even() 함수를 정의하고 테스트하시오.\n",
    "5. 섭씨온도(Celsius)를 화씨온도(Fahrenheit)로 변화하는 식은 $\\left( 1.8 \\times 섭씨온도 + 32 \\right)$이고, 절대온도(Kelvin)는 $\\left( 섭씨온도 + 273.15 \\right)$이다. 세 가지 온도를 다른 온도로 변환하는 함수들을 작성하고 테스트하시오.\n",
    "6. 체질량 지수(Body Mass Index, BMI)는 인간의 비만도(degree of obesity)를 나타내는 지수로, 체중과 키의 관계로 계산된다.\n",
    "키가 t 미터, 체중이 w 킬로그램일 때, BMI는 $w / t^2$와 같이 계산한다.\n",
    "한국의 경우 BMI의 크기에 따라 다음과 같이 비만도를 분류한다.\n",
    "BMI가 35 이상이면 고도 비만, 30 - 35 사이에 있으면 중등도 비만, 25 - 30 사이에 있으면 경도 비만, 23 - 24.9 사이에 있으면 과체중, 18.5 - 22.9 사이이면 정상, 18.5 미만이면 저체중으로 판정하고 있다.\n",
    "키와 체중을 받아서 비만도를 계산해주는 함수를 작성하시오.\n",
    "7. 혈압은 심장 수축기의 혈압(systolic blood pressure)과 이완기의 혈압(diastolic blood pressure)의 두 측정치로 요약되는데, 휴식시 정상 혈압은 수축시 100~140mmHg에 이완시 60~90mmHg이고, 혈압이 지속적으로 140/90mmHg 이상일 때 고혈압이 있다고 말한다.\n",
    "수축시 혈압과 이완시 혈압을 받아서 고혈압 여부를 판정하는 함수를 작성하시오.    \n",
    "8. 다음과 같이 정의되는 rectified linear function를 구현하는 함수를 작성하시오.\n",
    "$$f(x) = \\left\\{\n",
    "     \\begin{array}{ll}\n",
    "       x & \\text{if } x \\gt 0 \\\\\n",
    "       0 & \\text{if } x \\le 0\n",
    "     \\end{array}\n",
    "   \\right.\n",
    "$$\n",
    "6. 다음과 같이 정의되는 exponential linear function를 구현하는 함수를 작성하시오.\n",
    "$$\n",
    "f(x) = \\left\\{\n",
    "     \\begin{array}{ll}\n",
    "       x & \\text{if } x \\gt 0 \\\\\n",
    "       \\alpha (e^x - 1) & \\text{if } x \\le 0\n",
    "     \\end{array}\n",
    "   \\right.\n",
    "$$\n",
    "11. `statsmodels.stats.descriptivestats` 모듈에 정의된 [\n",
    "DescrStatsW()](http://www.statsmodels.org/stable/generated/statsmodels.stats.weightstats.DescrStatsW.html#statsmodels.stats.weightstats.DescrStatsW) 함수를 호출하는 여러 가지 방법을 생각해보자.\n",
    "10. `scikit-learn` 패키지의 `neural_network` 모듈에 정의된 [MLPClassifier 클래스의 생성자](http://scikit-learn.org/stable/modules/generated/sklearn.neural_network.MLPClassifier.html#sklearn.neural_network.MLPClassifier)를 호출하는 여러 가지 방법을 생각해보자."
   ]
  }
 ],
 "metadata": {
  "kernelspec": {
   "display_name": "Python 3",
   "language": "python",
   "name": "python3"
  },
  "language_info": {
   "codemirror_mode": {
    "name": "ipython",
    "version": 3
   },
   "file_extension": ".py",
   "mimetype": "text/x-python",
   "name": "python",
   "nbconvert_exporter": "python",
   "pygments_lexer": "ipython3",
   "version": "3.6.5"
  },
  "latex_envs": {
   "LaTeX_envs_menu_present": true,
   "autoclose": false,
   "autocomplete": true,
   "bibliofile": "biblio.bib",
   "cite_by": "apalike",
   "current_citInitial": 1,
   "eqLabelWithNumbers": true,
   "eqNumInitial": 1,
   "hotkeys": {
    "equation": "Ctrl-E",
    "itemize": "Ctrl-I"
   },
   "labels_anchors": false,
   "latex_user_defs": false,
   "report_style_numbering": false,
   "user_envs_cfg": false
  }
 },
 "nbformat": 4,
 "nbformat_minor": 2
}
