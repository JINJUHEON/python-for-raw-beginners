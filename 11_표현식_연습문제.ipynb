{
 "cells": [
  {
   "cell_type": "markdown",
   "metadata": {},
   "source": [
    "* 변수의 id를 알아보는 예제 프로그램을 작성하시오."
   ]
  },
  {
   "cell_type": "code",
   "execution_count": 29,
   "metadata": {},
   "outputs": [
    {
     "name": "stdout",
     "output_type": "stream",
     "text": [
      "1783983392\n",
      "1966945396528\n"
     ]
    }
   ],
   "source": [
    "x = 100\n",
    "print(id(x))\n",
    "s = 'github.com'\n",
    "print(id(s))"
   ]
  },
  {
   "cell_type": "markdown",
   "metadata": {},
   "source": [
    "* 도로 나타낸 각도를 입력받아 라디안(radian)으로 변환하는 프로그램을 작성하시오."
   ]
  },
  {
   "cell_type": "code",
   "execution_count": 1,
   "metadata": {},
   "outputs": [
    {
     "name": "stdout",
     "output_type": "stream",
     "text": [
      "각도: 300\n",
      "5.235987755982989\n"
     ]
    }
   ],
   "source": [
    "import math\n",
    "degree = float(input(\"각도: \"))\n",
    "radian = degree * math.pi / 180\n",
    "print(radian)"
   ]
  },
  {
   "cell_type": "markdown",
   "metadata": {},
   "source": [
    "* 라디안을 도로 변환하는 프로그램을 작성하시오."
   ]
  },
  {
   "cell_type": "markdown",
   "metadata": {},
   "source": [
    "* 사다리꼴의 면적을 계산하는 프로그램을 작성하시오."
   ]
  },
  {
   "cell_type": "code",
   "execution_count": 1,
   "metadata": {},
   "outputs": [
    {
     "name": "stdout",
     "output_type": "stream",
     "text": [
      "사다리꼴의 높이: 5\n",
      "사다리꼴의 밑변 1: 4\n",
      "사다리꼴의 밑변 2: 3\n",
      "면적: 17.5\n"
     ]
    }
   ],
   "source": [
    "height = float(input(\"사다리꼴의 높이: \"))\n",
    "base_1 = float(input('사다리꼴의 밑변 1: '))\n",
    "base_2 = float(input('사다리꼴의 밑변 2: '))\n",
    "area = ((base_1 + base_2) / 2) * height\n",
    "print(\"면적:\", area)"
   ]
  },
  {
   "cell_type": "markdown",
   "metadata": {},
   "source": [
    "* 평행사변형의 면적을 계산하는 프로그램을 작성하시오."
   ]
  },
  {
   "cell_type": "markdown",
   "metadata": {},
   "source": [
    "* 원기둥의 표면적과 체적을 계산하는 프로그램을 작성하시오."
   ]
  },
  {
   "cell_type": "code",
   "execution_count": 6,
   "metadata": {},
   "outputs": [
    {
     "name": "stdout",
     "output_type": "stream",
     "text": [
      "높이: 5\n",
      "밑면의 반지름: 4\n",
      "체적:  251.32741228718345\n",
      "표면적:  226.1946710584651\n"
     ]
    }
   ],
   "source": [
    "import math\n",
    "height = float(input('높이: '))\n",
    "radius = float(input('밑면의 반지름: '))\n",
    "volume = math.pi * radius * radius * height\n",
    "surface = (2 * math.pi * radius) * height + (math.pi * math.pow(radius, 2)) * 2\n",
    "print(\"체적: \", volume)\n",
    "print(\"표면적: \", surface)"
   ]
  },
  {
   "cell_type": "markdown",
   "metadata": {},
   "source": [
    "* 구의 체적과 표면적을 계산하는 프로그램을 작성하시오."
   ]
  },
  {
   "cell_type": "markdown",
   "metadata": {},
   "source": [
    "* 원의 지름과 원호의 각도를 입력받아서 원호의 길이를 계산하는 프로그램을 작성하시오."
   ]
  },
  {
   "cell_type": "markdown",
   "metadata": {},
   "source": [
    "* 1부터 입력받은 정수 사이에 있는 정수의 제곱합을 계산하는 프로그램을 작성하시오."
   ]
  },
  {
   "cell_type": "code",
   "execution_count": 11,
   "metadata": {},
   "outputs": [
    {
     "name": "stdout",
     "output_type": "stream",
     "text": [
      "양의 정수: 5\n",
      "55\n"
     ]
    }
   ],
   "source": [
    "n = int(input('양의 정수: '))\n",
    "sum_of_squares = 0\n",
    "for num in range(1, n + 1):\n",
    "    sum_of_squares += num * num\n",
    "print(sum_of_squares)"
   ]
  },
  {
   "cell_type": "markdown",
   "metadata": {},
   "source": [
    "* 입력받은 정수의 모든 약수를 찾아 출력하는 프로그램을 작성하시오."
   ]
  },
  {
   "cell_type": "markdown",
   "metadata": {},
   "source": [
    "* 입력받은 이진수를 십진수로 변환하는 프로그램을 작성하시오."
   ]
  },
  {
   "cell_type": "code",
   "execution_count": 15,
   "metadata": {},
   "outputs": [
    {
     "name": "stdout",
     "output_type": "stream",
     "text": [
      "이진수: 1000\n",
      "8\n"
     ]
    }
   ],
   "source": [
    "binary = input(\"이진수: \")\n",
    "decimal = int(binary, 2)\n",
    "print(decimal)"
   ]
  },
  {
   "cell_type": "markdown",
   "metadata": {},
   "source": [
    "* 복소수를 만들고 실수부와 허수부를 출력하는 프로그램을 작성하시오."
   ]
  },
  {
   "cell_type": "code",
   "execution_count": 16,
   "metadata": {},
   "outputs": [
    {
     "name": "stdout",
     "output_type": "stream",
     "text": [
      "복소수:  (2+3j)\n",
      "실수부:  2.0\n",
      "허수부:  3.0\n"
     ]
    }
   ],
   "source": [
    "cn = complex(2, 3)\n",
    "print(\"복소수: \", cn)\n",
    "print(\"실수부: \", cn.real)\n",
    "print(\"허수부: \", cn.imag)"
   ]
  },
  {
   "cell_type": "markdown",
   "metadata": {},
   "source": [
    "* 복소수 간의 사칙연산을 보여주는 예제 프로그램을 작성하시오."
   ]
  },
  {
   "cell_type": "code",
   "execution_count": 17,
   "metadata": {},
   "outputs": [
    {
     "name": "stdout",
     "output_type": "stream",
     "text": [
      "덧셈:  (7-4j)\n",
      "뺄셈:  (1+10j)\n",
      "곱셈:  (33-19j)\n",
      "나눗셈:  (-0.15517241379310348+0.6379310344827587j)\n"
     ]
    }
   ],
   "source": [
    "a = complex(4, 3)\n",
    "b = complex(3, -7)\n",
    "print(\"덧셈: \", a + b)\n",
    "print(\"뺄셈: \", a - b)\n",
    "print(\"곱셈: \", a * b)\n",
    "print(\"나눗셈: \", a / b)"
   ]
  },
  {
   "cell_type": "markdown",
   "metadata": {},
   "source": [
    "* 복소수의 길이를 계산하는 예제 프로그램을 작성하시오."
   ]
  },
  {
   "cell_type": "code",
   "execution_count": 18,
   "metadata": {},
   "outputs": [
    {
     "name": "stdout",
     "output_type": "stream",
     "text": [
      "복소수의 길이:  5.0\n"
     ]
    }
   ],
   "source": [
    "cn = complex(3,4)\n",
    "print(\"복소수의 길이: \", abs(cn))"
   ]
  },
  {
   "cell_type": "markdown",
   "metadata": {},
   "source": [
    "* 0과 100 사이에서 난수 한 개를 발생시키는 프로그램을 작성하시오."
   ]
  },
  {
   "cell_type": "markdown",
   "metadata": {},
   "source": [
    "* 0과 100 사이의 정수 중에서 난수 10개를 발생하는 프로그램을 작성하시오."
   ]
  },
  {
   "cell_type": "markdown",
   "metadata": {},
   "source": [
    "* 0과 100 사이의 짝수 중에서 난수 10개를 발생하는 프로그램을 작성하시오."
   ]
  },
  {
   "cell_type": "code",
   "execution_count": 23,
   "metadata": {},
   "outputs": [
    {
     "name": "stdout",
     "output_type": "stream",
     "text": [
      "18 62 0 84 38 44 46 96 24 54 "
     ]
    }
   ],
   "source": [
    "for i in range(10):\n",
    "    print(random.randrange(0, 100, 2), end=' ')"
   ]
  },
  {
   "cell_type": "markdown",
   "metadata": {},
   "source": [
    "* 실수의 절대값을 계산하는 예제 프로그램을 작성하시오."
   ]
  },
  {
   "cell_type": "code",
   "execution_count": 25,
   "metadata": {},
   "outputs": [
    {
     "name": "stdout",
     "output_type": "stream",
     "text": [
      "2.1\n",
      "10.1\n",
      "0.0\n"
     ]
    }
   ],
   "source": [
    "import math\n",
    "\n",
    "print(math.fabs(-2.1))\n",
    "print(math.fabs(10.1))\n",
    "print(math.fabs(0.0))"
   ]
  },
  {
   "cell_type": "markdown",
   "metadata": {},
   "source": [
    "* 반올림하는 방법에 대한 예제 프로그램을 작성하시오."
   ]
  },
  {
   "cell_type": "code",
   "execution_count": 27,
   "metadata": {},
   "outputs": [
    {
     "name": "stdout",
     "output_type": "stream",
     "text": [
      "Original  Number:  123.01247\n",
      "123.0\n",
      "123.0\n",
      "123.01\n",
      "123.012\n",
      "120.0\n",
      "100.0\n"
     ]
    }
   ],
   "source": [
    "x = 123.01247\n",
    "print(\"Original  Number: \",x)\n",
    "print(round(x, 0))\n",
    "print(round(x, 1))\n",
    "print(round(x, 2))\n",
    "print(round(x, 3))\n",
    "print(round(x, -1))\n",
    "print(round(x, -2))"
   ]
  }
 ],
 "metadata": {
  "anaconda-cloud": {},
  "kernelspec": {
   "display_name": "Python [default]",
   "language": "python",
   "name": "python3"
  },
  "language_info": {
   "codemirror_mode": {
    "name": "ipython",
    "version": 3
   },
   "file_extension": ".py",
   "mimetype": "text/x-python",
   "name": "python",
   "nbconvert_exporter": "python",
   "pygments_lexer": "ipython3",
   "version": "3.6.3"
  }
 },
 "nbformat": 4,
 "nbformat_minor": 2
}
