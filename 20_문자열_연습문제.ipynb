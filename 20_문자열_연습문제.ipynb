{
 "cells": [
  {
   "cell_type": "markdown",
   "metadata": {},
   "source": [
    "* 100 이상이고 400 이하인 정수 중에서 모든 자리수가 짝수인 정수를 찾아내는 프로그램을 작성하시오."
   ]
  },
  {
   "cell_type": "code",
   "execution_count": 2,
   "metadata": {},
   "outputs": [
    {
     "name": "stdout",
     "output_type": "stream",
     "text": [
      "200, 202, 204, 206, 208, 220, 222, 224, 226, 228, 240, 242, 244, 246, 248, 260, 262, 264, 266, 268, 280, 282, 284, 286, 288, 400, "
     ]
    }
   ],
   "source": [
    "for i in range(100, 401):\n",
    "    s = str(i)\n",
    "    if (int(s[0]) % 2 == 0) and (int(s[1]) % 2 == 0) and (int(s[2]) % 2 == 0):\n",
    "        print(s, end=', ')"
   ]
  },
  {
   "cell_type": "markdown",
   "metadata": {},
   "source": [
    "* 입력받은 문자열이 정수로 변환될 수 있는지를 판단하는 예제 프로그램을 작성하시오,"
   ]
  },
  {
   "cell_type": "code",
   "execution_count": 3,
   "metadata": {},
   "outputs": [
    {
     "name": "stdout",
     "output_type": "stream",
     "text": [
      "입력: 12345ㅇㅇ\n",
      "정수로 변환할 수 없는 문자열입니다.\n"
     ]
    }
   ],
   "source": [
    "prompt = \"입력: \"\n",
    "msg_invalid_input = \"유효하지 않는 문자열입니다.\"\n",
    "msg_convertable = \"정수로 변환할 수 있는 문자열입니다.\"\n",
    "msg_unconvertable = \"정수로 변환할 수 없는 문자열입니다.\"\n",
    "\n",
    "text = input(prompt)\n",
    "text = text.strip()\n",
    "if len(text) < 1:\n",
    "    print(msg_invalid_input)\n",
    "else:\n",
    "    if all(text[i] in \"0123456789\" for i in range(len(text))):\n",
    "        print(msg_convertable\")\n",
    "    elif (text[0] in \"+-\") and all(text[i] in \"0123456789\" for i in range(1,len(text))):\n",
    "         print(msg_convertable)\n",
    "    else:\n",
    "        print(msg_unconvertable) "
   ]
  },
  {
   "cell_type": "markdown",
   "metadata": {},
   "source": [
    "* 문자열을 입력받은 다음 공백문자가 아닌 글자의 개수와 숫자의 개수를 세는 예제 프로그램을 작성하시오."
   ]
  },
  {
   "cell_type": "markdown",
   "metadata": {},
   "source": [
    "* 문자열에서 한 개의 문자를 랜덤하게 추출하는 예제 프로그램을 작성하시오."
   ]
  },
  {
   "cell_type": "code",
   "execution_count": 2,
   "metadata": {},
   "outputs": [
    {
     "name": "stdout",
     "output_type": "stream",
     "text": [
      "l\n"
     ]
    }
   ],
   "source": [
    "import random\n",
    "print(random.choice('abcdefghijklm'))"
   ]
  },
  {
   "cell_type": "markdown",
   "metadata": {},
   "source": [
    "* 문자의 리스트를 문자열로 변환하는 예제 프로그램을 작성하시오."
   ]
  },
  {
   "cell_type": "code",
   "execution_count": 3,
   "metadata": {},
   "outputs": [
    {
     "name": "stdout",
     "output_type": "stream",
     "text": [
      "abcd\n"
     ]
    }
   ],
   "source": [
    "s = ['a', 'b', 'c', 'd']\n",
    "str1 = ''.join(s)\n",
    "print(str1)"
   ]
  },
  {
   "cell_type": "markdown",
   "metadata": {},
   "source": [
    "* 수치를 출력할 때 세 자리마다 쉼표를 찍는 예제 프로그램을 작성하시오."
   ]
  },
  {
   "cell_type": "code",
   "execution_count": 4,
   "metadata": {},
   "outputs": [
    {
     "name": "stdout",
     "output_type": "stream",
     "text": [
      "1,000,000\n",
      "10,000\n"
     ]
    }
   ],
   "source": [
    "print(\"{0:,}\".format(1000000))\n",
    "print(\"{0:,}\".format(10000))"
   ]
  },
  {
   "cell_type": "markdown",
   "metadata": {},
   "source": [
    "* 문자열을 구성하는 문자와 각 문자가 나타난 횟수를 구하는 예제 프로그램을 작성하시오."
   ]
  },
  {
   "cell_type": "code",
   "execution_count": 1,
   "metadata": {},
   "outputs": [
    {
     "name": "stdout",
     "output_type": "stream",
     "text": [
      "Counter({'o': 3, 'g': 2, 'l': 1, 'e': 1, '.': 1, 'c': 1, 'm': 1})\n",
      "{'g': 2, 'o': 3, 'l': 1, 'e': 1, '.': 1, 'c': 1, 'm': 1}\n",
      "dict_keys(['g', 'o', 'l', 'e', '.', 'c', 'm'])\n",
      "2\n"
     ]
    }
   ],
   "source": [
    "from collections import Counter\n",
    "text = 'google.com'\n",
    "cntr = Counter(text)\n",
    "print(cntr)\n",
    "cntr = dict(cntr)\n",
    "print(cntr)\n",
    "print(cntr.keys())\n",
    "print(cntr['g'])"
   ]
  },
  {
   "cell_type": "markdown",
   "metadata": {},
   "source": [
    "* 문자열에서 첫 두 문자와 마지막 두 문자를 연결한 문자열을 만드는 예제 프로그램을 작성하시오.\n",
    "문자열의 길이가 2 이하인 경우에는 빈 문자열을 결과로 한다."
   ]
  },
  {
   "cell_type": "markdown",
   "metadata": {},
   "source": [
    "* 문자열의 첫 글자와 동일한 모든 글자를 '$'로 변경하는 예제 프로그램을 작성하시오."
   ]
  },
  {
   "cell_type": "code",
   "execution_count": 9,
   "metadata": {},
   "outputs": [
    {
     "name": "stdout",
     "output_type": "stream",
     "text": [
      "$esta$t\n"
     ]
    }
   ],
   "source": [
    "s = 'restart'\n",
    "ch = s[0]\n",
    "s = s.replace(ch, '$')\n",
    "print(s)"
   ]
  },
  {
   "cell_type": "markdown",
   "metadata": {},
   "source": [
    "* 문자열에서 지정한 위치의 문자를 제거하는 예제 프로그램을 작성하시오."
   ]
  },
  {
   "cell_type": "code",
   "execution_count": 12,
   "metadata": {
    "collapsed": true
   },
   "outputs": [],
   "source": [
    "idx = 3\n",
    "s = 'Python'\n",
    "first_part = s[:idx] \n",
    "last_pasrt = s[(idx + 1):]\n",
    "result = first_part + last_pasrt"
   ]
  },
  {
   "cell_type": "markdown",
   "metadata": {},
   "source": [
    "* 문자열의 첫 문자와 마지막 문자를 바꾼 문자열을 생성하는 예제 프로그램을 작성하시오."
   ]
  },
  {
   "cell_type": "markdown",
   "metadata": {},
   "source": [
    "* 쉼표로 구분한 단어열을 입력받아 단어를 키로 하고 각 단어가 나타난 횟수를 값으로 하는 사전을 만드는 예제 프로그램을 작성하시오."
   ]
  },
  {
   "cell_type": "code",
   "execution_count": 15,
   "metadata": {},
   "outputs": [
    {
     "name": "stdout",
     "output_type": "stream",
     "text": [
      "쉼표로 구분한 단어열: python, programming, best, data science  best, data science, programming,python\n",
      "Counter({'python': 2, ' programming': 2, ' best': 1, ' data science  best': 1, ' data science': 1})\n"
     ]
    }
   ],
   "source": [
    "from collections import Counter\n",
    "word_seq = input(\"쉼표로 구분한 단어열: \")\n",
    "words = word_seq.split(\",\")\n",
    "cntr = Counter(words)\n",
    "print(cntr)"
   ]
  },
  {
   "cell_type": "markdown",
   "metadata": {},
   "source": [
    "* 지정된 구분자로 문자열을 분리하여 가장 마지막 부분을 추출하는 예제 프로그램을 작성하시오."
   ]
  },
  {
   "cell_type": "markdown",
   "metadata": {},
   "source": [
    "* 한 문자열 내에서 특정 문자열이 나타난 횟수를 구하는 예제 프로그램을 작성하시오."
   ]
  }
 ],
 "metadata": {
  "anaconda-cloud": {},
  "kernelspec": {
   "display_name": "Python [default]",
   "language": "python",
   "name": "python3"
  },
  "language_info": {
   "codemirror_mode": {
    "name": "ipython",
    "version": 3
   },
   "file_extension": ".py",
   "mimetype": "text/x-python",
   "name": "python",
   "nbconvert_exporter": "python",
   "pygments_lexer": "ipython3",
   "version": "3.6.3"
  }
 },
 "nbformat": 4,
 "nbformat_minor": 2
}
