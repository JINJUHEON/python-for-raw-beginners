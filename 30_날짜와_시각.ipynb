{
 "cells": [
  {
   "cell_type": "markdown",
   "metadata": {},
   "source": [
    "# 날짜와 시각"
   ]
  },
  {
   "cell_type": "markdown",
   "metadata": {},
   "source": [
    "## 표준시간대\n",
    "\n",
    "전 세계 표준시간대에 관한 정보를 제공하는 패키지는 `pytz`이다."
   ]
  },
  {
   "cell_type": "code",
   "execution_count": 1,
   "metadata": {
    "collapsed": true
   },
   "outputs": [],
   "source": [
    "import pytz as tz"
   ]
  },
  {
   "cell_type": "markdown",
   "metadata": {},
   "source": [
    "각국의 표준시간대를 알아볼 때는 국가 코드를 이용한다.\n",
    "국제 표준 국가코드는 `ISO 3166`이다.\n",
    "\n",
    "[ISO 3166 국가코드](https://www.iso.org/obp/ui/#search/code/)"
   ]
  },
  {
   "cell_type": "markdown",
   "metadata": {},
   "source": [
    "특정 국가의 표준 시간대는 `country_timezones()` 함수로 알 수 있다."
   ]
  },
  {
   "cell_type": "code",
   "execution_count": 2,
   "metadata": {},
   "outputs": [
    {
     "name": "stdout",
     "output_type": "stream",
     "text": [
      "['Asia/Seoul']\n"
     ]
    }
   ],
   "source": [
    "rok = tz.country_timezones('KR')\n",
    "print(rok)"
   ]
  },
  {
   "cell_type": "code",
   "execution_count": 3,
   "metadata": {},
   "outputs": [
    {
     "name": "stdout",
     "output_type": "stream",
     "text": [
      "['America/New_York', 'America/Detroit', 'America/Kentucky/Louisville', 'America/Kentucky/Monticello', 'America/Indiana/Indianapolis', 'America/Indiana/Vincennes', 'America/Indiana/Winamac', 'America/Indiana/Marengo', 'America/Indiana/Petersburg', 'America/Indiana/Vevay', 'America/Chicago', 'America/Indiana/Tell_City', 'America/Indiana/Knox', 'America/Menominee', 'America/North_Dakota/Center', 'America/North_Dakota/New_Salem', 'America/North_Dakota/Beulah', 'America/Denver', 'America/Boise', 'America/Phoenix', 'America/Los_Angeles', 'America/Anchorage', 'America/Juneau', 'America/Sitka', 'America/Metlakatla', 'America/Yakutat', 'America/Nome', 'America/Adak', 'Pacific/Honolulu']\n"
     ]
    }
   ],
   "source": [
    "us = tz.country_timezones('US')\n",
    "print(us)"
   ]
  },
  {
   "cell_type": "code",
   "execution_count": 4,
   "metadata": {},
   "outputs": [
    {
     "name": "stdout",
     "output_type": "stream",
     "text": [
      "['Asia/Shanghai', 'Asia/Urumqi']\n"
     ]
    }
   ],
   "source": [
    "china = tz.country_timezones('CN')\n",
    "print(china)"
   ]
  },
  {
   "cell_type": "markdown",
   "metadata": {},
   "source": [
    "국가 코드로부터 영문 국가명을 구할 때는 `country_names` dict 객체를 이용한다."
   ]
  },
  {
   "cell_type": "code",
   "execution_count": 5,
   "metadata": {},
   "outputs": [
    {
     "name": "stdout",
     "output_type": "stream",
     "text": [
      "Korea (South)\n",
      "United States\n",
      "Japan\n",
      "China\n"
     ]
    }
   ],
   "source": [
    "print(tz.country_names['KR'])\n",
    "print(tz.country_names['US'])\n",
    "print(tz.country_names['JP'])\n",
    "print(tz.country_names['CN'])"
   ]
  },
  {
   "cell_type": "markdown",
   "metadata": {},
   "source": [
    "특정 표준시간대를 나타내는 객체는 표준시간대를 인자로 `timezone()` 함수를 실행하여 만든다."
   ]
  },
  {
   "cell_type": "code",
   "execution_count": 6,
   "metadata": {
    "collapsed": true
   },
   "outputs": [],
   "source": [
    "seoul = tz.timezone('Asia/Seoul')\n",
    "shanghai = tz.timezone('Asia/Shanghai')\n",
    "tokyo = tz.timezone('Asia/Tokyo')"
   ]
  },
  {
   "cell_type": "markdown",
   "metadata": {},
   "source": [
    "## 날짜, 시각, 일시 그리고 시간 \n",
    "\n",
    "날짜(date)와 시각(time)을 결합한 것을 일시(datetime)이라 한다.\n",
    "날짜, 시각, 일시 그리고 시간을 지원하는 라이브러리는 `datetime`이다.\n",
    "이 라이브러리에는 날짜를 위한 `date`, 시각을 위한 `time`, 일시를 위한 `datetime`, 시간을 위한 `timedelta` 클래스가 정의되어 있다."
   ]
  },
  {
   "cell_type": "markdown",
   "metadata": {},
   "source": [
    "### 날짜, 시각 그리고 일시"
   ]
  },
  {
   "cell_type": "code",
   "execution_count": 7,
   "metadata": {
    "collapsed": true
   },
   "outputs": [],
   "source": [
    "import datetime as dt\n",
    "dt1 = dt.datetime(2017, 1, 31, 13, 26, 20, 123456)\n",
    "date1 = dt.date(2017, 1, 31)\n",
    "time1 = dt.time(13, 26, 20, 123456)"
   ]
  },
  {
   "cell_type": "markdown",
   "metadata": {},
   "source": [
    "이들 객체는 `year`, `month`, `day`, `hour`, `minute`, `second`, `microsecond`, `tzinfo` 속성을 가지고 있다."
   ]
  },
  {
   "cell_type": "code",
   "execution_count": 8,
   "metadata": {},
   "outputs": [
    {
     "name": "stdout",
     "output_type": "stream",
     "text": [
      "2017 1 31 13 26 20 123456 None\n",
      "2017 1 31\n",
      "13 26 20 123456 None\n"
     ]
    }
   ],
   "source": [
    "print(dt1.year, dt1.month, dt1.day,\n",
    "      dt1.hour, dt1.minute, dt1.second, dt1.microsecond,\n",
    "      dt1.tzinfo)\n",
    "print(date1.year, date1.month, date1.day)\n",
    "print(time1.hour, time1.minute, time1.second, time1.microsecond, time1.tzinfo)"
   ]
  },
  {
   "cell_type": "code",
   "execution_count": 9,
   "metadata": {},
   "outputs": [
    {
     "name": "stdout",
     "output_type": "stream",
     "text": [
      "2017-01-31 13:26:20.123456\n",
      "2017-01-31\n",
      "13:26:20.123456\n"
     ]
    }
   ],
   "source": [
    "print(dt1)\n",
    "print(date1)\n",
    "print(time1)"
   ]
  },
  {
   "cell_type": "markdown",
   "metadata": {},
   "source": [
    "일시와 시각 객체에 표준시간대 정보를 추가한 객체를 얻으려면 표준시간대 객체의 `localize()` 메소드를 이용한다."
   ]
  },
  {
   "cell_type": "code",
   "execution_count": 10,
   "metadata": {},
   "outputs": [
    {
     "name": "stdout",
     "output_type": "stream",
     "text": [
      "2017-01-31 13:26:20.123456\n",
      "2017-01-31 13:26:20.123456+09:00\n"
     ]
    }
   ],
   "source": [
    "seoul_dt1 = seoul.localize(dt1)\n",
    "print(dt1)\n",
    "print(seoul_dt1)"
   ]
  },
  {
   "cell_type": "code",
   "execution_count": 11,
   "metadata": {},
   "outputs": [
    {
     "name": "stdout",
     "output_type": "stream",
     "text": [
      "2017-01-31 13:26:20.123456\n",
      "2017-01-31 13:26:20.123456+09:00\n"
     ]
    }
   ],
   "source": [
    "tokyo_dt1 = tokyo.localize(dt1)\n",
    "print(dt1)\n",
    "print(tokyo_dt1)"
   ]
  },
  {
   "cell_type": "markdown",
   "metadata": {},
   "source": [
    "일시나 시각을 다른 표준시간대의 일시나 시각으로 변경할 때는 `datetime` 객체나 `time` 객체의 `astimezone()` 메소드를 실행한다.\n",
    "이 메소드의 인자는 변경하고자 하는 표준시간대 객체이다."
   ]
  },
  {
   "cell_type": "code",
   "execution_count": 12,
   "metadata": {},
   "outputs": [
    {
     "name": "stdout",
     "output_type": "stream",
     "text": [
      "2017-01-31 13:26:20.123456+09:00\n",
      "2017-01-31 12:26:20.123456+08:00\n"
     ]
    }
   ],
   "source": [
    "shanghai_dt1 = seoul_dt1.astimezone(shanghai)\n",
    "print(seoul_dt1)\n",
    "print(shanghai_dt1)"
   ]
  },
  {
   "cell_type": "markdown",
   "metadata": {},
   "source": [
    "`isoformat()` 메소드를 이용해서 iSO 표준 형식의 문자열로 출력할 수 있다.\n",
    "`isoformat()` 메소드는 프로그램에서 처리한 날짜, 시각, 일시를 파일에 저장할 때 유용하다."
   ]
  },
  {
   "cell_type": "code",
   "execution_count": 13,
   "metadata": {},
   "outputs": [
    {
     "name": "stdout",
     "output_type": "stream",
     "text": [
      "2017-01-31T13:26:20.123456\n",
      "2017-01-31\n",
      "13:26:20.123456\n"
     ]
    }
   ],
   "source": [
    "print(dt1.isoformat())\n",
    "print(date1.isoformat())\n",
    "print(time1.isoformat())"
   ]
  },
  {
   "cell_type": "markdown",
   "metadata": {},
   "source": [
    "### 시간\n",
    "\n",
    "일시와 일시의 차이 또는 시각과 시각의 차이를 시간이라고 하고 `timedelta` 클래스로 나타낸다.\n",
    "시간을 일, 시, 분, 초, 마이크로초로 나타낸다.\n"
   ]
  },
  {
   "cell_type": "markdown",
   "metadata": {},
   "source": [
    "`datetime` 클래스의 `today()` 메소드를 사용하면 현재의 일시 객체를 구할 수 있다."
   ]
  },
  {
   "cell_type": "code",
   "execution_count": 14,
   "metadata": {},
   "outputs": [
    {
     "name": "stdout",
     "output_type": "stream",
     "text": [
      "2018-02-07 16:12:57.327165\n",
      "2018-02-07 16:12:57.327165+09:00\n"
     ]
    }
   ],
   "source": [
    "today = dt.datetime.today()\n",
    "print(today)\n",
    "today = seoul.localize(today)\n",
    "print(today)"
   ]
  },
  {
   "cell_type": "code",
   "execution_count": 15,
   "metadata": {},
   "outputs": [
    {
     "name": "stdout",
     "output_type": "stream",
     "text": [
      "<class 'datetime.timedelta'>\n",
      "372 days, 2:46:37.203709\n"
     ]
    }
   ],
   "source": [
    "td = today - seoul_dt1\n",
    "print(type(td))\n",
    "print(td)"
   ]
  },
  {
   "cell_type": "markdown",
   "metadata": {},
   "source": [
    "표준시간대가 다른 일시 객체 간의 차이도 계산할 수 있다."
   ]
  },
  {
   "cell_type": "code",
   "execution_count": 16,
   "metadata": {},
   "outputs": [
    {
     "name": "stdout",
     "output_type": "stream",
     "text": [
      "Asia/Seoul\n",
      "Asia/Shanghai\n",
      "372 days, 2:46:37.203709\n"
     ]
    }
   ],
   "source": [
    "print(today.tzinfo)\n",
    "print(shanghai_dt1.tzinfo)\n",
    "print(today - shanghai_dt1)"
   ]
  },
  {
   "cell_type": "markdown",
   "metadata": {},
   "source": [
    "시간 객체를 일시나 시각 객체에 더하거나 뺄 수 있다.\n",
    "그 결과는 일시나 시각 객체가 된다."
   ]
  },
  {
   "cell_type": "code",
   "execution_count": 17,
   "metadata": {},
   "outputs": [
    {
     "name": "stdout",
     "output_type": "stream",
     "text": [
      "2017-01-31 13:26:20.123456+09:00\n",
      "2018-02-07 16:12:57.327165+09:00\n",
      "2016-01-25 10:39:42.919747+09:00\n"
     ]
    }
   ],
   "source": [
    "tokyo_dt2 = tokyo_dt1 + td\n",
    "tokyo_dt3 = tokyo_dt1 - td\n",
    "print(tokyo_dt1)\n",
    "print(tokyo_dt2)\n",
    "print(tokyo_dt3)"
   ]
  },
  {
   "cell_type": "markdown",
   "metadata": {},
   "source": [
    "## 연습문제\n",
    "\n",
    "1. ISO 표준형식이 아닌 형식으로 일시를 표현한 문자열로부터 `datetime` 객체를 생성할 때는 `dateutil` 라이브러리에 정의된 `parser` 클래스의 `parse()` 메소드를 사용한다. 적절한 예제를 만들어 보시오.\n",
    "2. `time` 모듈의 `gmtime()`, `localtime()`, `strftime()`, `time()` 함수와 `struct_time` **이름 있는 튜플**(구조체에 대응하는 **named tuple**)에 대해서 알아보시오."
   ]
  }
 ],
 "metadata": {
  "kernelspec": {
   "display_name": "Python [default]",
   "language": "python",
   "name": "python3"
  },
  "language_info": {
   "codemirror_mode": {
    "name": "ipython",
    "version": 3
   },
   "file_extension": ".py",
   "mimetype": "text/x-python",
   "name": "python",
   "nbconvert_exporter": "python",
   "pygments_lexer": "ipython3",
   "version": "3.6.3"
  }
 },
 "nbformat": 4,
 "nbformat_minor": 2
}
