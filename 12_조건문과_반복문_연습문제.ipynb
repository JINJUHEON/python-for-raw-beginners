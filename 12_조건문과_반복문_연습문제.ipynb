{
 "cells": [
  {
   "cell_type": "markdown",
   "metadata": {},
   "source": [
    "* 1500 이상 2700 이하인 정수 중에서 5와 7의 배수를 찾는 프로그램을 작성하시오."
   ]
  },
  {
   "cell_type": "markdown",
   "metadata": {},
   "source": [
    "* 1과 9 사이의 정수 난수를 알아맞추는 프로그램을 작성하시오."
   ]
  },
  {
   "cell_type": "code",
   "execution_count": 4,
   "metadata": {},
   "outputs": [
    {
     "name": "stdout",
     "output_type": "stream",
     "text": [
      "1, ..., 9, 10 중에서 추출한 난수에 대한 추측: 1\n",
      "1, ..., 9, 10 중에서 추출한 난수에 대한 추측: 2\n",
      "1, ..., 9, 10 중에서 추출한 난수에 대한 추측: 3\n",
      "참 잘 했어요!\n"
     ]
    }
   ],
   "source": [
    "import random\n",
    "prompt = '1, ..., 9, 10 중에서 추출한 난수에 대한 추측: '\n",
    "msg = '참 잘 했어요!'\n",
    "target_num, guess_num = random.randint(1, 10), 0\n",
    "while target_num != guess_num:\n",
    "    guess_num = int(input(prompt))\n",
    "print(msg)"
   ]
  },
  {
   "cell_type": "markdown",
   "metadata": {},
   "source": [
    "* 입력받은 단어의 글자를 역순으로 출력하는 프로그램을 작성하시오."
   ]
  },
  {
   "cell_type": "markdown",
   "metadata": {},
   "source": [
    "* 여러 개의 정수가 저장된 리스트에서 짝수와 홀수의 개수를 세는 프로그램을 작성하시오."
   ]
  },
  {
   "cell_type": "markdown",
   "metadata": {},
   "source": [
    "* 아래 리스트에 저장된 객체의 자료형을 출력하는 프로그램을 작성하시오.\n",
    "\n",
    "```\n",
    "data = [1452, 11.23, 1 + 2j, True, 'github.com', (0, -1), [5, 12], {\"class\":'V', \"section\":'A'}]\n",
    "```"
   ]
  },
  {
   "cell_type": "code",
   "execution_count": 7,
   "metadata": {},
   "outputs": [
    {
     "name": "stdout",
     "output_type": "stream",
     "text": [
      "Type of  1452  is  <class 'int'>\n",
      "Type of  11.23  is  <class 'float'>\n",
      "Type of  (1+2j)  is  <class 'complex'>\n",
      "Type of  True  is  <class 'bool'>\n",
      "Type of  github.com  is  <class 'str'>\n",
      "Type of  (0, -1)  is  <class 'tuple'>\n",
      "Type of  [5, 12]  is  <class 'list'>\n",
      "Type of  {'class': 'V', 'section': 'A'}  is  <class 'dict'>\n"
     ]
    }
   ],
   "source": [
    "data = [1452, 11.23, 1 + 2j, True, 'github.com', (0, -1), [5, 12],\n",
    "        {\"class\":'V', \"section\":'A'}]\n",
    "for elem in data:\n",
    "    print (\"Type of \", elem, \" is \", type(elem))"
   ]
  },
  {
   "cell_type": "markdown",
   "metadata": {},
   "source": [
    "* 3 과 6을 제외한 0 이상 6 이하인 정수를 출력하는 프로그램을 작성하시오."
   ]
  },
  {
   "cell_type": "code",
   "execution_count": 6,
   "metadata": {},
   "outputs": [
    {
     "name": "stdout",
     "output_type": "stream",
     "text": [
      "0 1 2 4 5 \n",
      "\n"
     ]
    }
   ],
   "source": [
    "for x in range(6):\n",
    "    if (x == 3 or x==6):\n",
    "        continue\n",
    "    print(x, end=' ')"
   ]
  },
  {
   "cell_type": "markdown",
   "metadata": {},
   "source": [
    "* 1부터 20까지의 정수를 출력하되 3의 배수는 수 대신 '삼', 5의 배수는 '오', 3과 5의 배수는 '삼오'를 출력하는 프로그램을 작성하시오."
   ]
  },
  {
   "cell_type": "markdown",
   "metadata": {},
   "source": [
    "* 여러 줄의 텍스트를 입력받아서 출력하는 프로그램을 작성하시오.\n",
    "\n",
    "Note: 빈 문자열의 논리값은 False이다."
   ]
  },
  {
   "cell_type": "code",
   "execution_count": 16,
   "metadata": {},
   "outputs": [
    {
     "name": "stdout",
     "output_type": "stream",
     "text": [
      "입력: 안녕하세요?\n",
      "안녕하세요?\n",
      "입력: 파이썬입니다.\n",
      "파이썬입니다.\n",
      "입력: \n"
     ]
    }
   ],
   "source": [
    "while True:\n",
    "    line = input('입력: ')\n",
    "    if line:\n",
    "        print(line)\n",
    "    else:\n",
    "        break;"
   ]
  },
  {
   "cell_type": "markdown",
   "metadata": {},
   "source": [
    "* 쉼표로 구분한 4자리 이진수 여러 개를 입력받은 다음 이들 중에서 5의 배수가 아닌 수만 찾는 프로그램을 작성하시오."
   ]
  },
  {
   "cell_type": "code",
   "execution_count": 18,
   "metadata": {},
   "outputs": [
    {
     "name": "stdout",
     "output_type": "stream",
     "text": [
      "쉼표로 구분한 4자리 이진수: 1000, 1001, 1010, 1011\n",
      "1000\n",
      " 1001\n",
      " 1011\n"
     ]
    }
   ],
   "source": [
    "string = input('쉼표로 구분한 4자리 이진수: ')\n",
    "binaries = string.split(',')\n",
    "\n",
    "for binary in binaries:\n",
    "    decimal = int(binary, 2)\n",
    "    if not decimal % 5 == 0:\n",
    "        print(binary)"
   ]
  },
  {
   "cell_type": "markdown",
   "metadata": {},
   "source": [
    "* 개가 태어난지 2년이 될 때까지의 1년은 인간의 10.5년에 해당하고, 그 이후의 1년은 인간의 4년에 해당한다고 한다. 개의 나이를 입력받아서 이에 대응하는 인간의 나이를 계산하는 프로그램을 작성하시오."
   ]
  },
  {
   "cell_type": "code",
   "execution_count": 22,
   "metadata": {},
   "outputs": [
    {
     "name": "stdout",
     "output_type": "stream",
     "text": [
      "개의 나이: 17\n",
      "대응하는 인간의 나이:  81.0\n"
     ]
    }
   ],
   "source": [
    "dog_age = int(input(\"개의 나이: \"))\n",
    "\n",
    "if dog_age < 0:\n",
    "    print(\"나이는 양수여야 합니다.\")\n",
    "    exit()\n",
    "elif dog_age <= 2:\n",
    "    human_age = dog_age * 10.5\n",
    "else:\n",
    "    human_age = 10.5 * 2 + (dog_age - 2) * 4\n",
    "\n",
    "print(\"대응하는 인간의 나이: \", human_age)"
   ]
  },
  {
   "cell_type": "markdown",
   "metadata": {},
   "source": [
    "* 영문자를 입력받아서 자음인지 모음인지 판단하는 프로그램을 작성하시오."
   ]
  },
  {
   "cell_type": "markdown",
   "metadata": {},
   "source": [
    "* 1과 10 사이의 정수를 입력받아서 이 정수에 해당하는 단의 곱셈표를 출력하는 프로그램을 작성하시오."
   ]
  },
  {
   "cell_type": "code",
   "execution_count": 25,
   "metadata": {},
   "outputs": [
    {
     "name": "stdout",
     "output_type": "stream",
     "text": [
      "1과 10 사이의 정수: 5\n",
      "5 x 1 = 5\n",
      "5 x 2 = 10\n",
      "5 x 3 = 15\n",
      "5 x 4 = 20\n",
      "5 x 5 = 25\n",
      "5 x 6 = 30\n",
      "5 x 7 = 35\n",
      "5 x 8 = 40\n",
      "5 x 9 = 45\n",
      "5 x 10 = 50\n"
     ]
    }
   ],
   "source": [
    "n = int(input(\"1과 10 사이의 정수: \"))\n",
    "\n",
    "for i in range(1, 11):\n",
    "    print(n,'x', i, '=', n * i)"
   ]
  }
 ],
 "metadata": {
  "kernelspec": {
   "display_name": "Python [default]",
   "language": "python",
   "name": "python3"
  },
  "language_info": {
   "codemirror_mode": {
    "name": "ipython",
    "version": 3
   },
   "file_extension": ".py",
   "mimetype": "text/x-python",
   "name": "python",
   "nbconvert_exporter": "python",
   "pygments_lexer": "ipython3",
   "version": "3.6.3"
  }
 },
 "nbformat": 4,
 "nbformat_minor": 2
}
