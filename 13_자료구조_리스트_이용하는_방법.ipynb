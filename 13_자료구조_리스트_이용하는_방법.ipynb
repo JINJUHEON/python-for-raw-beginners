{
 "cells": [
  {
   "cell_type": "markdown",
   "metadata": {},
   "source": [
    "# 자료구조 리스트를 이용하는 방법"
   ]
  },
  {
   "cell_type": "markdown",
   "metadata": {},
   "source": [
    "## 리스트를 이용한 자료 입력\n",
    "\n",
    "자료를 분석하는 첫 단계는 자료를 입력하는 것인데, 파이썬으로 분석하는 한 가지 방법은 변수 별로 리스트 객체를 만드는 것이다."
   ]
  },
  {
   "cell_type": "markdown",
   "metadata": {},
   "source": [
    "다음은 성인들의 대사율(cal/hour)과 함께 성별, 체중(kg)을 측정한 **대사율 자료**이다.\n",
    "\n",
    "| gender| weight | rate |\n",
    "| ----- | ------ | ---- |\n",
    "| M | 62.0 | 1792 |\n",
    "| M | 62.9 | 1666 |\n",
    "| F | 36.1 | 995 |\n",
    "| F | 54.6| 1425 |\n",
    "| F | 48.5 | 1396 |\n",
    "| F | 42.0 | 1418 |\n",
    "| M | 47.4 | 1362 |\n",
    "| F | 50.6 | 1502 |\n",
    "| F | 42.0 | 1256 |\n",
    "| M | 48.7 | 1614 |\n",
    "| F | 40.3 | 1189 |\n",
    "| F | 33.1 | 913 |\n",
    "| M | 51.9 | 1460 |\n",
    "| F | 42.4 | 1124 |\n",
    "| F | 34.5 | 1052 |\n",
    "| F | 51.1 | 1347 |\n",
    "| F | 41.2 | 1204 |\n",
    "| M | 51.9 | 1867 |\n",
    "| M | 46.9 | 1439 |\n",
    "\n",
    "이 자료를 처리하기 위해서 다음과 같이 변수별로 리스트를 만든다.\n",
    "한 줄에 입력할 내용이 너무 길면 마지막에 \\\\를 입력하고 엔터키를 치고 다음 줄에 계속해서 입력하면 된다."
   ]
  },
  {
   "cell_type": "code",
   "execution_count": 1,
   "metadata": {
    "collapsed": true
   },
   "outputs": [],
   "source": [
    "gender = ['M']*2 + ['F']*4 + ['M'] + ['F']*2 + ['M'] + \\\n",
    "        ['F']*2 + ['M'] + ['F']*4 + ['M']*2\n",
    "weight = [62.0, 62.9, 36.1, 54.6, 48.5, 42.0, 47.4, \\\n",
    "          50.6, 42.0, 48.7, 40.3, 33.1, 51.9, 42.4, \\\n",
    "          34.5, 51.1, 41.2, 51.9, 46.9]\n",
    "metabolic_rate = [1792, 1666, 995, 1425, 1396, 1418, 1362, 1502,\\\n",
    "        1256, 1614, 1189, 913, 1460, 1124, 1052, 1347,\\\n",
    "        1204, 1867, 1439]"
   ]
  },
  {
   "cell_type": "markdown",
   "metadata": {},
   "source": [
    "자료의 입력이 완료되면 자료가 제대로 입력되었는지 확인하는 것이 바람직하다.\n",
    "최소한 입력한 값의 개수는 확인해야 한다."
   ]
  },
  {
   "cell_type": "code",
   "execution_count": 2,
   "metadata": {},
   "outputs": [
    {
     "name": "stdout",
     "output_type": "stream",
     "text": [
      "19\n",
      "19\n",
      "19\n"
     ]
    }
   ],
   "source": [
    "print(len(gender))\n",
    "print(len(weight))\n",
    "print(len(metabolic_rate))"
   ]
  },
  {
   "cell_type": "markdown",
   "metadata": {},
   "source": [
    "## 리스트에 저장된 자료의 처리\n",
    "\n",
    "파이썬은 **객체지향 프로그래밍**(object-oriented programming)을 지원하며 리스트 자료구조도 객체지향 프로그래밍으로 만들어졌다.\n",
    "객체지향 프로그래밍에서는 변수라는 용어보다 **객체**(object)라는 용어를 더 자주 사용한다.\n",
    "객체는 값을 저장할 뿐만 아니라 자신이 저장하고 있는 값을 처리하는 여러 가지 기능을 내장하고 있다.\n",
    "프로그래밍에서는 자료를 처리하는 기능을 **함수**(function)로 구현하는데 객체가 가지고 있는 함수를 특별히 **메소드**(method)라고 한다."
   ]
  },
  {
   "cell_type": "markdown",
   "metadata": {},
   "source": [
    "객체의 메소드는 함수와 같은 방법으로 실행한다.\n",
    "다른 점은 객체 이름 다음에 마침표를 찍고 메소드 이름을 기재하여 메소드가 객체에 내장된 것임을 나타낸다는 것이다."
   ]
  },
  {
   "cell_type": "markdown",
   "metadata": {},
   "source": [
    "### 리스트 자료구조 `count()` 메소드\n",
    "\n",
    "리스트 객체에 저장된 값 중에서 특정한 값의 개수는 `count()` 메소드로 알아볼 수 있다.\n",
    "`count()` 메소드를 호출할 때는 개수를 알아보고자 하는 값을 인자로 준다.\n",
    "\n",
    "다음은 남자 또는 여자의 수를 알아보는 예이다."
   ]
  },
  {
   "cell_type": "code",
   "execution_count": 3,
   "metadata": {},
   "outputs": [
    {
     "name": "stdout",
     "output_type": "stream",
     "text": [
      "7 12\n"
     ]
    }
   ],
   "source": [
    "nb_males = gender.count('M')\n",
    "nb_females = gender.count('F')\n",
    "print(nb_males, nb_females)"
   ]
  },
  {
   "cell_type": "markdown",
   "metadata": {},
   "source": [
    "### 리스트 자료구조의 index() 메소드\n",
    "\n",
    "특정한 값의 위치를 알고자 할 때는 특정한 값을 인자로 `index()` 메소드를 호출한다.\n",
    "만약 특정한 값이 리스트에 없으면 `ValueError` 오류가 발생한다.\n",
    "만약 특정한 값이 여러 개이면 첫 번째 값의 위치를 알려 준다.\n",
    "다음은 `index()` 메소드를 사용하는 예이다."
   ]
  },
  {
   "cell_type": "code",
   "execution_count": 4,
   "metadata": {},
   "outputs": [
    {
     "name": "stdout",
     "output_type": "stream",
     "text": [
      "2\n",
      "36.1 995\n",
      "54.6 1425\n"
     ]
    },
    {
     "ename": "ValueError",
     "evalue": "'FF' is not in list",
     "output_type": "error",
     "traceback": [
      "\u001b[1;31m---------------------------------------------------------------------------\u001b[0m",
      "\u001b[1;31mValueError\u001b[0m                                Traceback (most recent call last)",
      "\u001b[1;32m<ipython-input-4-93fa4a56112a>\u001b[0m in \u001b[0;36m<module>\u001b[1;34m()\u001b[0m\n\u001b[0;32m      4\u001b[0m \u001b[0midx_2nd_female\u001b[0m \u001b[1;33m=\u001b[0m \u001b[1;33m(\u001b[0m\u001b[0midx_1st_female\u001b[0m \u001b[1;33m+\u001b[0m \u001b[1;36m1\u001b[0m \u001b[1;33m)\u001b[0m \u001b[1;33m+\u001b[0m \u001b[0mgender\u001b[0m\u001b[1;33m[\u001b[0m\u001b[1;33m(\u001b[0m\u001b[0midx_1st_female\u001b[0m\u001b[1;33m+\u001b[0m\u001b[1;36m1\u001b[0m\u001b[1;33m)\u001b[0m\u001b[1;33m:\u001b[0m\u001b[1;33m]\u001b[0m\u001b[1;33m.\u001b[0m\u001b[0mindex\u001b[0m\u001b[1;33m(\u001b[0m\u001b[1;34m'F'\u001b[0m\u001b[1;33m)\u001b[0m\u001b[1;33m\u001b[0m\u001b[0m\n\u001b[0;32m      5\u001b[0m \u001b[0mprint\u001b[0m\u001b[1;33m(\u001b[0m\u001b[0mweight\u001b[0m\u001b[1;33m[\u001b[0m\u001b[0midx_2nd_female\u001b[0m\u001b[1;33m]\u001b[0m\u001b[1;33m,\u001b[0m \u001b[0mmetabolic_rate\u001b[0m\u001b[1;33m[\u001b[0m\u001b[0midx_2nd_female\u001b[0m\u001b[1;33m]\u001b[0m\u001b[1;33m)\u001b[0m\u001b[1;33m\u001b[0m\u001b[0m\n\u001b[1;32m----> 6\u001b[1;33m \u001b[0mprint\u001b[0m\u001b[1;33m(\u001b[0m\u001b[0mgender\u001b[0m\u001b[1;33m.\u001b[0m\u001b[0mindex\u001b[0m\u001b[1;33m(\u001b[0m\u001b[1;34m'FF'\u001b[0m\u001b[1;33m)\u001b[0m\u001b[1;33m)\u001b[0m\u001b[1;33m\u001b[0m\u001b[0m\n\u001b[0m",
      "\u001b[1;31mValueError\u001b[0m: 'FF' is not in list"
     ]
    }
   ],
   "source": [
    "idx_1st_female = gender.index('F')\n",
    "print(idx_1st_female)\n",
    "print(weight[idx_1st_female], metabolic_rate[idx_1st_female])\n",
    "idx_2nd_female = (idx_1st_female + 1 ) + gender[(idx_1st_female+1):].index('F')\n",
    "print(weight[idx_2nd_female], metabolic_rate[idx_2nd_female])\n",
    "print(gender.index('FF'))"
   ]
  },
  {
   "cell_type": "markdown",
   "metadata": {},
   "source": [
    "## 리스트 자료구조의 `append()` 메소드\n",
    "\n",
    "리스트 자료구조의 `append()` 메소드를 이용해서 리스트 객체의 마지막에 새로운 값을 추가할 수 있다.\n",
    "이때 새로 추가할 값을 `append()` 메소드의 인자로 주면 된다."
   ]
  },
  {
   "cell_type": "code",
   "execution_count": 5,
   "metadata": {},
   "outputs": [
    {
     "name": "stdout",
     "output_type": "stream",
     "text": [
      "[0, 1, 2, 3, 4]\n",
      "[0, 1, 2, 3, 4, 6, 'park']\n"
     ]
    }
   ],
   "source": [
    "data = list(range(5))\n",
    "print(data)\n",
    "data.append(6)\n",
    "data.append('park')\n",
    "print(data)"
   ]
  },
  {
   "cell_type": "code",
   "execution_count": 6,
   "metadata": {},
   "outputs": [
    {
     "name": "stdout",
     "output_type": "stream",
     "text": [
      "[0.0, 0.1, 0.2, 0.3, 0.4, 0.5, 0.6, 0.7, 0.8, 0.9, 1.0, 1.1, 1.2, 1.3, 1.4, 1.5, 1.6, 1.7, 1.8, 1.9, 2.0, 2.1, 2.2, 2.3, 2.4, 2.5, 2.6, 2.7, 2.8, 2.9, 3.0, 3.1, 3.2, 3.3, 3.4, 3.5, 3.6, 3.7, 3.8, 3.9, 4.0, 4.1, 4.2, 4.3, 4.4, 4.5, 4.6, 4.7, 4.8, 4.9, 5.0, 5.1, 5.2, 5.3, 5.4, 5.5, 5.6, 5.7, 5.8, 5.9, 6.0, 6.1, 6.2, 6.3, 6.4, 6.5, 6.6, 6.7, 6.8, 6.9, 7.0, 7.1, 7.2, 7.3, 7.4, 7.5, 7.6, 7.7, 7.8, 7.9, 8.0, 8.1, 8.2, 8.3, 8.4, 8.5, 8.6, 8.7, 8.8, 8.9, 9.0, 9.1, 9.2, 9.3, 9.4, 9.5, 9.6, 9.7, 9.8, 9.9, 10.0]\n",
      "[2.0, 1.6374615061559636, 1.3406400920712787, 1.097623272188053, 0.8986579282344431, 0.7357588823428847, 0.6023884238244043, 0.493193927883213, 0.40379303598931077, 0.33059777644317306, 0.2706705664732254, 0.22160631672466774, 0.18143590657882502, 0.14854715642866775, 0.12162012525043595, 0.09957413673572789, 0.08152440795673242, 0.06674653992065216, 0.05464744489458512, 0.0447415437123312, 0.03663127777746836, 0.029991153640955406, 0.024554679806136872, 0.020103671489267172, 0.01645949409804006, 0.013475893998170934, 0.011033128841521543, 0.009033161885225332, 0.007395727432965864, 0.006055109490751631, 0.004957504353332717, 0.004058861272591468, 0.003323114546347868, 0.0027207360750957877, 0.0022275502956896065, 0.0018237639311090325, 0.0014931716167533584, 0.0012225055222591446, 0.0010009028668812217, 0.0008194699579595736, 0.0006709252558050237, 0.0005493071399442851, 0.0004497346483576964, 0.0003682115873351584, 0.000301466150190953, 0.0002468196081733591, 0.00020207880367418684, 0.00016544813111326446, 0.0001354574729817078, 0.00011090319886435389, 9.079985952496971e-05, 7.434063736825347e-05, 6.086496601680725e-05, 4.983201946300641e-05, 4.0799006822343844e-05, 3.340340158049132e-05, 2.7348392131361927e-05, 2.239096968518188e-05, 1.8332175472495234e-05, 1.5009115830153716e-05, 1.228842470665642e-05, 1.0060911214222897e-05, 8.237177415071416e-06, 6.744030468278369e-06, 5.521545144074397e-06, 4.5206588139621085e-06, 3.7012023951638163e-06, 3.030288224286498e-06, 2.480990159913427e-06, 2.0312629420049805e-06, 1.6630574382071358e-06, 1.3615962687952685e-06, 1.1147807385389191e-06, 9.127052735807988e-07, 7.47259875977052e-07, 6.118046410036516e-07, 5.009032744655244e-07, 4.1010491512238534e-07, 3.3576550599913264e-07, 2.749015455842792e-07, 2.2507034943851823e-07, 1.842720166913227e-07, 1.5086916699688516e-07, 1.2352122671160727e-07, 1.011306269667104e-07, 8.279875437570334e-08, 6.778988652393849e-08, 5.5501664844815126e-08, 4.544091985547711e-08, 3.720387853383102e-08, 3.045995948942526e-08, 2.4938505571501977e-08, 2.0417921447195276e-08, 1.6716780202749217e-08, 1.3686542044435975e-08, 1.1205592875074536e-08, 9.17436349329505e-09, 7.511333531876605e-09, 6.149759759173212e-09, 5.034997438876556e-09, 4.122307244877116e-09]\n"
     ]
    }
   ],
   "source": [
    "seq = list(range(101))\n",
    "\n",
    "x = []\n",
    "for number in seq:\n",
    "    x.append(number / 10)\n",
    "    \n",
    "print(x)\n",
    "\n",
    "import math\n",
    "\n",
    "lamda = 2.0\n",
    "fx = []\n",
    "for x0 in x:\n",
    "    fx.append(lamda * math.exp(-lamda * x0))\n",
    "    \n",
    "print(fx)\n"
   ]
  },
  {
   "cell_type": "markdown",
   "metadata": {},
   "source": [
    "앞에서 작성한 다음 프로그램은 아래와 같이 작성할 수도 있다.\n",
    "\n",
    "```python\n",
    "seq = list(range(101))\n",
    "\n",
    "x = []\n",
    "for number in seq:\n",
    "    x = x + [number / 10]\n",
    "print(x)\n",
    "\n",
    "import math\n",
    "\n",
    "lamda = 2.0\n",
    "fx = []\n",
    "for x0 in x:\n",
    "    f = lamda * math.exp(-lamda * x0)\n",
    "    fx = fx + [f]\n",
    "print(fx)\n",
    "```"
   ]
  },
  {
   "cell_type": "markdown",
   "metadata": {},
   "source": [
    "### 리스트 자료구조의 `remove()` 메소드\n",
    "\n",
    "삭제하고자 하는 값을 인자로 주고 `remove()` 메소드를 실행하면 리스트 객체에서 특정한 값을 제거할 수 있다.\n",
    "리스트에 삭제하고자 하는 값이 여러 개 저장되어 있으면 제일 먼저 나오는 값 한 개만 삭제한다."
   ]
  },
  {
   "cell_type": "code",
   "execution_count": 7,
   "metadata": {},
   "outputs": [
    {
     "name": "stdout",
     "output_type": "stream",
     "text": [
      "[0, 1, 2, 3, 4, 6, 'park', 'park']\n",
      "[0, 1, 2, 3, 4, 6, 'park']\n"
     ]
    }
   ],
   "source": [
    "data.append('park')\n",
    "print(data)\n",
    "data.remove('park')\n",
    "print(data)"
   ]
  },
  {
   "cell_type": "markdown",
   "metadata": {},
   "source": [
    "### 리스트 자료구조의 `insert()` 메소드\n",
    "\n",
    "새로운 값을 리스트의 특정한 위치에 추가하려면 `insert()` 메소드를 사용한다.\n",
    "`insert()` 메소드를 호출할 때는 추가할 위치의 인덱스와 추가할 값을 인자로 준다."
   ]
  },
  {
   "cell_type": "code",
   "execution_count": 8,
   "metadata": {},
   "outputs": [
    {
     "name": "stdout",
     "output_type": "stream",
     "text": [
      "[0, 1, 'Joongyang', 2, 3, 'GNU', 4, 6, 'park']\n"
     ]
    }
   ],
   "source": [
    "data.insert(2, 'Joongyang')\n",
    "data.insert(5, 'GNU')\n",
    "print(data)"
   ]
  },
  {
   "cell_type": "markdown",
   "metadata": {},
   "source": [
    "### 리스트 자료구조의 `copy()` 메소드와 `sort()` 메소드\n",
    "\n",
    "리스트의 복사본을 만들어 주는 `copy()` 메소드는 인자 없이 실행한다.\n",
    "\n",
    "리스트 객체에 저장된 값을 크기순으로 정렬할 때는 `sort()` 메소드를 사용한다.\n",
    "`sort()` 메소드는 정렬된 결과를 새로 만들어 주지 않고 원본 자체가 변하므로 주의하여야 한다.\n",
    "인자 없이 실행하면 오름차순으로 정렬하고 내림차순으로 정렬하고자 할 때는 `reverse=True`라는 인자를 주어야 한다.\n",
    "`sort()` 메소드를 실행할 때는 리스트에 동일한 자료형의 값이 저장되어 있어야 한다,\n",
    "그렇지 않으면 파이썬이 어떻게 정렬할지 알 수 없기 때문에 오류가 발생한다.\n",
    "\n",
    "Note: `reverse=True`에서 `reverse`는 `sort()` 메소드의 `reverse` 매개변수에 `True` 인자를 전달하는 것이다.\n",
    "메소드나 함수를 실행할 때 괄호 속에 기재하는 인자는 해당 메소드나 함수의 특정 매개변수에 전달하는 값이다.\n",
    "메소드나 함수는 매개변수를 이용해서 작성된 프로그램이고 이 프로그램은 인자를 매개변수에 대입한 다음 실행된다."
   ]
  },
  {
   "cell_type": "code",
   "execution_count": 9,
   "metadata": {},
   "outputs": [
    {
     "name": "stdout",
     "output_type": "stream",
     "text": [
      "[0, 1, 'Joongyang', 2, 3, 'GNU', 4, 6, 'park']\n"
     ]
    },
    {
     "ename": "TypeError",
     "evalue": "'<' not supported between instances of 'str' and 'int'",
     "output_type": "error",
     "traceback": [
      "\u001b[1;31m---------------------------------------------------------------------------\u001b[0m",
      "\u001b[1;31mTypeError\u001b[0m                                 Traceback (most recent call last)",
      "\u001b[1;32m<ipython-input-9-ae3cce174627>\u001b[0m in \u001b[0;36m<module>\u001b[1;34m()\u001b[0m\n\u001b[0;32m      1\u001b[0m \u001b[0mdata_cp\u001b[0m \u001b[1;33m=\u001b[0m \u001b[0mdata\u001b[0m\u001b[1;33m.\u001b[0m\u001b[0mcopy\u001b[0m\u001b[1;33m(\u001b[0m\u001b[1;33m)\u001b[0m\u001b[1;33m\u001b[0m\u001b[0m\n\u001b[0;32m      2\u001b[0m \u001b[0mprint\u001b[0m\u001b[1;33m(\u001b[0m\u001b[0mdata_cp\u001b[0m\u001b[1;33m)\u001b[0m\u001b[1;33m\u001b[0m\u001b[0m\n\u001b[1;32m----> 3\u001b[1;33m \u001b[0mdata_cp\u001b[0m\u001b[1;33m.\u001b[0m\u001b[0msort\u001b[0m\u001b[1;33m(\u001b[0m\u001b[1;33m)\u001b[0m\u001b[1;33m\u001b[0m\u001b[0m\n\u001b[0m",
      "\u001b[1;31mTypeError\u001b[0m: '<' not supported between instances of 'str' and 'int'"
     ]
    }
   ],
   "source": [
    "data_cp = data.copy()\n",
    "print(data_cp)\n",
    "data_cp.sort()"
   ]
  },
  {
   "cell_type": "code",
   "execution_count": 10,
   "metadata": {},
   "outputs": [
    {
     "name": "stdout",
     "output_type": "stream",
     "text": [
      "['Joongyang', 'GNU', 'park']\n"
     ]
    }
   ],
   "source": [
    "data_cp.remove(0)\n",
    "data_cp.remove(1)\n",
    "data_cp.remove(2)\n",
    "data_cp.remove(3)\n",
    "data_cp.remove(4)\n",
    "data_cp.remove(6)\n",
    "print(data_cp)"
   ]
  },
  {
   "cell_type": "code",
   "execution_count": 11,
   "metadata": {},
   "outputs": [
    {
     "name": "stdout",
     "output_type": "stream",
     "text": [
      "['GNU', 'Joongyang', 'park']\n"
     ]
    }
   ],
   "source": [
    "data_cp.sort()\n",
    "print(data_cp)"
   ]
  },
  {
   "cell_type": "markdown",
   "metadata": {},
   "source": [
    "저장된 값을 전부 삭제한 빈 리스트로 만들고 싶을 때는 `clear()` 메소드를 사용한다."
   ]
  },
  {
   "cell_type": "code",
   "execution_count": 12,
   "metadata": {},
   "outputs": [
    {
     "name": "stdout",
     "output_type": "stream",
     "text": [
      "[]\n"
     ]
    }
   ],
   "source": [
    "data_cp.clear()\n",
    "print(data_cp)"
   ]
  },
  {
   "cell_type": "markdown",
   "metadata": {},
   "source": [
    "## 리스트 자료구조를 이용한 통계적 자료처리\n",
    "\n",
    "리스트 자료구조는 자료를 저장하고 처리하는 메소드를 가지고 있지만 통계적으로 처리하는 메소드는 가지고 있지 않다.\n",
    "왜냐하면 리스트 자료구조 자체가 통계적 자료처리보다 더 일반적인 목적을 위하여 만들어진 자료구조이기 때문이다.\n",
    "따라서 자료를 리스트 자료구조에 저장하였다면 통계적인 자료처리는 직접 프로그램을 작성하여 수행해야 한다.\n",
    "\n",
    "Note: `numpy`나 `pandas` 모듈에 정의된 자료구조에 자료를 저장하면 통계적 처리를 위한 프로그래밍을 줄일 수 있다."
   ]
  },
  {
   "cell_type": "markdown",
   "metadata": {},
   "source": [
    "자료가 $x_i, i=1, 2, \\ldots, n$일 때 합과 평균은 $\\sum_{i=1}^n x_i$, $\\bar{x} = \\sum_{i=1}^n x_i / n$로 구한다.\n",
    "편차는 $\\left( x_i - \\bar{x} \\right), i=1, 2, \\ldots, n$, 편차의 제곱합은 $\\sum_{i=1}^n \\left( x_i - \\bar{x} \\right)^2$, 표준편차는 $s^2 = \\sum_{i=1}^n \\left( x_i - \\bar{x} \\right)^2 / \\left( n - 1 \\right)$로 구한다.\n",
    "\n",
    "**대사율자료**에서 체중의 합이나 평균은 다음과 같이 `for` 문장을 사용해서 구할 수 있다."
   ]
  },
  {
   "cell_type": "code",
   "execution_count": 13,
   "metadata": {},
   "outputs": [
    {
     "name": "stdout",
     "output_type": "stream",
     "text": [
      "888.1 46.742105263157896\n"
     ]
    }
   ],
   "source": [
    "n = len(weight)\n",
    "\n",
    "weight_sum = 0\n",
    "\n",
    "for wgt in weight:\n",
    "    weight_sum = weight_sum + wgt\n",
    "    \n",
    "weight_mean = weight_sum / n\n",
    "print(weight_sum, weight_mean)"
   ]
  },
  {
   "cell_type": "markdown",
   "metadata": {},
   "source": [
    "리스트에 수치가 저장되어 있을 때 `for` 문장을 사용하지 않고도 합을 구할 수 있다.\n",
    "`sum()` 내장함수를 사용하면 합을 구할 수 있다."
   ]
  },
  {
   "cell_type": "code",
   "execution_count": 14,
   "metadata": {},
   "outputs": [
    {
     "name": "stdout",
     "output_type": "stream",
     "text": [
      "888.1 46.742105263157896\n"
     ]
    }
   ],
   "source": [
    "weight_sum = sum(weight)\n",
    "weight_mean = weight_sum / n\n",
    "print(weight_sum, weight_mean)"
   ]
  },
  {
   "cell_type": "markdown",
   "metadata": {},
   "source": [
    "만약 리스트에 저장된 값의 최소값과 최대값은 ` min()` 함수와 `max()` 함수로 구할 수 있다."
   ]
  },
  {
   "cell_type": "code",
   "execution_count": 15,
   "metadata": {},
   "outputs": [
    {
     "name": "stdout",
     "output_type": "stream",
     "text": [
      "33.1 62.9\n"
     ]
    }
   ],
   "source": [
    "weight_max = max(weight)\n",
    "weight_min = min(weight)\n",
    "print(weight_min, weight_max)"
   ]
  },
  {
   "cell_type": "markdown",
   "metadata": {},
   "source": [
    "체중과 체중의 평균과의 차이인 편차(deviation)은 다음과 같이 계산할 수 있다."
   ]
  },
  {
   "cell_type": "code",
   "execution_count": 16,
   "metadata": {},
   "outputs": [
    {
     "name": "stdout",
     "output_type": "stream",
     "text": [
      "[15.257894736842104, 16.157894736842103, -10.642105263157895, 7.8578947368421055, 1.757894736842104, -4.742105263157896, 0.6578947368421026, 3.8578947368421055, -4.742105263157896, 1.957894736842107, -6.442105263157899, -13.642105263157895, 5.157894736842103, -4.342105263157897, -12.242105263157896, 4.3578947368421055, -5.542105263157893, 5.157894736842103, 0.15789473684210265]\n"
     ]
    }
   ],
   "source": [
    "weight_dev = []\n",
    "\n",
    "for wgt in weight:\n",
    "    weight_dev.append(wgt - weight_mean)\n",
    "    \n",
    "print(weight_dev)"
   ]
  },
  {
   "cell_type": "markdown",
   "metadata": {},
   "source": [
    "편차의 제곱합은 다음과 같이 계산할 수 있다."
   ]
  },
  {
   "cell_type": "code",
   "execution_count": 17,
   "metadata": {},
   "outputs": [
    {
     "name": "stdout",
     "output_type": "stream",
     "text": [
      "1235.3663157894734\n"
     ]
    }
   ],
   "source": [
    "weight_sse = 0\n",
    "for wgt_dev in weight_dev:\n",
    "    weight_sse = weight_sse + math.pow(wgt_dev, 2)\n",
    "print(weight_sse)"
   ]
  },
  {
   "cell_type": "markdown",
   "metadata": {},
   "source": [
    "## `statistics` 모듈\n",
    "\n",
    "`statistics` 모듈에는 평균, 중앙값, 표준편차, 분산을 구해주는 `mean()`, `median()`, `stdev()`, `variance()` 함수가 정의되어 있다."
   ]
  },
  {
   "cell_type": "code",
   "execution_count": 18,
   "metadata": {},
   "outputs": [
    {
     "name": "stdout",
     "output_type": "stream",
     "text": [
      "46.742105263157896\n",
      "8.284410780997288\n",
      "68.63146198830408\n"
     ]
    }
   ],
   "source": [
    "import statistics\n",
    "print(statistics.mean(weight))\n",
    "print(statistics.stdev(weight))\n",
    "print(statistics.variance(weight))"
   ]
  },
  {
   "cell_type": "markdown",
   "metadata": {},
   "source": [
    "## `random` 모듈\n",
    "\n",
    "`random` 모듈에는 리스트에 저장된 값 중에서 임의로 하나를 추출해주는 `choice()` 함수, 지정된 크기의 임의 표본을 추출해주는 `sample()` 함수, 원소의 순서를 임의로 섞어주는 `shuffle()` 함수 등이 정의되어 있다."
   ]
  },
  {
   "cell_type": "code",
   "execution_count": 19,
   "metadata": {},
   "outputs": [
    {
     "name": "stdout",
     "output_type": "stream",
     "text": [
      "choi\n",
      "['park', 'lee', 'kim']\n",
      "['park', 'kim', 'lee', 'choi', 'kang']\n",
      "['park', 'kang', 'choi', 'lee', 'kim']\n",
      "['lee', 'kim', 'park', 'choi', 'kang']\n"
     ]
    }
   ],
   "source": [
    "import random\n",
    "random.seed(12345)\n",
    "population = ['park', 'kim', 'lee', 'choi', 'kang']\n",
    "print(random.choice(population))\n",
    "sample = random.sample(population, 3)\n",
    "print(sample)\n",
    "print(population)\n",
    "random.shuffle(population)\n",
    "print(population)\n",
    "random.shuffle(population)\n",
    "print(population)"
   ]
  },
  {
   "cell_type": "markdown",
   "metadata": {},
   "source": [
    "### unpacking\n",
    "\n",
    "리스트에 저장된 여러 개의 값을 여러 개의 변수에 나누어 저장하는 것을 `unpacking`이라고 한다.\n",
    "기본적으로 리스트에 저장된 값의 수만큼의 변수에 저장할 수 있다."
   ]
  },
  {
   "cell_type": "code",
   "execution_count": 20,
   "metadata": {
    "collapsed": true
   },
   "outputs": [],
   "source": [
    "names = ['Kim', 'Lee', 'Park', 'Choi', 'Kang']"
   ]
  },
  {
   "cell_type": "code",
   "execution_count": 21,
   "metadata": {},
   "outputs": [
    {
     "name": "stdout",
     "output_type": "stream",
     "text": [
      "Kim Kang\n"
     ]
    }
   ],
   "source": [
    "name1, name2, name3, name4, name5 = names\n",
    "print(name1, name5)"
   ]
  },
  {
   "cell_type": "markdown",
   "metadata": {},
   "source": [
    "리스트에 저장된 값의 수보다 적은 개수의 변수에 나누어 저장할 수도 있다.\n",
    "이때 변수마다 한 개의 값을 저장하고 남은 값을 저장할 자료구조 객체 이름 앞에는 `*`를 붙인다."
   ]
  },
  {
   "cell_type": "code",
   "execution_count": 22,
   "metadata": {},
   "outputs": [
    {
     "name": "stdout",
     "output_type": "stream",
     "text": [
      "Kim\n",
      "['Lee', 'Park', 'Choi']\n",
      "Kang\n"
     ]
    }
   ],
   "source": [
    "name1, *name2, name5 = names\n",
    "print(name1)\n",
    "print(name2)\n",
    "print(name5)"
   ]
  },
  {
   "cell_type": "markdown",
   "metadata": {},
   "source": [
    "`unpacking`은 뒤에서 배울 `tuple`, `set`, `dict` 자료구조에도 사용할 수 있다."
   ]
  },
  {
   "cell_type": "markdown",
   "metadata": {},
   "source": [
    "### 연습문제\n",
    "\n",
    "0. 리스트를 비롯한 여러 가지 자료구조에 사용할 수 있는 내장 함수에는 `len()`, `sum()`, `min()`, `max()` 외에도  `all()`, `any()`, `enumerate()`, `sorted()`, `reversed()` 등이 있다. 이들 함수가 하는 일과 호출법에 대해 알아보시오.\n",
    "1. 리스트의 `reverse()` 메소드에 대해서 알아보시오.\n",
    "2. 다음 코드의 실행 결과를 예상해보시오.\n",
    "```python\n",
    "a = [1, 2]\n",
    "b = [3, 4, 5]\n",
    "a.append(b)\n",
    "b = b + a\n",
    "```\n",
    "1. **대사율자료**에서 대사율의 합, 평균, 편차, 편차의 제곱합, 표준편차를 계산하시오.\n",
    "2. **대사율자료**에서 남자와 여자의 수를 구하시오.\n",
    "3. 다음은 여러 국가의 일인당 연간 포도주 소비량과 심장병으로 인한 사망율을  측정한 **심장병자료**이다.\n",
    "\n",
    "    * **심장병자료**를 이름이 country, wine, death인 list 객체에 저장하시오.\n",
    "    * 각 list 객체에 저장된 값의 개수를 확인하시오.\n",
    "    * wine, death에 저장된 값의 합, 평균, 편차, 편차 제곱합, 표준편차를 계산하시오.\n",
    "\n",
    "| country | wine | death_rate |\n",
    "| ------- | ---- | ---------- |\n",
    "| Australia | 2.5 | 211 |\n",
    "| Austria | 3.9 | 167 |\n",
    "| Belgium/Luxembourg | 2.9 | 131 |\n",
    "| Canada | 2.4 | 191 |\n",
    "| Denmark | 2.9 | 220 |\n",
    "| Finland | 0.8 | 297 |\n",
    "| France | 9.1 | 71 |\n",
    "| Iceland | 0.8 | 211 |\n",
    "| Ireland | 0.7 | 300 |\n",
    "| Italy | 7.9 |  107 |\n",
    "| Netherlands | 1.8 | 167 |\n",
    "| New Zealand | 1.9 | 266 |\n",
    "| Norway | 0.8 | 227 |\n",
    "| Spain | 6.5 | 86 |\n",
    "| Sweden | 1.6 | 207 |\n",
    "| Switzerland | 5.8 | 115 |\n",
    "| United Kingdom | 1.3 | 285 |\n",
    "| United States | 1.2 | 199 |\n",
    "| West Germany | 2.7 | 172 |\n"
   ]
  }
 ],
 "metadata": {
  "anaconda-cloud": {},
  "kernelspec": {
   "display_name": "Python [default]",
   "language": "python",
   "name": "python3"
  },
  "language_info": {
   "codemirror_mode": {
    "name": "ipython",
    "version": 3
   },
   "file_extension": ".py",
   "mimetype": "text/x-python",
   "name": "python",
   "nbconvert_exporter": "python",
   "pygments_lexer": "ipython3",
   "version": "3.6.3"
  }
 },
 "nbformat": 4,
 "nbformat_minor": 1
}
