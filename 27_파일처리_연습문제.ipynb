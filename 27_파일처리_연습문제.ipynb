{
 "cells": [
  {
   "cell_type": "markdown",
   "metadata": {},
   "source": [
    "* 텍스트 파일 이름을 매개변수로 받아서 내용을 반환하는 함수를 작성하시오."
   ]
  },
  {
   "cell_type": "code",
   "execution_count": 4,
   "metadata": {},
   "outputs": [
    {
     "name": "stdout",
     "output_type": "stream",
     "text": [
      "What is Python language?                                                \n",
      "Python is a widely used high-level, general-purpose, interpreted, dynamic programming language.Its design philosophy emphasizes code readability, and its syntax allows programmers to express concepts in fewer lines of code than possible in \n",
      "languages such as C++ or Java. \n",
      "Python supports multiple programming paradigms, including object-oriented, imperative and functional programming or procedural styles. It features a dynamic type system and automatic memory management and has a large and comprehensive standard library.The best way we learn anything is by practice and exercise questions. We  have started this section for those (beginner to intermediate) who are familiar with Python.Python Exercises\n",
      "Java Exercises\n"
     ]
    }
   ],
   "source": [
    "def read_text_file(fname):\n",
    "    txt = open(fname).read()\n",
    "    return txt\n",
    "\n",
    "text = read_text_file('text.txt')\n",
    "print(text)"
   ]
  },
  {
   "cell_type": "markdown",
   "metadata": {},
   "source": [
    "* 텍스트 파일 이름을 매개변수로 받아서 해당 파일의 첫 몇 줄 내용을 반환하는 함수를 작성하시오."
   ]
  },
  {
   "cell_type": "code",
   "execution_count": 7,
   "metadata": {},
   "outputs": [
    {
     "name": "stdout",
     "output_type": "stream",
     "text": [
      "What is Python language?                                                \n",
      "Python is a widely used high-level, general-purpose, interpreted, dynamic programming language.Its design philosophy emphasizes code readability, and its syntax allows programmers to express concepts in fewer lines of code than possible in \n",
      "languages such as C++ or Java. \n",
      "\n"
     ]
    }
   ],
   "source": [
    "def read_head(fname, nlines):\n",
    "    f = open(fname)\n",
    "    lines = \"\"\n",
    "    for i in range(nlines):\n",
    "        lines += f.readline()\n",
    "    f.close()\n",
    "    return lines\n",
    "\n",
    "text = read_head('text.txt', 3)\n",
    "print(text)"
   ]
  },
  {
   "cell_type": "code",
   "execution_count": 8,
   "metadata": {},
   "outputs": [
    {
     "name": "stdout",
     "output_type": "stream",
     "text": [
      "What is Python language?                                                \n",
      "Python is a widely used high-level, general-purpose, interpreted, dynamic programming language.Its design philosophy emphasizes code readability, and its syntax allows programmers to express concepts in fewer lines of code than possible in \n",
      "\n"
     ]
    }
   ],
   "source": [
    "def read_n_lines(fname, nlines):\n",
    "    from itertools import islice\n",
    "    # itertools.islice(iterable, start, stop[, step])\n",
    "    # Make an iterator that returns selected elements from the iterable.\n",
    "    with open(fname) as f:\n",
    "        lines =\"\"\n",
    "        for line in islice(f, nlines):\n",
    "            lines += line\n",
    "    return lines\n",
    "\n",
    "text = read_n_lines('text.txt',2)\n",
    "print(text)"
   ]
  },
  {
   "cell_type": "markdown",
   "metadata": {},
   "source": [
    "* 기존하는 텍스트 파일 끝에 내용을 추가하는 함수를 작성하시오."
   ]
  },
  {
   "cell_type": "code",
   "execution_count": 9,
   "metadata": {},
   "outputs": [
    {
     "name": "stdout",
     "output_type": "stream",
     "text": [
      "What is Python language?                                                \n",
      "Python is a widely used high-level, general-purpose, interpreted, dynamic programming language.Its design philosophy emphasizes code readability, and its syntax allows programmers to express concepts in fewer lines of code than possible in \n",
      "languages such as C++ or Java. \n",
      "Python supports multiple programming paradigms, including object-oriented, imperative and functional programming or procedural styles. It features a dynamic type system and automatic memory management and has a large and comprehensive standard library.The best way we learn anything is by practice and exercise questions. We  have started this section for those (beginner to intermediate) who are familiar with Python.Python Exercises\n",
      "Java ExercisesThis is a line appended.\n",
      "\n"
     ]
    }
   ],
   "source": [
    "def append_text(fname, content):\n",
    "    with open(fname, \"a\") as file:\n",
    "        file.write(content)\n",
    "        file.write(\"\\n\")\n",
    "    return\n",
    "\n",
    "append_text('text.txt', 'This is a line appended.')\n",
    "text = read_text_file('text.txt')\n",
    "print(text)"
   ]
  },
  {
   "cell_type": "markdown",
   "metadata": {},
   "source": [
    "* 텍스트 파일 이름과 줄 수를 매개변수로 받아서 마지막 몇 줄을 읽고 반환하는 함수를 작성하시오."
   ]
  },
  {
   "cell_type": "code",
   "execution_count": 17,
   "metadata": {},
   "outputs": [
    {
     "name": "stdout",
     "output_type": "stream",
     "text": [
      "Python supports multiple programming paradigms, including object-oriented, imperative and functional programming or procedural styles. It features a dynamic type system and automatic memory management and has a large and comprehensive standard library.The best way we learn anything is by practice and exercise questions. We  have started this section for those (beginner to intermediate) who are familiar with Python.Python Exercises\n",
      "Java ExercisesThis is a line appended.\n",
      "\n"
     ]
    }
   ],
   "source": [
    "def read_tail(fname, nlines):\n",
    "    f = open(fname)\n",
    "    lines = f.readlines()[-nlines:]\n",
    "    f.close()\n",
    "    lines = \"\".join(lines)\n",
    "    return lines\n",
    "\n",
    "text = read_tail('text.txt', 2)\n",
    "print(text)"
   ]
  },
  {
   "cell_type": "markdown",
   "metadata": {},
   "source": [
    "* 텍스트 파일 이름을 받아 파일 내용을 줄의 리스트로 반환하는 함수를 작성하시오."
   ]
  },
  {
   "cell_type": "code",
   "execution_count": 19,
   "metadata": {},
   "outputs": [
    {
     "name": "stdout",
     "output_type": "stream",
     "text": [
      "['What is Python language?                                                \\n', 'Python is a widely used high-level, general-purpose, interpreted, dynamic programming language.Its design philosophy emphasizes code readability, and its syntax allows programmers to express concepts in fewer lines of code than possible in \\n', 'languages such as C++ or Java. \\n', 'Python supports multiple programming paradigms, including object-oriented, imperative and functional programming or procedural styles. It features a dynamic type system and automatic memory management and has a large and comprehensive standard library.The best way we learn anything is by practice and exercise questions. We  have started this section for those (beginner to intermediate) who are familiar with Python.Python Exercises\\n', 'Java ExercisesThis is a line appended.\\n']\n"
     ]
    }
   ],
   "source": [
    "def read_linewise(fname):\n",
    "    lines = open(fname).readlines()\n",
    "    return lines\n",
    "\n",
    "lines = read_linewise('text.txt')\n",
    "print(lines)"
   ]
  },
  {
   "cell_type": "markdown",
   "metadata": {},
   "source": [
    "* 텍스트 파일에서 가장 긴 단어를 찾는 함수를 작성하시오."
   ]
  },
  {
   "cell_type": "code",
   "execution_count": 20,
   "metadata": {},
   "outputs": [
    {
     "name": "stdout",
     "output_type": "stream",
     "text": [
      "['general-purpose,', 'object-oriented,']\n"
     ]
    }
   ],
   "source": [
    "def longest_word(filename):\n",
    "    with open(filename, 'r') as infile:\n",
    "              words = infile.read().split()\n",
    "    max_len = len(max(words, key=len))\n",
    "    return [word for word in words if len(word) == max_len]\n",
    "\n",
    "print(longest_word('text.txt'))"
   ]
  },
  {
   "cell_type": "markdown",
   "metadata": {},
   "source": [
    "* 텍스트 파일의 줄 수를 계산하는 함수를 작성하시오."
   ]
  },
  {
   "cell_type": "code",
   "execution_count": 21,
   "metadata": {},
   "outputs": [
    {
     "name": "stdout",
     "output_type": "stream",
     "text": [
      "Number of lines in the file:  5\n"
     ]
    }
   ],
   "source": [
    "def file_length(fname):\n",
    "    with open(fname) as f:\n",
    "        nb_lines = len(f.readlines())\n",
    "    return nb_lines\n",
    "    \n",
    "print(\"Number of lines in the file: \",file_length(\"text.txt\"))"
   ]
  },
  {
   "cell_type": "markdown",
   "metadata": {},
   "source": [
    "* 텍스트 파일에 나타나는 단어와 각 단어가 나타난 횟수를 사전으로 반환하는 함수를 작성하시오."
   ]
  },
  {
   "cell_type": "code",
   "execution_count": 22,
   "metadata": {},
   "outputs": [
    {
     "name": "stdout",
     "output_type": "stream",
     "text": [
      "Number of words in the file : Counter({'and': 6, 'is': 4, 'a': 4, 'Python': 3, 'programming': 3, 'dynamic': 2, 'code': 2, 'to': 2, 'in': 2, 'or': 2, 'What': 1, 'language?': 1, 'widely': 1, 'used': 1, 'high-level,': 1, 'general-purpose,': 1, 'interpreted,': 1, 'language.Its': 1, 'design': 1, 'philosophy': 1, 'emphasizes': 1, 'readability,': 1, 'its': 1, 'syntax': 1, 'allows': 1, 'programmers': 1, 'express': 1, 'concepts': 1, 'fewer': 1, 'lines': 1, 'of': 1, 'than': 1, 'possible': 1, 'languages': 1, 'such': 1, 'as': 1, 'C++': 1, 'Java.': 1, 'supports': 1, 'multiple': 1, 'paradigms,': 1, 'including': 1, 'object-oriented,': 1, 'imperative': 1, 'functional': 1, 'procedural': 1, 'styles.': 1, 'It': 1, 'features': 1, 'type': 1, 'system': 1, 'automatic': 1, 'memory': 1, 'management': 1, 'has': 1, 'large': 1, 'comprehensive': 1, 'standard': 1, 'library.The': 1, 'best': 1, 'way': 1, 'we': 1, 'learn': 1, 'anything': 1, 'by': 1, 'practice': 1, 'exercise': 1, 'questions.': 1, 'We': 1, 'have': 1, 'started': 1, 'this': 1, 'section': 1, 'for': 1, 'those': 1, '(beginner': 1, 'intermediate)': 1, 'who': 1, 'are': 1, 'familiar': 1, 'with': 1, 'Python.Python': 1, 'Exercises': 1, 'Java': 1, 'ExercisesThis': 1, 'line': 1, 'appended.': 1})\n"
     ]
    }
   ],
   "source": [
    "from collections import Counter\n",
    "def word_frequency(fname):\n",
    "    with open(fname) as f:\n",
    "        return Counter(f.read().split())\n",
    "\n",
    "print(\"Number of words in the file :\",word_frequency(\"text.txt\"))"
   ]
  },
  {
   "cell_type": "markdown",
   "metadata": {},
   "source": [
    "* 파일의 크기를 바이트 단위로 계산해주는 함수를 작성하시오."
   ]
  },
  {
   "cell_type": "code",
   "execution_count": 23,
   "metadata": {},
   "outputs": [
    {
     "name": "stdout",
     "output_type": "stream",
     "text": [
      "File size in bytes of a plain file:  822\n"
     ]
    }
   ],
   "source": [
    "def get_file_size(fname):\n",
    "    import os\n",
    "    fileinfo = os.stat(fname)\n",
    "    return fileinfo.st_size\n",
    "\n",
    "print(\"File size in bytes of a plain file: \", get_file_size(\"text.txt\"))"
   ]
  },
  {
   "cell_type": "markdown",
   "metadata": {},
   "source": [
    "* 파일 이름과 리스트를 매개변수로 받아서 리스트 원소를 텍스트 파일 한 줄에 저장하는 함수를 작성하시오."
   ]
  },
  {
   "cell_type": "code",
   "execution_count": 26,
   "metadata": {},
   "outputs": [
    {
     "name": "stdout",
     "output_type": "stream",
     "text": [
      "Red\n",
      "Green\n",
      "White\n",
      "Black\n",
      "Pink\n",
      "Yellow\n",
      "\n"
     ]
    }
   ],
   "source": [
    "def to_textfile(fname, alist):\n",
    "    with open(fname, \"w\") as f:\n",
    "        for elem in alist:\n",
    "            f.write(\"%s\\n\" % elem)\n",
    "    return\n",
    "\n",
    "color = ['Red', 'Green', 'White', 'Black', 'Pink', 'Yellow']\n",
    "to_textfile('colors.txt', color)\n",
    "print(read_text_file('colors.txt'))"
   ]
  },
  {
   "cell_type": "markdown",
   "metadata": {},
   "source": [
    "* 파일을 복사하는 예제 프로그램을 작성하시오."
   ]
  },
  {
   "cell_type": "code",
   "execution_count": 27,
   "metadata": {},
   "outputs": [
    {
     "name": "stdout",
     "output_type": "stream",
     "text": [
      "What is Python language?                                                \n",
      "Python is a widely used high-level, general-purpose, interpreted, dynamic programming language.Its design philosophy emphasizes code readability, and its syntax allows programmers to express concepts in fewer lines of code than possible in \n",
      "languages such as C++ or Java. \n",
      "Python supports multiple programming paradigms, including object-oriented, imperative and functional programming or procedural styles. It features a dynamic type system and automatic memory management and has a large and comprehensive standard library.The best way we learn anything is by practice and exercise questions. We  have started this section for those (beginner to intermediate) who are familiar with Python.Python Exercises\n",
      "Java ExercisesThis is a line appended.\n",
      "\n"
     ]
    }
   ],
   "source": [
    "from shutil import copyfile\n",
    "copyfile('text.txt', 'test.txt')\n",
    "\n",
    "print(read_text_file('test.txt'))"
   ]
  },
  {
   "cell_type": "markdown",
   "metadata": {},
   "source": [
    "* 텍스트 파일의 임의 한 줄을 읽어서 반환하는 함수를 작성하시오."
   ]
  },
  {
   "cell_type": "code",
   "execution_count": 29,
   "metadata": {},
   "outputs": [
    {
     "name": "stdout",
     "output_type": "stream",
     "text": [
      "What is Python language?                                                \n"
     ]
    }
   ],
   "source": [
    "import random\n",
    "def read_random_line(fname):\n",
    "    lines = open(fname).read().splitlines()\n",
    "    return random.choice(lines)\n",
    "\n",
    "print(read_random_line('test.txt'))"
   ]
  },
  {
   "cell_type": "markdown",
   "metadata": {},
   "source": [
    "* 파일이 열려 있는지 닫혀 있는지 검사하는 예제 프로그램을 작성하시오."
   ]
  },
  {
   "cell_type": "code",
   "execution_count": 31,
   "metadata": {},
   "outputs": [
    {
     "name": "stdout",
     "output_type": "stream",
     "text": [
      "False\n",
      "True\n"
     ]
    }
   ],
   "source": [
    "f = open('test.txt','r')\n",
    "print(f.closed)\n",
    "f.close()\n",
    "print(f.closed)"
   ]
  },
  {
   "cell_type": "markdown",
   "metadata": {},
   "source": [
    "* 현재 디렉토리에 있는 확장자가 ipynb인 파일을 수정된 날짜 순서대로 보여주는 프로그램을 작성하시오."
   ]
  },
  {
   "cell_type": "code",
   "execution_count": 32,
   "metadata": {},
   "outputs": [
    {
     "name": "stdout",
     "output_type": "stream",
     "text": [
      "01_자료분석과_소프트웨어.ipynb\n",
      "03_파이썬_설치와_실행.ipynb\n",
      "02_파이썬_소개.ipynb\n",
      "21_함수.ipynb\n",
      "04_명령_프롬프트.ipynb\n",
      "05_쥬피터_노트북.ipynb\n",
      "07_표현식과_산술 연산자_그리고_모듈.ipynb\n",
      "06_값과_자료형_그리고_변수.ipynb\n",
      "09_키보드_입력_처리하기.ipynb\n",
      "10_자료구조와_반복문.ipynb\n",
      "13_자료구조_리스트.ipynb\n",
      "14_list_comprehension.ipynb\n",
      "16_자료구조_사전.ipynb\n",
      "18_문자열.ipynb\n",
      "23_디렉토리와_파일_관리.ipynb\n",
      "24_텍스트_파일_처리.ipynb\n",
      "25_특별한_형식의_텍스트_파일_처리.ipynb\n",
      "30_날짜와_시각.ipynb\n",
      "28_정규식.ipynb\n",
      "26_이미지_파일_처리.ipynb\n",
      "08_비교연산자와_논리연산자_그리고_조건문.ipynb\n",
      "29_정규식_연습문제.ipynb\n",
      "12_조건문과_반복문_연습문제.ipynb\n",
      "15_자료구조_튜플과_셋.ipynb\n",
      "11_표현식_연습문제.ipynb\n",
      "17_자료구조_연습문제_I.ipynb\n",
      "17_자료구조_연습문제_II.ipynb\n",
      "22_함수_연습문제.ipynb\n",
      "19_문자열_연습문제.ipynb\n",
      "31_날짜와_시각_연습문제.ipynb\n",
      "27_파일처리_연습문제.ipynb\n",
      "32_연습문제.ipynb\n"
     ]
    }
   ],
   "source": [
    "import glob\n",
    "import os\n",
    "\n",
    "files = glob.glob(\"*.ipynb\")\n",
    "files.sort(key=os.path.getmtime)\n",
    "print(\"\\n\".join(files))"
   ]
  }
 ],
 "metadata": {
  "kernelspec": {
   "display_name": "Python [default]",
   "language": "python",
   "name": "python3"
  },
  "language_info": {
   "codemirror_mode": {
    "name": "ipython",
    "version": 3
   },
   "file_extension": ".py",
   "mimetype": "text/x-python",
   "name": "python",
   "nbconvert_exporter": "python",
   "pygments_lexer": "ipython3",
   "version": "3.6.3"
  }
 },
 "nbformat": 4,
 "nbformat_minor": 2
}
