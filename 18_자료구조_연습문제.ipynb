{
 "cells": [
  {
   "cell_type": "markdown",
   "metadata": {},
   "source": [
    "* 동전을 10000번 던져서 앞면과 뒷면이 나오는 회수를 세는 모의실험 프로그램을 작성하시오."
   ]
  },
  {
   "cell_type": "code",
   "execution_count": 1,
   "metadata": {},
   "outputs": [
    {
     "name": "stdout",
     "output_type": "stream",
     "text": [
      "Heads: 5046\n",
      "Tails: 4954\n"
     ]
    }
   ],
   "source": [
    "import random\n",
    "\n",
    "results = {'heads': 0, 'tails': 0}\n",
    "sides = list(results.keys())\n",
    "\n",
    "for i in range(10000):\n",
    "    results[random.choice(sides)] += 1\n",
    "\n",
    "print('Heads:', results['heads'])\n",
    "print('Tails:', results['tails'])"
   ]
  },
  {
   "cell_type": "markdown",
   "metadata": {},
   "source": [
    "*  3차원 공간 상의 두 점 사이의 유클리드 거리를 계산하는 프로그램을 작성하시오.\n",
    "공간상의 점은 튜플로 나타낼 수 있으며, 두 점 $\\left( x_1, y_1, z_1 \\right)$와 $\\left( x_2, y_2, z_2 \\right)$ 사이의 유클리드 거리는 다음과 같이 계산한다.\n",
    "\n",
    "$$\n",
    "\\sqrt{\\left( x_1 - x_2 \\right)^2 + \\left( y_1 - y_2 \\right)^2 + \\left( z_1 - z_2 \\right)^2}\n",
    "$$"
   ]
  },
  {
   "cell_type": "code",
   "execution_count": 2,
   "metadata": {},
   "outputs": [
    {
     "name": "stdout",
     "output_type": "stream",
     "text": [
      "유클리드 거리:  4.69041575982343\n"
     ]
    }
   ],
   "source": [
    "import math\n",
    "x = (5, 6, 7)\n",
    "y = (8, 9, 9)\n",
    "distance = math.sqrt(sum([(a - b) ** 2 for a, b in zip(x, y)]))\n",
    "print(\"유클리드 거리: \", distance)"
   ]
  },
  {
   "cell_type": "markdown",
   "metadata": {},
   "source": [
    "* 여러 자료형의 값을 저장한 튜플을 생성하는 예제 프로그램을 작성하시오."
   ]
  },
  {
   "cell_type": "markdown",
   "metadata": {},
   "source": [
    "* 튜플에 값을 추가하는 예제 프로그램을 작성하시오."
   ]
  },
  {
   "cell_type": "markdown",
   "metadata": {},
   "source": [
    "* 튜플에서 특정한 값의 개수를 알아내는 프로그램을 작성하시오."
   ]
  },
  {
   "cell_type": "code",
   "execution_count": 3,
   "metadata": {},
   "outputs": [
    {
     "name": "stdout",
     "output_type": "stream",
     "text": [
      "(2, 4, 5, 6, 2, 3, 4, 4, 7)\n",
      "3\n"
     ]
    }
   ],
   "source": [
    "tuplex = (2, 4, 5, 6, 2, 3, 4, 4, 7)\n",
    "print(tuplex)\n",
    "\n",
    "count = tuplex.count(4)\n",
    "print(count)"
   ]
  },
  {
   "cell_type": "code",
   "execution_count": 4,
   "metadata": {},
   "outputs": [
    {
     "name": "stdout",
     "output_type": "stream",
     "text": [
      "3\n"
     ]
    }
   ],
   "source": [
    "import collections\n",
    "\n",
    "freq = collections.Counter(tuplex)\n",
    "print(freq[4])"
   ]
  },
  {
   "cell_type": "markdown",
   "metadata": {},
   "source": [
    "* 리스트를 튜플로 변환하는 프로그램을 작성하시오."
   ]
  },
  {
   "cell_type": "markdown",
   "metadata": {},
   "source": [
    "* 튜플에서 특정한 값을 제거하는 프로그램을 작성하시오."
   ]
  },
  {
   "cell_type": "code",
   "execution_count": 5,
   "metadata": {},
   "outputs": [
    {
     "name": "stdout",
     "output_type": "stream",
     "text": [
      "('h', 'e', 'l', 'l', 'p', 'y', 'th', 's', 'o', 'n')\n",
      "('h', 'e', 'l', 'l', 'p', 'y', 's', 'o', 'n')\n"
     ]
    }
   ],
   "source": [
    "tuplex = (\"h\", \"e\", \"l\", \"l\", \"p\", \"y\", \"th\", \"s\", \"o\", \"n\")\n",
    "print(tuplex)\n",
    "listx = list(tuplex)\n",
    "listx.remove(\"th\") \n",
    "tuplex = tuple(listx)\n",
    "print(tuplex)"
   ]
  },
  {
   "cell_type": "markdown",
   "metadata": {},
   "source": [
    "* 튜플에 슬라이싱을 적용하는 예제 프로그램을 작성하시오."
   ]
  },
  {
   "cell_type": "markdown",
   "metadata": {},
   "source": [
    "* 튜플에서 특정한 값의 인덱스를 찾아내는 예제 프로그램을 작성하시오."
   ]
  },
  {
   "cell_type": "markdown",
   "metadata": {},
   "source": [
    "* 키와 값으로 구성된 튜플의 튜플을 사전으로 변환하는 예제 프로그램을 작성하시오."
   ]
  },
  {
   "cell_type": "markdown",
   "metadata": {},
   "source": [
    "* 튜플의 리스트가 있다고 하자.\n",
    "튜플에서 같은 위치에 값을 모아 튜플을 만든 다음 이 튜플들의 리스트를 만드는 예제 프로그램을 작성하시오."
   ]
  },
  {
   "cell_type": "code",
   "execution_count": 6,
   "metadata": {},
   "outputs": [
    {
     "name": "stdout",
     "output_type": "stream",
     "text": [
      "(1, 2) (3, 4) (8, 9)\n",
      "[(1, 3, 8), (2, 4, 9)]\n"
     ]
    }
   ],
   "source": [
    "ls = [(1,2), (3,4), (8,9)]\n",
    "elem1, elem2, elem3 = ls\n",
    "print(elem1, elem2, elem3)\n",
    "\n",
    "result = list(zip(elem1, elem2, elem3))\n",
    "print(result)"
   ]
  },
  {
   "cell_type": "code",
   "execution_count": 7,
   "metadata": {},
   "outputs": [
    {
     "name": "stdout",
     "output_type": "stream",
     "text": [
      "[(1, 3, 8), (2, 4, 9)]\n"
     ]
    }
   ],
   "source": [
    "result = list(zip(*ls))\n",
    "print(result)"
   ]
  },
  {
   "cell_type": "markdown",
   "metadata": {},
   "source": [
    "* 튜플에 저장된 값의 순서를 바꾸는 예제 프로그램을 작성하시오."
   ]
  },
  {
   "cell_type": "code",
   "execution_count": 8,
   "metadata": {},
   "outputs": [
    {
     "name": "stdout",
     "output_type": "stream",
     "text": [
      "('h', 'e', 'l', 'l', 'o', 'P', 'y', 't', 'h', 'o', 'n')\n",
      "<reversed object at 0x000002BE1CAF5438>\n",
      "<class 'reversed'>\n",
      "('n', 'o', 'h', 't', 'y', 'P', 'o', 'l', 'l', 'e', 'h')\n"
     ]
    }
   ],
   "source": [
    "x = \"helloPython\"\n",
    "x = tuple(x)\n",
    "print(x)\n",
    "\n",
    "y = reversed(x)\n",
    "print(y)\n",
    "print(type(y))\n",
    "print(tuple(y))"
   ]
  },
  {
   "cell_type": "markdown",
   "metadata": {},
   "source": [
    "* 셋에 값을 추가하는 예제 프로그램을 작성하시오."
   ]
  },
  {
   "cell_type": "code",
   "execution_count": 9,
   "metadata": {},
   "outputs": [
    {
     "name": "stdout",
     "output_type": "stream",
     "text": [
      "set()\n",
      "{'Red'}\n",
      "{'Red', 'Green', 'Blue'}\n"
     ]
    }
   ],
   "source": [
    "color_set = set()\n",
    "print(color_set)\n",
    "\n",
    "color_set.add(\"Red\")\n",
    "print(color_set)\n",
    "\n",
    "color_set.update([\"Blue\", \"Green\"])\n",
    "print(color_set)"
   ]
  },
  {
   "cell_type": "markdown",
   "metadata": {},
   "source": [
    "* 셋의 첫 번째 값을 제거하는 프로그램을 작성하시오. (셋에서 순서는 의미가 없지만 관련한 메소드는 있다.)"
   ]
  },
  {
   "cell_type": "code",
   "execution_count": 10,
   "metadata": {},
   "outputs": [
    {
     "name": "stdout",
     "output_type": "stream",
     "text": [
      "{0, 1, 3, 4, 5}\n",
      "{1, 3, 4, 5}\n",
      "{3, 4, 5}\n"
     ]
    }
   ],
   "source": [
    "num_set = set([0, 1, 3, 4, 5])\n",
    "print(num_set)\n",
    "\n",
    "num_set.pop()\n",
    "print(num_set)\n",
    "\n",
    "num_set.pop()\n",
    "print(num_set)"
   ]
  },
  {
   "cell_type": "markdown",
   "metadata": {},
   "source": [
    "* 셋에서 특정한 값을 제거하는 예제 프로그램을 작성하시오."
   ]
  },
  {
   "cell_type": "code",
   "execution_count": 11,
   "metadata": {},
   "outputs": [
    {
     "name": "stdout",
     "output_type": "stream",
     "text": [
      "{0, 1, 2, 3, 5}\n"
     ]
    }
   ],
   "source": [
    "num_set = set([0, 1, 2, 3, 4, 5])\n",
    "num_set.discard(4)\n",
    "print(num_set)"
   ]
  },
  {
   "cell_type": "markdown",
   "metadata": {},
   "source": [
    "* 합집합을 계산하는 예제 프로그램을 작성하시오."
   ]
  },
  {
   "cell_type": "code",
   "execution_count": 12,
   "metadata": {},
   "outputs": [
    {
     "name": "stdout",
     "output_type": "stream",
     "text": [
      "{'Darwin', 'Hawking', 'Sagan', 'Dawkins'}\n",
      "{'Darwin', 'Hawking', 'Sagan', 'Dawkins'}\n"
     ]
    }
   ],
   "source": [
    "setx = set([\"Sagan\", \"Darwin\", \"Dawkins\"])\n",
    "sety = set([\"Dawkins\", \"Hawking\"])\n",
    "seta = setx | sety\n",
    "print(seta)\n",
    "setb = setx.union(sety)\n",
    "print(setb)"
   ]
  },
  {
   "cell_type": "markdown",
   "metadata": {},
   "source": [
    "* 교집합과 차집합을 계산하는 예제 프로그램을 작성하시오."
   ]
  },
  {
   "cell_type": "code",
   "execution_count": 13,
   "metadata": {},
   "outputs": [
    {
     "name": "stdout",
     "output_type": "stream",
     "text": [
      "{'mango'}\n",
      "{'mango'}\n",
      "{'peach', 'pear', 'grapefruit', 'apple'}\n",
      "{'peach', 'pear', 'grapefruit', 'apple'}\n"
     ]
    }
   ],
   "source": [
    "setx = set([\"apple\", \"mango\", \"pear\", \"peach\", \"grapefruit\"])\n",
    "sety = set([\"mango\", \"orange\", \"strawberry\", \"raspberry\"])\n",
    "seta = setx & sety\n",
    "print(seta)\n",
    "setb = setx.intersection(sety)\n",
    "print(setb)\n",
    "setc = setx - sety\n",
    "print(setc)\n",
    "setd = setx.difference(sety)\n",
    "print(setd)"
   ]
  },
  {
   "cell_type": "markdown",
   "metadata": {},
   "source": [
    "* 부분집합(subset)인지 확대집합(superset)인지 검사하는 프로그램을 작성하시오."
   ]
  },
  {
   "cell_type": "code",
   "execution_count": 14,
   "metadata": {},
   "outputs": [
    {
     "name": "stdout",
     "output_type": "stream",
     "text": [
      "False\n",
      "False\n",
      "False\n",
      "False\n",
      "True\n",
      "True\n"
     ]
    }
   ],
   "source": [
    "setx = set([\"apple\", \"mango\", \"strawberry\"])\n",
    "sety = set([\"mango\", \"orange\", \"apple\"])\n",
    "setz = set([\"mango\"])\n",
    "\n",
    "issubset = setx <= sety\n",
    "print(issubset)\n",
    "issubset = setx.issubset(sety)\n",
    "print(issubset)\n",
    "\n",
    "issuperset = setx >= sety\n",
    "print(issuperset)\n",
    "issuperset = setx.issuperset(sety)\n",
    "print(issuperset)\n",
    "\n",
    "issubset = setz.issubset(sety)\n",
    "print(issubset)\n",
    "issuperset = sety.issuperset(setz)\n",
    "print(issuperset)"
   ]
  },
  {
   "cell_type": "markdown",
   "metadata": {},
   "source": [
    "* 원소를 추가하거나 삭제할 수 없는 집합을 frozen set이라 한다.\n",
    "Frozen set은 frozenset() 함수로 생성한다.\n",
    "Frozen set을 생성하고 집합 연산을 적용하는 예제 프로그램을 작성하시오."
   ]
  },
  {
   "cell_type": "code",
   "execution_count": 15,
   "metadata": {},
   "outputs": [
    {
     "name": "stdout",
     "output_type": "stream",
     "text": [
      "False\n",
      "frozenset({1, 2})\n",
      "frozenset({1, 2, 3, 4, 5, 6, 7})\n"
     ]
    }
   ],
   "source": [
    "x = frozenset([1, 2, 3, 4, 5])\n",
    "y = frozenset([3, 4, 5, 6, 7])\n",
    "print(x.isdisjoint(y))\n",
    "print(x.difference(y))\n",
    "print(x | y)"
   ]
  },
  {
   "cell_type": "markdown",
   "metadata": {},
   "source": [
    "* 여러 개의 사전을 합병하여 하나의 사전을 만드는 예제 프로그램을 작성하시오."
   ]
  },
  {
   "cell_type": "code",
   "execution_count": 16,
   "metadata": {},
   "outputs": [
    {
     "name": "stdout",
     "output_type": "stream",
     "text": [
      "{1: 10, 2: 20, 3: 30, 4: 40, 5: 50, 6: 60}\n"
     ]
    }
   ],
   "source": [
    "dic1={1:10, 2:20}\n",
    "dic2={3:30, 4:40}\n",
    "dic3={5:50,6:60}\n",
    "\n",
    "dic4 = {}\n",
    "\n",
    "for d in (dic1, dic2, dic3):\n",
    "    dic4.update(d)\n",
    "    \n",
    "print(dic4)"
   ]
  },
  {
   "cell_type": "markdown",
   "metadata": {},
   "source": [
    "* 키가 1, 2, ..., 10이고 대응하는 값이 키의 제곱인 사전을 생성하는 프로그램을 작성하시오."
   ]
  },
  {
   "cell_type": "markdown",
   "metadata": {},
   "source": [
    "* 사전에 저장된 값을 합을 구하는 예제 프로그램을 작성하시오."
   ]
  },
  {
   "cell_type": "markdown",
   "metadata": {},
   "source": [
    "* 사전에서 특정한 키에 해당하는 키-값 쌍을 제거하는 예제 프로그램을 작성하시오."
   ]
  },
  {
   "cell_type": "markdown",
   "metadata": {},
   "source": [
    "* 키의 리스트와 값을 리스트를 키-값 쌍의 사전으로 변환하는 프로그램을 작성하시오."
   ]
  },
  {
   "cell_type": "code",
   "execution_count": 17,
   "metadata": {},
   "outputs": [
    {
     "name": "stdout",
     "output_type": "stream",
     "text": [
      "{'red': '#FF0000', 'green': '#008000', 'blue': '#0000FF'}\n"
     ]
    }
   ],
   "source": [
    "keys = ['red', 'green', 'blue']\n",
    "values = ['#FF0000','#008000', '#0000FF']\n",
    "color_dictionary = dict(zip(keys, values))\n",
    "print(color_dictionary)"
   ]
  },
  {
   "cell_type": "markdown",
   "metadata": {},
   "source": [
    "* 두 사전을 합병할 때 키가 같으면 값을 합하는 프로그램을 작성하시오.\n",
    "\n",
    "Note: 사전 객체를 Counter 객체로 변환하면 사전의 키:값 쌍을 \"키\"의 도수가 \"값\"이라고 해석한다.\n",
    "Counter 객체 간의 덧셈 연산은 합병 연산이다."
   ]
  },
  {
   "cell_type": "code",
   "execution_count": 18,
   "metadata": {},
   "outputs": [
    {
     "name": "stdout",
     "output_type": "stream",
     "text": [
      "Counter({'a': 400, 'b': 400, 'd': 400, 'c': 300})\n",
      "{'a': 400, 'b': 400, 'c': 300, 'd': 400}\n"
     ]
    }
   ],
   "source": [
    "from collections import Counter\n",
    "\n",
    "d1 = {'a': 100, 'b': 200, 'c':300}\n",
    "d2 = {'a': 300, 'b': 200, 'd':400}\n",
    "\n",
    "d = Counter(d1) + Counter(d2)\n",
    "print(d)\n",
    "\n",
    "d = dict(d)\n",
    "print(d)"
   ]
  },
  {
   "cell_type": "markdown",
   "metadata": {},
   "source": [
    "* 사전에 저장된 값 중에서 가장 큰 3개의 값을 구하는 프로그램을 작성하시오."
   ]
  },
  {
   "cell_type": "code",
   "execution_count": 19,
   "metadata": {},
   "outputs": [
    {
     "name": "stdout",
     "output_type": "stream",
     "text": [
      "[('b', 5874), ('e', 5874), ('c', 560)]\n"
     ]
    }
   ],
   "source": [
    "my_dict = {'a':500, 'b':5874, 'c': 560,'d':400, 'e':5874, 'f': 20}\n",
    "\n",
    "my_cnt = Counter(my_dict)\n",
    "print(my_cnt.most_common(3))"
   ]
  },
  {
   "cell_type": "code",
   "execution_count": 20,
   "metadata": {},
   "outputs": [
    {
     "name": "stdout",
     "output_type": "stream",
     "text": [
      "[('b', 5874), ('e', 5874), ('c', 560), ('a', 500), ('d', 400), ('f', 20)]\n"
     ]
    }
   ],
   "source": [
    "print(my_cnt.most_common())"
   ]
  },
  {
   "cell_type": "markdown",
   "metadata": {},
   "source": [
    "* 사전의 리스트에서 특정한 키에 해당하는 값의 합을 구하는 예제 프로그램을 작성하시오."
   ]
  },
  {
   "cell_type": "markdown",
   "metadata": {},
   "source": [
    "* 값이 리스트인 사전에서 모든 리스트에 저장된 값의 개수를 구하는 프로그램을 작성하시오."
   ]
  },
  {
   "cell_type": "markdown",
   "metadata": {},
   "source": [
    "* 두 사전에서 동일한 키:값 쌍을 찾아내는 예제 프로그램을 작성하시오."
   ]
  },
  {
   "cell_type": "code",
   "execution_count": 21,
   "metadata": {},
   "outputs": [
    {
     "name": "stdout",
     "output_type": "stream",
     "text": [
      "('key1', 1)\n"
     ]
    }
   ],
   "source": [
    "x = {'key1': 1, 'key2': 3, 'key3': 2}\n",
    "y = {'key1': 1, 'key2': 2}\n",
    "\n",
    "for (key, value) in set(x.items()) & set(y.items()):\n",
    "    print((key, value))"
   ]
  }
 ],
 "metadata": {
  "kernelspec": {
   "display_name": "Python [default]",
   "language": "python",
   "name": "python3"
  },
  "language_info": {
   "codemirror_mode": {
    "name": "ipython",
    "version": 3
   },
   "file_extension": ".py",
   "mimetype": "text/x-python",
   "name": "python",
   "nbconvert_exporter": "python",
   "pygments_lexer": "ipython3",
   "version": "3.6.3"
  }
 },
 "nbformat": 4,
 "nbformat_minor": 2
}
