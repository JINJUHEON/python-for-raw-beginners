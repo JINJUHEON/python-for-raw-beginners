{
 "cells": [
  {
   "cell_type": "markdown",
   "metadata": {},
   "source": [
    "# 문자열(string)\n",
    "\n",
    "수학 시간에 배우는 **수의 열**(a seqence of numbers)인 **수열**과 유사하게 **문자의 열**(a sequence of characters)을 **문자열**이라고 한다.\n",
    "컴퓨터는 문자를 이진수로 변환하여 저장하고, 저장된 이진수를 다시 문자로 변환하여 화면에 나타낸다.\n",
    "문자를 이진수로 변환하는 것을 **암호화**(encoding)라고 하고 이진수를 다시 문자로 변환하는 것을 **복호화**(decoding)라고 한다.\n",
    "암호화하고 복호화하는 여러 가지 표준적인 방법이 있는데 가장 자주 사용하는 방법은 **아스키**(American Standard Code for Information Interchange, ASCII)와 **유니코드**(Unicode)이다.\n",
    "파이썬은 기본적으로 유니코드를 사용하기 때문에 파이썬에서 문자열은 유니코드의 열이다."
   ]
  },
  {
   "cell_type": "markdown",
   "metadata": {},
   "source": [
    "# 텍스트 파일\n",
    "\n",
    "파일은 **이진 파일**(binary file)과 **텍스트 파일**(text file)로 구분된다.\n",
    "**텍스트 파일은 문자열이 저장된 파일**을 가리키는 용어이다.\n",
    "**텍스트 파일은 문자열과 인코딩에 관한 정보만 가지고 있으며** 서식(굵게 또는 기울임 등과 같은)이 없는 단순 문서 편집기를 통해 확인하고 생성하고 수정할 수 있다."
   ]
  },
  {
   "cell_type": "markdown",
   "metadata": {},
   "source": [
    "자료를 저장하고 공유하는 가장 기본적인 파일 형식이 텍스트 파일이다.\n",
    "텍스트 파일에 저장된 정보의 종류나 용도는 `.txt`, `.html`, `csv`, `.py`, `.cpp` 등과 같은 다양한 확장자로 나타낸다."
   ]
  },
  {
   "cell_type": "markdown",
   "metadata": {},
   "source": [
    "## 문자열의 생성\n",
    "\n",
    "파이썬에서 문자열은 문자들의 열을 **작은따옴표**(single quote) 또는 **큰따옴표**(double quote)로 감싸서 생성한다.\n",
    "여러 줄에 걸친 문자열은 세 번 연속된 작은따옴표나 큰따옴표로 감싸서 생성할 수 있다."
   ]
  },
  {
   "cell_type": "code",
   "execution_count": 1,
   "metadata": {},
   "outputs": [
    {
     "name": "stdout",
     "output_type": "stream",
     "text": [
      "심학규\n",
      "\n",
      "옹진군\n",
      "경기도 12345\n",
      "대한민국\n"
     ]
    }
   ],
   "source": [
    "student_name = '심청'\n",
    "father_name = \"심학규\"\n",
    "address = \"\"\"\n",
    "옹진군\n",
    "경기도 12345\n",
    "대한민국\"\"\"\n",
    "print(father_name)\n",
    "print(address)"
   ]
  },
  {
   "cell_type": "markdown",
   "metadata": {},
   "source": [
    "문자열의 자료형은 `str`이다."
   ]
  },
  {
   "cell_type": "code",
   "execution_count": 2,
   "metadata": {},
   "outputs": [
    {
     "name": "stdout",
     "output_type": "stream",
     "text": [
      "<class 'str'>\n"
     ]
    }
   ],
   "source": [
    "print(type(address))"
   ]
  },
  {
   "cell_type": "markdown",
   "metadata": {},
   "source": [
    "문자열은 여러 개의 문자를 순서대로 저장하는 일종의 자료구조이다.\n",
    "따라서 리스트와 같이 인덱스와 `[]` 연산자를 이용하여 특정 문자에 접근할 수 있으며 슬라이싱으로 부분 문자열을 추출할 수도 있다.\n",
    "`in` 연산자 뿐만 아니라 내장함수 `len()`, `enumerate()` 등도 사용할 수 있다."
   ]
  },
  {
   "cell_type": "code",
   "execution_count": 3,
   "metadata": {},
   "outputs": [
    {
     "name": "stdout",
     "output_type": "stream",
     "text": [
      "심\n",
      "학\n",
      "규\n"
     ]
    }
   ],
   "source": [
    "for ch in father_name:\n",
    "    print(ch)"
   ]
  },
  {
   "cell_type": "code",
   "execution_count": 4,
   "metadata": {},
   "outputs": [
    {
     "name": "stdout",
     "output_type": "stream",
     "text": [
      "0 :  심\n",
      "1 :  학\n",
      "2 :  규\n"
     ]
    }
   ],
   "source": [
    "for idx, ch in enumerate(father_name):\n",
    "    print(idx, ': ', ch)"
   ]
  },
  {
   "cell_type": "code",
   "execution_count": 5,
   "metadata": {},
   "outputs": [
    {
     "name": "stdout",
     "output_type": "stream",
     "text": [
      "0 :  심\n",
      "1 :  학\n",
      "2 :  규\n"
     ]
    }
   ],
   "source": [
    "for idx in range(len(father_name)):\n",
    "    print(idx, ': ', father_name[idx])"
   ]
  },
  {
   "cell_type": "markdown",
   "metadata": {},
   "source": [
    "리스트와 다른 점이라면 문자열은 `immutable`하다.\n",
    "따라서 문자열 자료구조에 저장된 값을 변경하는 다음과 같은 코드는 `TypeError` 오류를 발생한다."
   ]
  },
  {
   "cell_type": "code",
   "execution_count": 6,
   "metadata": {},
   "outputs": [
    {
     "ename": "TypeError",
     "evalue": "'str' object does not support item assignment",
     "output_type": "error",
     "traceback": [
      "\u001b[1;31m---------------------------------------------------------------------------\u001b[0m",
      "\u001b[1;31mTypeError\u001b[0m                                 Traceback (most recent call last)",
      "\u001b[1;32m<ipython-input-6-d3a9195efb2a>\u001b[0m in \u001b[0;36m<module>\u001b[1;34m()\u001b[0m\n\u001b[1;32m----> 1\u001b[1;33m \u001b[0mstudent_name\u001b[0m\u001b[1;33m[\u001b[0m\u001b[1;36m1\u001b[0m\u001b[1;33m]\u001b[0m \u001b[1;33m=\u001b[0m \u001b[1;34m'수'\u001b[0m\u001b[1;33m\u001b[0m\u001b[0m\n\u001b[0m",
      "\u001b[1;31mTypeError\u001b[0m: 'str' object does not support item assignment"
     ]
    }
   ],
   "source": [
    "student_name[1] = '수'"
   ]
  },
  {
   "cell_type": "markdown",
   "metadata": {},
   "source": [
    "## 이스케이프 시퀀스(escape sequence)\n",
    "\n",
    "문자열에 엔터키(`enter key`, 줄의 끝을 나타내는 문자)나 탭키(`tab key`, 미리 설정된 위치로 이동하라는 표식의 문자) 또는 따옴표를 표함시키고 싶을 때 사용하는 특별한 문자열을 이스케이프 시퀀스라고 한다.\n",
    "이스케이프 시퀀스는 역 슬래시(backslash) `\\`로 시작한다.\n",
    "자주 사용하는 이스케이프 시퀀스는 `\\n`, `\\t`, `\\\"`, `\\'`, `\\\\` 등인데 순서대로 엔터키, 탭키, 큰따옴표, 작은따옴표, 역슬래시이다."
   ]
  },
  {
   "cell_type": "code",
   "execution_count": 7,
   "metadata": {},
   "outputs": [
    {
     "name": "stdout",
     "output_type": "stream",
     "text": [
      "선생님께서 \"너 지금 뭐 하는거야?\" 하고 물으셨다.\n"
     ]
    }
   ],
   "source": [
    "words = '선생님께서 \\\"너 지금 뭐 하는거야?\\\" 하고 물으셨다.'\n",
    "print(words)"
   ]
  },
  {
   "cell_type": "markdown",
   "metadata": {},
   "source": [
    "문자열을 `raw string`으로 지정하면 문자열 내에 있는 모든 이스케이프 시퀀스를 이스케이프 시퀀스로 해석하지 않고 있는 그대로 처리한다.\n",
    "문자열을 `raw string`으로 지정하려면 문자열을 생성할 때 문자열 앞에 `r`을 덧붙인다."
   ]
  },
  {
   "cell_type": "code",
   "execution_count": 8,
   "metadata": {},
   "outputs": [
    {
     "name": "stdout",
     "output_type": "stream",
     "text": [
      "This is Brown's car\n",
      "This is Brown\\'s car\n"
     ]
    }
   ],
   "source": [
    "msg = 'This is Brown\\'s car'\n",
    "print(msg)\n",
    "msg = r'This is Brown\\'s car'\n",
    "print(msg)"
   ]
  },
  {
   "cell_type": "markdown",
   "metadata": {},
   "source": [
    "여러 줄에 걸친 문자열을 생성할 때는 세개의 따옴표(triple quotes)로 문자열을 시작하고 끝내면 된다.\n",
    "세개의 따옴표로 감싼 문자열을 입력할 때는 엔터키나 탭키 등을 이스케이프 시퀀스로 입력않아도 자동적으로 이스케이프 시퀀스로 변환된다."
   ]
  },
  {
   "cell_type": "code",
   "execution_count": 9,
   "metadata": {},
   "outputs": [
    {
     "name": "stdout",
     "output_type": "stream",
     "text": [
      "Title: Pyhton String\n",
      "    파이썬 문자열을 특징은 ...\n",
      "    다음과 같다.\n"
     ]
    },
    {
     "data": {
      "text/plain": [
       "'Title: Pyhton String\\n    파이썬 문자열을 특징은 ...\\n    다음과 같다.'"
      ]
     },
     "execution_count": 9,
     "metadata": {},
     "output_type": "execute_result"
    }
   ],
   "source": [
    "msg = \"\"\"Title: Pyhton String\n",
    "    파이썬 문자열을 특징은 ...\n",
    "    다음과 같다.\"\"\"\n",
    "print(msg)\n",
    "msg"
   ]
  },
  {
   "cell_type": "markdown",
   "metadata": {},
   "source": [
    "## `in` 연산자\n",
    "\n",
    "`in` 연산자를 사용하면 문자열 내에 특정 문자열이 포함되어 있는지 검사할 수 있다."
   ]
  },
  {
   "cell_type": "code",
   "execution_count": 10,
   "metadata": {},
   "outputs": [
    {
     "name": "stdout",
     "output_type": "stream",
     "text": [
      "True\n",
      "False\n"
     ]
    }
   ],
   "source": [
    "test1 = 'Hello' in 'Hello World'\n",
    "print(test1)\n",
    "test2 = 'cats' not in 'cats and dogs'\n",
    "print(test2)"
   ]
  },
  {
   "cell_type": "markdown",
   "metadata": {},
   "source": [
    "## 파이썬 문자열의 메소드\n",
    "\n",
    "최근에는 텍스트 자료를 처리하는 일이 중요해지고 있다.\n",
    "인터넷에서 수집하는 많은 자료가 텍스트 자료이며 이들을 주제에 따라 분류하거나 다른 언어로 번역하는 일을 생각할 수 있다.\n",
    "파이썬 문자열은 텍스트 자료를 처리하는데 필요한 다양한 메소드를 제공한다.\n",
    "이들 메소드는 [docs.python.org](https://docs.python.org/3/library/string.html)나 [www.programiz.com](https://www.programiz.com/python-programming/methods/string) 사이트를 참고하여 익힐 필요가 있다."
   ]
  },
  {
   "cell_type": "markdown",
   "metadata": {},
   "source": [
    "파이썬 문자열의 메소드는 다음과 같이 알아 볼 수있다."
   ]
  },
  {
   "cell_type": "code",
   "execution_count": 11,
   "metadata": {},
   "outputs": [
    {
     "data": {
      "text/plain": [
       "'capitalize, casefold, center, count, encode, endswith, expandtabs, find, format, format_map, index, isalnum, isalpha, isdecimal, isdigit, isidentifier, islower, isnumeric, isprintable, isspace, istitle, isupper, join, ljust, lower, lstrip, maketrans, partition, replace, rfind, rindex, rjust, rpartition, rsplit, rstrip, split, splitlines, startswith, strip, swapcase, title, translate, upper, zfill'"
      ]
     },
     "execution_count": 11,
     "metadata": {},
     "output_type": "execute_result"
    }
   ],
   "source": [
    "', '.join(dir(msg)[33:])"
   ]
  },
  {
   "cell_type": "markdown",
   "metadata": {},
   "source": [
    "## 대소문자와 관련한 메소드: `capitalize()`, `upper()`, `lower()`,  `title()`, `swapcase()`, `isupper()`, `islower()`, `istitle()`\n",
    "\n",
    "\n",
    "`capitalize()` 메소드는 문자열의 첫 문자를 대문자로 변경한 새로운 문자열을 생성해준다.\n",
    "대소문자가 없는 한글과 숫자로만 이루어진 문자열은 그대로 반환한다.\n",
    "`swapcase()` 메소드는 대문자는 소문자로 소문자는 대문자로 변환한 문자열을 반환한다.\n",
    "`upper()`, `lower()` 메소드는 문자열의 모든 문자를 대문자 또는 소문자로 변경한 새로운 문자열을 만들어 준다.\n",
    "하지만 **대소문자를 구별하지 않는 문자**(한글, 숫자, 특수문자 등)는 그대로 반환한다.\n",
    "`isupper()`, `islower()` 메소드는 문자열에 대소문자를 구별하는 문자가 하나 이상 있을 때 그 문자들이 전부 소문자인지 또는 전부 대문자인지 검사한 결과를 논리값으로 준다.\n",
    "대소문자를 구별하는 문자가 하나도 없으면 `False`를 반환하고, 대소문자를 구별하는 문자가 하나 이상 포함되어 있으면 대소문자를 구별하지 않는 문자는 무시하고 판정한다.\n",
    "`istitle()` 메소드는 문자열에서 각 단어의 첫 글자가 대문자이고 그 외는 소문자인지 검사한다. "
   ]
  },
  {
   "cell_type": "code",
   "execution_count": 12,
   "metadata": {},
   "outputs": [
    {
     "name": "stdout",
     "output_type": "stream",
     "text": [
      "Old String:  python is awesome.\n",
      "Capitalized String: Python is awesome.\n"
     ]
    }
   ],
   "source": [
    "string = \"python is awesome.\"\n",
    "capitalized_string = string.capitalize()\n",
    "print('Old String: ', string)\n",
    "print('Capitalized String:', capitalized_string)"
   ]
  },
  {
   "cell_type": "code",
   "execution_count": 13,
   "metadata": {},
   "outputs": [
    {
     "name": "stdout",
     "output_type": "stream",
     "text": [
      "INTRODUCTORY STATISTICS FOR INFORMATION AGE\n",
      "introductory statistics for information age\n",
      "Introductory statistics for information age\n",
      "Introductory Statistics For Information Age\n"
     ]
    }
   ],
   "source": [
    "book = 'introductory statistics for information age'\n",
    "book = book.upper()\n",
    "print(book)\n",
    "book = book.lower()\n",
    "print(book)\n",
    "book = book.capitalize()\n",
    "print(book)\n",
    "book = book.title()\n",
    "print(book)"
   ]
  },
  {
   "cell_type": "code",
   "execution_count": 14,
   "metadata": {},
   "outputs": [
    {
     "name": "stdout",
     "output_type": "stream",
     "text": [
      "통계프로그래밍 Abc\n",
      "통계프로그래밍 ABC\n"
     ]
    }
   ],
   "source": [
    "book_kr = '통계프로그래밍 abc'\n",
    "print(book_kr.title())\n",
    "print(book_kr.upper())"
   ]
  },
  {
   "cell_type": "code",
   "execution_count": 15,
   "metadata": {},
   "outputs": [
    {
     "name": "stdout",
     "output_type": "stream",
     "text": [
      "False\n",
      "False\n",
      "True\n"
     ]
    }
   ],
   "source": [
    "print(book.isupper())\n",
    "print(book.islower())\n",
    "print(book.istitle())"
   ]
  },
  {
   "cell_type": "markdown",
   "metadata": {},
   "source": [
    "### 문자열 정렬과 관련한 메소드: `center()`, `ljust()`, `rjust()`\n",
    "\n",
    "`center()`는 지정한 길이에서 문자열이 가운데 오도록 앞 뒤에 지정한 문자를 덧붙여 주는 메소드이다.\n",
    "`ljust()`는 지정한 길이에서 문자열이 왼쪽에 정렬되도록 뒤에 지정한 문자를 덧붙여 주는 메소드이다.\n",
    "`rjust()`는 지정한 길이에서 문자열이 오른쪽에 정렬되도록 앞에 지정한 문자를 덧붙여 주는 메소드이다.\n",
    "앞 또는 뒤에 덧붙일 디폴트 문자는 빈 칸이다."
   ]
  },
  {
   "cell_type": "code",
   "execution_count": 16,
   "metadata": {},
   "outputs": [
    {
     "name": "stdout",
     "output_type": "stream",
     "text": [
      "Centered String:                  python is awesome.                \n",
      "Centered String:  ****************python is awesome.****************\n"
     ]
    }
   ],
   "source": [
    "cstring1 = string.center(50)\n",
    "cstring2 = string.center(50, '*')\n",
    "print(\"Centered String: \", cstring1)\n",
    "print(\"Centered String: \", cstring2)"
   ]
  },
  {
   "cell_type": "markdown",
   "metadata": {},
   "source": [
    "### 특정 문자열을 제거하기 위한 메소드: `lstrip()`, `rstrip()`, `strip()`\n",
    "\n",
    "이 메소드들은 문자열 앞과 뒤 또는 양쪽에 나타나는 특정 문자들을 제거한 새로운 문자열을 만들어 준다.\n",
    "제거할 문자 여러 개를 문자열로 주면 이들 중 어떤 문자라도 나타나면 제거한다.\n",
    "제거할 문자가 여러 번 나타나면 모두 제거한다.\n",
    "제거할 문자를 지정하지 않으면 공백문자를 제거한다."
   ]
  },
  {
   "cell_type": "code",
   "execution_count": 17,
   "metadata": {},
   "outputs": [
    {
     "name": "stdout",
     "output_type": "stream",
     "text": [
      "python is awesome.                \n",
      "python is awesome.****************\n"
     ]
    }
   ],
   "source": [
    "lst_string1 = cstring1.lstrip()\n",
    "lst_string2 = cstring2.lstrip('*')\n",
    "print(lst_string1)\n",
    "print(lst_string2)"
   ]
  },
  {
   "cell_type": "code",
   "execution_count": 18,
   "metadata": {},
   "outputs": [
    {
     "name": "stdout",
     "output_type": "stream",
     "text": [
      "python is awesome.\n",
      "python is awesome.\n"
     ]
    }
   ],
   "source": [
    "st_string1 = lst_string1.rstrip()\n",
    "st_string2 = lst_string2.rstrip('*')\n",
    "print(st_string1)\n",
    "print(st_string2)"
   ]
  },
  {
   "cell_type": "code",
   "execution_count": 19,
   "metadata": {},
   "outputs": [
    {
     "name": "stdout",
     "output_type": "stream",
     "text": [
      "python is awesome.\n",
      "python is awesome.\n"
     ]
    }
   ],
   "source": [
    "print(cstring1.strip())\n",
    "print(cstring2.strip('*'))"
   ]
  },
  {
   "cell_type": "markdown",
   "metadata": {},
   "source": [
    "### 문자열 검사를 위한 메소드: `isalpha()`, `isalnum()`, `isdecimal()`, `isdigit()`, `ismumeric()`, `isspace()`, `isprintable()`\n",
    "\n",
    "| 메소드 | 설명|\n",
    "|---------|--------|\n",
    "| `isalpha()` | 문자열을 구성하는 모든 문자가 글자인지 검사한다. 한글도 글자로 보며, 빈칸과 숫자는 글자가 아니다. |\n",
    "| `isalnum()` | 문자열을 구성하는 모든 문자가 글자 또는 숫자인지 검사한다. |\n",
    "| `isspace()` | 문자열을 구성하는 모든 문자가 **공백문자**(white space, 빈칸, \\t, \\  n)인지 검사한다. |"
   ]
  },
  {
   "cell_type": "code",
   "execution_count": 20,
   "metadata": {},
   "outputs": [
    {
     "name": "stdout",
     "output_type": "stream",
     "text": [
      "False\n",
      "True\n",
      "False\n",
      "True\n"
     ]
    }
   ],
   "source": [
    "string = '이건 한글 문자와 빈칸 그리고 마침표가 있는 문자열이댜.'\n",
    "print(string.isalpha())\n",
    "string = '이건한글문자만있는문자열이댜'\n",
    "print(string.isalpha())\n",
    "string = '이건한글문자와3이란숫자가있는문자열이댜'\n",
    "print(string.isalpha())\n",
    "print(string.isalnum())"
   ]
  },
  {
   "cell_type": "markdown",
   "metadata": {},
   "source": [
    "`isdecimal()`, `isdigit()`, `isnumeric()` 메소드는 문자열의 모든 문자가 숫자이면 `True` 그렇지 않으면 `False`를 반환하는 메소드들이다.\n",
    "`isdecimal()`은 `\\u`로 시작하는 유니코드로 나타낸 숫자는 숫자로 취급하지 않지만 `isdigit()`와`isnumeric()`는 숫자로 취급한다.\n",
    "대부분의 경우 이 세 메소드의 차이는 거의 없다."
   ]
  },
  {
   "cell_type": "code",
   "execution_count": 21,
   "metadata": {},
   "outputs": [
    {
     "name": "stdout",
     "output_type": "stream",
     "text": [
      "False\n",
      "False\n",
      "False\n",
      "False\n",
      "True\n",
      "True\n",
      "True\n",
      "True\n"
     ]
    }
   ],
   "source": [
    "height = '1234.56789'\n",
    "print(height.isdecimal())\n",
    "print(height.isnumeric())\n",
    "print(height.isdigit())\n",
    "print(height.isalnum())\n",
    "height = '123456789'\n",
    "print(height.isdecimal())\n",
    "print(height.isnumeric())\n",
    "print(height.isdigit())\n",
    "print(height.isalnum())"
   ]
  },
  {
   "cell_type": "markdown",
   "metadata": {},
   "source": [
    "윗 첨자 2의 유니코드는 \"\\u00B2\"이다."
   ]
  },
  {
   "cell_type": "code",
   "execution_count": 22,
   "metadata": {},
   "outputs": [
    {
     "name": "stdout",
     "output_type": "stream",
     "text": [
      "False\n",
      "True\n",
      "True\n"
     ]
    }
   ],
   "source": [
    "string = \"123\\u00B2456\"\n",
    "print(string.isdecimal())\n",
    "print(string.isdigit())\n",
    "print(string.isnumeric())"
   ]
  },
  {
   "cell_type": "markdown",
   "metadata": {},
   "source": [
    "&frac12;, &frac14; 등을 나타내는 유니코드 문자가 있다.\n",
    "윗첨자 2의 유니코드는 \"\\u00B2\"이고, &frac14;의 유니코드는 \"\\u00BC\"이다.\n",
    "`isnumeric()`은 이런 유니코드도 숫자로 취급한다."
   ]
  },
  {
   "cell_type": "code",
   "execution_count": 23,
   "metadata": {},
   "outputs": [
    {
     "name": "stdout",
     "output_type": "stream",
     "text": [
      "123²456¼\n",
      "False\n",
      "False\n",
      "True\n"
     ]
    }
   ],
   "source": [
    "string = \"123\\u00B2456\\u00BC\"\n",
    "print(string)\n",
    "print(string.isdecimal())\n",
    "print(string.isdigit())\n",
    "print(string.isnumeric())"
   ]
  },
  {
   "cell_type": "markdown",
   "metadata": {},
   "source": [
    "명령창에서 `charmap` 명령을 실행하면 문자표가 나타나고 여기서 각 문자에 대한 유니코드를 알 수 있다."
   ]
  },
  {
   "cell_type": "code",
   "execution_count": 24,
   "metadata": {},
   "outputs": [
    {
     "name": "stdout",
     "output_type": "stream",
     "text": [
      "①②④\n",
      "False\n",
      "True\n",
      "True\n"
     ]
    }
   ],
   "source": [
    "string= \"\\u2460\\u2461\\u2463\"\n",
    "print(string)\n",
    "print(string.isdecimal())\n",
    "print(string.isdigit())\n",
    "print(string.isnumeric())"
   ]
  },
  {
   "cell_type": "code",
   "execution_count": 25,
   "metadata": {},
   "outputs": [
    {
     "name": "stdout",
     "output_type": "stream",
     "text": [
      "12345①②③④⑤\n",
      "False\n",
      "True\n",
      "True\n"
     ]
    }
   ],
   "source": [
    "string = \"12345①②③④⑤\"\n",
    "print(string)\n",
    "print(string.isdecimal())\n",
    "print(string.isdigit())\n",
    "print(string.isnumeric())\n"
   ]
  },
  {
   "cell_type": "markdown",
   "metadata": {},
   "source": [
    "`isdigit()` 메소드와 `isnumeric()` 메소드의 차이는 숫자로 사용하는 로마문자에 대한 처리에서 나타난다.\n",
    "숫자로 사용하는 로마문자는 digit은 아니지만 numeric이다.\n",
    "숫자로 사용하는 로마문자의 유니코드는 `2160`부터 `2179`까지로 Ⅰ, Ⅱ, ..., Ⅹ,ⅰ, ⅱ, ..., ⅹ이다."
   ]
  },
  {
   "cell_type": "code",
   "execution_count": 26,
   "metadata": {},
   "outputs": [
    {
     "name": "stdout",
     "output_type": "stream",
     "text": [
      "ⅠⅡⅣⅨⅩⅦⅶ\n",
      "False\n",
      "False\n",
      "True\n"
     ]
    }
   ],
   "source": [
    "string = \"ⅠⅡⅣⅨⅩ\\u2166\\u2176\"\n",
    "print(string)\n",
    "print(string.isdecimal())\n",
    "print(string.isdigit())\n",
    "print(string.isnumeric())"
   ]
  },
  {
   "cell_type": "markdown",
   "metadata": {},
   "source": [
    "## 검색과 관련한 메소드: `count()`, `find()`, `rfind()`, `index()`, `rindex()`\n",
    "\n",
    "```python\n",
    "string.find(검색문자열, start=검색시작위치 end=검색종료할위치 )\n",
    "string.count(검색문자열, start=검색시작위치 end=검색종료할위치)\n",
    "string.index(검색문자열, start=검색시작위치 end=검색종료할위치 )\n",
    "string.rfind(검색문자열, start=검색시작위치 end=검색종료할위치 )\n",
    "string.rindex(검색문자열, start=검색시작위치 end=검색종료할위치 )\n",
    "```\n",
    "\n",
    "`find()`메소드는 문자열에서 `start`와 `end` 사이를 검색하여 특정 문자열이 처음으로 나타나는 위치의 인덱스를 반환한다.\n",
    "만약 검색 문자열이 문자열 내에 없으면 -1을 반환한다.\n",
    "검색을 시작할 위치 `start`와 종료할 위치 `end`는 인덱스로 지정하며, 만약 이들을 지정하지 않으면 처음부터 마지막까지 모두 검색한다.\n",
    "`rfind()` 메소드는 검색 문자열이 마지막으로 나타나는 곳의 인덱스를 반환하며, `count()` 메소드는 검색 문자열이 나타나는 횟수를 반환하고, `index()`메소드는 `find()` 메소드와 같이 검색 문자열이 처음 나타나는 위치를 인덱스로 반환하지만 검색 문자열이 없으면 오류를 발생시킨다.\n",
    "`rindex()`메소드와 `rfind()` 메소드의 관계도 이와 같다."
   ]
  },
  {
   "cell_type": "code",
   "execution_count": 27,
   "metadata": {},
   "outputs": [
    {
     "name": "stdout",
     "output_type": "stream",
     "text": [
      "11\n",
      "let it\n",
      "-1\n",
      "Contains be, \n"
     ]
    }
   ],
   "source": [
    "quote = 'Let it be, let it be, let it be'\n",
    "key = 'let it'\n",
    "idx = quote.find(key)\n",
    "print(idx)\n",
    "print(quote[idx:(idx+len(key))])\n",
    "\n",
    "idx = quote.find('small')\n",
    "print(idx)\n",
    "\n",
    "key = 'be, '\n",
    "if (quote.find('be,') != -1):\n",
    "  print(\"Contains \" + key)\n",
    "else:\n",
    "  print(\"Doesn't contain \" + key)"
   ]
  },
  {
   "cell_type": "code",
   "execution_count": 28,
   "metadata": {},
   "outputs": [
    {
     "name": "stdout",
     "output_type": "stream",
     "text": [
      "2\n",
      "1\n"
     ]
    }
   ],
   "source": [
    "string = \"Python is awesome, isn't it?\"\n",
    "search_string = \"is\"\n",
    "count = string.count(search_string)\n",
    "print(count)\n",
    "count = string.count(search_string, 10)\n",
    "print(count)"
   ]
  },
  {
   "cell_type": "markdown",
   "metadata": {},
   "source": [
    "### 문자열 결합과 분리를 위한 메소드: `join()`, `split()`, `rsplit()`\n",
    "\n",
    "```python\n",
    "연결문자열.join(자료구조)\n",
    "문자열.split(구분문자열)\n",
    "```\n",
    "\n",
    "`join()` 메소드는 자료구조에 저장된 문자열을 연결하여 하나의 문자열을 만들어 준다.\n",
    "이때 각 문자열 사이에 구분 문자열을 삽입해준다.\n",
    "`split()` 메소드는 문자열에 구분 문자열이 나타날 때마다 잘라서 만든 부분 문자열의 리스트를 반환한다."
   ]
  },
  {
   "cell_type": "code",
   "execution_count": 29,
   "metadata": {},
   "outputs": [
    {
     "name": "stdout",
     "output_type": "stream",
     "text": [
      "['23일(현지 시각) 아랍에미리트(UAE) 수도 아부다비의 한 교민은', '\"바라카 원전에 대해서 할 말은 많은데 할 수가 없다\"고 했다.', '그는 \"UAE 교민 대부분이 공기업인 한국전력공사가 수주한 원전과 연계된 사업을 하고 있어', '대사관 눈치를 보지 않을 수 없다\"면서 서둘러 전화를 끊었다.', '두바이 거주 한 교민은 이날 본지 전화 통화에서', '\"며칠 전 교민 사회에 \\'기자가 UAE에 취재하러 왔으니 입조심하라\\'는', '말이 카카오톡 등을 통해 확 퍼졌다\"면서', '\"다른 교민에게 전화해도 별 얘기는 못 들을 것\"이라고 했다.', '']\n",
      "23일(현지 시각) 아랍에미리트(UAE) 수도 아부다비의 한 교민은***\"바라카 원전에 대해서 할 말은 많은데 할 수가 없다\"고 했다.***그는 \"UAE 교민 대부분이 공기업인 한국전력공사가 수주한 원전과 연계된 사업을 하고 있어***대사관 눈치를 보지 않을 수 없다\"면서 서둘러 전화를 끊었다.***두바이 거주 한 교민은 이날 본지 전화 통화에서***\"며칠 전 교민 사회에 '기자가 UAE에 취재하러 왔으니 입조심하라'는***말이 카카오톡 등을 통해 확 퍼졌다\"면서***\"다른 교민에게 전화해도 별 얘기는 못 들을 것\"이라고 했다.***\n"
     ]
    }
   ],
   "source": [
    "news = \"\"\"23일(현지 시각) 아랍에미리트(UAE) 수도 아부다비의 한 교민은\n",
    "\"바라카 원전에 대해서 할 말은 많은데 할 수가 없다\"고 했다.\n",
    "그는 \"UAE 교민 대부분이 공기업인 한국전력공사가 수주한 원전과 연계된 사업을 하고 있어\n",
    "대사관 눈치를 보지 않을 수 없다\"면서 서둘러 전화를 끊었다.\n",
    "두바이 거주 한 교민은 이날 본지 전화 통화에서\n",
    "\"며칠 전 교민 사회에 '기자가 UAE에 취재하러 왔으니 입조심하라'는\n",
    "말이 카카오톡 등을 통해 확 퍼졌다\"면서\n",
    "\"다른 교민에게 전화해도 별 얘기는 못 들을 것\"이라고 했다.\n",
    "\"\"\"\n",
    "sep = '\\n'\n",
    "lines = news.split(sep)\n",
    "print(lines)\n",
    "\n",
    "blank = '***'\n",
    "text = blank.join(lines)\n",
    "print(text)"
   ]
  },
  {
   "cell_type": "markdown",
   "metadata": {},
   "source": [
    "두 문자열의 합은 두 문자열을 연결하는 연산이다."
   ]
  },
  {
   "cell_type": "code",
   "execution_count": 30,
   "metadata": {},
   "outputs": [
    {
     "name": "stdout",
     "output_type": "stream",
     "text": [
      "Charles Darwin\n"
     ]
    }
   ],
   "source": [
    "first_name = 'Charles'\n",
    "last_name = \"Darwin\"\n",
    "name = first_name + \" \" + last_name\n",
    "print(name)"
   ]
  },
  {
   "cell_type": "markdown",
   "metadata": {},
   "source": [
    "## 클립보드\n",
    "\n",
    "프로그램 사이에 데이터를 주고 받으려면 두 프로그램이 공동으로 사용할 수 있는 메모리가 필요하다.\n",
    "이런 용도로 운영체제가 제공하는 것이 **클립보드**(clipboard)이다.\n",
    "한 프로그램이 데이터를 클립보드에 저장하면, 다른 프로그램이 클립보드에 저장된 데이터를 읽어가는 방법으로 두 프로그램이 통신할 수 있다.\n",
    "\n",
    "파이썬 프로그램이 클립보드와 통신하려면 이를 지원하는 `pyperclip` 모듈을 설치해야 한다.\n",
    "\n",
    "```python\n",
    "C:\\Users\\joongyang> conda install -c conda-forge pyperclip\n",
    "```\n",
    "\n",
    "이 모듈에 정의된 `copy()` 함수는 클리보드에서 데이터를 읽어 올 때 사용하고, `paste()` 함수는 클립보드에 데이터를 보낼 때 사용한다."
   ]
  },
  {
   "cell_type": "code",
   "execution_count": 32,
   "metadata": {},
   "outputs": [
    {
     "name": "stdout",
     "output_type": "stream",
     "text": [
      "여기는 파이썬, 응답하라.\n"
     ]
    }
   ],
   "source": [
    "import pyperclip\n",
    "pyperclip.copy('여기는 파이썬, 응답하라.')\n",
    "msg = pyperclip.paste()\n",
    "print(msg)"
   ]
  },
  {
   "cell_type": "markdown",
   "metadata": {},
   "source": [
    "## `string` 모듈\n",
    "\n",
    "`string` 모듈에는 자주 사용하는 문자열 상수가 정의되어 있다.\n",
    "다음은 이들 상수를 보여주는 예제 프로그램이다."
   ]
  },
  {
   "cell_type": "code",
   "execution_count": 33,
   "metadata": {},
   "outputs": [
    {
     "name": "stdout",
     "output_type": "stream",
     "text": [
      "abcdefghijklmnopqrstuvwxyz\n",
      "ABCDEFGHIJKLMNOPQRSTUVWXYZ\n",
      "abcdefghijklmnopqrstuvwxyzABCDEFGHIJKLMNOPQRSTUVWXYZ\n",
      "0123456789\n",
      "0123456789abcdefABCDEF\n",
      "01234567\n",
      "!\"#$%&'()*+,-./:;<=>?@[\\]^_`{|}~\n",
      " \t\n",
      "\r",
      "\u000b",
      "\f",
      "\n",
      "0123456789abcdefghijklmnopqrstuvwxyzABCDEFGHIJKLMNOPQRSTUVWXYZ!\"#$%&'()*+,-./:;<=>?@[\\]^_`{|}~ \t\n",
      "\r",
      "\u000b",
      "\f",
      "\n"
     ]
    }
   ],
   "source": [
    "import string\n",
    "print(string.ascii_lowercase)\n",
    "print(string.ascii_uppercase)\n",
    "print(string.ascii_letters)\n",
    "print(string.digits)\n",
    "print(string.hexdigits)\n",
    "print(string.octdigits)\n",
    "print(string.punctuation)\n",
    "print(string.whitespace)\n",
    "print(string.printable) # ascii_letter + digits + punctuation + whitespace"
   ]
  },
  {
   "cell_type": "markdown",
   "metadata": {},
   "source": [
    "## 연습문제\n",
    "\n",
    "1. 이스케이프 시퀀스는 무엇인가?\n",
    "2. 문자열에 들어 있는 \\를 그대로 출력하려면 어떻게 해야 하는가?\n",
    "3. 표현식` 'Hello world!'[1]`, `'Hello world!'[0:5]`, `'Hello world!'[:5]`, `'Hello world!'[3:]`의 결과는 무엇인가?\n",
    "4. 표현식 `'Hello'.upper()`, `'Hello'.upper().isupper()`, `'Hello'.upper().lower()`의 결과는 무엇인가?\n",
    "5. 표현식 `'Remember, remember, the fifth of November.'.split()`, `'-'.join('There can be only one.'.split())`의 결과는 무엇인가?\n",
    "6. 문자열 'spam and egg'에서 'spam egg'를 만들어보시오.\n",
    "7. 문자열 'first line\\nsecond line\\nthird line'에서 문자열 'first line:second line:third line'을 만들어보시오.\n",
    "8. 문자열 'first line\\nsecond line\\nthird line'에서 두 번째 줄 첫 번째 단어를 추출하시오.\n",
    "9. 문자열의 `replace()` 메소드에 대해서 알아보시오.\n",
    "10. 문자열 'somewhere on the rainbow'에서 'somewhere over the rainbow'를 만드시오.\n",
    "11. 문자열 'sometimes, I feel like a motherless child.'에서 마침표를 제거한 문자열을 구하시오.\n",
    "12. 주어진 문자열에 포함된 줄바꿈문자(\\n)의 개수를 세는 함수를 작성하고 호출해보시오.\n",
    "13. 문자열 '/usr/local/bin/python/hello.py'는 리눅스 운영체제에서 `hello.py` 파일의 절대경로이다. 디렉토리에 대한 경로와 파일으로 분리해보시오.\n",
    "14. `rsplit()` 메소드와 maxsplit 인자에 대해 알아보시오. 앞 문제를 다시 푸시오.\n",
    "15. 웹 브라우저에서 신문기사 일부를 클립보드에 복사하고, 파이썬 프로그램에서 신문기사를 읽어 들여 변수 news에 저장하시오. 그리고 news에 저장된 신문기사에 \\r\\n이 이 있는지 검사하고 있으면 전부 \\n으로  대체하시오.\n",
    "16. `format()` 메소드에 대해서 알아보시오.\n",
    "17. 문자열 `s=\"Hello World!\"`에서 \"!World Hello\"를 만들어 보시오.\n",
    "18. 웹 문서도 기본적으로 텍스트 파일이다.\n",
    "다음은 `requests` 모듈을 이용해서 웹 문서를 읽어오는 예이다.\n",
    "`requests` 모듈의 `get()` 함수로 웹 문서를 읽어오면 `Response` 자료형의 객체가 생성된다.\n",
    "`Response` 객체의 `text` 속성에 웹 문서의 문서가 저장되어 있다.\n",
    "`Response` 객체의 여러 메소드를 이용하여 웹 문서에서 필요한 정보만 추출할 수 있다. \n",
    "```python\n",
    "import requets\n",
    "html = requets.get('https://www.python.org/')\n",
    "print(type(html))\n",
    "print(html.text)\n",
    "```"
   ]
  }
 ],
 "metadata": {
  "anaconda-cloud": {},
  "kernelspec": {
   "display_name": "Python 3",
   "language": "python",
   "name": "python3"
  },
  "language_info": {
   "codemirror_mode": {
    "name": "ipython",
    "version": 3
   },
   "file_extension": ".py",
   "mimetype": "text/x-python",
   "name": "python",
   "nbconvert_exporter": "python",
   "pygments_lexer": "ipython3",
   "version": "3.6.5"
  },
  "latex_envs": {
   "LaTeX_envs_menu_present": true,
   "autoclose": false,
   "autocomplete": true,
   "bibliofile": "biblio.bib",
   "cite_by": "apalike",
   "current_citInitial": 1,
   "eqLabelWithNumbers": true,
   "eqNumInitial": 1,
   "hotkeys": {
    "equation": "Ctrl-E",
    "itemize": "Ctrl-I"
   },
   "labels_anchors": false,
   "latex_user_defs": false,
   "report_style_numbering": false,
   "user_envs_cfg": false
  }
 },
 "nbformat": 4,
 "nbformat_minor": 2
}
