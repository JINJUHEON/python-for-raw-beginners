{
 "cells": [
  {
   "cell_type": "markdown",
   "metadata": {},
   "source": [
    "# 자료구조: 사전\n",
    "\n",
    "리스트, 튜플, 문자열은 여러 개의 값을 순서대로 저장하는 자료구조이다.\n",
    "(문자열에 대해서는 뒤에 설명할 예정이다.)\n",
    "따라서 인덱스를 이용해서 저장된 값에 접근한다.\n",
    "\n",
    "이와 달리 사전(dict, dictionary)은 값이 저장된 순서에 아무런 의미를 두지 않는다.\n",
    "사전은 값을 저장할 때 이 값에 접근하기 위해 인덱스 대신 사용할 것을 같이 저장하는 자료구조이다.\n",
    "값에 접근하기 위해 것을 **키**(key)라고 한다.\n",
    "사전은 인덱스 대신 키로 값에 접근하는 자료구조라고 할 수 있다."
   ]
  },
  {
   "cell_type": "markdown",
   "metadata": {},
   "source": [
    "## 사전의 생성\n",
    "\n",
    "사전을 생성할 때는 쉼표로 구분한 `키:값`의 목록을 `{}`로 감싸면 된다."
   ]
  },
  {
   "cell_type": "code",
   "execution_count": 1,
   "metadata": {},
   "outputs": [
    {
     "name": "stdout",
     "output_type": "stream",
     "text": [
      "<class 'dict'>\n",
      "{'name': 'Joongyang Park', 'height': 185, 'weight': 77}\n"
     ]
    }
   ],
   "source": [
    "heam = {'name': 'Joongyang Park', 'height':185, 'weight':77}\n",
    "print(type(heam))\n",
    "print(heam)"
   ]
  },
  {
   "cell_type": "markdown",
   "metadata": {},
   "source": [
    "## 값에 접근하기\n",
    "\n",
    "사전에 저장된 값을 이용하기 위해서는 `[]` 연산자에 인덱스 대신 키를 준다."
   ]
  },
  {
   "cell_type": "code",
   "execution_count": 2,
   "metadata": {},
   "outputs": [
    {
     "name": "stdout",
     "output_type": "stream",
     "text": [
      "Joongyang Park\n",
      "185\n"
     ]
    }
   ],
   "source": [
    "print(heam['name'])\n",
    "print(heam['height'])"
   ]
  },
  {
   "cell_type": "markdown",
   "metadata": {},
   "source": [
    "키를 이용하여 값을 변경할 수도 있다."
   ]
  },
  {
   "cell_type": "code",
   "execution_count": 3,
   "metadata": {},
   "outputs": [
    {
     "name": "stdout",
     "output_type": "stream",
     "text": [
      "{'name': 'Joongyang Park', 'height': 185, 'weight': 77}\n",
      "{'name': 'Joongyang Park', 'height': 184.5, 'weight': 77.5}\n"
     ]
    }
   ],
   "source": [
    "print(heam)\n",
    "heam['height'] = 184.5\n",
    "heam['weight'] = 77.5\n",
    "print(heam)"
   ]
  },
  {
   "cell_type": "markdown",
   "metadata": {},
   "source": [
    "따라서 사전 객체를 이용하기 위해서는 어떤 키가 있는지 알아야 한다.\n",
    "이를 위해 사전 자료구조는 `keys()` 메소드를 제공한다."
   ]
  },
  {
   "cell_type": "code",
   "execution_count": 4,
   "metadata": {},
   "outputs": [
    {
     "data": {
      "text/plain": [
       "dict_keys(['name', 'height', 'weight'])"
      ]
     },
     "execution_count": 4,
     "metadata": {},
     "output_type": "execute_result"
    }
   ],
   "source": [
    "heam.keys()"
   ]
  },
  {
   "cell_type": "markdown",
   "metadata": {},
   "source": [
    "## 새로운 키와 값 추가하기\n",
    "\n",
    "`[]` 연산자를 이용하여 새로운 키와 값 쌍을 추가할 수 있다."
   ]
  },
  {
   "cell_type": "code",
   "execution_count": 5,
   "metadata": {},
   "outputs": [
    {
     "name": "stdout",
     "output_type": "stream",
     "text": [
      "{'name': 'Joongyang Park', 'height': 184.5, 'weight': 77.5, 'hair': 'grey'}\n"
     ]
    }
   ],
   "source": [
    "heam['hair'] = 'grey'\n",
    "print(heam)"
   ]
  },
  {
   "cell_type": "markdown",
   "metadata": {},
   "source": [
    "키와 함께 저장할 값이 자료구조 객체가 될 수도 있다."
   ]
  },
  {
   "cell_type": "code",
   "execution_count": 6,
   "metadata": {},
   "outputs": [
    {
     "name": "stdout",
     "output_type": "stream",
     "text": [
      "{'gender': ['M', 'M', 'F', 'F', 'F', 'F', 'M', 'F', 'F', 'M', 'F', 'F', 'M', 'F', 'F', 'F', 'F', 'M', 'M'], 'weight': [62.0, 62.9, 36.1, 54.6, 48.5, 42.0, 47.4, 50.6, 42.0, 48.7, 40.3, 33.1, 51.9, 42.4, 34.5, 51.1, 41.2, 51.9, 46.9], 'rate': [1792, 1666, 995, 1425, 1396, 1418, 1362, 1502, 1256, 1614, 1189, 913, 1460, 1124, 1052, 1347, 1204, 1867, 1439]}\n"
     ]
    }
   ],
   "source": [
    "gender = ['M']*2 + ['F']*4 + ['M'] + ['F']*2 + ['M'] + \\\n",
    "        ['F']*2 + ['M'] + ['F']*4 + ['M']*2\n",
    "weight = [62.0, 62.9, 36.1, 54.6, 48.5, 42.0, 47.4, \\\n",
    "          50.6, 42.0, 48.7, 40.3, 33.1, 51.9, 42.4, \\\n",
    "          34.5, 51.1, 41.2, 51.9, 46.9]\n",
    "metabolic_rate = [1792, 1666, 995, 1425, 1396, 1418, 1362, 1502,\\\n",
    "        1256, 1614, 1189, 913, 1460, 1124, 1052, 1347,\\\n",
    "        1204, 1867, 1439]\n",
    "meta = {'gender':gender, 'weight':weight, 'rate':metabolic_rate}\n",
    "print(meta)"
   ]
  },
  {
   "cell_type": "code",
   "execution_count": 7,
   "metadata": {},
   "outputs": [
    {
     "name": "stdout",
     "output_type": "stream",
     "text": [
      "[1792, 1666, 995, 1425, 1396]\n"
     ]
    }
   ],
   "source": [
    "print(meta['rate'][:5])"
   ]
  },
  {
   "cell_type": "markdown",
   "metadata": {},
   "source": [
    "## 사전의 메소드\n",
    "\n",
    "반복문에서 유용하게 사용되는 메소드로 `keys()`, `values()`, `items()`가 있다.\n",
    "앞에서 소개한 바와 같이 `keys()`는 키의 목록을 주는 메소드이고, `values()`는 값의 목록을 주는 메소드이며, `items()`는 (키, 값) 튜플의 목록을 주는 메소드이다."
   ]
  },
  {
   "cell_type": "code",
   "execution_count": 8,
   "metadata": {},
   "outputs": [
    {
     "name": "stdout",
     "output_type": "stream",
     "text": [
      "dict_keys(['name', 'height', 'weight', 'hair'])\n",
      "dict_values(['Joongyang Park', 184.5, 77.5, 'grey'])\n",
      "dict_items([('name', 'Joongyang Park'), ('height', 184.5), ('weight', 77.5), ('hair', 'grey')])\n"
     ]
    }
   ],
   "source": [
    "print(heam.keys())\n",
    "print(heam.values())\n",
    "print(heam.items())"
   ]
  },
  {
   "cell_type": "code",
   "execution_count": 9,
   "metadata": {},
   "outputs": [
    {
     "name": "stdout",
     "output_type": "stream",
     "text": [
      "name\n",
      "height\n",
      "weight\n",
      "hair\n"
     ]
    }
   ],
   "source": [
    "for key in heam.keys():\n",
    "    print(key)"
   ]
  },
  {
   "cell_type": "code",
   "execution_count": 10,
   "metadata": {},
   "outputs": [
    {
     "name": "stdout",
     "output_type": "stream",
     "text": [
      "Joongyang Park\n",
      "184.5\n",
      "77.5\n",
      "grey\n"
     ]
    }
   ],
   "source": [
    "for value in heam.values():\n",
    "    print(value)"
   ]
  },
  {
   "cell_type": "code",
   "execution_count": 11,
   "metadata": {},
   "outputs": [
    {
     "name": "stdout",
     "output_type": "stream",
     "text": [
      "name :  Joongyang Park\n",
      "height :  184.5\n",
      "weight :  77.5\n",
      "hair :  grey\n"
     ]
    }
   ],
   "source": [
    "for key, value in heam.items():\n",
    "    print(key, ': ', value)"
   ]
  },
  {
   "cell_type": "markdown",
   "metadata": {},
   "source": [
    "## `zip()` 함수\n",
    "\n",
    "내장함수 `zip()`에 2개 이상의 자료구조 객체를 인자로 주면 각 자료구조 객체에 저장된 값을 순서대로 하나씩 결합한 튜플들이 저장된 자료구조를 얻을 수 있다."
   ]
  },
  {
   "cell_type": "code",
   "execution_count": 12,
   "metadata": {
    "collapsed": true
   },
   "outputs": [],
   "source": [
    "keys = ['name', 'height', 'weigt', 'hair']\n",
    "values = ['Joongyang Park', 184.5, 77.5, 'grey']"
   ]
  },
  {
   "cell_type": "code",
   "execution_count": 13,
   "metadata": {},
   "outputs": [
    {
     "name": "stdout",
     "output_type": "stream",
     "text": [
      "('name', 'Joongyang Park')\n",
      "('height', 184.5)\n",
      "('weigt', 77.5)\n",
      "('hair', 'grey')\n"
     ]
    }
   ],
   "source": [
    "for s in zip(keys, values):\n",
    "    print(s)"
   ]
  },
  {
   "cell_type": "code",
   "execution_count": 14,
   "metadata": {},
   "outputs": [
    {
     "name": "stdout",
     "output_type": "stream",
     "text": [
      "name :  Joongyang Park\n",
      "height :  184.5\n",
      "weigt :  77.5\n",
      "hair :  grey\n"
     ]
    }
   ],
   "source": [
    "for key, value in zip(keys, values):\n",
    "    print(key, ': ', value)"
   ]
  },
  {
   "cell_type": "markdown",
   "metadata": {},
   "source": [
    "## Comprehension의 활용\n",
    "\n",
    "사전 자료구조에 대해서도 comprehension을 사용할 수 있다."
   ]
  },
  {
   "cell_type": "code",
   "execution_count": 15,
   "metadata": {},
   "outputs": [
    {
     "name": "stdout",
     "output_type": "stream",
     "text": [
      "{'name': 'Joongyang Park', 'height': 184.5, 'weigt': 77.5, 'hair': 'grey'}\n"
     ]
    }
   ],
   "source": [
    "heam = {key:value for key, value in zip(keys, values)}\n",
    "print(heam)"
   ]
  },
  {
   "cell_type": "markdown",
   "metadata": {},
   "source": [
    "키와 값이 바뀐 딕셔너리를 생성할 때도 comprehension은 유용하다."
   ]
  },
  {
   "cell_type": "code",
   "execution_count": 16,
   "metadata": {},
   "outputs": [
    {
     "name": "stdout",
     "output_type": "stream",
     "text": [
      "{'Joongyang Park': 'name', 184.5: 'height', 77.5: 'weigt', 'grey': 'hair'}\n"
     ]
    }
   ],
   "source": [
    "heam_inv = {v:k for k, v in heam.items()}\n",
    "print(heam_inv)"
   ]
  },
  {
   "cell_type": "markdown",
   "metadata": {},
   "source": [
    "## 연습문제\n",
    "\n",
    "1. 다음 `if` 문장을 대신할 수 있는 코드를 사전을 이용해서 작성해보시오.\n",
    "```python\n",
    "if choice == 'ramyon`:\n",
    "    price = 3000\n",
    "elif choice == 'gimbab':\n",
    "    price = 2500\n",
    "elif choice = 'soondae':\n",
    "    price = 5000\n",
    "else:\n",
    "    price = 0\n",
    "```"
   ]
  }
 ],
 "metadata": {
  "anaconda-cloud": {},
  "kernelspec": {
   "display_name": "Python [default]",
   "language": "python",
   "name": "python3"
  },
  "language_info": {
   "codemirror_mode": {
    "name": "ipython",
    "version": 3
   },
   "file_extension": ".py",
   "mimetype": "text/x-python",
   "name": "python",
   "nbconvert_exporter": "python",
   "pygments_lexer": "ipython3",
   "version": "3.6.3"
  }
 },
 "nbformat": 4,
 "nbformat_minor": 2
}
