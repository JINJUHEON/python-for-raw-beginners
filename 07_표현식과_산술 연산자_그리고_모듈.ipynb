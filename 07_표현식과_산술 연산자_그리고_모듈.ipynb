{
 "cells": [
  {
   "cell_type": "markdown",
   "metadata": {},
   "source": [
    "# 표현식과 산술 연산자 그리고 `math` 모듈"
   ]
  },
  {
   "cell_type": "markdown",
   "metadata": {},
   "source": [
    "## 표현식"
   ]
  },
  {
   "cell_type": "markdown",
   "metadata": {},
   "source": [
    "변수에 저장할 값을 계산해야 한다면 값을 계산하는 식을 대입 연산자 오른쪽에 써주면 된다.\n",
    "계산한 결과가 하나의 값이 되는 이런 식을 **표현식**(expression)이라 하는데, **표현식은 값, 변수, 연산자 등으로 구성된다**.\n",
    "수학 시간에 **수식**이라고 하는 것과 거의 같다고 생각하면 된다.\n",
    "하지만 프로그래밍에서 표현식이라고 하는 이유는 식을 계산한 결과가 수치가 아닐 수도 있기 때문이다."
   ]
  },
  {
   "cell_type": "markdown",
   "metadata": {},
   "source": [
    "프로그램은 수치 뿐만 아니라 문자열이나 논리값 등도 처리하므로 사칙 연산을 위한 **산술 연산자**(arithmatic operator) 외에도 **비교 연산자**(comparison operator), **논리 연산자**(logical operator) 등과 같은 연산자가 표현식에 사용된다."
   ]
  },
  {
   "cell_type": "markdown",
   "metadata": {},
   "source": [
    "## 산술 연산자"
   ]
  },
  {
   "cell_type": "markdown",
   "metadata": {},
   "source": [
    "산술 연산자는 수치의 연산에 사용되는 연산자로 `+`, `-`, `*`, `/`, `//`, `%`, `**` 등이 있다.\n",
    "이들 연산자는 순서대로 덧셈, 뺄셈, 곱셈, 나눗셈, 나눗셈에서 몫 구하기, 나눗셈에서 나머지 구하기, 거듭제곱을 수행하는 연산자들이다."
   ]
  },
  {
   "cell_type": "markdown",
   "metadata": {},
   "source": [
    "다음은 원의 면적과 둘레를 계산한 다음 출력하는 프로그램이다.\n",
    "표현식에 변수가 들어 있으면 변수에 저장된 값으로 대체한 다음 표현식을 평가한다."
   ]
  },
  {
   "cell_type": "code",
   "execution_count": 1,
   "metadata": {},
   "outputs": [
    {
     "name": "stdout",
     "output_type": "stream",
     "text": [
      "78.5398\n"
     ]
    }
   ],
   "source": [
    "radius = 5.\n",
    "pi = 3.141592\n",
    "area = pi * radius ** 2\n",
    "print(area)"
   ]
  },
  {
   "cell_type": "code",
   "execution_count": 2,
   "metadata": {},
   "outputs": [
    {
     "name": "stdout",
     "output_type": "stream",
     "text": [
      "31.41592\n"
     ]
    }
   ],
   "source": [
    "circumference = 2 * pi * radius\n",
    "print(circumference)"
   ]
  },
  {
   "cell_type": "markdown",
   "metadata": {},
   "source": [
    "프로그래밍을 처음 배우는 사람들이 익숙해져야 하는 산술 연산자는 `%`, `//`이다.\n",
    "이들은 각각 나머지와 몫을 계산하는 연산자이다.\n",
    "다음은 앞에서 구한 원의 둘레를 반지름으로 나누었을 때의 몫과 나머지를 구하는 예제이다."
   ]
  },
  {
   "cell_type": "code",
   "execution_count": 3,
   "metadata": {},
   "outputs": [
    {
     "name": "stdout",
     "output_type": "stream",
     "text": [
      "6.0\n",
      "1.4159199999999998\n"
     ]
    }
   ],
   "source": [
    "quotient = circumference // radius\n",
    "remainder = circumference % radius\n",
    "print(quotient)\n",
    "print(remainder)"
   ]
  },
  {
   "cell_type": "markdown",
   "metadata": {},
   "source": [
    "사실 원주율과 같은 중요하고 자주 사용하는 상수를 저장하고 있는 변수는 이미 만들어 놓았기 때문에 우리가 만들 필요가 없다.\n",
    "예를 들어 원주율은 ``math``라는 **모듈**(module)에 ``pi``라는 이름의 변수에 저장되어 있으므로 위에서 계산한 원의 둘레와 면적을 구하는 프로그램은 다음과 같이 작성할 수 있다."
   ]
  },
  {
   "cell_type": "code",
   "execution_count": 2,
   "metadata": {},
   "outputs": [
    {
     "ename": "NameError",
     "evalue": "name 'radius' is not defined",
     "output_type": "error",
     "traceback": [
      "\u001b[1;31m---------------------------------------------------------------------------\u001b[0m",
      "\u001b[1;31mNameError\u001b[0m                                 Traceback (most recent call last)",
      "\u001b[1;32m<ipython-input-2-3f7dce6dbe1e>\u001b[0m in \u001b[0;36m<module>\u001b[1;34m()\u001b[0m\n\u001b[0;32m      1\u001b[0m \u001b[1;32mimport\u001b[0m \u001b[0mmath\u001b[0m\u001b[1;33m\u001b[0m\u001b[0m\n\u001b[1;32m----> 2\u001b[1;33m \u001b[0marea\u001b[0m \u001b[1;33m=\u001b[0m \u001b[0mmath\u001b[0m\u001b[1;33m.\u001b[0m\u001b[0mpi\u001b[0m \u001b[1;33m*\u001b[0m \u001b[0mradius\u001b[0m \u001b[1;33m**\u001b[0m \u001b[1;36m2\u001b[0m\u001b[1;33m\u001b[0m\u001b[0m\n\u001b[0m\u001b[0;32m      3\u001b[0m \u001b[0mcircumference\u001b[0m \u001b[1;33m=\u001b[0m \u001b[1;36m2\u001b[0m \u001b[1;33m*\u001b[0m \u001b[0mmath\u001b[0m\u001b[1;33m.\u001b[0m\u001b[0mpi\u001b[0m \u001b[1;33m*\u001b[0m \u001b[0mradius\u001b[0m\u001b[1;33m\u001b[0m\u001b[0m\n\u001b[0;32m      4\u001b[0m \u001b[0mprint\u001b[0m\u001b[1;33m(\u001b[0m\u001b[0marea\u001b[0m\u001b[1;33m)\u001b[0m\u001b[1;33m\u001b[0m\u001b[0m\n\u001b[0;32m      5\u001b[0m \u001b[0mprint\u001b[0m\u001b[1;33m(\u001b[0m\u001b[0mcircumference\u001b[0m\u001b[1;33m)\u001b[0m\u001b[1;33m\u001b[0m\u001b[0m\n",
      "\u001b[1;31mNameError\u001b[0m: name 'radius' is not defined"
     ]
    }
   ],
   "source": [
    "import math\n",
    "area = math.pi * radius ** 2\n",
    "circumference = 2 * math.pi * radius\n",
    "print(area)\n",
    "print(circumference)"
   ]
  },
  {
   "cell_type": "markdown",
   "metadata": {},
   "source": [
    "위 예에서 보듯이 특정 모듈에 정의된 상수나 함수를 사용할 때는 모듈을 `import` 해야 하고, 상수나 함수 이름 앞에 반드시 모듈 이름과 마침표를 붙여야 한다.\n",
    "이런 방법으로 어떤 모듈에 정의된 상수나 함수인지 지정한다."
   ]
  },
  {
   "cell_type": "markdown",
   "metadata": {},
   "source": [
    "## 모듈"
   ]
  },
  {
   "cell_type": "markdown",
   "metadata": {},
   "source": [
    "프로그램을 작성할 때 필요한 모든 것을 프로그래밍 언어에 내장할 필요는 없다.\n",
    "대부분의 프로그램은 이들의 일부만 이용하여 작성되기 때문이다.\n",
    "따라서 프로그램 작성에 필요한 것을 별도의 파일에 저장해두고 필요할 때 이용할 수 있게 하는 것이 더 효율적인 방법이다.\n",
    "이런 파일을 **모듈**이라고 한다."
   ]
  },
  {
   "cell_type": "markdown",
   "metadata": {},
   "source": [
    "다시 말하면 모듈은 미리 작성해 놓은 프로그램이 저장된 파일을 말한다.\n",
    "일반적으로 하나의 모듈에 여러 개의 함수와 변수가 작성되어 있다.\n",
    "모듈에 작성되어 있는 함수를 실행시키려면 모듈을 한 번 실행해야 한다.\n",
    "특정 모듈에 저장된 프로그램을 한 번 실행하는 문장이 바로 ``import`` 문장이다.\n",
    "이를 보통 모듈을 **적재**(load)한다고 표현한다."
   ]
  },
  {
   "cell_type": "markdown",
   "metadata": {},
   "source": [
    "### `math` 모듈"
   ]
  },
  {
   "cell_type": "markdown",
   "metadata": {},
   "source": [
    "위에서 언급한 ``math`` 모듈에는 수학적 계산에 필요한 상수와 함수를 포함하고 있다.\n",
    "따라서 수학적 계산을 하는 프로그램을 작성할 때는 ``math`` 모듈에 이미 만들어 놓은 것을 이용하는 것이 좋다."
   ]
  },
  {
   "cell_type": "markdown",
   "metadata": {},
   "source": [
    "`math` 모듈에는 `pi`, `e`, `inf`, `nan`와 같은 상수 뿐만 아니라 계승, 제곱근, 로그 함수, 지수 함수, 삼각 함수, 쌍곡선 함수 등과 같은 기본적인 수학 함수가 정의되어 있으므로 `math` 모듈을 이용한 수학적 계산에 익숙해져야 한다.\n",
    "`math` 모듈에 정의된 상수와 함수에 대한 자세한 내용은 [math 모듈 문서](https://docs.python.org/3/library/math.html)를 참조해야 한다."
   ]
  },
  {
   "cell_type": "code",
   "execution_count": 5,
   "metadata": {},
   "outputs": [
    {
     "name": "stdout",
     "output_type": "stream",
     "text": [
      "2.718281828459045\n",
      "inf -inf\n",
      "nan\n"
     ]
    }
   ],
   "source": [
    "print(math.e)\n",
    "print(math.inf, -math.inf)\n",
    "print(math.nan)"
   ]
  },
  {
   "cell_type": "markdown",
   "metadata": {},
   "source": [
    "$\\theta = 2$, $x=1.5$일 때 함수 $f(x) = \\theta e^{-\\theta x}$의 값은 다음과 같이 구할 수 있다."
   ]
  },
  {
   "cell_type": "code",
   "execution_count": 3,
   "metadata": {},
   "outputs": [
    {
     "name": "stdout",
     "output_type": "stream",
     "text": [
      "0.09957413673572789\n"
     ]
    }
   ],
   "source": [
    "theta = 2. \n",
    "x = 1.5\n",
    "fx = theta * math.exp(-theta * x)\n",
    "print(fx)"
   ]
  },
  {
   "cell_type": "markdown",
   "metadata": {},
   "source": [
    "$\\mu=100$, $\\sigma=15$, $x=120$일 때 함수 $f(x) = \\frac{1}{\\sqrt{2\\pi} \\sigma} e^{-\\frac{(x-\\mu)^2}{2\\sigma^2}}$의 값은 다음과 같이 계산할 수 있다."
   ]
  },
  {
   "cell_type": "code",
   "execution_count": 7,
   "metadata": {},
   "outputs": [
    {
     "name": "stdout",
     "output_type": "stream",
     "text": [
      "0.010934004978399576\n"
     ]
    }
   ],
   "source": [
    "mu = 100\n",
    "sigma = 15\n",
    "x = 120\n",
    "fx = math.exp(-(x-mu)**2/(2*sigma**2))/(math.sqrt(2*math.pi)*sigma)\n",
    "print(fx)"
   ]
  },
  {
   "cell_type": "markdown",
   "metadata": {},
   "source": [
    "### `os` 모듈"
   ]
  },
  {
   "cell_type": "markdown",
   "metadata": {},
   "source": [
    "파이썬 프로그램 내에서도 파일 탐색기 또는 명령 프롬프트에서 수행하던 작업을 할 수 있어야 한다.\n",
    "그러니까 작업 디렉토리를 이동하거나, 현재 위치한 디렉토리를 확인하거나, 디렉토리를 생성 또는 삭제하거나, 파일을 생성하고 삭제하거나, 파일을 읽는 등의 작업을 프로그램 할 수 있어야 한다.\n",
    "이런 일을 하는데 필요한 함수나 **클래스**(class)를 정의해놓은 모듈이 ``os`` 모듈이다.\n",
    "``os`` 모듈에 관한 자세한 사항은 [os 모듈 문서](https://docs.python.org/3/library/os.html)에서 얻을 수 있다."
   ]
  },
  {
   "cell_type": "markdown",
   "metadata": {},
   "source": [
    "다음은 ``os`` 모듈에 정의된 ``getcwd()``, ``chdir()`` 함수를 사용하는 예이다\n",
    "``getcwd()``는 현재의 작업 디렉토리를 알려주고, ``chdir()`` 함수는 작업 디렉토리를 변경하는 함수이다."
   ]
  },
  {
   "cell_type": "code",
   "execution_count": 8,
   "metadata": {},
   "outputs": [
    {
     "name": "stdout",
     "output_type": "stream",
     "text": [
      "D:\\joongyang.park\\Google 드라이브\\Documents\\강의\\정보통계학실습_통계프로그래밍_with_python\\jupyter_notebooks\n",
      "D:\\joongyang.park\\Google 드라이브\\Documents\n",
      "D:\\joongyang.park\\Google 드라이브\\Documents\\강의\\정보통계학실습_통계프로그래밍_with_python\\jupyter_notebooks\n"
     ]
    }
   ],
   "source": [
    "import os\n",
    "print(os.getcwd())\n",
    "loc = os.getcwd()\n",
    "os.chdir('..\\..\\..') \n",
    "print(os.getcwd())\n",
    "os.chdir(loc)\n",
    "print(os.getcwd())"
   ]
  },
  {
   "cell_type": "markdown",
   "metadata": {},
   "source": [
    "### `imp` 모듈"
   ]
  },
  {
   "cell_type": "markdown",
   "metadata": {},
   "source": [
    "`import` 문장으로 적재한 모듈이 수정되었을 경우에는 강제로 다시 적재하여야 한다.\n",
    "물론 수정되지 않은 모듈도 다시 적재할 수 있다.\n",
    "`imp` 모듈의 `reload()` 함수로 이미 적재된 모듈을 다시 적재할 수 있다."
   ]
  },
  {
   "cell_type": "code",
   "execution_count": 9,
   "metadata": {},
   "outputs": [
    {
     "data": {
      "text/plain": [
       "<module 'math' (built-in)>"
      ]
     },
     "execution_count": 9,
     "metadata": {},
     "output_type": "execute_result"
    }
   ],
   "source": [
    "import imp\n",
    "imp.reload(math)"
   ]
  },
  {
   "cell_type": "markdown",
   "metadata": {},
   "source": [
    "### 패키지(package)와 모듈\n",
    "\n",
    "특정 분야의 프로그램을 작성하는데 필요한 것을 하나의 모듈에 담기 어려울 때는 여러 모듈에 나누는 것이 좋다.\n",
    "특정 분야를 위해 작성한 여러 모듈의 모음을 패키지라고 한다."
   ]
  },
  {
   "cell_type": "markdown",
   "metadata": {},
   "source": [
    "명령창에서 ``pip list`` 또는 ``conda list`` 명령을 실행하면 현재 사용하는 ``Anaconda`` 배포판에 설치된 패키지의 목록을 볼 수 있다."
   ]
  },
  {
   "cell_type": "markdown",
   "metadata": {},
   "source": [
    "## 연습문제"
   ]
  },
  {
   "cell_type": "markdown",
   "metadata": {},
   "source": [
    "1. 다음 문장의 실행 결과가 무엇인지 예상해보시오.\n",
    "```python\n",
    "a, b, c, d, e = 2.2, -3, 5.7, -7, 11.2\n",
    "print(a // b)\n",
    "print(b // d)\n",
    "print(2 + c * d // e)\n",
    "print(2 * a % -b + c)\n",
    "```\n",
    "1. 가로가 10.2cm, 세로가 5.72cm인 직사각형의 면적과 둘레를 계산해서 출력하는 프로그램을 작성하시오.\n",
    "2. 반지름이 3.6m이고 높이가 20m인 원기둥의 밑변의 넓이와 체적을 구해서 출력하는 프로그램을 작성하시오.\n",
    "3. 123456초가 몇 시간 몇 분 몇 초인지 계산하시오.\n",
    "4. $\\theta = 2$, $x=1.5$일 때 함수 $f(x) = 1 - e^{-\\theta x}$의 값을 계산하여 출력하시오.\n",
    "5. $n=20$, $p=0.3$, $x=8$일 때 $f(x) = \\binom{n}{x} p^x (1-p)^{n-x}$의 값을 계산하여 출력하시오.\n",
    "6. $\\alpha = 1.2$, $\\beta=2.5$, $x=0$일 때 함수 $p(x) = \\frac{1}{1 + e^{\\alpha + \\beta x}}$의 값을 계산하여 출력하시오.\n",
    "7. 앞 문제에서 계산한 $p(x)$를 이용하여 $\\log \\left( \\frac{p(x)}{1-p(x)} \\right)$를 계산하여 출력하시오.\n",
    "8. `math` 모듈에 정의된 무한대, 무리수 e를 위한 변수는 무엇인가?\n",
    "9. `math` 모듈에 정의된 `asin()`, `acos()`, `atan()`, `degrees()`, `radians()`, `factorial()`, `isfinite()`, `isinf()`, `isnan()` 함수들에 대해 알아보고 이들을 사용하는 예제를 작성하시오.\n",
    "10. `math` 모듈을 이용하여 밑수가 2인 로그나 밑수가 10인 로그를 계산하는 방법에 대해 알아보시오.\n",
    "11. `os` 모듈을 이용하여 디렉토리를 만들고 삭제하는 방법을 알아보시오.\n",
    "12. 해외 여행을 계힉하고 있다. 총 여행 경비를 계산하려면 어떤 정보가 필요한가? 정보를 수집하여 총 여행 경비를 계산해보시오."
   ]
  }
 ],
 "metadata": {
  "anaconda-cloud": {},
  "kernelspec": {
   "display_name": "Python 3",
   "language": "python",
   "name": "python3"
  },
  "language_info": {
   "codemirror_mode": {
    "name": "ipython",
    "version": 3
   },
   "file_extension": ".py",
   "mimetype": "text/x-python",
   "name": "python",
   "nbconvert_exporter": "python",
   "pygments_lexer": "ipython3",
   "version": "3.6.6"
  }
 },
 "nbformat": 4,
 "nbformat_minor": 2
}
