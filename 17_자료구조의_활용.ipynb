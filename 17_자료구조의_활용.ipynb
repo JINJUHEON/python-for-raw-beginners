{
 "cells": [
  {
   "cell_type": "markdown",
   "metadata": {},
   "source": [
    "* 리스트에 저장된 값 중에서 한 값을 랜덤하게 추출하는 예제 프로그램을 작성하시오."
   ]
  },
  {
   "cell_type": "code",
   "execution_count": 9,
   "metadata": {},
   "outputs": [
    {
     "name": "stdout",
     "output_type": "stream",
     "text": [
      "Black\n"
     ]
    }
   ],
   "source": [
    "import random\n",
    "colors = ['Red', 'Green', 'Black', 'Orange', 'Black']\n",
    "color = random.choice(colors)\n",
    "print(color)"
   ]
  },
  {
   "cell_type": "markdown",
   "metadata": {},
   "source": [
    "* 리스트에 저장된 값을 랜덤하게 섞는 예제 프로그램을 작성하시오."
   ]
  },
  {
   "cell_type": "code",
   "execution_count": 10,
   "metadata": {},
   "outputs": [
    {
     "name": "stdout",
     "output_type": "stream",
     "text": [
      "[1, 2, 3, 4, 5, 6, 7]\n",
      "[3, 2, 7, 4, 5, 1, 6]\n"
     ]
    }
   ],
   "source": [
    "numbers = [1, 2, 3, 4, 5, 6, 7]\n",
    "print(numbers)\n",
    "random.shuffle(numbers)\n",
    "print(numbers)"
   ]
  },
  {
   "cell_type": "markdown",
   "metadata": {},
   "source": [
    "* 리스트에 저장된 값의 합을 계산하는 예제 프로그램을 작성하시오."
   ]
  },
  {
   "cell_type": "code",
   "execution_count": 11,
   "metadata": {},
   "outputs": [
    {
     "name": "stdout",
     "output_type": "stream",
     "text": [
      "-5\n"
     ]
    }
   ],
   "source": [
    "data = [1, 2, -8]\n",
    "\n",
    "total = 0\n",
    "for x in data:\n",
    "    total += x\n",
    "print(total)"
   ]
  },
  {
   "cell_type": "code",
   "execution_count": 12,
   "metadata": {},
   "outputs": [
    {
     "name": "stdout",
     "output_type": "stream",
     "text": [
      "-5\n"
     ]
    }
   ],
   "source": [
    "total = sum(data)\n",
    "print(total)"
   ]
  },
  {
   "cell_type": "markdown",
   "metadata": {},
   "source": [
    "* 리스트에 저장된 값의 곱을 계산하는 예제 프로그램을 작성하시오."
   ]
  },
  {
   "cell_type": "code",
   "execution_count": 13,
   "metadata": {},
   "outputs": [
    {
     "name": "stdout",
     "output_type": "stream",
     "text": [
      "-21.296000000000006\n"
     ]
    }
   ],
   "source": [
    "data = [1.1, 2.2, -8.8]\n",
    "\n",
    "prod = 1\n",
    "for x in data:\n",
    "    prod *= x\n",
    "print(prod)"
   ]
  },
  {
   "cell_type": "markdown",
   "metadata": {},
   "source": [
    "* 리스트에 저장된 값의 최대값을 구하는 예제 프로그램을 작성하시오."
   ]
  },
  {
   "cell_type": "code",
   "execution_count": 14,
   "metadata": {},
   "outputs": [
    {
     "name": "stdout",
     "output_type": "stream",
     "text": [
      "2.2\n"
     ]
    }
   ],
   "source": [
    "import math\n",
    "\n",
    "data = [1.1, 2.2, -8.8]\n",
    "\n",
    "maxi = -math.inf\n",
    "for a in data:\n",
    "    if a > maxi:\n",
    "        maxi = a\n",
    "print(maxi)"
   ]
  },
  {
   "cell_type": "code",
   "execution_count": 15,
   "metadata": {},
   "outputs": [
    {
     "name": "stdout",
     "output_type": "stream",
     "text": [
      "2.2\n"
     ]
    }
   ],
   "source": [
    "maxi = max(data)\n",
    "print(maxi)"
   ]
  },
  {
   "cell_type": "markdown",
   "metadata": {},
   "source": [
    "* min() 함수를 사용하지 않고 리스트에 저장된 값의 최소값을 구하는 예제 프로그램을 작성하시오."
   ]
  },
  {
   "cell_type": "code",
   "execution_count": 16,
   "metadata": {},
   "outputs": [
    {
     "name": "stdout",
     "output_type": "stream",
     "text": [
      "-8.8\n"
     ]
    }
   ],
   "source": [
    "import math\n",
    "\n",
    "data = [1.1, 2.2, -8.8]\n",
    "\n",
    "mini = math.inf\n",
    "for a in data:\n",
    "    if a < mini:\n",
    "        mini = a\n",
    "print(mini)"
   ]
  },
  {
   "cell_type": "markdown",
   "metadata": {},
   "source": [
    "* 문자열이 저장된 리스트에서 길이가 2보다 큰 문자열의 수를 계산하는 예제 프로그램을 작성하시오."
   ]
  },
  {
   "cell_type": "code",
   "execution_count": 17,
   "metadata": {},
   "outputs": [
    {
     "name": "stdout",
     "output_type": "stream",
     "text": [
      "3\n"
     ]
    }
   ],
   "source": [
    "words = ['ab', 'xy', 'aba', '1221', 'aaazzz']\n",
    "\n",
    "cnt = 0\n",
    "for word in words:\n",
    "    if len(word) > 2:\n",
    "        cnt += 1\n",
    "\n",
    "print(cnt)"
   ]
  },
  {
   "cell_type": "code",
   "execution_count": 18,
   "metadata": {},
   "outputs": [
    {
     "name": "stdout",
     "output_type": "stream",
     "text": [
      "3\n"
     ]
    }
   ],
   "source": [
    "cnt = len([word for word in words if len(word) > 2 ])\n",
    "print(cnt)"
   ]
  },
  {
   "cell_type": "markdown",
   "metadata": {},
   "source": [
    "* 리스트에서 동일한 값을 제거한 리스트를 생성하는 예제 프로그램을 작성하시오."
   ]
  },
  {
   "cell_type": "code",
   "execution_count": 19,
   "metadata": {},
   "outputs": [
    {
     "name": "stdout",
     "output_type": "stream",
     "text": [
      "[40, 10, 80, 50, 20, 60, 30]\n"
     ]
    }
   ],
   "source": [
    "a = [10, 20, 30, 20, 10, 50, 60, 40, 80, 50, 40]\n",
    "\n",
    "unique_values = list(set(a))\n",
    "print(unique_values)"
   ]
  },
  {
   "cell_type": "markdown",
   "metadata": {},
   "source": [
    "* 빈 리스트인지를 검사하는 예제 프로그램을 작성하시오. 빈 리스트을 논리값으로 변환하면 False가 되고, 하나 이상의 값이 저장된 리스트를 논리값으로 변환하면 True가 된다."
   ]
  },
  {
   "cell_type": "code",
   "execution_count": 20,
   "metadata": {},
   "outputs": [
    {
     "name": "stdout",
     "output_type": "stream",
     "text": [
      "빈 리스트입니다.\n"
     ]
    }
   ],
   "source": [
    "l = []\n",
    "if not l:\n",
    "    print(\"빈 리스트입니다.\")\n",
    "else:\n",
    "    print(\"빈 리스트가 아닙니다.\")"
   ]
  },
  {
   "cell_type": "markdown",
   "metadata": {},
   "source": [
    "* 리스트의 복사본을 만드는 예제 프로그램을 작성하시오."
   ]
  },
  {
   "cell_type": "code",
   "execution_count": 21,
   "metadata": {},
   "outputs": [
    {
     "name": "stdout",
     "output_type": "stream",
     "text": [
      "[10, 22, 44, 23, 4]\n",
      "[10, 22, 44, 23, 4]\n",
      "2583192294984\n",
      "2583192380552\n"
     ]
    }
   ],
   "source": [
    "original = [10, 22, 44, 23, 4]\n",
    "copy = list(original)\n",
    "print(original)\n",
    "print(copy)\n",
    "print(id(original))\n",
    "print(id(copy))"
   ]
  },
  {
   "cell_type": "markdown",
   "metadata": {},
   "source": [
    "* 문자열 리스트에서 길이가 3보다 큰 문자열만 추출한 리스트를 생성하는 예제 프로그램을 작성하시오."
   ]
  },
  {
   "cell_type": "code",
   "execution_count": 22,
   "metadata": {},
   "outputs": [
    {
     "name": "stdout",
     "output_type": "stream",
     "text": [
      "['quick', 'brown', 'jumps', 'over', 'lazy']\n"
     ]
    }
   ],
   "source": [
    "words = [\"The\", \"quick\", \"brown\", \"fox\", \"jumps\", \"over\", \"the\", \"lazy\", \"dog\"]\n",
    "\n",
    "long_words = []\n",
    "for word in words:\n",
    "    if len(word) > 3:\n",
    "        long_words.append(word)\n",
    "\n",
    "print(long_words)"
   ]
  },
  {
   "cell_type": "code",
   "execution_count": 23,
   "metadata": {},
   "outputs": [
    {
     "name": "stdout",
     "output_type": "stream",
     "text": [
      "['quick', 'brown', 'jumps', 'over', 'lazy']\n"
     ]
    }
   ],
   "source": [
    "long_words = [word for word in words if len(word) > 3]\n",
    "print(long_words)"
   ]
  },
  {
   "cell_type": "markdown",
   "metadata": {},
   "source": [
    "* 두 리스트가 공통된 원소를 가지고 있는지를 알아보는 예제 프로그램을 작성하시오."
   ]
  },
  {
   "cell_type": "code",
   "execution_count": 24,
   "metadata": {},
   "outputs": [
    {
     "name": "stdout",
     "output_type": "stream",
     "text": [
      "공통원소가 있습니다.\n",
      "공통원소가 없습니다.\n"
     ]
    }
   ],
   "source": [
    "A = [1,2,3,4,5]\n",
    "B = [5,6,7,8,9]\n",
    "C = [6,7,8,9]\n",
    "\n",
    "if set(A).intersection(set(B)):\n",
    "    print('공통원소가 있습니다.')\n",
    "else:\n",
    "    print('공통원소가 없습니다.')\n",
    "\n",
    "if set(A).intersection(set(C)):\n",
    "    print('공통원소가 있습니다.')\n",
    "else:\n",
    "    print('공통원소가 없습니다.')"
   ]
  },
  {
   "cell_type": "markdown",
   "metadata": {},
   "source": [
    "* 지정한 인덱스에 해당하는 값을 리스트에서 제거하는 예제 프로그램을 작성하시오."
   ]
  },
  {
   "cell_type": "code",
   "execution_count": 25,
   "metadata": {},
   "outputs": [
    {
     "name": "stdout",
     "output_type": "stream",
     "text": [
      "['Green', 'White', 'Black']\n"
     ]
    }
   ],
   "source": [
    "colors = ['Red', 'Green', 'White', 'Black', 'Pink', 'Yellow']\n",
    "palette = [x for i, x in enumerate(colors) if i not in (0, 4, 5)]\n",
    "print(palette)"
   ]
  },
  {
   "cell_type": "markdown",
   "metadata": {},
   "source": [
    "* 리스트에서 짝수를 제거하는 예제 프로그램을 작성하시오."
   ]
  },
  {
   "cell_type": "code",
   "execution_count": 26,
   "metadata": {},
   "outputs": [
    {
     "name": "stdout",
     "output_type": "stream",
     "text": [
      "[7, 25, 27]\n"
     ]
    }
   ],
   "source": [
    "num = [7,8, 120, 25, 44, 20, 27]\n",
    "num = [x for x in num if x % 2 != 0]\n",
    "print(num)"
   ]
  },
  {
   "cell_type": "markdown",
   "metadata": {},
   "source": [
    "* 리스트에 저장된 값들의 모든 순열을 저장한 리스트를 생성하는 예제 프로그램을 작성하시오. `itertools` 모듈에 정의된 `permutations()` 함수를 이용하시오."
   ]
  },
  {
   "cell_type": "code",
   "execution_count": 27,
   "metadata": {},
   "outputs": [
    {
     "name": "stdout",
     "output_type": "stream",
     "text": [
      "[(1, 2, 3), (1, 3, 2), (2, 1, 3), (2, 3, 1), (3, 1, 2), (3, 2, 1)]\n"
     ]
    }
   ],
   "source": [
    "import itertools\n",
    "\n",
    "values = [1,2,3]\n",
    "permute = list(itertools.permutations(values))\n",
    "print(permute)"
   ]
  },
  {
   "cell_type": "markdown",
   "metadata": {},
   "source": [
    "* 리스트의 리스트를 하나의 리스트로 만드는 예제 프로그램을 작성하시오."
   ]
  },
  {
   "cell_type": "code",
   "execution_count": 28,
   "metadata": {},
   "outputs": [
    {
     "name": "stdout",
     "output_type": "stream",
     "text": [
      "[[2, 4, 3], [1, 5, 6], [9], [7, 9, 0]]\n",
      "[2, 4, 3, 1, 5, 6, 9, 7, 9, 0]\n"
     ]
    }
   ],
   "source": [
    "original_list = [[2,4,3],[1,5,6], [9], [7,9,0]]\n",
    "rows = len(original_list)\n",
    "merged_list = []\n",
    "for i in range(rows):\n",
    "    merged_list += original_list[i]\n",
    "print(original_list)\n",
    "print(merged_list)"
   ]
  },
  {
   "cell_type": "markdown",
   "metadata": {},
   "source": [
    "* 리스트에 저장된 자료에 나타나는 값과 각 값이 나타나는 횟수(도수)를 구하는 예제 프로그램을 작성하시오. 다음은 `collections` 모듈의 `Counter` 클래스를 이용하여 값과 도수를 구하는 프로그램이다. 리스트의 `count()` 메소드를 이용하는 프로그램도 작성할 수 있다."
   ]
  },
  {
   "cell_type": "code",
   "execution_count": 29,
   "metadata": {},
   "outputs": [
    {
     "name": "stdout",
     "output_type": "stream",
     "text": [
      "자료:  [10, 10, 10, 10, 20, 20, 20, 20, 40, 40, 50, 50, 30]\n",
      "값과 도수:  Counter({10: 4, 20: 4, 40: 2, 50: 2, 30: 1})\n",
      "dict_keys([10, 20, 40, 50, 30])\n",
      "dict_values([4, 4, 2, 2, 1])\n"
     ]
    }
   ],
   "source": [
    "import collections\n",
    "\n",
    "data = [10, 10, 10, 10, 20, 20, 20, 20, 40, 40, 50, 50, 30]\n",
    "print(\"자료: \", data)\n",
    "\n",
    "freq = collections.Counter(data)\n",
    "print(\"값과 도수: \", freq)\n",
    "\n",
    "print(freq.keys())\n",
    "print(freq.values())"
   ]
  },
  {
   "cell_type": "code",
   "execution_count": 30,
   "metadata": {},
   "outputs": [
    {
     "name": "stdout",
     "output_type": "stream",
     "text": [
      "{40: 2, 10: 4, 50: 2, 20: 4, 30: 1}\n",
      "dict_keys([40, 10, 50, 20, 30])\n",
      "dict_values([2, 4, 2, 4, 1])\n"
     ]
    }
   ],
   "source": [
    "values = set(data)\n",
    "frequencies = {value: data.count(value) for value in values}\n",
    "print(frequencies)\n",
    "print(frequencies.keys())\n",
    "print(frequencies.values())"
   ]
  },
  {
   "cell_type": "markdown",
   "metadata": {},
   "source": [
    "* 두 리스트를 비교하여 한 쪽 리스트에만 있는 값만 찾아내는 예제 프로그램을 작성하시오."
   ]
  },
  {
   "cell_type": "code",
   "execution_count": 31,
   "metadata": {},
   "outputs": [
    {
     "name": "stdout",
     "output_type": "stream",
     "text": [
      "{'c', 'a', 'b'}\n",
      "{'g', 'h'}\n"
     ]
    }
   ],
   "source": [
    "list1 = ['a','b','c','d','e','f']\n",
    "list2 = ['d','e','f','g','h']\n",
    "diff1 = set(list1).difference(set(list2))\n",
    "diff2 = set(list2).difference(set(list1))\n",
    "print(diff1)\n",
    "print(diff2)"
   ]
  },
  {
   "cell_type": "markdown",
   "metadata": {},
   "source": [
    "* 리스트에서 짝수 번째 값만 추출하는 예제 프로그램을 작성하시오."
   ]
  },
  {
   "cell_type": "code",
   "execution_count": 32,
   "metadata": {},
   "outputs": [
    {
     "name": "stdout",
     "output_type": "stream",
     "text": [
      "[1, 3, 5, 7, 9]\n"
     ]
    }
   ],
   "source": [
    "x = [1, 2, 3, 4, 5, 6, 7, 8, 9]\n",
    "print(x[::2])"
   ]
  },
  {
   "cell_type": "markdown",
   "metadata": {},
   "source": [
    "* 한 리스트는 키로 다른 한 리스트는 값으로 하는 사전을 만드는 예제 프로그램을 작성하시오."
   ]
  },
  {
   "cell_type": "code",
   "execution_count": 33,
   "metadata": {},
   "outputs": [
    {
     "name": "stdout",
     "output_type": "stream",
     "text": [
      "{'Black': '#000000', 'Red': '#FF0000', 'Maroon': '#800000', 'Yellow': '#FFFF00'}\n"
     ]
    }
   ],
   "source": [
    "color_name = [\"Black\", \"Red\", \"Maroon\", \"Yellow\"]\n",
    "color_code = [\"#000000\", \"#FF0000\", \"#800000\", \"#FFFF00\"]\n",
    "color_dict = {f:c for f, c in zip(color_name, color_code)}\n",
    "print(color_dict)"
   ]
  },
  {
   "cell_type": "markdown",
   "metadata": {},
   "source": [
    "* 사전 객체를 저장한 리스트에서 특정한 키에 해당하는 값을 사전에서 제거하는 예제 프로그램을 작성하시오."
   ]
  },
  {
   "cell_type": "code",
   "execution_count": 34,
   "metadata": {},
   "outputs": [
    {
     "name": "stdout",
     "output_type": "stream",
     "text": [
      "[{'key1': 'value1', 'key2': 'value2'}, {'key1': 'value3', 'key4': 'value4'}]\n",
      "[{'key2': 'value2'}, {'key4': 'value4'}]\n"
     ]
    }
   ],
   "source": [
    "original_list = [{'key1':'value1', 'key2':'value2'},\n",
    "                 {'key1':'value3', 'key4':'value4'}]\n",
    "print(original_list)\n",
    "new_list = [{k:v for k, v in d.items() if k != 'key1'} for d in original_list]\n",
    "print(new_list)"
   ]
  },
  {
   "cell_type": "markdown",
   "metadata": {},
   "source": [
    "* 문자열의 리스트에서 모든 문자열이 특정한 문자열인지를 검사하는 예제 프로그램을 작성하시오. 이 예제에서 `all()` 함수는 인자로 주어진 자료구조에 저장된 값들이 모두 True인지를 검사해준다는 것을 알 수 있다."
   ]
  },
  {
   "cell_type": "code",
   "execution_count": 35,
   "metadata": {},
   "outputs": [
    {
     "name": "stdout",
     "output_type": "stream",
     "text": [
      "[False, True, False, False]\n",
      "[True, True, True, True]\n",
      "False\n",
      "True\n"
     ]
    }
   ],
   "source": [
    "color1 = [\"green\", \"orange\", \"black\", \"white\"]\n",
    "color2 = [\"green\", \"green\", \"green\", \"green\"]\n",
    "\n",
    "print([c == 'orange' for c in color1])\n",
    "print([c == 'green' for c in color2])\n",
    "\n",
    "print(all([c == 'orange' for c in color1]))\n",
    "print(all([c == 'green' for c in color2]))"
   ]
  },
  {
   "cell_type": "markdown",
   "metadata": {},
   "source": [
    "* 문자열의 리스트에서 특정한 문자열이 들어있는지를 검사하는 프로그램을 작성하시오.\n",
    "이 예제에서 `any()` 함수는 인자로 주어진 자료구조에 저장된 값 중에 True가 있는지를 검사해준다는 것을 알 수 있다."
   ]
  },
  {
   "cell_type": "code",
   "execution_count": 36,
   "metadata": {},
   "outputs": [
    {
     "name": "stdout",
     "output_type": "stream",
     "text": [
      "[False, True, False, False]\n",
      "[False, False, False, False]\n",
      "True\n",
      "False\n"
     ]
    }
   ],
   "source": [
    "color1 = [\"green\", \"orange\", \"black\", \"white\"]\n",
    "color2 = [\"green\", \"green\", \"green\", \"green\"]\n",
    "\n",
    "print([c == 'orange' for c in color1])\n",
    "print([c == 'black' for c in color2])\n",
    "\n",
    "print(any([c == 'orange' for c in color1]))\n",
    "print(any([c == 'black' for c in color2]))"
   ]
  },
  {
   "cell_type": "markdown",
   "metadata": {},
   "source": [
    "* 리스트의 마지막 값을 다른 리스트에 저장된 값들으로 바꾸는 예제 프로그램을 작성하시오."
   ]
  },
  {
   "cell_type": "code",
   "execution_count": 37,
   "metadata": {},
   "outputs": [
    {
     "name": "stdout",
     "output_type": "stream",
     "text": [
      "[1, 3, 5, 7, 9, 2, 4, 6, 8]\n"
     ]
    }
   ],
   "source": [
    "num1 = [1, 3, 5, 7, 9, 10]\n",
    "num2 = [2, 4, 6, 8]\n",
    "num1[-1:] = num2\n",
    "print(num1)"
   ]
  },
  {
   "cell_type": "markdown",
   "metadata": {},
   "source": [
    "* Comprehension을 이용하여 빈 사전이 여러 개 저장된 리스트를 만드는 예제 프로그램을 작성하시오."
   ]
  },
  {
   "cell_type": "code",
   "execution_count": 38,
   "metadata": {},
   "outputs": [
    {
     "name": "stdout",
     "output_type": "stream",
     "text": [
      "[{}, {}, {}, {}, {}]\n"
     ]
    }
   ],
   "source": [
    "n = 5\n",
    "l = [{} for i in range(n)]\n",
    "print(l)"
   ]
  },
  {
   "cell_type": "markdown",
   "metadata": {},
   "source": [
    "* 두 개의 리스트에 저장된 값을 동시에 순서대로 접근하는 예제 프로그램을 작성하시오."
   ]
  },
  {
   "cell_type": "code",
   "execution_count": 39,
   "metadata": {},
   "outputs": [
    {
     "name": "stdout",
     "output_type": "stream",
     "text": [
      "1 red\n",
      "2 while\n",
      "3 black\n"
     ]
    }
   ],
   "source": [
    "num = [1, 2, 3]\n",
    "color = ['red', 'while', 'black']\n",
    "for a, b in zip(num, color):\n",
    "     print(a, b)"
   ]
  },
  {
   "cell_type": "markdown",
   "metadata": {},
   "source": [
    "* 사전의 키를 인덱스로 접근하는 예제 프로그램을 작성하시오."
   ]
  },
  {
   "cell_type": "code",
   "execution_count": 40,
   "metadata": {
    "scrolled": true
   },
   "outputs": [
    {
     "name": "stdout",
     "output_type": "stream",
     "text": [
      "['physics', 'math', 'chemistry']\n",
      "90\n"
     ]
    }
   ],
   "source": [
    "num = {'physics': 80, 'math': 90, 'chemistry': 86}\n",
    "index = list(num.keys())\n",
    "print(index)\n",
    "print(num[index[1]])"
   ]
  },
  {
   "cell_type": "markdown",
   "metadata": {},
   "source": [
    "* 행과 열의 수를 입력받아 행렬을 작성하되 원소가 행 번호와 열 변호의 곱이 되게 하시오.\n",
    "하나의 행은 리스트로 나타낼 수 있으므로 행렬은 리스트의 리스트로 나타낼 수 있다."
   ]
  },
  {
   "cell_type": "code",
   "execution_count": 41,
   "metadata": {},
   "outputs": [
    {
     "name": "stdout",
     "output_type": "stream",
     "text": [
      "행의 수: 4\n",
      "열의 수: 5\n",
      "[[0, 0, 0, 0, 0], [0, 1, 2, 3, 4], [0, 2, 4, 6, 8], [0, 3, 6, 9, 12]]\n"
     ]
    }
   ],
   "source": [
    "row_num = int(input(\"행의 수: \"))\n",
    "col_num = int(input(\"열의 수: \"))\n",
    "\n",
    "multi_list = [[0 for col in range(col_num)] for row in range(row_num)]\n",
    "\n",
    "for row in range(row_num):\n",
    "    for col in range(col_num):\n",
    "        multi_list[row][col]= row*col\n",
    "\n",
    "print(multi_list)"
   ]
  }
 ],
 "metadata": {
  "anaconda-cloud": {},
  "kernelspec": {
   "display_name": "Python [default]",
   "language": "python",
   "name": "python3"
  },
  "language_info": {
   "codemirror_mode": {
    "name": "ipython",
    "version": 3
   },
   "file_extension": ".py",
   "mimetype": "text/x-python",
   "name": "python",
   "nbconvert_exporter": "python",
   "pygments_lexer": "ipython3",
   "version": "3.6.3"
  }
 },
 "nbformat": 4,
 "nbformat_minor": 2
}
