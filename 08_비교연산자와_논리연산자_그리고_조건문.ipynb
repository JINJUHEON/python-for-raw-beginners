{
 "cells": [
  {
   "cell_type": "markdown",
   "metadata": {},
   "source": [
    "# 비교 연산자와 논리 연산자 그리고 조건문"
   ]
  },
  {
   "cell_type": "markdown",
   "metadata": {},
   "source": [
    "## 비교 연산자"
   ]
  },
  {
   "cell_type": "markdown",
   "metadata": {},
   "source": [
    "비교 연산자(comparison operator)는 두 값을 비교하는 연산자이다.\n",
    "비교 연산의 피연산자는 값 또는 표현식이다.\n",
    "**비교 연산 결과는 논리값**이다."
   ]
  },
  {
   "cell_type": "markdown",
   "metadata": {},
   "source": [
    "비교 연산자에는 `>`, `>=`, `<`, `<=`, `==`, `!=` 가 있다.\n",
    "이들은 순서대로 연산자 왼쪽의 값이 오른쪽 값보다 큰지(greater than, gt), 같거나 큰지(greater than or equal to, ge), 작은지(less than, lt), 같거나 작은지(less than or equal to, le), 같은지(equal to, eq), 다른지(not equal to, ne)를 알아보고 그 결과를 논리값 `True`, `False`로 주는 연산을 수행한다."
   ]
  },
  {
   "cell_type": "markdown",
   "metadata": {},
   "source": [
    "다음은 반지름이 5인 원의 면적이 80보다 큰지를 계산하는비교 연산 예이다."
   ]
  },
  {
   "cell_type": "code",
   "execution_count": 1,
   "metadata": {},
   "outputs": [
    {
     "name": "stdout",
     "output_type": "stream",
     "text": [
      "False\n"
     ]
    }
   ],
   "source": [
    "import math\n",
    "radius = 5\n",
    "area = math.pi * radius ** 2\n",
    "is_gt_80 = area > 80\n",
    "print(is_gt_80)"
   ]
  },
  {
   "cell_type": "markdown",
   "metadata": {},
   "source": [
    "다음은 둘레가 40보다 같거나 작은지를 계산하는 비교 연산 예이다."
   ]
  },
  {
   "cell_type": "code",
   "execution_count": 2,
   "metadata": {},
   "outputs": [
    {
     "name": "stdout",
     "output_type": "stream",
     "text": [
      "True\n"
     ]
    }
   ],
   "source": [
    "circumference = 2 * math.pi * radius\n",
    "is_le_40 = circumference <= 40\n",
    "print(is_le_40)"
   ]
  },
  {
   "cell_type": "markdown",
   "metadata": {},
   "source": [
    "위 예에서 본 `circumference <= 40`나 `(2 * math.pi * radius) <= 40`와 같이 평가 결과가 논리값이 되는 표현식을 **조건**(condition)이라고 한다."
   ]
  },
  {
   "cell_type": "markdown",
   "metadata": {},
   "source": [
    "## 논리 연산자"
   ]
  },
  {
   "cell_type": "markdown",
   "metadata": {},
   "source": [
    "논리값에 대한 연산을 수행하는 연산자를 논리 연산자(logical operator)라고 하는데 `and`, `or`, `not` 3 가지가 있다.\n",
    "논리 연산자 `and`는 두 논리값의 논리곱, `or`는 논리합을 계산해주며, `not`는 논리값을 반대로 만드는 연산자이다.\n",
    "논리값이 나오는 표현식 즉 조건이 논리 연산의 피연산자인 경우가 일반적이다."
   ]
  },
  {
   "cell_type": "markdown",
   "metadata": {},
   "source": [
    "다음은 논리 연산자를 사용한 논리 연산 예이다."
   ]
  },
  {
   "cell_type": "code",
   "execution_count": 3,
   "metadata": {},
   "outputs": [
    {
     "name": "stdout",
     "output_type": "stream",
     "text": [
      "False\n"
     ]
    }
   ],
   "source": [
    "ans = True and False\n",
    "print(ans)"
   ]
  },
  {
   "cell_type": "code",
   "execution_count": 4,
   "metadata": {},
   "outputs": [
    {
     "name": "stdout",
     "output_type": "stream",
     "text": [
      "True\n"
     ]
    }
   ],
   "source": [
    "ans = True or False\n",
    "print(ans)"
   ]
  },
  {
   "cell_type": "code",
   "execution_count": 5,
   "metadata": {},
   "outputs": [
    {
     "name": "stdout",
     "output_type": "stream",
     "text": [
      "True\n"
     ]
    }
   ],
   "source": [
    "ans = not False\n",
    "print(ans)"
   ]
  },
  {
   "cell_type": "markdown",
   "metadata": {},
   "source": [
    "`type()` 함수를 이용하면 변수의 자료형을 알 수 있다.\n",
    "파이썬에서 논리값의 자료형은 `bool`이라고 한다."
   ]
  },
  {
   "cell_type": "code",
   "execution_count": 6,
   "metadata": {},
   "outputs": [
    {
     "name": "stdout",
     "output_type": "stream",
     "text": [
      "<class 'bool'>\n"
     ]
    }
   ],
   "source": [
    "print(type(ans))"
   ]
  },
  {
   "cell_type": "markdown",
   "metadata": {},
   "source": [
    "논리 연산자는 두 개 이상의 조건을 결합하여 하나의 조건을 만들 때도 사용된다.\n",
    "예를 들어 나이가 20세 이상이고 월급이 200만원 이상이어야 회원 자격이 있다고 할 때 다음은 나이가 35세이고 월급이 195만원인 사람이 회원 자격이 있는지를 알아보는 예이다."
   ]
  },
  {
   "cell_type": "code",
   "execution_count": 1,
   "metadata": {},
   "outputs": [
    {
     "name": "stdout",
     "output_type": "stream",
     "text": [
      "False\n"
     ]
    }
   ],
   "source": [
    "lower_limit_age = 20\n",
    "lower_limit_salary = 2000000\n",
    "age = 35\n",
    "monthly_salary = 1950000\n",
    "is_eligible = (age >= lower_limit_age) and (monthly_salary >= lower_limit_salary)\n",
    "print(is_eligible)"
   ]
  },
  {
   "cell_type": "markdown",
   "metadata": {},
   "source": [
    "나이가 20세 이상이거나 월급이 200만원 이상이어야 회원 자격이 있다고 할 때 회원 자격이 있는지는 다음과 같이 알아볼 수 있다."
   ]
  },
  {
   "cell_type": "code",
   "execution_count": 2,
   "metadata": {},
   "outputs": [
    {
     "name": "stdout",
     "output_type": "stream",
     "text": [
      "True\n"
     ]
    }
   ],
   "source": [
    "is_eligible = (age >= lower_limit_age) or (monthly_salary >= lower_limit_salary)\n",
    "print(is_eligible)"
   ]
  },
  {
   "cell_type": "markdown",
   "metadata": {},
   "source": [
    "## 조건문"
   ]
  },
  {
   "cell_type": "markdown",
   "metadata": {},
   "source": [
    "논리값이 결과로 나오는 표현식 즉 조건은 평가 결과가 `True`냐 `False`냐에 따라 다른 계산 또는 일을 하도록 하는 코드를 작성할 때 가장 자주 사용된다.\n",
    "조건에 따라 다른 일을 수행하도록 할 때 사용하는 문장을 조건문(conditional statement)이라 하는데 파이썬의 조건문은 다음과 같이 사용하는 `if` 문장이다.\n",
    "\n",
    "```python\n",
    "if 조건:\n",
    "    조건이 True일 때 실행할 한 줄 이상의 들여쓴 코드\n",
    "else:\n",
    "    조건이 False일 때 실행할 한 줄 이상의 들여쓴 코드\n",
    "```\n",
    "\n",
    "`if` 문장을 작성할 때는 조건과 `else` 다음에 `:`을 반드시 찍어야 하고, 그 다음 중에 입력하는 한 줄 이상의 코드는 반드시 들여쓰기 해야 한다.\n",
    "한 칸 이상을 들여쓰기하면 되지만 반드시 일관성을 유지해야 한다.\n",
    "4칸 들여쓰는 것이 관례이다.\n",
    "조건이 `False`일 때 아무 일도 하지 않고자 할 때는 다음과 같이 `else` 절을 생략하면 된다.\n",
    "\n",
    "```python\n",
    "if 조건:\n",
    "    조건이 True일 때 실행할 한 줄 이상의 들여쓴 코드\n",
    "```"
   ]
  },
  {
   "cell_type": "markdown",
   "metadata": {},
   "source": [
    "다음은 반지름이 5인 원의 면적이 80보다 크면 \"면적이 80보다 크다.\"는 메시지를 출력하고 그렇지 않으면 \"면적이 80보다 같거나 작다.\"는 메시지를 출력하는 예이다."
   ]
  },
  {
   "cell_type": "code",
   "execution_count": 9,
   "metadata": {},
   "outputs": [
    {
     "name": "stdout",
     "output_type": "stream",
     "text": [
      "면적이 80보다 같거나 작다.\n"
     ]
    }
   ],
   "source": [
    "radius = 5\n",
    "area = math.pi * radius ** 2\n",
    "if (area > 80):\n",
    "    msg = \"면적이 80보다 크다.\"\n",
    "else:\n",
    "    msg = \"면적이 80보다 같거나 작다.\"\n",
    "print(msg)"
   ]
  },
  {
   "cell_type": "markdown",
   "metadata": {},
   "source": [
    "다음은 나이가 20세 이상이고 월급이 200만원 이상이어야 회원 자격이 있다고 할 때 다음은 나이가 35세이고 월급이 195만원인 사람이 회원 자격이 있는지를 알아보고 그 결과를 \"회원 자격이 있다.\", \"회원 자격이 없다.\"는 메시지로 출력하는 예이다."
   ]
  },
  {
   "cell_type": "code",
   "execution_count": 10,
   "metadata": {},
   "outputs": [
    {
     "name": "stdout",
     "output_type": "stream",
     "text": [
      "회원 자격이 없다.\n"
     ]
    }
   ],
   "source": [
    "age = 35\n",
    "salary = 1950000\n",
    "if (age >= lower_limit_age) and (salary >= lower_limit_salary):\n",
    "    msg = \"회원 자격이 있다.\"\n",
    "else:\n",
    "    msg = \"회원 자격이 없다.\"\n",
    "print(msg)"
   ]
  },
  {
   "cell_type": "markdown",
   "metadata": {},
   "source": [
    "특정 조건을 만족하지 않을 경우 다른 조건을 만족하는가를 추가로 검사하고자 할 때는 다음과 같이 `else` 대신에 `elif`(else if를 줄인 용어)를 사용할 수 있으며 여러 개의 `elif` 절이 올 수도 있다.\n",
    "\n",
    "```python\n",
    "if 조건1:\n",
    "    조건1을 만족할 때 수행할 한 줄 이상의 들여쓴 코드\n",
    "elif 조건2:\n",
    "    조건1을 만족하지 않지만 조건2를 만족할 때 수행할 한 줄 이상의 들여쓴 코드\n",
    "elif 조건3:\n",
    "    조건1과 조건2를 만족하지 않지만 조건3를 만족할 때 수행할 한 줄 이상의 들여쓴 코드\n",
    "...\n",
    "else:\n",
    "    앞에 기재된 모든 조건을 만족하지 않을 때 수행할 한 줄 이상의 들여쓴 코드\n",
    "```"
   ]
  },
  {
   "cell_type": "markdown",
   "metadata": {},
   "source": [
    "나이가 20세 이상이어야 한다는 조건과 월급이 200만원 이상이어야 한다는 조건을 모두 만족하면 정회원 자격이 있고, 두 가지 조건 중에서 한 가지만 만족하면 준회원 자격이 있고, 두 가지 조건을 모두 만족하지 않으면 외원 자격이 없다고 한다.\n",
    "다음은 나이가 35세이고 월급이 195만원인 사람이 회원 자격이 있는지를 알아보고 그 결과를 \"정회원 자격이 있다.\", \"준회원 자격이 있다.\", \"회원 자격이 없다.\"는 메시지로 출력하는 예이다."
   ]
  },
  {
   "cell_type": "code",
   "execution_count": 11,
   "metadata": {},
   "outputs": [
    {
     "name": "stdout",
     "output_type": "stream",
     "text": [
      "준회원 자격이 있다.\n"
     ]
    }
   ],
   "source": [
    "if (age >= lower_limit_age) and (salary >= lower_limit_salary):\n",
    "    msg = \"정회원 자격이 있다.\"\n",
    "elif (age >= lower_limit_age) or (salary >= lower_limit_salary):\n",
    "    msg = \"준회원 자격이 있다.\"\n",
    "else:\n",
    "    msg = \"회원 자격이 없다.\"\n",
    "print(msg)"
   ]
  },
  {
   "cell_type": "markdown",
   "metadata": {},
   "source": [
    "`if` 문에서 수행할 일이 또 다른 `if` 문일 수 있다.\n",
    "이런 `if` 문을 중첩 `if`(nested if) 문이라고 한다.\n",
    "앞의 예를 다음과 같은 중첩 `if` 문으로 프로그램 할 수도 있다."
   ]
  },
  {
   "cell_type": "code",
   "execution_count": 12,
   "metadata": {},
   "outputs": [
    {
     "name": "stdout",
     "output_type": "stream",
     "text": [
      "준회원 자격이 있다.\n"
     ]
    }
   ],
   "source": [
    "if (age >= lower_limit_age):\n",
    "    if salary >= lower_limit_salary:\n",
    "        msg = \"정회원 자격이 있다.\"\n",
    "    else:\n",
    "        msg = \"준회원 자격이 있다.\"\n",
    "else:\n",
    "    if salary >= 2000000:\n",
    "        msg = \"준회원 자격이 있다.\"\n",
    "    else:\n",
    "        msg = \"회원 자격이 없다.\"\n",
    "print(msg)"
   ]
  },
  {
   "cell_type": "code",
   "execution_count": 13,
   "metadata": {},
   "outputs": [
    {
     "name": "stdout",
     "output_type": "stream",
     "text": [
      "준회원 자격이 있다.\n"
     ]
    }
   ],
   "source": [
    "if salary >= lower_limit_salary:\n",
    "    if age >= lower_limit_age:\n",
    "        msg = \"정회원 자격이 있다.\"\n",
    "    else:\n",
    "        msg = \"준회원 자격이 있다.\"\n",
    "else:\n",
    "    if age >= lower_limit_age:\n",
    "        msg = \"준회원 자격이 있다.\"\n",
    "    else:\n",
    "        msg = \"회원 자격이 없다.\"\n",
    "print(msg)"
   ]
  },
  {
   "cell_type": "markdown",
   "metadata": {},
   "source": [
    "$x=5$일 때 함수 $f(x) = \\left\\{\n",
    "     \\begin{array}{ll}\n",
    "       1 & \\text{if } x \\gt 0 \\\\\n",
    "       0 & \\text{if} x \\le 0\n",
    "     \\end{array}\n",
    "   \\right.$를 계산하시오.\n",
    "   이런 함수를 binary step function이라고 한다."
   ]
  },
  {
   "cell_type": "code",
   "execution_count": 14,
   "metadata": {},
   "outputs": [
    {
     "name": "stdout",
     "output_type": "stream",
     "text": [
      "1\n"
     ]
    }
   ],
   "source": [
    "x = 5\n",
    "if x > 0:\n",
    "    fx = 1\n",
    "else:\n",
    "    fx = 0\n",
    "print(fx)"
   ]
  },
  {
   "cell_type": "markdown",
   "metadata": {},
   "source": [
    "$x=-5$일 때 함수 $f(x) = \\left\\{\n",
    "     \\begin{array}{ll}\n",
    "       1 & \\text{if } x \\gt 0 \\\\\n",
    "       -1 & \\text{if} x \\le 0\n",
    "     \\end{array}\n",
    "   \\right.$를 계산하시오.\n",
    "   이런 함수를 sign function이라고 한다."
   ]
  },
  {
   "cell_type": "code",
   "execution_count": 15,
   "metadata": {},
   "outputs": [
    {
     "name": "stdout",
     "output_type": "stream",
     "text": [
      "-1\n"
     ]
    }
   ],
   "source": [
    "x = -5\n",
    "if x > 0:\n",
    "    fx = 1\n",
    "else:\n",
    "    fx = -1\n",
    "    \n",
    "print(fx)"
   ]
  },
  {
   "cell_type": "markdown",
   "metadata": {},
   "source": [
    "## `random` 모듈\n",
    "\n",
    "`random` 모듈에는 난수를 발생하는 여러 함수가 정의되어 있다.\n",
    "\n",
    "| 함수 | 설명 |\n",
    "|:------|:-------|\n",
    "| `seed(int)` | 난수 발생함수의 초기치를 지정하는 함수 |\n",
    "| `randrange(stop)` | `range(stop)`에 속하는 정수 중에서 임의로 하나를 선택해주는 함수 |\n",
    "| `randrange(start, stop, [step])` | `range(start, stop, [step])`에 속하는 정수 중에서 임의로 하나를 선택해주는 함수 |\n",
    "| `randint(a, b)` | `randrange(a, b+1)`과 동일함 |\n",
    "| `random()` | 구간 `[0, 1)`에서 균등분포하는 난수를 발생하는 함수 |\n",
    "| `randuniform(a, b)` | 구간 `[a, b)`에서 균등분포하는 난수를 발생하는 함수 |"
   ]
  },
  {
   "cell_type": "markdown",
   "metadata": {},
   "source": [
    "## 연습문제"
   ]
  },
  {
   "cell_type": "markdown",
   "metadata": {},
   "source": [
    "1. 표현식 `1 and 2 or 3 and 4`의 결과는 무엇인가? 결과가 그렇게 나오는 이유는 무엇인가?\n",
    "1. 체질량 지수(Body Mass Index, BMI)는 인간의 비만도를 나타내는 지수로, 체중과 키의 관계로 계산된다.\n",
    "키가 t 미터, 체중이 w 킬로그램일 때, BMI는 $w / t^2$와 같이 계산한다.\n",
    "\n",
    "    * 자신의 키와 체중이 저장된 변수를 정의하시오.\n",
    "    * BMI를 계산해서 변수에 저장하시오.\n",
    "    \n",
    "2. 한국의 경우 BMI의 크기에 따라 다음과 같이 비만도를 분류한다.\n",
    "BMI가 35 이상이면 고도 비만, 30 - 35 사이에 있으면 중등도 비만, 25 - 30 사이에 있으면 경도 비만, 23 - 24.9 사이에 있으면 과체중, 18.5 - 22.9 사이이면 정상, 18.5 미만이면 저체중으로 판정하고 있다.\n",
    "\n",
    "    * 앞 문제의 키와 체중을 가진 사람은 어디에 해당하는지 판정해보시오.\n",
    "\n",
    "3. 혈압은 심장 수축기의 최고 혈압과 이완기의 최저 혈압의 두 측정치로 요약되는데, 휴식시 정상 혈압은 수축시 100~140mmHg에 이완시 60~90mmHg이고, 혈압이 지속적으로 140/90mmHg 이상일 때 고혈압이 있다고 말한다.\n",
    "\n",
    "    * 자신의 수축시 혈압(systolic blood pressure)과 이완시 혈압(diastolic blood pressure)이 저장된 변수를 정의하시오.\n",
    "    * 정상 혈압인지 고혈압인지를 검사하는 프로그램을 작성하시오.\n",
    "    \n",
    "5. $x=-5$일 때 함수 $f(x) = \\left\\{\n",
    "     \\begin{array}{ll}\n",
    "       x & \\text{if } x \\gt 0 \\\\\n",
    "       0 & \\text{if} x \\le 0\n",
    "     \\end{array}\n",
    "   \\right.$를 계산하시오.\n",
    "이런 함수는 rectified linear function이라고 한다.\n",
    "6. $\\alpha=2$, $x=-5$일 때 함수 $f(x) = \\left\\{\n",
    "     \\begin{array}{ll}\n",
    "       x & \\text{if } x \\gt 0 \\\\\n",
    "       \\alpha (e^x - 1) & \\text{if} x \\le 0\n",
    "     \\end{array}\n",
    "   \\right.$를 계산하시오.\n",
    "이런 함수는 exponential linear function이라고 한다.\n",
    "7. 모듈 `random`에 정의된 `randint()` 함수는 두 정수 사이에 있는 정수를 하나 무작위로 추출해주는 난수발생함수이다.\n",
    "예를 들어 `randint(100, 999)`는 세 자리 정수 중에서 하나를 랜덤하게 뽑아준다.\n",
    "모듈 `random`의 `randint()` 함수를 이용하여 두 자리 정수 하나를 무작위로 발생시킨 다음 이 수의 십 자리 수를 알아보는 프로그램을 작성하시오.\n",
    "두 자리 정수의 십 자리 수를 알아보는 한 가지 방법은 10으로 나눌 때의 몫을 알아보는 것이다.\n",
    "8. 모듈 `random`의 `randint()` 함수를 이용하여 세 자리 정수 두 개를 랜덤하게 발생시킨 다음 그 중에서 큰 값을 찾아내는 프로그램을 작성하시오.\n",
    "9. 모듈 `random`의 `randint()` 함수를 이용하여 세 자리 정수 세 개를 랜덤하게 발생시킨 다음 그 중에서 제일 큰 값을 찾아내는 프로그램을 작성하시오."
   ]
  }
 ],
 "metadata": {
  "anaconda-cloud": {},
  "kernelspec": {
   "display_name": "Python [default]",
   "language": "python",
   "name": "python3"
  },
  "language_info": {
   "codemirror_mode": {
    "name": "ipython",
    "version": 3
   },
   "file_extension": ".py",
   "mimetype": "text/x-python",
   "name": "python",
   "nbconvert_exporter": "python",
   "pygments_lexer": "ipython3",
   "version": "3.6.3"
  }
 },
 "nbformat": 4,
 "nbformat_minor": 2
}
