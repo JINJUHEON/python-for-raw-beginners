{
 "cells": [
  {
   "cell_type": "markdown",
   "metadata": {},
   "source": [
    "# 특별한 형식의 텍스트 파일: CSV, INI, YAML 파일과 파이썬 프로그램 파일"
   ]
  },
  {
   "cell_type": "markdown",
   "metadata": {},
   "source": [
    "## CSV 파일\n",
    "\n",
    "표 형식의 테이터를 텍스트 파일로 저장할 때 사용하는 파일 형식이 CSV 파일이다.\n",
    "CSV가 comma-separated values지만 빈칸이나 탭(tab)으로 값을 구분한 파일도 일반적으로 CSV 파일로 분류한다.\n",
    "그러니까 CSV 파일은 일반적으로 delimiter-separated format(구분자로 분리하는 형식)로 생각할 수 있다.\n",
    "CSV 파일의 MIME 타입은 \"text/csv\"이다."
   ]
  },
  {
   "cell_type": "markdown",
   "metadata": {},
   "source": [
    "### CSV 파일의 데이터 저장 형식\n",
    "\n",
    "1. 행(row)/레코드(record)는 줄바꿈 문자(newline character, enter eky, \\n)로 구분한다.\n",
    "2. 행은 여러 값으로 구성되며 구분자로 구분한다.\n",
    "3. 모든 행에는 동일한 개수의 값을 동일한 순서로 기재한다.\n",
    "4. 모든 값은 문자열이다.\n",
    "5. 따라서 값을 큰 따옴표로 감쌀 수 있다. 구분자를 포함하는 값은 반드시 큰 따옴표로 감싸야 한다.\n",
    "6. 값이 큰 따옴표를 포함할 경우에는 값에 포함된 큰 따옴표를 이중 큰 따옴표로 나타낸다.\n",
    "7. 첫 번째 행에 열 이름을 기재할 수 있다."
   ]
  },
  {
   "cell_type": "markdown",
   "metadata": {},
   "source": [
    "### CSV 파일의 읽기와 쓰기\n",
    "\n",
    "`csv` 모듈에 정의된 클래스를 이용하여 CSV 파일을 읽고 쓸 수 있지만 `pandas` 모듈의 `read_csv()`를 이용해서 `DataFrame` 객체로 만드는 것이 가장 좋은 방법이다."
   ]
  },
  {
   "cell_type": "code",
   "execution_count": 1,
   "metadata": {
    "collapsed": true
   },
   "outputs": [],
   "source": [
    "import pandas as pd\n",
    "df = pd.read_csv('./datasets/sample.csv', sep=',',  # 값을 구분하는 구분문자를 지정한다.\n",
    "                 header='infer', # 열 이름이 기재된 행의 번호를 쓴다. 쓰지 않으면 자동 추출을 시도한다.\n",
    "                 names=None,     # 열 이름을 리스트로 지정한다.\n",
    "                 index_col=None, # 행 이름을 사용할 열 이름을 지정한다.\n",
    "                 skiprows=None,  # 파일 앞 부분에서 읽지 않고 건너뛸 줄의 수를 지정한다.\n",
    "                 skipfooter=0,   # 파일 뒷 부분에서 읽지 않고 건너뛸 줄의 수를 지정한다.\n",
    "                 nrows=None,     # 몇 행만 읽을 것인지를 지정한다.\n",
    "                 na_values=None) # 결측치를 나타내는 문자열을 리스트로 지정할 수 있다."
   ]
  },
  {
   "cell_type": "code",
   "execution_count": 2,
   "metadata": {},
   "outputs": [
    {
     "data": {
      "text/html": [
       "<div>\n",
       "<style>\n",
       "    .dataframe thead tr:only-child th {\n",
       "        text-align: right;\n",
       "    }\n",
       "\n",
       "    .dataframe thead th {\n",
       "        text-align: left;\n",
       "    }\n",
       "\n",
       "    .dataframe tbody tr th {\n",
       "        vertical-align: top;\n",
       "    }\n",
       "</style>\n",
       "<table border=\"1\" class=\"dataframe\">\n",
       "  <thead>\n",
       "    <tr style=\"text-align: right;\">\n",
       "      <th></th>\n",
       "      <th>region</th>\n",
       "      <th>sex</th>\n",
       "      <th>nb_voters</th>\n",
       "      <th>percent</th>\n",
       "    </tr>\n",
       "  </thead>\n",
       "  <tbody>\n",
       "    <tr>\n",
       "      <th>0</th>\n",
       "      <td>서울</td>\n",
       "      <td>남</td>\n",
       "      <td>4065823</td>\n",
       "      <td>9.58</td>\n",
       "    </tr>\n",
       "    <tr>\n",
       "      <th>1</th>\n",
       "      <td>서울</td>\n",
       "      <td>여</td>\n",
       "      <td>4301830</td>\n",
       "      <td>10.14</td>\n",
       "    </tr>\n",
       "    <tr>\n",
       "      <th>2</th>\n",
       "      <td>부산</td>\n",
       "      <td>남</td>\n",
       "      <td>1438478</td>\n",
       "      <td>3.39</td>\n",
       "    </tr>\n",
       "    <tr>\n",
       "      <th>3</th>\n",
       "      <td>부산</td>\n",
       "      <td>여</td>\n",
       "      <td>1509375</td>\n",
       "      <td>3.56</td>\n",
       "    </tr>\n",
       "    <tr>\n",
       "      <th>4</th>\n",
       "      <td>대구</td>\n",
       "      <td>남</td>\n",
       "      <td>1002006</td>\n",
       "      <td>2.36</td>\n",
       "    </tr>\n",
       "  </tbody>\n",
       "</table>\n",
       "</div>"
      ],
      "text/plain": [
       "  region sex  nb_voters  percent\n",
       "0     서울   남    4065823     9.58\n",
       "1     서울   여    4301830    10.14\n",
       "2     부산   남    1438478     3.39\n",
       "3     부산   여    1509375     3.56\n",
       "4     대구   남    1002006     2.36"
      ]
     },
     "execution_count": 2,
     "metadata": {},
     "output_type": "execute_result"
    }
   ],
   "source": [
    "df.head()"
   ]
  },
  {
   "cell_type": "markdown",
   "metadata": {},
   "source": [
    "데이터를 `DataFrame` 객체로 만들면 CSV 파일로 쉽게 저장할 수 있다."
   ]
  },
  {
   "cell_type": "code",
   "execution_count": 3,
   "metadata": {
    "collapsed": true
   },
   "outputs": [],
   "source": [
    "df.to_csv(\"./datasets/sample_backup.csv\",\n",
    "          sep=',',      # 구분문자를 지정한다.\n",
    "          na_rep='',    # 결측치를 나타낼 문자열 지정한다.\n",
    "          columns=['region', 'sex', 'nb_voters'], # 파일에 출력할 열 이름을 지정한다.\n",
    "                        #모든 열을 다 저장하려면 column 매개변수를 지정하지 않는다.\n",
    "          header=True,  # 열 이름을 출력할 것인지를 지정한다.\n",
    "          index=False   # 행 이름을 출력할 것인지를 지정한다.\n",
    ")"
   ]
  },
  {
   "cell_type": "markdown",
   "metadata": {},
   "source": [
    "## INI 파일\n",
    "\n",
    "확장자가 `.ini`인 텍스트 파일을 INI 파일이라고 하며 주로 소프트웨어의 설정 파일로 사용된다."
   ]
  },
  {
   "cell_type": "markdown",
   "metadata": {},
   "source": [
    "### INI 파일의 데이터 저장 형식\n",
    "\n",
    "1. INI 파일에 저장하는 기본적인 항목을 키(key) 또는 속성(property)이라고 한다.\n",
    "2. 속성은 이름(name)과 값(value)을 가진다.\n",
    "3. 이름과 값은 =로 구분한다.\n",
    "4. 등호의 왼쪽이 속성의 이름이고 오른쪽이 속성의 값이다.\n",
    "5. 여러 속성을 집단으로 나눌 수 있으며 집단은 섹션(section)이라고 한다.\n",
    "6. 섹션의 이름은 `[]` 감싸며 독립된 한 줄에 나타낸다.\n",
    "7. 섹션 이름과 속성 이름은 case-insensitive하다.\n",
    "8. ;로 시작하는 줄은 주석이다."
   ]
  },
  {
   "cell_type": "markdown",
   "metadata": {},
   "source": [
    "### INI 파일의 읽기와 쓰기\n",
    "\n",
    "`configparser` 모듈에 정의된 `ConfigParser` 클래스를 이용해서 INI 파일을 읽을 수 있다.\n",
    "\n",
    "**Note:** INI 파일을 ANSI encoding으로 저장해야 할지도 모른다."
   ]
  },
  {
   "cell_type": "code",
   "execution_count": 4,
   "metadata": {},
   "outputs": [
    {
     "data": {
      "text/plain": [
       "['./datasets/sample.ini']"
      ]
     },
     "execution_count": 4,
     "metadata": {},
     "output_type": "execute_result"
    }
   ],
   "source": [
    "from configparser import ConfigParser\n",
    "config = ConfigParser()\n",
    "config.read('./datasets/sample.ini')"
   ]
  },
  {
   "cell_type": "markdown",
   "metadata": {},
   "source": [
    "섹션의 목록은 `sections()` 메소드로 구한다."
   ]
  },
  {
   "cell_type": "code",
   "execution_count": 5,
   "metadata": {},
   "outputs": [
    {
     "data": {
      "text/plain": [
       "['database', 'Formats', 'attributes', 'BIB1attributes']"
      ]
     },
     "execution_count": 5,
     "metadata": {},
     "output_type": "execute_result"
    }
   ],
   "source": [
    "config.sections()"
   ]
  },
  {
   "cell_type": "markdown",
   "metadata": {},
   "source": [
    "`options()` 메소드에 섹션 이름을 인자로 주면 특정한 섹션에 들어 있는 속성의 이름을 리스트로 구할 수 있다."
   ]
  },
  {
   "cell_type": "code",
   "execution_count": 6,
   "metadata": {},
   "outputs": [
    {
     "data": {
      "text/plain": [
       "['zbasedbtype',\n",
       " 'dbname',\n",
       " 'remotezdbname',\n",
       " 'longname',\n",
       " 'fulltext',\n",
       " 'recordsyntax',\n",
       " 'supportssort',\n",
       " 'supportsscan',\n",
       " 'illservice',\n",
       " 'servername',\n",
       " 'serverinifile']"
      ]
     },
     "execution_count": 6,
     "metadata": {},
     "output_type": "execute_result"
    }
   ],
   "source": [
    "config.options('database')"
   ]
  },
  {
   "cell_type": "markdown",
   "metadata": {},
   "source": [
    "특정 색션의 특정 속성의 값을 구할 때는 `get()` 메소드로 구한다.\n",
    "섹션 이름과 속성 이름을 `get()` 메소드의 인자로 주면 된다."
   ]
  },
  {
   "cell_type": "code",
   "execution_count": 7,
   "metadata": {},
   "outputs": [
    {
     "data": {
      "text/plain": [
       "'Everglades Online'"
      ]
     },
     "execution_count": 7,
     "metadata": {},
     "output_type": "execute_result"
    }
   ],
   "source": [
    "config.get('database', 'longname')"
   ]
  },
  {
   "cell_type": "markdown",
   "metadata": {},
   "source": [
    "다음은 INI 파일을 구성해서 저장하는 예제 코드이다.\n",
    "모든 섹션은 사전 객체이며, 각 섹션에 속하는 속성의 이름과 값도 사전 객체로 처리된다."
   ]
  },
  {
   "cell_type": "code",
   "execution_count": 8,
   "metadata": {
    "collapsed": true
   },
   "outputs": [],
   "source": [
    "conf = ConfigParser()\n",
    "conf['DEFAULT'] = {'ServerAliveInterval': '45',\n",
    "                      'Compression': 'yes',\n",
    "                      'CompressionLevel': '9'}\n",
    "conf['bitbucket.org'] = {}\n",
    "conf['bitbucket.org']['User'] = 'hg'\n",
    "conf['topsecret.server.com'] = {}\n",
    "conf['topsecret.server.com']['Port'] = '50022'\n",
    "conf['topsecret.server.com']['ForwardX11'] = 'no'\n",
    "conf['DEFAULT']['ForwardX11'] = 'yes'\n",
    "\n",
    "fo = open('./datasets/new_sample.ini', 'w')\n",
    "conf.write(fo)\n",
    "fo.close()"
   ]
  },
  {
   "cell_type": "markdown",
   "metadata": {},
   "source": [
    "## YAML 파일\n",
    "\n",
    "INI 파일과 같이 설정 파일로 사용되는 파일 형식으로 YAML 파일이 있다.\n",
    "YAML은 YAML Ain't Markup Language의 약자이다.\n",
    "YAML 파일의 확장자는 `.yml` 또는 `.yaml`이다."
   ]
  },
  {
   "cell_type": "markdown",
   "metadata": {},
   "source": [
    "### YAML 파일의 저장 형식\n",
    "\n",
    "1. 구조를 나타내기 위해 들여쓰기를 이용한다.\n",
    "2. 들여쓰기 할 때 탭은 사용하지 않는다.\n",
    "3. #은 주석의 시작을 나타낸다. 주석은 줄의 어디에서나 시작할 수 있으며 줄의 끝까지가 주석으로 처리된다.\n",
    "4. 리스트의 원소는 쉼표로 구분하고 `[]`로 감싼다..\n",
    "5. 리스트의 원소를 한 줄에 하나씩 나타낼 수 있다. 이때 각 줄은 -(hyphen)으로 시작한다.\n",
    "6. 사전과 같은 연관 배열은 쉼표로 구분한 `키:값`을 `{}`로 감싼다.\n",
    "7. 연관 배열의 모든 `키:값`을 `{}`로 감싸지 않고 한 줄에 `키:값` 하나 씩 기재할 수 있다. 이때 각 줄은 하이펀으로 시작한다.\n",
    "7. 문자열은 큰 따옴표나 작은 따옴표로 감싼다.\n",
    "8. 하나의 스트림에 여러 YAML 문서를 저장할 수 있다. 각 문서의 시작을 3개 이상의 하이펀으로 구분한다.\n",
    "9. 각 문서의 끝은 3개의 마침표로 지정할 수 있다."
   ]
  },
  {
   "cell_type": "markdown",
   "metadata": {},
   "source": [
    "### YAML 파일의 읽기와 쓰기\n",
    "\n",
    "YAML 파일을 지원하는 패키지는`PyYAML`이다.\n",
    "사용법은 INI 파일과 거의 같다."
   ]
  },
  {
   "cell_type": "code",
   "execution_count": 9,
   "metadata": {},
   "outputs": [
    {
     "data": {
      "text/plain": [
       "{'cloud': {'database_service_type': 'db2',\n",
       "  'description': 'Controller + N Compute Topology - x86 KVM',\n",
       "  'features': {'platform_resource_scheduler': 'enabled',\n",
       "   'self_service_portal': 'enabled'},\n",
       "  'messaging_service_type': 'rabbitmq',\n",
       "  'name': 'MyCloudName',\n",
       "  'password': 'MyCloudPassword',\n",
       "  'topology': {'controller_node_name': 'controller',\n",
       "   'database_node_name': 'controller',\n",
       "   'kvm_compute_node_names': 'kvm_compute',\n",
       "   'self_service_portal_node_name': 'controller'}},\n",
       " 'environment': {'base': 'example-ibm-os-single-controller-n-compute',\n",
       "  'default_attributes': None,\n",
       "  'override_attributes': None},\n",
       " 'nodes': [{'description': 'Cloud controller node',\n",
       "   'fqdn': 'controllername.company.com',\n",
       "   'identity_file': None,\n",
       "   'name': 'controller',\n",
       "   'nics': {'data_network': 'eth1', 'management_network': 'eth0'},\n",
       "   'password': 'passw0rd'},\n",
       "  {'attribute_file': None,\n",
       "   'description': 'Cloud KVM compute node',\n",
       "   'fqdn': 'kvmcomputename.company.com',\n",
       "   'identity_file': '/root/identity.pem',\n",
       "   'name': 'kvm_compute',\n",
       "   'nics': {'data_network': 'eth1', 'management_network': 'eth0'},\n",
       "   'password': None}]}"
      ]
     },
     "execution_count": 9,
     "metadata": {},
     "output_type": "execute_result"
    }
   ],
   "source": [
    "import yaml\n",
    "fi = open('./datasets/sample.yml', 'r')\n",
    "conf = yaml.load(fi)\n",
    "fi.close()\n",
    "conf"
   ]
  },
  {
   "cell_type": "code",
   "execution_count": 10,
   "metadata": {},
   "outputs": [
    {
     "data": {
      "text/plain": [
       "{'database_service_type': 'db2',\n",
       " 'description': 'Controller + N Compute Topology - x86 KVM',\n",
       " 'features': {'platform_resource_scheduler': 'enabled',\n",
       "  'self_service_portal': 'enabled'},\n",
       " 'messaging_service_type': 'rabbitmq',\n",
       " 'name': 'MyCloudName',\n",
       " 'password': 'MyCloudPassword',\n",
       " 'topology': {'controller_node_name': 'controller',\n",
       "  'database_node_name': 'controller',\n",
       "  'kvm_compute_node_names': 'kvm_compute',\n",
       "  'self_service_portal_node_name': 'controller'}}"
      ]
     },
     "execution_count": 10,
     "metadata": {},
     "output_type": "execute_result"
    }
   ],
   "source": [
    "conf['cloud']"
   ]
  },
  {
   "cell_type": "code",
   "execution_count": 11,
   "metadata": {},
   "outputs": [
    {
     "data": {
      "text/plain": [
       "'MyCloudName'"
      ]
     },
     "execution_count": 11,
     "metadata": {},
     "output_type": "execute_result"
    }
   ],
   "source": [
    "conf['cloud']['name']"
   ]
  },
  {
   "cell_type": "markdown",
   "metadata": {},
   "source": [
    "YAML 파일의 모든 것은 사전으로 처리되므로 데이터를 사전으로 정리한 다음 YAML 파일로 저장할 수 있다."
   ]
  },
  {
   "cell_type": "code",
   "execution_count": 12,
   "metadata": {
    "collapsed": true
   },
   "outputs": [],
   "source": [
    "conf = {'web_server': ['192.168.0.2', '192.168.0.3'], 'db_server': ['192.168.10.7'],\n",
    "       'users':{'joongyang': '12345', 'park': 'abcde', 'gnu': 'abc123'}}\n",
    "fo = open('./datasets/new_sample.yml', 'w')\n",
    "fo.write(yaml.dump(conf, default_flow_style=False))\n",
    "fo.close()"
   ]
  },
  {
   "cell_type": "markdown",
   "metadata": {},
   "source": [
    "## JSON 파일\n",
    "\n",
    "JSON(JavaScript Object Notation)는 통신에서 데이터를 전달하는데 주로 사용하는 텍스트 형식이다."
   ]
  },
  {
   "cell_type": "markdown",
   "metadata": {},
   "source": [
    "### JSON 파일의 저장 형식\n",
    "\n",
    "1. 숫자는 소숫점을 포함할 수 있으며 과학적 표기법으로 나타낼 수도 있다.\n",
    "2. 문자열은 0개 이상의 유니코드 문자의 열이다.\n",
    "3. 문자열은 큰 따옴표롤 감싸며 이스케이프 시퀀스를 허용한다.\n",
    "4. 논리값을 true와 false로 나타낸다.\n",
    "5. 배열은 쉼표로 구분한 값을 `[]`로 감싼다.\n",
    "6. 여러 개의 속성과 값을 가진 객체는 `{}`로 감싼다. 속성과 값은 `속성:값` 형식으로 기재하고 쉼표로 구분한다.\n",
    "7. 결측치는 null로 표기한다."
   ]
  },
  {
   "cell_type": "markdown",
   "metadata": {},
   "source": [
    "### JSON 파일의 읽기와 쓰기\n",
    "\n",
    "`json` 패키지를 이용하면 JSON 파일을 읽고 쓸 수 있다\n"
   ]
  },
  {
   "cell_type": "code",
   "execution_count": 13,
   "metadata": {},
   "outputs": [
    {
     "data": {
      "text/plain": [
       "{'concurrency': 10,\n",
       " 'description': 'This is a topology',\n",
       " 'environment': 'os-single-controller-n-compute',\n",
       " 'name': 'Topology1',\n",
       " 'nodes': [{'chef_client_options': ['-i 3600', '-s 600'],\n",
       "   'description': 'This is the controller node',\n",
       "   'fqdn': 'controllername.company.com',\n",
       "   'name': 'controller',\n",
       "   'password': 'passw0rd',\n",
       "   'quit_on_error': True,\n",
       "   'run_order_number': 1,\n",
       "   'runlist': ['role[ibm-os-single-controller-node]']},\n",
       "  {'allow_update': False,\n",
       "   'attributes': '{\"openstack\":{\"compute\":{\"libvirt\":{\"virt_type\":\"qemu\"}}}}',\n",
       "   'description': 'This is a KVM qemu compute node',\n",
       "   'fqdn': 'computename.company.com',\n",
       "   'identity_file': '/root/identity.pem',\n",
       "   'name': 'KVM qemu compute',\n",
       "   'run_order_number': 2,\n",
       "   'runlist': ['role[ibm-os-compute-node-kvm]'],\n",
       "   'user': 'admin'}],\n",
       " 'run_sequentially': False,\n",
       " 'secret_file': 'data_bags/example_data_bag_secret'}"
      ]
     },
     "execution_count": 13,
     "metadata": {},
     "output_type": "execute_result"
    }
   ],
   "source": [
    "import json\n",
    "fi = open('./datasets/sample.json', 'r')\n",
    "js = json.load(fi)\n",
    "fi.close()\n",
    "js"
   ]
  },
  {
   "cell_type": "code",
   "execution_count": 14,
   "metadata": {},
   "outputs": [
    {
     "data": {
      "text/plain": [
       "dict_keys(['name', 'description', 'environment', 'secret_file', 'run_sequentially', 'concurrency', 'nodes'])"
      ]
     },
     "execution_count": 14,
     "metadata": {},
     "output_type": "execute_result"
    }
   ],
   "source": [
    "js.keys()"
   ]
  },
  {
   "cell_type": "code",
   "execution_count": 15,
   "metadata": {},
   "outputs": [
    {
     "data": {
      "text/plain": [
       "[{'chef_client_options': ['-i 3600', '-s 600'],\n",
       "  'description': 'This is the controller node',\n",
       "  'fqdn': 'controllername.company.com',\n",
       "  'name': 'controller',\n",
       "  'password': 'passw0rd',\n",
       "  'quit_on_error': True,\n",
       "  'run_order_number': 1,\n",
       "  'runlist': ['role[ibm-os-single-controller-node]']},\n",
       " {'allow_update': False,\n",
       "  'attributes': '{\"openstack\":{\"compute\":{\"libvirt\":{\"virt_type\":\"qemu\"}}}}',\n",
       "  'description': 'This is a KVM qemu compute node',\n",
       "  'fqdn': 'computename.company.com',\n",
       "  'identity_file': '/root/identity.pem',\n",
       "  'name': 'KVM qemu compute',\n",
       "  'run_order_number': 2,\n",
       "  'runlist': ['role[ibm-os-compute-node-kvm]'],\n",
       "  'user': 'admin'}]"
      ]
     },
     "execution_count": 15,
     "metadata": {},
     "output_type": "execute_result"
    }
   ],
   "source": [
    "js['nodes']"
   ]
  },
  {
   "cell_type": "code",
   "execution_count": 16,
   "metadata": {},
   "outputs": [
    {
     "data": {
      "text/plain": [
       "{'allow_update': False,\n",
       " 'attributes': '{\"openstack\":{\"compute\":{\"libvirt\":{\"virt_type\":\"qemu\"}}}}',\n",
       " 'description': 'This is a KVM qemu compute node',\n",
       " 'fqdn': 'computename.company.com',\n",
       " 'identity_file': '/root/identity.pem',\n",
       " 'name': 'KVM qemu compute',\n",
       " 'run_order_number': 2,\n",
       " 'runlist': ['role[ibm-os-compute-node-kvm]'],\n",
       " 'user': 'admin'}"
      ]
     },
     "execution_count": 16,
     "metadata": {},
     "output_type": "execute_result"
    }
   ],
   "source": [
    "js['nodes'][1]"
   ]
  },
  {
   "cell_type": "code",
   "execution_count": 17,
   "metadata": {},
   "outputs": [
    {
     "data": {
      "text/plain": [
       "dict_keys(['name', 'description', 'fqdn', 'user', 'identity_file', 'run_order_number', 'allow_update', 'runlist', 'attributes'])"
      ]
     },
     "execution_count": 17,
     "metadata": {},
     "output_type": "execute_result"
    }
   ],
   "source": [
    "js['nodes'][1].keys()"
   ]
  },
  {
   "cell_type": "code",
   "execution_count": 18,
   "metadata": {},
   "outputs": [
    {
     "data": {
      "text/plain": [
       "'admin'"
      ]
     },
     "execution_count": 18,
     "metadata": {},
     "output_type": "execute_result"
    }
   ],
   "source": [
    "js['nodes'][1]['user']"
   ]
  },
  {
   "cell_type": "markdown",
   "metadata": {},
   "source": [
    "내용을 수정한 다음 JSON 파일로 저장해보자."
   ]
  },
  {
   "cell_type": "code",
   "execution_count": 19,
   "metadata": {
    "collapsed": true
   },
   "outputs": [],
   "source": [
    "del js['name']\n",
    "del js['description']\n",
    "del js['environment']\n",
    "del js['secret_file']\n",
    "js['department'] = {'name': 'information statistics', 'year': '1988', 'nb_prof': '7'}"
   ]
  },
  {
   "cell_type": "code",
   "execution_count": 20,
   "metadata": {},
   "outputs": [
    {
     "data": {
      "text/plain": [
       "{'concurrency': 10,\n",
       " 'department': {'name': 'information statistics',\n",
       "  'nb_prof': '7',\n",
       "  'year': '1988'},\n",
       " 'nodes': [{'chef_client_options': ['-i 3600', '-s 600'],\n",
       "   'description': 'This is the controller node',\n",
       "   'fqdn': 'controllername.company.com',\n",
       "   'name': 'controller',\n",
       "   'password': 'passw0rd',\n",
       "   'quit_on_error': True,\n",
       "   'run_order_number': 1,\n",
       "   'runlist': ['role[ibm-os-single-controller-node]']},\n",
       "  {'allow_update': False,\n",
       "   'attributes': '{\"openstack\":{\"compute\":{\"libvirt\":{\"virt_type\":\"qemu\"}}}}',\n",
       "   'description': 'This is a KVM qemu compute node',\n",
       "   'fqdn': 'computename.company.com',\n",
       "   'identity_file': '/root/identity.pem',\n",
       "   'name': 'KVM qemu compute',\n",
       "   'run_order_number': 2,\n",
       "   'runlist': ['role[ibm-os-compute-node-kvm]'],\n",
       "   'user': 'admin'}],\n",
       " 'run_sequentially': False}"
      ]
     },
     "execution_count": 20,
     "metadata": {},
     "output_type": "execute_result"
    }
   ],
   "source": [
    "js"
   ]
  },
  {
   "cell_type": "code",
   "execution_count": 21,
   "metadata": {
    "collapsed": true
   },
   "outputs": [],
   "source": [
    "fo = open('./datasets/new_sample.json', 'w')\n",
    "json.dump(js, fo, indent=3)\n",
    "fo.close()"
   ]
  },
  {
   "cell_type": "markdown",
   "metadata": {},
   "source": [
    "## 파이썬 프로그램 읽고 실행하기"
   ]
  },
  {
   "cell_type": "markdown",
   "metadata": {},
   "source": [
    "확장자가 `.py`인 파이썬 프로그램 파일(모듈이라고도 한다)도 텍스트 파일이다.\n",
    "따라서 파이썬 프로그램이 저장된 파일에서 프로그램을 읽어 와서 실행할 수 있다."
   ]
  },
  {
   "cell_type": "code",
   "execution_count": 22,
   "metadata": {},
   "outputs": [
    {
     "name": "stdout",
     "output_type": "stream",
     "text": [
      "def say_hello(name):\n",
      "    print('Good morning, ' + name + '?')\n",
      "\n",
      "name = input('What is your name? ')\n",
      "say_hello(name)\n",
      "\n"
     ]
    }
   ],
   "source": [
    "fi = open('./datasets/sample.py', 'r')\n",
    "prog = fi.read()\n",
    "fi.close()\n",
    "print(prog)"
   ]
  },
  {
   "cell_type": "code",
   "execution_count": 23,
   "metadata": {},
   "outputs": [
    {
     "name": "stdout",
     "output_type": "stream",
     "text": [
      "What is your name? joongyang\n",
      "Good morning, joongyang?\n"
     ]
    }
   ],
   "source": [
    "exec(prog)"
   ]
  },
  {
   "cell_type": "markdown",
   "metadata": {},
   "source": [
    "파이썬 프로그램이 저장된 문자열을 컴파일한 결과를 저장해두면 프로그램을 반복해서 실행할 때 더 좋은 성능을 얻을 수 있다."
   ]
  },
  {
   "cell_type": "code",
   "execution_count": 24,
   "metadata": {},
   "outputs": [
    {
     "name": "stdout",
     "output_type": "stream",
     "text": [
      "What is your name? park\n",
      "Good morning, park?\n"
     ]
    }
   ],
   "source": [
    "cprog = compile(prog, '<string>', 'exec')\n",
    "exec(cprog)"
   ]
  },
  {
   "cell_type": "markdown",
   "metadata": {},
   "source": [
    "또는 다음과 같이 프로그램 파일을 바로 컴파일할 수도 있다."
   ]
  },
  {
   "cell_type": "code",
   "execution_count": 25,
   "metadata": {},
   "outputs": [
    {
     "name": "stdout",
     "output_type": "stream",
     "text": [
      "What is your name? kim\n",
      "Good morning, kim?\n"
     ]
    }
   ],
   "source": [
    "cprog = compile(prog, './datasets/sample.py', 'exec')\n",
    "exec(cprog)"
   ]
  },
  {
   "cell_type": "markdown",
   "metadata": {},
   "source": [
    "## 컴파일 코드의 저장과 실행"
   ]
  },
  {
   "cell_type": "markdown",
   "metadata": {},
   "source": [
    "컴파일한 결과를 이진 파일로 저장할 수 있다.\n",
    "이때 확장자는 `.pyc`를 사용한다.\n",
    "다음은 `py_compile` 모듈을 이용해서 `samplke.py`를 컴파일한 결과를 `sample.pyc`에 저장하는 예이다."
   ]
  },
  {
   "cell_type": "code",
   "execution_count": 26,
   "metadata": {},
   "outputs": [
    {
     "data": {
      "text/plain": [
       "'./datasets/sample.pyc'"
      ]
     },
     "execution_count": 26,
     "metadata": {},
     "output_type": "execute_result"
    }
   ],
   "source": [
    "import py_compile\n",
    "py_compile.compile('./datasets/sample.py', './datasets/sample.pyc')"
   ]
  },
  {
   "cell_type": "markdown",
   "metadata": {},
   "source": [
    "컴파일된 코드가 저장된 파일은 이진 파일로 읽어야 한다.\n",
    "machine's native format, bite order, timestamp가 저장된 첫 12바이트를 건너 뛰고 나머지만 읽어들이면 된다."
   ]
  },
  {
   "cell_type": "code",
   "execution_count": 27,
   "metadata": {},
   "outputs": [
    {
     "name": "stdout",
     "output_type": "stream",
     "text": [
      "What is your name? joongyang\n",
      "Good morning, joongyang?\n"
     ]
    }
   ],
   "source": [
    "import marshal\n",
    "\n",
    "s = open('./datasets/sample.pyc', 'rb')\n",
    "s.seek(12)\n",
    "code_obj = marshal.load(s)\n",
    "exec(code_obj)"
   ]
  }
 ],
 "metadata": {
  "anaconda-cloud": {},
  "kernelspec": {
   "display_name": "Python 3",
   "language": "python",
   "name": "python3"
  },
  "language_info": {
   "codemirror_mode": {
    "name": "ipython",
    "version": 3
   },
   "file_extension": ".py",
   "mimetype": "text/x-python",
   "name": "python",
   "nbconvert_exporter": "python",
   "pygments_lexer": "ipython3",
   "version": "3.6.5"
  }
 },
 "nbformat": 4,
 "nbformat_minor": 2
}
