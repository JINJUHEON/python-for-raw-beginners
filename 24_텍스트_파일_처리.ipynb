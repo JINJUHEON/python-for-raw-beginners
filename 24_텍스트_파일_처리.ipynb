{
 "cells": [
  {
   "cell_type": "markdown",
   "metadata": {},
   "source": [
    "# 텍스트 파일 처리\n",
    "\n",
    "문자열을 저장한 파일을 텍스트 파일이라고 한다.\n",
    "따라서 텍스트 파일에 저장된 것을 프로그램 안으로 읽어 들인 것도 문자열이 된다.\n",
    "그러므로 텍스트 파일에서 읽어 들인 것은 필요에 따라서 적절하게 정수나 실수 또는 다른 자료형으로 변환해야 할 때도 있다."
   ]
  },
  {
   "cell_type": "markdown",
   "metadata": {},
   "source": [
    "## 텍스트를 파일에 저장하기\n",
    "\n",
    "다음은 특정 기사의 일부분을 텍스트 파일로 저장하는 프로그램이다.\n",
    "텍스트 파일에 데이터를 저장할 때는 다음과 같은 절차를 따른다.\n",
    "\n",
    "1. `open()` 함수로 파일 객체(file object)를 생성한다.\n",
    "2. 파일 객체의 `write()` 메소드로 데이터를 기록한다.\n",
    "3. 파일 객체의 `close()` 메소드로 파일 객체의 사용을 종료한다."
   ]
  },
  {
   "cell_type": "code",
   "execution_count": 1,
   "metadata": {},
   "outputs": [],
   "source": [
    "news = \"\"\"국내 증권업계에서 베트남은 매력적이긴 하나 수익을 내기 어려운 국가라는 인식이 강했다.\n",
    "10년 전 전세계를 강타한 글로벌 금융위기로 베트남 증시가 휘청이면서 당시 국내에 설정된 베트남 펀드 수익률이 크게 꺾인 아픔도 있다.\n",
    "하지만 최근 들어 한국 금융투자업계가 베트남 시장의 문을 다시 두드리기 시작했다.\n",
    "베트남 정부의 적극적인 외국인 투자 유치 정책이 효과를 발휘하면서 베트남 증시는 2017년 한 해 동안 40% 이상 상승했다.\n",
    "베트남 펀드 수익률도 다시 고공비행 중이다.\n",
    "인구 1억명의 베트남은 전체 인구의 70%가 생산가능인구(15~64세)인 젊은 국가다.\n",
    "30세 미만 인구 비중은 주요 신흥국 가운데 인도와 인도네시아 다음으로 높다.\n",
    "전문가들은 “베트남의 무서운 경제 성장세가 2018년에도 지속될 것”이라고 내다봤다.\"\"\""
   ]
  },
  {
   "cell_type": "code",
   "execution_count": 2,
   "metadata": {},
   "outputs": [],
   "source": [
    "file = open('./datasets/news.txt', 'w')\n",
    "file.write(news)\n",
    "file.close()"
   ]
  },
  {
   "cell_type": "markdown",
   "metadata": {},
   "source": [
    "변수 news에 저장된 데이터를 파일에 기록하였으므로 변수를 삭제할 수 있다."
   ]
  },
  {
   "cell_type": "code",
   "execution_count": 3,
   "metadata": {},
   "outputs": [
    {
     "ename": "NameError",
     "evalue": "name 'news' is not defined",
     "output_type": "error",
     "traceback": [
      "\u001b[1;31m---------------------------------------------------------------------------\u001b[0m",
      "\u001b[1;31mNameError\u001b[0m                                 Traceback (most recent call last)",
      "\u001b[1;32m<ipython-input-3-11a452006c14>\u001b[0m in \u001b[0;36m<module>\u001b[1;34m()\u001b[0m\n\u001b[0;32m      1\u001b[0m \u001b[1;32mdel\u001b[0m \u001b[0mnews\u001b[0m\u001b[1;33m\u001b[0m\u001b[0m\n\u001b[1;32m----> 2\u001b[1;33m \u001b[0mprint\u001b[0m\u001b[1;33m(\u001b[0m\u001b[0mnews\u001b[0m\u001b[1;33m)\u001b[0m\u001b[1;33m\u001b[0m\u001b[0m\n\u001b[0m",
      "\u001b[1;31mNameError\u001b[0m: name 'news' is not defined"
     ]
    }
   ],
   "source": [
    "del news\n",
    "print(news)"
   ]
  },
  {
   "cell_type": "markdown",
   "metadata": {},
   "source": [
    "## 텍스트 파일 읽기\n",
    "\n",
    "1. `open()` 함수로 파일 객체를 생성한다.\n",
    "2. 파일 객체의 `read()`, `readline()`, `readlines()` 메소드 등으로 텍스트를 읽어온다.\n",
    "3. 파일 객체의 `close()` 메소드로 파일 객체의 사용을 종료한다.\n",
    "\n",
    "`read()` 메소드는 모든 텍스트를 하나의 문자열로 읽어오고, `readline()` 메소드는 현재 커서(cursor)가 위치한 곳에서 한 줄만 문자열로 읽어온다.\n",
    "이에 반해 `readlines()` 메소드는 모든 텍스트를 줄 단위로 끊어 읽은 문자열 리스트를 반환한다.\n",
    "커서는 파일 내에서의 위치를 가리키는 객체로 파일 객체를 생성할 때 파일의 제일 앞에 위치한다."
   ]
  },
  {
   "cell_type": "code",
   "execution_count": 4,
   "metadata": {},
   "outputs": [
    {
     "name": "stdout",
     "output_type": "stream",
     "text": [
      "국내 증권업계에서 베트남은 매력적이긴 하나 수익을 내기 어려운 국가라는 인식이 강했다.\n",
      "10년 전 전세계를 강타한 글로벌 금융위기로 베트남 증시가 휘청이면서 당시 국내에 설정된 베트남 펀드 수익률이 크게 꺾인 아픔도 있다.\n",
      "하지만 최근 들어 한국 금융투자업계가 베트남 시장의 문을 다시 두드리기 시작했다.\n",
      "베트남 정부의 적극적인 외국인 투자 유치 정책이 효과를 발휘하면서 베트남 증시는 2017년 한 해 동안 40% 이상 상승했다.\n",
      "베트남 펀드 수익률도 다시 고공비행 중이다.\n",
      "인구 1억명의 베트남은 전체 인구의 70%가 생산가능인구(15~64세)인 젊은 국가다.\n",
      "30세 미만 인구 비중은 주요 신흥국 가운데 인도와 인도네시아 다음으로 높다.\n",
      "전문가들은 “베트남의 무서운 경제 성장세가 2018년에도 지속될 것”이라고 내다봤다.\n"
     ]
    }
   ],
   "source": [
    "file = open('./datasets/news.txt', 'r')\n",
    "news = file.read()\n",
    "print(news)\n",
    "file.close()"
   ]
  },
  {
   "cell_type": "code",
   "execution_count": 5,
   "metadata": {},
   "outputs": [
    {
     "name": "stdout",
     "output_type": "stream",
     "text": [
      "['국내 증권업계에서 베트남은 매력적이긴 하나 수익을 내기 어려운 국가라는 인식이 강했다.\\n', '10년 전 전세계를 강타한 글로벌 금융위기로 베트남 증시가 휘청이면서 당시 국내에 설정된 베트남 펀드 수익률이 크게 꺾인 아픔도 있다.\\n', '하지만 최근 들어 한국 금융투자업계가 베트남 시장의 문을 다시 두드리기 시작했다.\\n', '베트남 정부의 적극적인 외국인 투자 유치 정책이 효과를 발휘하면서 베트남 증시는 2017년 한 해 동안 40% 이상 상승했다.\\n', '베트남 펀드 수익률도 다시 고공비행 중이다.\\n', '인구 1억명의 베트남은 전체 인구의 70%가 생산가능인구(15~64세)인 젊은 국가다.\\n', '30세 미만 인구 비중은 주요 신흥국 가운데 인도와 인도네시아 다음으로 높다.\\n', '전문가들은 “베트남의 무서운 경제 성장세가 2018년에도 지속될 것”이라고 내다봤다.']\n"
     ]
    }
   ],
   "source": [
    "file = open('./datasets/news.txt', 'r')\n",
    "news = file.readlines()\n",
    "file.close()\n",
    "print(news)"
   ]
  },
  {
   "cell_type": "code",
   "execution_count": 6,
   "metadata": {},
   "outputs": [
    {
     "name": "stdout",
     "output_type": "stream",
     "text": [
      "['국내 증권업계에서 베트남은 매력적이긴 하나 수익을 내기 어려운 국가라는 인식이 강했다.\\n', '10년 전 전세계를 강타한 글로벌 금융위기로 베트남 증시가 휘청이면서 당시 국내에 설정된 베트남 펀드 수익률이 크게 꺾인 아픔도 있다.\\n', '하지만 최근 들어 한국 금융투자업계가 베트남 시장의 문을 다시 두드리기 시작했다.\\n', '베트남 정부의 적극적인 외국인 투자 유치 정책이 효과를 발휘하면서 베트남 증시는 2017년 한 해 동안 40% 이상 상승했다.\\n', '베트남 펀드 수익률도 다시 고공비행 중이다.\\n', '인구 1억명의 베트남은 전체 인구의 70%가 생산가능인구(15~64세)인 젊은 국가다.\\n', '30세 미만 인구 비중은 주요 신흥국 가운데 인도와 인도네시아 다음으로 높다.\\n', '전문가들은 “베트남의 무서운 경제 성장세가 2018년에도 지속될 것”이라고 내다봤다.']\n"
     ]
    }
   ],
   "source": [
    "file = open('./datasets/news.txt', 'r')\n",
    "news = []\n",
    "line = file.readline()\n",
    "while line:\n",
    "    news.append(line)\n",
    "    line = file.readline()\n",
    "file.close()\n",
    "print(news)"
   ]
  },
  {
   "cell_type": "markdown",
   "metadata": {},
   "source": [
    "기존 텍스트 파일의 마지막에 내용을 추가할 때는 `open()` 함수로 파일 객체를 생성할 때 **추가 모드**(append mode)로 생성한다."
   ]
  },
  {
   "cell_type": "code",
   "execution_count": 7,
   "metadata": {},
   "outputs": [],
   "source": [
    "addition = \"\"\"\n",
    "KB증권은 지난달 29일(현지시간) 베트남 하노이에서 자회사 ‘KBSV(KB Securities Vietnam)’의 공식 출범 행사를 개최했다.\n",
    "KBSV의 전신(前身)은 베트남 증권사인 매리타임증권이다. KB증권은 2017년 10월 매리타임증권을 인수한 뒤 약 3달간 재출범 준비를 해왔다.\n",
    "매리타임증권은 베트남에서 자산 기준 27위, 자기자본 기준 24위의 중소형 증권사였다.\n",
    "KB증권은 KBSV를 베트남 선두권 증권사로 육성한다는 계획이다.\n",
    "베트남에 진출했거나 진출 예정인 한국 기업을 위한 인수합병(M&A) 자문, 자금조달 주선, 신사업 추진 컨설팅 등도 지원할 예정이다.\n",
    "\"\"\""
   ]
  },
  {
   "cell_type": "code",
   "execution_count": 8,
   "metadata": {},
   "outputs": [],
   "source": [
    "file = open('./datasets/news.txt', 'a')\n",
    "file.write(addition)\n",
    "file.close()"
   ]
  },
  {
   "cell_type": "code",
   "execution_count": 9,
   "metadata": {},
   "outputs": [
    {
     "name": "stdout",
     "output_type": "stream",
     "text": [
      "국내 증권업계에서 베트남은 매력적이긴 하나 수익을 내기 어려운 국가라는 인식이 강했다.\n",
      "10년 전 전세계를 강타한 글로벌 금융위기로 베트남 증시가 휘청이면서 당시 국내에 설정된 베트남 펀드 수익률이 크게 꺾인 아픔도 있다.\n",
      "하지만 최근 들어 한국 금융투자업계가 베트남 시장의 문을 다시 두드리기 시작했다.\n",
      "베트남 정부의 적극적인 외국인 투자 유치 정책이 효과를 발휘하면서 베트남 증시는 2017년 한 해 동안 40% 이상 상승했다.\n",
      "베트남 펀드 수익률도 다시 고공비행 중이다.\n",
      "인구 1억명의 베트남은 전체 인구의 70%가 생산가능인구(15~64세)인 젊은 국가다.\n",
      "30세 미만 인구 비중은 주요 신흥국 가운데 인도와 인도네시아 다음으로 높다.\n",
      "전문가들은 “베트남의 무서운 경제 성장세가 2018년에도 지속될 것”이라고 내다봤다.\n",
      "KB증권은 지난달 29일(현지시간) 베트남 하노이에서 자회사 ‘KBSV(KB Securities Vietnam)’의 공식 출범 행사를 개최했다.\n",
      "KBSV의 전신(前身)은 베트남 증권사인 매리타임증권이다. KB증권은 2017년 10월 매리타임증권을 인수한 뒤 약 3달간 재출범 준비를 해왔다.\n",
      "매리타임증권은 베트남에서 자산 기준 27위, 자기자본 기준 24위의 중소형 증권사였다.\n",
      "KB증권은 KBSV를 베트남 선두권 증권사로 육성한다는 계획이다.\n",
      "베트남에 진출했거나 진출 예정인 한국 기업을 위한 인수합병(M&A) 자문, 자금조달 주선, 신사업 추진 컨설팅 등도 지원할 예정이다.\n",
      "\n"
     ]
    }
   ],
   "source": [
    "file = open('./datasets/news.txt', 'r')\n",
    "news = file.read()\n",
    "file.close()\n",
    "print(news)"
   ]
  },
  {
   "cell_type": "markdown",
   "metadata": {},
   "source": [
    "## 파일 객체의 상태 조회하기\n",
    "\n",
    "`open()` 함수로 얻은 파일 객체의 상태는 `closed`, `mode`, `name` 속성으로 알아 볼 수 있다."
   ]
  },
  {
   "cell_type": "code",
   "execution_count": 10,
   "metadata": {},
   "outputs": [
    {
     "name": "stdout",
     "output_type": "stream",
     "text": [
      "False\n",
      "r\n",
      "./datasets/news.txt\n",
      "True\n",
      "r\n",
      "./datasets/news.txt\n"
     ]
    }
   ],
   "source": [
    "file = open('./datasets/news.txt', 'r')\n",
    "print(file.closed)\n",
    "print(file.mode)\n",
    "print(file.name)\n",
    "file.close()\n",
    "print(file.closed)\n",
    "print(file.mode)\n",
    "print(file.name)"
   ]
  },
  {
   "cell_type": "markdown",
   "metadata": {},
   "source": [
    "## `print()` 함수의 출력 위치를 파일로 지정하기\n",
    "\n",
    "기본적으로 `print()` 함수는 모니터에 출력한다.\n",
    "`print()` 함수의 출력 위치를 파일 객체로 지정하면 화면에 출력할 내용을 텍스트 파일에 저장할 수 있다."
   ]
  },
  {
   "cell_type": "code",
   "execution_count": 11,
   "metadata": {},
   "outputs": [
    {
     "name": "stdout",
     "output_type": "stream",
     "text": [
      "['Park', 'Kim', 'Lee', 'Choi', 'Kang']\n"
     ]
    }
   ],
   "source": [
    "names = ['Park', 'Kim', 'Lee', 'Choi', 'Kang']\n",
    "print(names)\n",
    "\n",
    "of = open('./datasets/friends.txt', 'w')\n",
    "print(names, file=of)\n",
    "of.close()"
   ]
  },
  {
   "cell_type": "code",
   "execution_count": 12,
   "metadata": {},
   "outputs": [
    {
     "name": "stdout",
     "output_type": "stream",
     "text": [
      "['Park', 'Kim', 'Lee', 'Choi', 'Kang']\n",
      "\n",
      "<class 'str'>\n"
     ]
    }
   ],
   "source": [
    "fi = open('./datasets/friends.txt', 'r')\n",
    "friends = fi.read()\n",
    "fi.close()\n",
    "print(friends)\n",
    "print(type(friends))"
   ]
  },
  {
   "cell_type": "markdown",
   "metadata": {},
   "source": [
    "## 스트림(stream)\n",
    "\n",
    "텍스트를 입출력하기 위해 만든 파일 객체는 연속된 문자 흐름 즉 `텍스트 스트림`(text stream)이라고 한다.\n",
    "일반적으로 스트림은 **file-like object**(파일과 유사한 객체, 순차적으로 읽고 쓸 수 있는 객체)라고도 한다.\n",
    "텍스트 스트림을 파일이 아니라 메모리에 생성하면 빠르게 읽고 쓸 수 있으며 내용 수정도 편하게 할 수 있다."
   ]
  },
  {
   "cell_type": "markdown",
   "metadata": {},
   "source": [
    "메모리에 텍스트 스트림을 생성할 때는 `io` 모듈의 `StringIO` 클래스를 사용한다.\n",
    "`StringIO` 클래스의 `write()`, `read()` 메소드로 텍스트를 읽거나 쓰고, `seek()` 메소드로 읽고 쓸 위치로 이동할 수 있다.\n",
    "`StringIO` 객체에 저장된 모든 텍스트를 문자열로 받으려면 `getvalue()` 메소드를 호출한다.\n",
    "`StringIO` 객체의 사용이 종료하면 `close()` 메소드를 호출한다."
   ]
  },
  {
   "cell_type": "code",
   "execution_count": 13,
   "metadata": {},
   "outputs": [
    {
     "name": "stdout",
     "output_type": "stream",
     "text": [
      "This is wr\n",
      "10\n",
      "6\n",
      "s writtem \n",
      "This is writtem in a in-memory text stream.\n",
      "['Park', 'Kim', 'Lee', 'Choi', 'Kang']\n",
      "\n",
      "\n",
      "<class 'str'>\n"
     ]
    }
   ],
   "source": [
    "import io\n",
    "stream = io.StringIO()\n",
    "stream.write(\"This is writtem in a in-memory text stream.\")\n",
    "stream.write(\"\\n\")\n",
    "print(friends, file=stream)\n",
    "\n",
    "stream.seek(0) # 스트림의 처음으로 이동한다.\n",
    "msg = stream.read(10)\n",
    "print(msg)\n",
    "\n",
    "print(stream.tell()) # 현재의 위치를 알아본다.\n",
    "stream.seek(io.SEEK_CUR + 5) # 스트림의 현재 위치에서 5 문자 앞으로 이동한다.\n",
    "print(stream.tell())\n",
    "\n",
    "msg = stream.read(10)\n",
    "print(msg)\n",
    "\n",
    "msg = stream.getvalue()\n",
    "stream.close()\n",
    "print(msg)\n",
    "print(type(msg))"
   ]
  },
  {
   "cell_type": "markdown",
   "metadata": {},
   "source": [
    "## 연습문제\n",
    "\n",
    "1. 텍스트 파일 이름을 받아서 줄 수를 반환하는 함수를 작성하시오.\n",
    "2. 텍스트 파일 이름을 받아서 글자 수를 반환하는 함수를 작성하시오.\n",
    "3. 텍스트 파일 이름을 받아서 단어 수를 반환하는 함수를 작성하시오.\n",
    "4. 이진 파일(binary file)을 읽고 쓰는 방법과 바이트(bytes) 자료형에 대해 알아보시오.\n",
    "5. `io` 모듈의 `BytesIO` 클래스를 이용하여 메모리에 이진 스트림(in-memory binary stream)을 만들고 사용하는 방법에 대해 설명하시오."
   ]
  }
 ],
 "metadata": {
  "anaconda-cloud": {},
  "kernelspec": {
   "display_name": "Python 3",
   "language": "python",
   "name": "python3"
  },
  "language_info": {
   "codemirror_mode": {
    "name": "ipython",
    "version": 3
   },
   "file_extension": ".py",
   "mimetype": "text/x-python",
   "name": "python",
   "nbconvert_exporter": "python",
   "pygments_lexer": "ipython3",
   "version": "3.6.4"
  }
 },
 "nbformat": 4,
 "nbformat_minor": 2
}
