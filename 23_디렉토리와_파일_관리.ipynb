{
 "cells": [
  {
   "cell_type": "markdown",
   "metadata": {},
   "source": [
    "# 운영체제 이용\n",
    "\n",
    "운영체제도 프로그램이므로 실행에 필요한 변수를 정의하고 사용한다.\n",
    "응용 프로그램은 운영체제 내에서 실행되기 때문에 운영체제는 응용 프로그램의 환경으로 볼 수 있다.\n",
    "이런 의미로 운영체제에서 정의한 변수를 환경변수라고 한다.\n",
    "응용 프로그램은 환경변수를 비롯한 운영체제에 대한 정보 뿐만 아니라 운영체제가 제공하는 기능도 이용해야 한다.\n",
    "이를 지원하기 위한 라이브러리가 `os`이다."
   ]
  },
  {
   "cell_type": "code",
   "execution_count": 1,
   "metadata": {},
   "outputs": [],
   "source": [
    "import os"
   ]
  },
  {
   "cell_type": "markdown",
   "metadata": {},
   "source": [
    "환경변수에 대한 정보는 `environ` 객체를 통해 얻을 수 있다.\n",
    "이 객체는 `dict` 객체와 유사한 방법으로 이용할 수 있다.\n",
    "즉 `[]` 연산자를 이용해서 환경변수를 조회하거나 추가할 수 있다.\n",
    "\n",
    "Note: `set` 명령으로 명령창에서 환경변수를 조회할 수 있다.\n",
    "특정 환경변수의 값을 조회할 때는 `echo %환경변수%` 명령을 내리면 된다."
   ]
  },
  {
   "cell_type": "code",
   "execution_count": 2,
   "metadata": {},
   "outputs": [
    {
     "name": "stdout",
     "output_type": "stream",
     "text": [
      "environ({'ALLUSERSPROFILE': 'C:\\\\ProgramData', 'APPDATA': 'C:\\\\Users\\\\joong\\\\AppData\\\\Roaming', 'COMMONPROGRAMFILES': 'C:\\\\Program Files\\\\Common Files', 'COMMONPROGRAMFILES(X86)': 'C:\\\\Program Files (x86)\\\\Common Files', 'COMMONPROGRAMW6432': 'C:\\\\Program Files\\\\Common Files', 'COMPUTERNAME': 'MSI-DARWINIAN', 'COMSPEC': 'C:\\\\WINDOWS\\\\system32\\\\cmd.exe', 'CONDA_DEFAULT_ENV': 'base', 'CONDA_PREFIX': 'd:\\\\app\\\\Anaconda3', 'CONDA_PROMPT_MODIFIER': '(base) ', 'CONDA_PYTHON_EXE': 'd:\\\\app\\\\Anaconda3\\\\python.exe', 'CONDA_SHLVL': '1', 'HADOOP_HOME': 'D:\\\\app\\\\spark\\\\spark-2.3.0-bin-hadoop2.7', 'HOMEDRIVE': 'C:', 'HOMEPATH': '\\\\Users\\\\joong', 'LOCALAPPDATA': 'C:\\\\Users\\\\joong\\\\AppData\\\\Local', 'LOGONSERVER': '\\\\\\\\MSI-DARWINIAN', 'NUMBER_OF_PROCESSORS': '4', 'ONEDRIVE': 'C:\\\\Users\\\\joong\\\\OneDrive', 'OS': 'Windows_NT', 'PATH': 'd:\\\\app\\\\Anaconda3;d:\\\\app\\\\Anaconda3\\\\Library\\\\mingw-w64\\\\bin;d:\\\\app\\\\Anaconda3\\\\Library\\\\usr\\\\bin;d:\\\\app\\\\Anaconda3\\\\Library\\\\bin;d:\\\\app\\\\Anaconda3\\\\Scripts;d:\\\\app\\\\Anaconda3\\\\bin;C:\\\\ProgramData\\\\Oracle\\\\Java\\\\javapath;C:\\\\WINDOWS\\\\system32;C:\\\\WINDOWS;C:\\\\WINDOWS\\\\System32\\\\Wbem;C:\\\\WINDOWS\\\\System32\\\\WindowsPowerShell\\\\v1.0\\\\;D:\\\\Program Files\\\\IBM\\\\SPSS\\\\Statistics\\\\23\\\\JRE\\\\bin;D:\\\\app\\\\sqlite;D:\\\\app\\\\Pandoc\\\\;D:\\\\app\\\\spark\\\\spark-2.3.0-bin-hadoop2.7\\\\bin;D:\\\\app\\\\Anaconda3;D:\\\\app\\\\Anaconda3\\\\Library\\\\mingw-w64\\\\bin;D:\\\\app\\\\Anaconda3\\\\Library\\\\usr\\\\bin;D:\\\\app\\\\Anaconda3\\\\Library\\\\bin;D:\\\\app\\\\Anaconda3\\\\Scripts;C:\\\\Users\\\\joong\\\\AppData\\\\Local\\\\Microsoft\\\\WindowsApps;D:\\\\texlive\\\\2016\\\\bin\\\\win32;C:\\\\Users\\\\joong\\\\AppData\\\\Local\\\\Microsoft\\\\WindowsApps;D:\\\\app\\\\Anaconda3\\\\Library\\\\bin\\\\graphviz;C:\\\\Program Files\\\\Microsoft VS Code\\\\bin', 'PATHEXT': '.COM;.EXE;.BAT;.CMD;.VBS;.VBE;.JS;.JSE;.WSF;.WSH;.MSC', 'PROCESSOR_ARCHITECTURE': 'AMD64', 'PROCESSOR_IDENTIFIER': 'Intel64 Family 6 Model 60 Stepping 3, GenuineIntel', 'PROCESSOR_LEVEL': '6', 'PROCESSOR_REVISION': '3c03', 'PROGRAMDATA': 'C:\\\\ProgramData', 'PROGRAMFILES': 'C:\\\\Program Files', 'PROGRAMFILES(X86)': 'C:\\\\Program Files (x86)', 'PROGRAMW6432': 'C:\\\\Program Files', 'PROMPT': '(base) $P$G', 'PSMODULEPATH': 'C:\\\\Program Files\\\\WindowsPowerShell\\\\Modules;C:\\\\WINDOWS\\\\system32\\\\WindowsPowerShell\\\\v1.0\\\\Modules', 'PUBLIC': 'C:\\\\Users\\\\Public', 'PYTHONIOENCODING': '949', 'SESSIONNAME': 'Console', 'SPARK_HOME': 'D:\\\\app\\\\spark\\\\spark-2.3.0-bin-hadoop2.7', 'SYSTEMDRIVE': 'C:', 'SYSTEMROOT': 'C:\\\\WINDOWS', 'TEMP': 'C:\\\\Users\\\\joong\\\\AppData\\\\Local\\\\Temp', 'TMP': 'C:\\\\Users\\\\joong\\\\AppData\\\\Local\\\\Temp', 'USERDOMAIN': 'MSI-DARWINIAN', 'USERDOMAIN_ROAMINGPROFILE': 'MSI-DARWINIAN', 'USERNAME': 'joong', 'USERPROFILE': 'C:\\\\Users\\\\joong', 'WINDIR': 'C:\\\\WINDOWS', 'JPY_INTERRUPT_EVENT': '1740', 'IPY_INTERRUPT_EVENT': '1740', 'JPY_PARENT_PID': '1140', 'TERM': 'xterm-color', 'CLICOLOR': '1', 'PAGER': 'cat', 'GIT_PAGER': 'cat', 'MPLBACKEND': 'module://ipykernel.pylab.backend_inline'})\n"
     ]
    }
   ],
   "source": [
    "print(os.environ)"
   ]
  },
  {
   "cell_type": "code",
   "execution_count": 3,
   "metadata": {},
   "outputs": [
    {
     "name": "stdout",
     "output_type": "stream",
     "text": [
      "C:\n",
      "\\Users\\joong\n",
      "d:\\app\\Anaconda3;d:\\app\\Anaconda3\\Library\\mingw-w64\\bin;d:\\app\\Anaconda3\\Library\\usr\\bin;d:\\app\\Anaconda3\\Library\\bin;d:\\app\\Anaconda3\\Scripts;d:\\app\\Anaconda3\\bin;C:\\ProgramData\\Oracle\\Java\\javapath;C:\\WINDOWS\\system32;C:\\WINDOWS;C:\\WINDOWS\\System32\\Wbem;C:\\WINDOWS\\System32\\WindowsPowerShell\\v1.0\\;D:\\Program Files\\IBM\\SPSS\\Statistics\\23\\JRE\\bin;D:\\app\\sqlite;D:\\app\\Pandoc\\;D:\\app\\spark\\spark-2.3.0-bin-hadoop2.7\\bin;D:\\app\\Anaconda3;D:\\app\\Anaconda3\\Library\\mingw-w64\\bin;D:\\app\\Anaconda3\\Library\\usr\\bin;D:\\app\\Anaconda3\\Library\\bin;D:\\app\\Anaconda3\\Scripts;C:\\Users\\joong\\AppData\\Local\\Microsoft\\WindowsApps;D:\\texlive\\2016\\bin\\win32;C:\\Users\\joong\\AppData\\Local\\Microsoft\\WindowsApps;D:\\app\\Anaconda3\\Library\\bin\\graphviz;C:\\Program Files\\Microsoft VS Code\\bin\n",
      "Windows_NT\n",
      "C:\\Users\\joong\\AppData\\Local\\Temp\n"
     ]
    }
   ],
   "source": [
    "print(os.environ['HOMEDRIVE'])\n",
    "print(os.environ['HOMEPATH'])\n",
    "print(os.environ['PATH'])\n",
    "print(os.environ['OS'])\n",
    "print(os.environ['TEMP'])"
   ]
  },
  {
   "cell_type": "markdown",
   "metadata": {},
   "source": [
    "## `import` 문장에서 기재된 모듈을 검색할 경로\n",
    "\n",
    "`import` 문장에 기재된 모듈을 검색할 경로는 `sys` 모듈의 `path`에 리스트로 저장되어 있다.\n",
    "따라서 모듈 검색 경로에 새로운 경로를 추가할 수 있다."
   ]
  },
  {
   "cell_type": "code",
   "execution_count": 4,
   "metadata": {},
   "outputs": [
    {
     "name": "stdout",
     "output_type": "stream",
     "text": [
      "['', 'D:\\\\app\\\\Anaconda3\\\\python36.zip', 'D:\\\\app\\\\Anaconda3\\\\DLLs', 'D:\\\\app\\\\Anaconda3\\\\lib', 'D:\\\\app\\\\Anaconda3', 'D:\\\\app\\\\Anaconda3\\\\lib\\\\site-packages', 'D:\\\\app\\\\Anaconda3\\\\lib\\\\site-packages\\\\win32', 'D:\\\\app\\\\Anaconda3\\\\lib\\\\site-packages\\\\win32\\\\lib', 'D:\\\\app\\\\Anaconda3\\\\lib\\\\site-packages\\\\Pythonwin', 'D:\\\\app\\\\Anaconda3\\\\lib\\\\site-packages\\\\IPython\\\\extensions', 'C:\\\\Users\\\\joong\\\\.ipython']\n"
     ]
    }
   ],
   "source": [
    "import sys\n",
    "print(sys.path)"
   ]
  },
  {
   "cell_type": "markdown",
   "metadata": {},
   "source": [
    "## 디렉토리 관리"
   ]
  },
  {
   "cell_type": "markdown",
   "metadata": {},
   "source": [
    "### 디렉토리 구분 문자\n",
    "\n",
    "운영체제에 따라 디렉토리 구분 문자가 다르다.\n",
    "현재 사용하는 운영체제의 디렉토리 구분 문자는 `os.sep`에 저장되어 있다.\n",
    "프로그램을 작성할 때는 디렉토리 구분 문자를 직접 입력하지 않고 `os.sep`를 이용하는 것이 좋다. "
   ]
  },
  {
   "cell_type": "code",
   "execution_count": 5,
   "metadata": {},
   "outputs": [
    {
     "data": {
      "text/plain": [
       "'\\\\'"
      ]
     },
     "execution_count": 5,
     "metadata": {},
     "output_type": "execute_result"
    }
   ],
   "source": [
    "os.sep"
   ]
  },
  {
   "cell_type": "code",
   "execution_count": 6,
   "metadata": {},
   "outputs": [
    {
     "name": "stdout",
     "output_type": "stream",
     "text": [
      "C:\\Users\\joong\n"
     ]
    }
   ],
   "source": [
    "path = \"C:\" + os.sep + \"Users\" + os.sep + \"joong\"\n",
    "print(path)"
   ]
  },
  {
   "cell_type": "code",
   "execution_count": 7,
   "metadata": {},
   "outputs": [
    {
     "name": "stdout",
     "output_type": "stream",
     "text": [
      "C:\\Users\\joong\n"
     ]
    }
   ],
   "source": [
    "path = os.path.join(\"C:\\\\\", \"Users\", \"joong\")\n",
    "print(path)"
   ]
  },
  {
   "cell_type": "markdown",
   "metadata": {},
   "source": [
    "경로는 문자열이므로 문자열의 메소드를 이용할 수도 있다.\n",
    "특히 `split()`, `join()` 메소드는 매우 유용하다."
   ]
  },
  {
   "cell_type": "code",
   "execution_count": 8,
   "metadata": {},
   "outputs": [
    {
     "name": "stdout",
     "output_type": "stream",
     "text": [
      "D:\\joongyang.park\\Google 드라이브\\Documents\\강의노트\\정보통계학실습_통계프로그래밍_with_python\n",
      "['D:', 'joongyang.park', 'Google 드라이브', 'Documents', '강의노트', '정보통계학실습_통계프로그래밍_with_python']\n",
      "D:\\joongyang.park\\Google 드라이브\\Documents\\강의노트\\정보통계학실습_통계프로그래밍_with_python\n"
     ]
    }
   ],
   "source": [
    "path = os.getcwd()\n",
    "print(path)\n",
    "\n",
    "splitted_path = path.split(os.sep)\n",
    "print(splitted_path)\n",
    "\n",
    "joined_path = os.sep.join(splitted_path)\n",
    "print(joined_path)"
   ]
  },
  {
   "cell_type": "markdown",
   "metadata": {},
   "source": [
    "## 여러 구분 문자\n",
    "\n",
    "운영체제에 따라 달라질 수 있는 구분 문자에는 디렉토리 구분 문자 외에도 줄 바꿈 문자, 파일이름과 확장자 구분문자가 있다.\n",
    "이 구분 문자는 `os.extsep`와 `os.linesep`에 저장되어 있다."
   ]
  },
  {
   "cell_type": "code",
   "execution_count": 9,
   "metadata": {},
   "outputs": [
    {
     "name": "stdout",
     "output_type": "stream",
     "text": [
      ".\n"
     ]
    },
    {
     "data": {
      "text/plain": [
       "'\\r\\n'"
      ]
     },
     "execution_count": 9,
     "metadata": {},
     "output_type": "execute_result"
    }
   ],
   "source": [
    "print(os.extsep)\n",
    "os.linesep"
   ]
  },
  {
   "cell_type": "markdown",
   "metadata": {},
   "source": [
    "현재 디렉토리와 상위 디렉토리를 나타내는 문자는 `os.curdir`와 `os.pardir`에 저장되어 있다."
   ]
  },
  {
   "cell_type": "code",
   "execution_count": 10,
   "metadata": {},
   "outputs": [
    {
     "name": "stdout",
     "output_type": "stream",
     "text": [
      ".\n",
      "..\n"
     ]
    }
   ],
   "source": [
    "print(os.curdir)\n",
    "print(os.pardir)"
   ]
  },
  {
   "cell_type": "markdown",
   "metadata": {},
   "source": [
    "## 파일과 디렉토리 관리"
   ]
  },
  {
   "cell_type": "markdown",
   "metadata": {},
   "source": [
    "### 현재 디렉토리"
   ]
  },
  {
   "cell_type": "code",
   "execution_count": 11,
   "metadata": {},
   "outputs": [
    {
     "data": {
      "text/plain": [
       "'D:\\\\joongyang.park\\\\Google 드라이브\\\\Documents\\\\강의노트\\\\정보통계학실습_통계프로그래밍_with_python'"
      ]
     },
     "execution_count": 11,
     "metadata": {},
     "output_type": "execute_result"
    }
   ],
   "source": [
    "os.getcwd()"
   ]
  },
  {
   "cell_type": "markdown",
   "metadata": {},
   "source": [
    "### 디렉토리 이동"
   ]
  },
  {
   "cell_type": "code",
   "execution_count": 12,
   "metadata": {},
   "outputs": [
    {
     "name": "stdout",
     "output_type": "stream",
     "text": [
      "D:\\joongyang.park\\Google 드라이브\\Documents\\강의노트\\정보통계학실습_통계프로그래밍_with_python\n",
      "C:\\Users\\joong\n"
     ]
    }
   ],
   "source": [
    "cwd = os.getcwd()\n",
    "print(cwd)\n",
    "os.environ['HOME'] = os.environ['HOMEDRIVE'] + os.environ['HOMEPATH']\n",
    "os.chdir(os.environ['HOME'])\n",
    "print(os.getcwd())"
   ]
  },
  {
   "cell_type": "code",
   "execution_count": 13,
   "metadata": {},
   "outputs": [
    {
     "name": "stdout",
     "output_type": "stream",
     "text": [
      "D:\\joongyang.park\\Google 드라이브\\Documents\\강의노트\\정보통계학실습_통계프로그래밍_with_python\n"
     ]
    }
   ],
   "source": [
    "os.chdir(cwd)\n",
    "print(os.getcwd())"
   ]
  },
  {
   "cell_type": "markdown",
   "metadata": {},
   "source": [
    "## 파일과 디렉토리 목록 조회"
   ]
  },
  {
   "cell_type": "code",
   "execution_count": 14,
   "metadata": {},
   "outputs": [
    {
     "data": {
      "text/plain": [
       "['.ipynb_checkpoints',\n",
       " '01_자료분석과_소프트웨어.ipynb',\n",
       " '02_파이썬_소개.ipynb',\n",
       " '03_명령_프롬프트.ipynb',\n",
       " '04_파이썬_설치와_실행.ipynb',\n",
       " '05_쥬피터_노트북.ipynb',\n",
       " '06_값과_자료형_그리고_변수.ipynb',\n",
       " '07_표현식과_산술 연산자_그리고_모듈.ipynb',\n",
       " '08_비교연산자와_논리연산자_그리고_조건문.ipynb',\n",
       " '09_키보드_입력_처리하기.ipynb',\n",
       " '10_자료구조와_반복문.ipynb',\n",
       " '11_표현식_연습문제.ipynb',\n",
       " '11_표현식_연습문제_답안지.ipynb',\n",
       " '12_조건문과_반복문_연습문제.ipynb',\n",
       " '12_조건문과_반복문_연습문제_답안지.ipynb',\n",
       " '13_자료구조_리스트의_이용.ipynb',\n",
       " '14_Comprehension.ipynb',\n",
       " '15_자료구조_튜플과_셋.ipynb',\n",
       " '16_자료구조_사전.ipynb',\n",
       " '17_자료구조의_활용.ipynb',\n",
       " '18_자료구조_연습문제.ipynb',\n",
       " '18_자료구조_연습문제_모범답안.ipynb',\n",
       " '19_문자열.ipynb',\n",
       " '20_문자열_연습문제.ipynb',\n",
       " '20_문자열_연습문제_모범답안.ipynb',\n",
       " '21_함수.ipynb',\n",
       " '22_함수_연습문제.ipynb',\n",
       " '23_디렉토리와_파일_관리.ipynb',\n",
       " '24_텍스트_파일_처리.ipynb',\n",
       " '25_특별한_형식의_텍스트_파일_처리.ipynb',\n",
       " '26_이미지_파일_처리.ipynb',\n",
       " '27_파일처리_연습문제.ipynb',\n",
       " '28_정규식.ipynb',\n",
       " '29_정규식_연습문제.ipynb',\n",
       " '30_날짜와_시각.ipynb',\n",
       " '31_날짜와_시각_연습문제.ipynb',\n",
       " '33_컴퓨터시스템_정보.ipynb',\n",
       " 'backup',\n",
       " 'books_references',\n",
       " 'datasets',\n",
       " 'google-location-history-simple.ipynb',\n",
       " 'images',\n",
       " 'Untitled.ipynb',\n",
       " 'untitled.txt',\n",
       " '강의운영자료']"
      ]
     },
     "execution_count": 14,
     "metadata": {},
     "output_type": "execute_result"
    }
   ],
   "source": [
    "os.listdir()"
   ]
  },
  {
   "cell_type": "code",
   "execution_count": 15,
   "metadata": {},
   "outputs": [
    {
     "data": {
      "text/plain": [
       "['$GetCurrent',\n",
       " '$Recycle.Bin',\n",
       " '$Windows.~WS',\n",
       " '@@XKNVG',\n",
       " 'bootmgr',\n",
       " 'BOOTNXT',\n",
       " 'Config.Msi',\n",
       " 'Documents and Settings',\n",
       " 'Drivers',\n",
       " 'ESD',\n",
       " 'hiberfil.sys',\n",
       " 'Intel',\n",
       " 'kyobobook',\n",
       " 'Logs',\n",
       " 'MSOCache',\n",
       " 'OneDriveTemp',\n",
       " 'pagefile.sys',\n",
       " 'PerfLogs',\n",
       " 'Program Files',\n",
       " 'Program Files (x86)',\n",
       " 'ProgramData',\n",
       " 'Recovery',\n",
       " 'swapfile.sys',\n",
       " 'System Volume Information',\n",
       " 'Temp',\n",
       " 'Users',\n",
       " 'Windows',\n",
       " 'Windows.old',\n",
       " 'Windows10Upgrade',\n",
       " 'XecureSSL',\n",
       " '~WanDrv6.Temp.dm2JM']"
      ]
     },
     "execution_count": 15,
     "metadata": {},
     "output_type": "execute_result"
    }
   ],
   "source": [
    "os.listdir(os.environ['HOMEDRIVE'] + os.sep)"
   ]
  },
  {
   "cell_type": "code",
   "execution_count": 16,
   "metadata": {},
   "outputs": [
    {
     "name": "stdout",
     "output_type": "stream",
     "text": [
      ".ipynb_checkpoints, 01_자료분석과_소프트웨어.ipynb, 02_파이썬_소개.ipynb, 03_명령_프롬프트.ipynb, 04_파이썬_설치와_실행.ipynb, 05_쥬피터_노트북.ipynb, 06_값과_자료형_그리고_변수.ipynb, 07_표현식과_산술 연산자_그리고_모듈.ipynb, 08_비교연산자와_논리연산자_그리고_조건문.ipynb, 09_키보드_입력_처리하기.ipynb, 10_자료구조와_반복문.ipynb, 11_표현식_연습문제.ipynb, 11_표현식_연습문제_답안지.ipynb, 12_조건문과_반복문_연습문제.ipynb, 12_조건문과_반복문_연습문제_답안지.ipynb, 13_자료구조_리스트의_이용.ipynb, 14_Comprehension.ipynb, 15_자료구조_튜플과_셋.ipynb, 16_자료구조_사전.ipynb, 17_자료구조의_활용.ipynb, 18_자료구조_연습문제.ipynb, 18_자료구조_연습문제_모범답안.ipynb, 19_문자열.ipynb, 20_문자열_연습문제.ipynb, 20_문자열_연습문제_모범답안.ipynb, 21_함수.ipynb, 22_함수_연습문제.ipynb, 23_디렉토리와_파일_관리.ipynb, 24_텍스트_파일_처리.ipynb, 25_특별한_형식의_텍스트_파일_처리.ipynb, 26_이미지_파일_처리.ipynb, 27_파일처리_연습문제.ipynb, 28_정규식.ipynb, 29_정규식_연습문제.ipynb, 30_날짜와_시각.ipynb, 31_날짜와_시각_연습문제.ipynb, 33_컴퓨터시스템_정보.ipynb, backup, books_references, datasets, google-location-history-simple.ipynb, images, Untitled.ipynb, untitled.txt, 강의운영자료, "
     ]
    }
   ],
   "source": [
    "for ele in os.listdir():\n",
    "    print(ele, end=', ')"
   ]
  },
  {
   "cell_type": "markdown",
   "metadata": {},
   "source": [
    "### 디렉토리 생성과 삭제"
   ]
  },
  {
   "cell_type": "code",
   "execution_count": 17,
   "metadata": {},
   "outputs": [
    {
     "name": "stdout",
     "output_type": "stream",
     "text": [
      "succeeded to create a directory\n"
     ]
    }
   ],
   "source": [
    "newdir = os.getcwd() + os.sep + \"newdir\"\n",
    "os.mkdir(newdir)\n",
    "if 'newdir' in os.listdir():\n",
    "    print('succeeded to create a directory')\n",
    "else:\n",
    "    print(\"failed to create a directory\")"
   ]
  },
  {
   "cell_type": "code",
   "execution_count": 18,
   "metadata": {},
   "outputs": [
    {
     "name": "stdout",
     "output_type": "stream",
     "text": [
      "succeeded to remove a directory\n"
     ]
    }
   ],
   "source": [
    "os.removedirs(newdir)\n",
    "if 'newdir' in os.listdir():\n",
    "    print('failed to remove a directory')\n",
    "else:\n",
    "    print(\"succeeded to remove a directory\")"
   ]
  },
  {
   "cell_type": "markdown",
   "metadata": {},
   "source": [
    "현재 디렉토리 하위에 디렉토리를 만들거나 하위 디렉토리로 이동할 때는 디렉토리 이름만 인자로 주면 된다."
   ]
  },
  {
   "cell_type": "code",
   "execution_count": 19,
   "metadata": {},
   "outputs": [
    {
     "name": "stdout",
     "output_type": "stream",
     "text": [
      "D:\\joongyang.park\\Google 드라이브\\Documents\\강의노트\\정보통계학실습_통계프로그래밍_with_python\n"
     ]
    },
    {
     "data": {
      "text/plain": [
       "['01_자료분석과_소프트웨어.ipynb',\n",
       " '02_파이썬_소개.ipynb',\n",
       " '03_명령_프롬프트.ipynb',\n",
       " '03_파이썬_설치와_실행.ipynb',\n",
       " '04_명령_프롬프트.ipynb',\n",
       " '04_파이썬_설치와_실행.ipynb',\n",
       " '05_쥬피터_노트북.ipynb',\n",
       " '06_값과_자료형_그리고_변수.ipynb',\n",
       " '07_표현식과_산술 연산자_그리고_모듈.ipynb',\n",
       " '08_비교연산자와_논리연산자_그리고_if_문장.ipynb',\n",
       " '08_비교연산자와_논리연산자_그리고_조건문.ipynb',\n",
       " '09_키보드_입력_처리하기.ipynb',\n",
       " '10_자료구조와_반복문.ipynb',\n",
       " '11_자료구조_리스트.ipynb',\n",
       " '11_표현식_연습문제.ipynb',\n",
       " '11_표현식_연습문제_답안지.ipynb',\n",
       " '12_list_comprehension.ipynb',\n",
       " '12_조건문과_반복문_연습문제.ipynb',\n",
       " '12_조건문과_반복문_연습문제_답안지.ipynb',\n",
       " '13_자료구조_리스트의_이용.ipynb',\n",
       " '13_자료구조_튜플과_셋.ipynb',\n",
       " '14_Comprehension.ipynb',\n",
       " '14_자료구조_딕.ipynb',\n",
       " '14_자료구조_사전.ipynb',\n",
       " '15_문자열.ipynb',\n",
       " '15_자료구조_튜플과_셋.ipynb',\n",
       " '16_자료구조_사전.ipynb',\n",
       " '16_함수.ipynb',\n",
       " '17_디렉토리와_파일_관리.ipynb',\n",
       " '17_자료구조의_활용.ipynb',\n",
       " '18_자료구조_연습문제.ipynb',\n",
       " '18_자료구조_연습문제_모범답안.ipynb',\n",
       " '18_텍스트_파일_처리.ipynb',\n",
       " '18_파일_처리.ipynb',\n",
       " '19_날짜와_시각.ipynb',\n",
       " '19_문자열.ipynb',\n",
       " '19_특별한_형식의_텍스트_파일_처리.ipynb',\n",
       " '20_문자열_연습문제.ipynb',\n",
       " '20_문자열_연습문제_모범답안.ipynb',\n",
       " '20_이미지_파일_처리.ipynb',\n",
       " '21_날짜와_시각.ipynb',\n",
       " '21_함수.ipynb',\n",
       " '22_함수_연습문제.ipynb',\n",
       " '23_디렉토리와_파일_관리.ipynb',\n",
       " '24_텍스트_파일_처리.ipynb',\n",
       " '25_특별한_형식의_텍스트_파일_처리.ipynb',\n",
       " '26_이미지_파일_처리.ipynb',\n",
       " '27_파일처리_연습문제.ipynb',\n",
       " '28_정규식.ipynb',\n",
       " '29_정규식_연습문제.ipynb',\n",
       " '30_날짜와_시각.ipynb',\n",
       " '31_날짜와_시각_연습문제.ipynb',\n",
       " '33_컴퓨터시스템_정보.ipynb',\n",
       " 'Gauss_Normal_Dist_in_Deutch_Mark.jpg',\n",
       " 'google-location-history-simple.ipynb',\n",
       " 'Untitled.ipynb',\n",
       " '명령창.png']"
      ]
     },
     "execution_count": 19,
     "metadata": {},
     "output_type": "execute_result"
    }
   ],
   "source": [
    "if not os.path.exists('backup'):\n",
    "    os.mkdir('backup')\n",
    "print(os.getcwd())\n",
    "os.listdir('backup')"
   ]
  },
  {
   "cell_type": "code",
   "execution_count": 20,
   "metadata": {},
   "outputs": [
    {
     "name": "stdout",
     "output_type": "stream",
     "text": [
      ".ipynb_checkpoints, 01_자료분석과_소프트웨어.ipynb, 02_파이썬_소개.ipynb, 03_명령_프롬프트.ipynb, 04_파이썬_설치와_실행.ipynb, 05_쥬피터_노트북.ipynb, 06_값과_자료형_그리고_변수.ipynb, 07_표현식과_산술 연산자_그리고_모듈.ipynb, 08_비교연산자와_논리연산자_그리고_조건문.ipynb, 09_키보드_입력_처리하기.ipynb, 10_자료구조와_반복문.ipynb, 11_표현식_연습문제.ipynb, 11_표현식_연습문제_답안지.ipynb, 12_조건문과_반복문_연습문제.ipynb, 12_조건문과_반복문_연습문제_답안지.ipynb, 13_자료구조_리스트의_이용.ipynb, 14_Comprehension.ipynb, 15_자료구조_튜플과_셋.ipynb, 16_자료구조_사전.ipynb, 17_자료구조의_활용.ipynb, 18_자료구조_연습문제.ipynb, 18_자료구조_연습문제_모범답안.ipynb, 19_문자열.ipynb, 20_문자열_연습문제.ipynb, 20_문자열_연습문제_모범답안.ipynb, 21_함수.ipynb, 22_함수_연습문제.ipynb, 23_디렉토리와_파일_관리.ipynb, 24_텍스트_파일_처리.ipynb, 25_특별한_형식의_텍스트_파일_처리.ipynb, 26_이미지_파일_처리.ipynb, 27_파일처리_연습문제.ipynb, 28_정규식.ipynb, 29_정규식_연습문제.ipynb, 30_날짜와_시각.ipynb, 31_날짜와_시각_연습문제.ipynb, 33_컴퓨터시스템_정보.ipynb, backup, books_references, datasets, google-location-history-simple.ipynb, images, Untitled.ipynb, untitled.txt, 강의운영자료\n"
     ]
    }
   ],
   "source": [
    "print(', '.join(os.listdir()))"
   ]
  },
  {
   "cell_type": "markdown",
   "metadata": {},
   "source": [
    "파일을 복사하거나 이동할 때는 `shutil` 모듈에 정의된 `copy()`, `move()` 함수를 이용한다.\n",
    "다음은 현재 디렉토리에 있는 파일 중에서 확장자가 `ipynb`, `jpg`,`'png`인 모든 파일을 하위 디렉토리 `backup`에 복사하는 프로그램이다."
   ]
  },
  {
   "cell_type": "code",
   "execution_count": 21,
   "metadata": {},
   "outputs": [],
   "source": [
    "import shutil as sh\n",
    "dst = 'backup'\n",
    "exts = ('ipynb', 'jpg', 'png') # 반드시 튜플로 지정해야 한다.\n",
    "for file in os.listdir():\n",
    "    if file.endswith(exts):\n",
    "        sh.copy(file, dst)"
   ]
  },
  {
   "cell_type": "code",
   "execution_count": 22,
   "metadata": {},
   "outputs": [
    {
     "data": {
      "text/plain": [
       "'01_자료분석과_소프트웨어.ipynb, 02_파이썬_소개.ipynb, 03_명령_프롬프트.ipynb, 03_파이썬_설치와_실행.ipynb, 04_명령_프롬프트.ipynb, 04_파이썬_설치와_실행.ipynb, 05_쥬피터_노트북.ipynb, 06_값과_자료형_그리고_변수.ipynb, 07_표현식과_산술 연산자_그리고_모듈.ipynb, 08_비교연산자와_논리연산자_그리고_if_문장.ipynb, 08_비교연산자와_논리연산자_그리고_조건문.ipynb, 09_키보드_입력_처리하기.ipynb, 10_자료구조와_반복문.ipynb, 11_자료구조_리스트.ipynb, 11_표현식_연습문제.ipynb, 11_표현식_연습문제_답안지.ipynb, 12_list_comprehension.ipynb, 12_조건문과_반복문_연습문제.ipynb, 12_조건문과_반복문_연습문제_답안지.ipynb, 13_자료구조_리스트의_이용.ipynb, 13_자료구조_튜플과_셋.ipynb, 14_Comprehension.ipynb, 14_자료구조_딕.ipynb, 14_자료구조_사전.ipynb, 15_문자열.ipynb, 15_자료구조_튜플과_셋.ipynb, 16_자료구조_사전.ipynb, 16_함수.ipynb, 17_디렉토리와_파일_관리.ipynb, 17_자료구조의_활용.ipynb, 18_자료구조_연습문제.ipynb, 18_자료구조_연습문제_모범답안.ipynb, 18_텍스트_파일_처리.ipynb, 18_파일_처리.ipynb, 19_날짜와_시각.ipynb, 19_문자열.ipynb, 19_특별한_형식의_텍스트_파일_처리.ipynb, 20_문자열_연습문제.ipynb, 20_문자열_연습문제_모범답안.ipynb, 20_이미지_파일_처리.ipynb, 21_날짜와_시각.ipynb, 21_함수.ipynb, 22_함수_연습문제.ipynb, 23_디렉토리와_파일_관리.ipynb, 24_텍스트_파일_처리.ipynb, 25_특별한_형식의_텍스트_파일_처리.ipynb, 26_이미지_파일_처리.ipynb, 27_파일처리_연습문제.ipynb, 28_정규식.ipynb, 29_정규식_연습문제.ipynb, 30_날짜와_시각.ipynb, 31_날짜와_시각_연습문제.ipynb, 33_컴퓨터시스템_정보.ipynb, Gauss_Normal_Dist_in_Deutch_Mark.jpg, google-location-history-simple.ipynb, Untitled.ipynb, 명령창.png'"
      ]
     },
     "execution_count": 22,
     "metadata": {},
     "output_type": "execute_result"
    }
   ],
   "source": [
    "', '.join(os.listdir(dst))"
   ]
  },
  {
   "cell_type": "markdown",
   "metadata": {},
   "source": [
    "## 경로 처리\n",
    "\n",
    "```python\n",
    "D:\\joongyang.park\\Google 드라이브\\Documents\\강의노트\\01\\_자료분석과\\_소프트웨어.ipynb\n",
    "```\n",
    "\n",
    "은 파일 **01\\_자료분석과\\_소프트웨어.ipynb**의 **절대경로**이다.\n",
    "만약 현재 디렉토리가 **D:\\joongyang.park\\Google 드라이브\\Documents\\강의노트**이면 단순히 파일 이름만 주더라도 이 파일을 찾아갈 수 있다.\n",
    "특정 파일이나 디렉토리를 찾아가는 경로를 현재 디렉토리를 기준으로 지정하는 것을 **상대경로**라고 한다."
   ]
  },
  {
   "cell_type": "markdown",
   "metadata": {},
   "source": [
    "경로와 관련한 다음과 같은 작업을 해야 할 때가 있다.\n",
    "\n",
    "1. 경로의 존재 여부 검사\n",
    "2. 파일에 대한 경로에서 파일 이름과 그 외 부분의 분리\n",
    "3. 상대경로를 절대경로로 변환\n",
    "4. 디렉토리 이름을 연결하여 경로 만들기\n",
    "\n",
    "`os.path` 모듈에 이를 위한 함수 `exists()`, `basename()`, `dirname()`, `split()`, `join()`이 정의되어 있다."
   ]
  },
  {
   "cell_type": "code",
   "execution_count": 23,
   "metadata": {},
   "outputs": [
    {
     "name": "stdout",
     "output_type": "stream",
     "text": [
      "D:\\joongyang.park\\Google 드라이브\\Documents\n",
      "False\n",
      "01_자료분석과_소프트웨어.ipynb\n",
      "D:\\joongyang.park\\Google 드라이브\\Documents\\강의노트\n",
      "('D:\\\\joongyang.park\\\\Google 드라이브\\\\Documents\\\\강의노트', '01_자료분석과_소프트웨어.ipynb')\n"
     ]
    },
    {
     "data": {
      "text/plain": [
       "'D:\\\\joongyang.park\\\\Google 드라이브\\\\Documents\\\\강의노트\\\\01_자료분석과_소프트웨어.ipynb'"
      ]
     },
     "execution_count": 23,
     "metadata": {},
     "output_type": "execute_result"
    }
   ],
   "source": [
    "import os.path\n",
    "path ='D:\\\\joongyang.park\\\\Google 드라이브\\\\Documents\\\\강의노트\\\\01_자료분석과_소프트웨어.ipynb'\n",
    "print(os.path.abspath('..\\\\..'))\n",
    "print(os.path.exists(path))\n",
    "print(os.path.basename(path))\n",
    "print(os.path.dirname(path))\n",
    "split_path = os.path.split(path)\n",
    "print(split_path)\n",
    "os.sep.join(split_path)"
   ]
  },
  {
   "cell_type": "markdown",
   "metadata": {},
   "source": [
    "## 연습문제\n",
    "\n",
    "1. 현재 디렉토리를 알아보시오.\n",
    "2. 환경변수와 그 값을 알아보시오.\n",
    "3. 새로운 환경변수를 추가해보시오.\n",
    "4. 현재 디렉토리 상위에 library라는 이름의 새로운 디렉토리를 생성하시오.\n",
    "5. 현재 디렉토리에 있는 jupyter notebook을 library 디렉토리에 복사하시오,\n",
    "6. 현재 운영체제에서 사용하는 디렉토리 구분문자를 알아보시오."
   ]
  }
 ],
 "metadata": {
  "anaconda-cloud": {},
  "kernelspec": {
   "display_name": "Python 3",
   "language": "python",
   "name": "python3"
  },
  "language_info": {
   "codemirror_mode": {
    "name": "ipython",
    "version": 3
   },
   "file_extension": ".py",
   "mimetype": "text/x-python",
   "name": "python",
   "nbconvert_exporter": "python",
   "pygments_lexer": "ipython3",
   "version": "3.6.5"
  }
 },
 "nbformat": 4,
 "nbformat_minor": 2
}
