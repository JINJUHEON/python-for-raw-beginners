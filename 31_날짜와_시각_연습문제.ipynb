{
 "cells": [
  {
   "cell_type": "markdown",
   "metadata": {},
   "source": [
    "* 올해의 하루를 랜덤하게 추출하는 프로그램을 작성하시오."
   ]
  },
  {
   "cell_type": "code",
   "execution_count": 4,
   "metadata": {},
   "outputs": [
    {
     "name": "stdout",
     "output_type": "stream",
     "text": [
      "2018-06-07\n"
     ]
    }
   ],
   "source": [
    "from datetime import date\n",
    "import random\n",
    "\n",
    "start_dt = date.today().replace(day=1, month=1).toordinal()\n",
    "end_dt = date.today().replace(day=31, month=12).toordinal()\n",
    "random_day = date.fromordinal(random.randint(start_dt, end_dt))\n",
    "print(random_day)"
   ]
  },
  {
   "cell_type": "markdown",
   "metadata": {},
   "source": [
    "* 다음 각 사항을 알아보는 예제 프로그램을 작성하시오/\n",
    "\n",
    "    1. 현재 일시\n",
    "    2. 올해의 년도\n",
    "    3. 이번 달\n",
    "    4. 이번 주가 올해의 몇 번째 주인가?\n",
    "    5. 오늘의 요일을 나타내는 정수\n",
    "    6. 오늘이 올해의 몇 번째 날인가?\n",
    "    7. 오늘의 날짜\n",
    "    8. 오늘의 요일"
   ]
  },
  {
   "cell_type": "code",
   "execution_count": 1,
   "metadata": {},
   "outputs": [
    {
     "name": "stdout",
     "output_type": "stream",
     "text": [
      "Current date and time:  2018-02-19 13:09:24.604414\n",
      "Current year:  2018\n",
      "Month of year:  February\n",
      "Week number of the year:  08\n",
      "Weekday of the week:  1\n",
      "Day of year:  050\n",
      "Day of the month :  19\n",
      "Day of week:  Monday\n"
     ]
    }
   ],
   "source": [
    "import time\n",
    "import datetime\n",
    "print(\"Current date and time: \" , datetime.datetime.now())\n",
    "print(\"Current year: \", datetime.date.today().strftime(\"%Y\"))\n",
    "print(\"Month of year: \", datetime.date.today().strftime(\"%B\"))\n",
    "print(\"Week number of the year: \", datetime.date.today().strftime(\"%W\"))\n",
    "print(\"Weekday of the week: \", datetime.date.today().strftime(\"%w\"))\n",
    "print(\"Day of year: \", datetime.date.today().strftime(\"%j\"))\n",
    "print(\"Day of the month : \", datetime.date.today().strftime(\"%d\"))\n",
    "print(\"Day of week: \", datetime.date.today().strftime(\"%A\"))"
   ]
  },
  {
   "cell_type": "markdown",
   "metadata": {},
   "source": [
    "* 윤년여부를 판단하는 함수를 작성하시오."
   ]
  },
  {
   "cell_type": "code",
   "execution_count": 1,
   "metadata": {},
   "outputs": [
    {
     "name": "stdout",
     "output_type": "stream",
     "text": [
      "False\n",
      "True\n"
     ]
    }
   ],
   "source": [
    "def leap_year(y):\n",
    "    if y % 400 == 0:    # 400의 배수면 윤년\n",
    "        return True\n",
    "    if y % 100 == 0:    # 400의 배수가 아니면서 100의 배수면 평년\n",
    "        return False\n",
    "    if y % 4 == 0:     # 400의 배수가 아니고 100의 배수도 아니지만 4의 배수면 윤년\n",
    "        return True\n",
    "    else:              # 그외는 모두 평년\n",
    "        return False\n",
    "\n",
    "print(leap_year(1900))\n",
    "print(leap_year(2004))"
   ]
  },
  {
   "cell_type": "markdown",
   "metadata": {},
   "source": [
    "* 일시가 기록된 문자열을 datetime 자료형으로 변환하는 프로그램을 작성하시오."
   ]
  },
  {
   "cell_type": "code",
   "execution_count": 3,
   "metadata": {},
   "outputs": [
    {
     "name": "stdout",
     "output_type": "stream",
     "text": [
      "2014-07-01 14:43:00\n"
     ]
    }
   ],
   "source": [
    "from datetime import datetime\n",
    "date_object = datetime.strptime('Jul 1 2014 2:43PM', '%b %d %Y %I:%M%p')\n",
    "print(date_object)"
   ]
  },
  {
   "cell_type": "markdown",
   "metadata": {},
   "source": [
    "* 현재의 시각을 알아보는 예제 프로그램을 작성하시오."
   ]
  },
  {
   "cell_type": "code",
   "execution_count": 4,
   "metadata": {},
   "outputs": [
    {
     "name": "stdout",
     "output_type": "stream",
     "text": [
      "13:12:02.532618\n"
     ]
    }
   ],
   "source": [
    "import datetime\n",
    "print(datetime.datetime.now().time())"
   ]
  },
  {
   "cell_type": "markdown",
   "metadata": {},
   "source": [
    "*  오늘로부터 5일 전의 날짜를 구하는 예제 프로그램을 작성하시오."
   ]
  },
  {
   "cell_type": "code",
   "execution_count": 5,
   "metadata": {},
   "outputs": [
    {
     "name": "stdout",
     "output_type": "stream",
     "text": [
      "Current Date : 2018-02-19\n",
      "5 days before Current Date : 2018-02-14\n"
     ]
    }
   ],
   "source": [
    "from datetime import date, timedelta\n",
    "dt = date.today() - timedelta(5)\n",
    "print('Current Date :',date.today())\n",
    "print('5 days before Current Date :',dt)"
   ]
  },
  {
   "cell_type": "markdown",
   "metadata": {},
   "source": [
    "* 유닉스 타임스탬프 문자열을 일시로 변환하는 예제 프로그램을 작성하시오."
   ]
  },
  {
   "cell_type": "code",
   "execution_count": 8,
   "metadata": {},
   "outputs": [
    {
     "name": "stdout",
     "output_type": "stream",
     "text": [
      "2010-09-10 17:01:22\n"
     ]
    }
   ],
   "source": [
    "import datetime\n",
    "timestamp_str = \"1284105682\"\n",
    "dt = datetime.datetime.fromtimestamp(int(timestamp_str))\n",
    "print(dt.strftime('%Y-%m-%d %H:%M:%S'))"
   ]
  },
  {
   "cell_type": "markdown",
   "metadata": {},
   "source": [
    "* 현재의 일시로부터 하루 전, 하루 후의 일시를 구하는 예제 프로그램을 작성하시오."
   ]
  },
  {
   "cell_type": "code",
   "execution_count": 9,
   "metadata": {},
   "outputs": [
    {
     "name": "stdout",
     "output_type": "stream",
     "text": [
      "Yesterday :  2018-02-20\n",
      "Today :  2018-02-21\n",
      "Tomorrow :  2018-02-22\n"
     ]
    }
   ],
   "source": [
    "import datetime \n",
    "today = datetime.date.today()\n",
    "one_day = datetime.timedelta(days = 1)\n",
    "yesterday = today - one_day\n",
    "tomorrow = today + one_day\n",
    "print('Yesterday : ',yesterday)\n",
    "print('Today : ',today)\n",
    "print('Tomorrow : ',tomorrow)"
   ]
  },
  {
   "cell_type": "markdown",
   "metadata": {},
   "source": [
    "* date 자료형인 날짜를 datetime 자료형인 일시로 변환하는 예제 프로그램을 작성하시오."
   ]
  },
  {
   "cell_type": "code",
   "execution_count": 13,
   "metadata": {},
   "outputs": [
    {
     "name": "stdout",
     "output_type": "stream",
     "text": [
      "2018-02-21\n",
      "00:00:00\n",
      "23:59:59.999999\n",
      "2018-02-21 00:00:00\n"
     ]
    }
   ],
   "source": [
    "from datetime import date\n",
    "from datetime import datetime\n",
    "dt = date.today()\n",
    "print(dt)\n",
    "\n",
    "print(datetime.min.time())\n",
    "print(datetime.max.time())\n",
    "\n",
    "dt = datetime.combine(dt, datetime.min.time())\n",
    "print(dt)"
   ]
  },
  {
   "cell_type": "markdown",
   "metadata": {},
   "source": [
    "* Write a Python program to print next 5 days starting from today. "
   ]
  },
  {
   "cell_type": "code",
   "execution_count": 9,
   "metadata": {},
   "outputs": [
    {
     "name": "stdout",
     "output_type": "stream",
     "text": [
      "2018-02-19 13:16:35.783560\n",
      "2018-02-20 13:16:35.783560\n",
      "2018-02-21 13:16:35.783560\n",
      "2018-02-22 13:16:35.783560\n",
      "2018-02-23 13:16:35.783560\n"
     ]
    }
   ],
   "source": [
    "import datetime\n",
    "base = datetime.datetime.today()\n",
    "for x in range(0, 5):\n",
    "      print(base + datetime.timedelta(days=x))"
   ]
  },
  {
   "cell_type": "markdown",
   "metadata": {},
   "source": [
    "* 현재 일시로부터 5초 후의 일시를 구하는 예제 프로그램을 작성하시오."
   ]
  },
  {
   "cell_type": "code",
   "execution_count": 14,
   "metadata": {},
   "outputs": [
    {
     "name": "stdout",
     "output_type": "stream",
     "text": [
      "2018-02-21 11:22:19.951564\n",
      "2018-02-21 11:22:24.951564\n",
      "2018-02-21\n",
      "2018-02-21\n",
      "11:22:19.951564\n",
      "11:22:24.951564\n"
     ]
    }
   ],
   "source": [
    "import datetime\n",
    "x= datetime.datetime.now()\n",
    "y = x + datetime.timedelta(0, 5)\n",
    "\n",
    "print(x)\n",
    "print(y)\n",
    "\n",
    "print(x.date())\n",
    "print(y.date())\n",
    "\n",
    "print(x.time())\n",
    "print(y.time())"
   ]
  },
  {
   "cell_type": "markdown",
   "metadata": {},
   "source": [
    "* 특정한 날짜가 한 해의 몇 번째 날(Julian day)인가를 구하는 예제 프로그램을 작성하시오."
   ]
  },
  {
   "cell_type": "code",
   "execution_count": 15,
   "metadata": {},
   "outputs": [
    {
     "name": "stdout",
     "output_type": "stream",
     "text": [
      "52\n"
     ]
    }
   ],
   "source": [
    "import datetime\n",
    "today = datetime.datetime.now()\n",
    "day_of_year = (today - datetime.datetime(today.year, 1, 1)).days + 1\n",
    "print(day_of_year)"
   ]
  },
  {
   "cell_type": "markdown",
   "metadata": {},
   "source": [
    "* 현재 시각을 밀리초 단위로 나타내는 에제 프로그램을 작성하시오."
   ]
  },
  {
   "cell_type": "code",
   "execution_count": 16,
   "metadata": {},
   "outputs": [
    {
     "name": "stdout",
     "output_type": "stream",
     "text": [
      "1519180049.7406447\n",
      "1519180049741\n"
     ]
    }
   ],
   "source": [
    "import time\n",
    "milli_sec = int(round(time.time() * 1000))\n",
    "print(milli_sec)"
   ]
  },
  {
   "cell_type": "markdown",
   "metadata": {},
   "source": [
    "* 특정한 날이 속한 주가 일년 중 몇 번째 주인가를 알아내는 예제 프로그램을 작성하시오."
   ]
  },
  {
   "cell_type": "code",
   "execution_count": 20,
   "metadata": {},
   "outputs": [
    {
     "name": "stdout",
     "output_type": "stream",
     "text": [
      "2015 25 2\n"
     ]
    }
   ],
   "source": [
    "import datetime\n",
    "dt = datetime.date(2015, 6, 16)\n",
    "year, week_number, weekday = dt.isocalendar()\n",
    "print(year, week_number, weekday)"
   ]
  },
  {
   "cell_type": "markdown",
   "metadata": {},
   "source": [
    "* 년도, 주 번호, 요일로부터 날짜를 계산하는 예제 프로그램을 작성하시오."
   ]
  },
  {
   "cell_type": "code",
   "execution_count": 23,
   "metadata": {},
   "outputs": [
    {
     "name": "stdout",
     "output_type": "stream",
     "text": [
      "time.struct_time(tm_year=2015, tm_mon=12, tm_mday=14, tm_hour=0, tm_min=0, tm_sec=0, tm_wday=0, tm_yday=348, tm_isdst=-1)\n",
      "Mon Dec 14 00:00:00 2015\n"
     ]
    }
   ],
   "source": [
    "import time\n",
    "tm = time.strptime('2015 50 1', '%Y %W %w')\n",
    "print(tm)\n",
    "\n",
    "print(time.asctime(tm))"
   ]
  },
  {
   "cell_type": "markdown",
   "metadata": {},
   "source": [
    "* 특정한 해의 모든 일요일 날짜를 찾아주는 함수를 작성하시오."
   ]
  },
  {
   "cell_type": "code",
   "execution_count": 24,
   "metadata": {},
   "outputs": [
    {
     "name": "stdout",
     "output_type": "stream",
     "text": [
      "2020-01-05\n",
      "2020-01-12\n",
      "2020-01-19\n",
      "2020-01-26\n",
      "2020-02-02\n",
      "2020-02-09\n",
      "2020-02-16\n",
      "2020-02-23\n",
      "2020-03-01\n",
      "2020-03-08\n",
      "2020-03-15\n",
      "2020-03-22\n",
      "2020-03-29\n",
      "2020-04-05\n",
      "2020-04-12\n",
      "2020-04-19\n",
      "2020-04-26\n",
      "2020-05-03\n",
      "2020-05-10\n",
      "2020-05-17\n",
      "2020-05-24\n",
      "2020-05-31\n",
      "2020-06-07\n",
      "2020-06-14\n",
      "2020-06-21\n",
      "2020-06-28\n",
      "2020-07-05\n",
      "2020-07-12\n",
      "2020-07-19\n",
      "2020-07-26\n",
      "2020-08-02\n",
      "2020-08-09\n",
      "2020-08-16\n",
      "2020-08-23\n",
      "2020-08-30\n",
      "2020-09-06\n",
      "2020-09-13\n",
      "2020-09-20\n",
      "2020-09-27\n",
      "2020-10-04\n",
      "2020-10-11\n",
      "2020-10-18\n",
      "2020-10-25\n",
      "2020-11-01\n",
      "2020-11-08\n",
      "2020-11-15\n",
      "2020-11-22\n",
      "2020-11-29\n",
      "2020-12-06\n",
      "2020-12-13\n",
      "2020-12-20\n",
      "2020-12-27\n"
     ]
    }
   ],
   "source": [
    "from datetime import date, timedelta\n",
    "\n",
    "def all_sundays(year):\n",
    "    dt = date(year, 1, 1)\n",
    "    # 첫 번째 일요일의 날짜를 구한다.\n",
    "    dt += timedelta(days = 6 - dt.weekday())  \n",
    "    while dt.year == year:\n",
    "        yield dt\n",
    "        dt += timedelta(days = 7)\n",
    "    return\n",
    "          \n",
    "for s in all_sundays(2020):\n",
    "   print(s)"
   ]
  },
  {
   "cell_type": "markdown",
   "metadata": {},
   "source": [
    "* 지정한 날짜로부터 몇 년 후의 날짜를 구해주는 함수를 작성하시오."
   ]
  },
  {
   "cell_type": "code",
   "execution_count": 27,
   "metadata": {},
   "outputs": [
    {
     "name": "stdout",
     "output_type": "stream",
     "text": [
      "2014-01-01\n",
      "2015-01-01\n",
      "2017-01-01\n",
      "2001-03-01\n"
     ]
    }
   ],
   "source": [
    "import datetime\n",
    "from datetime import date\n",
    "def date_after_years(d, years):\n",
    "    try:\n",
    "        return d.replace(year = d.year + years)\n",
    "    except ValueError:\n",
    "    # February 29인 경우에 해당한다. 3월 1일로 반환한다.        \n",
    "        return d + (date(d.year + years, 1, 1) - date(d.year, 1, 1))\n",
    "\n",
    "print(date_after_years(datetime.date(2015,1,1), -1))\n",
    "print(date_after_years(datetime.date(2015,1,1), 0))\n",
    "print(date_after_years(datetime.date(2015,1,1), 2))\n",
    "print(date_after_years(datetime.date(2000,2,29),1))"
   ]
  },
  {
   "cell_type": "markdown",
   "metadata": {},
   "source": [
    "* 일시에서 마이크로 초를 0으로 바꾸는 예제 프로그램을 작성하시오."
   ]
  },
  {
   "cell_type": "code",
   "execution_count": 28,
   "metadata": {},
   "outputs": [
    {
     "name": "stdout",
     "output_type": "stream",
     "text": [
      "2018-02-21 11:49:43\n"
     ]
    }
   ],
   "source": [
    "dt = datetime.datetime.today().replace(microsecond=0)\n",
    "print(dt)"
   ]
  },
  {
   "cell_type": "markdown",
   "metadata": {},
   "source": [
    "* 두 날짜 사이의 날 수를 계산하는 예제 프로그램을 작성하시오."
   ]
  },
  {
   "cell_type": "code",
   "execution_count": 18,
   "metadata": {},
   "outputs": [
    {
     "name": "stdout",
     "output_type": "stream",
     "text": [
      "366 days, 0:00:00\n"
     ]
    }
   ],
   "source": [
    "from datetime import date\n",
    "a = date(2000,2,28)\n",
    "b = date(2001,2,28)\n",
    "print(b-a)"
   ]
  },
  {
   "cell_type": "markdown",
   "metadata": {},
   "source": [
    "* 지정된 년도의 지정된 달의 마지막 날의 날짜를 구하는 예제 프로그램을 작성하시오."
   ]
  },
  {
   "cell_type": "code",
   "execution_count": 32,
   "metadata": {},
   "outputs": [
    {
     "name": "stdout",
     "output_type": "stream",
     "text": [
      "(3, 28)\n",
      "28\n"
     ]
    }
   ],
   "source": [
    "import calendar\n",
    "year = 2018\n",
    "month = 2\n",
    "# 1일의 요일과 마지막 날의 날짜\n",
    "# 0:월, 1:화, ...\n",
    "month_range = calendar.monthrange(year, month)\n",
    "print(month_range)\n",
    "print(calendar.monthrange(year, month)[1])"
   ]
  },
  {
   "cell_type": "markdown",
   "metadata": {},
   "source": [
    "* 2015년과 2016년 2년 동안 1일이 월요일인 경우가 몇 번인지 계산하는 프로그램을 작성하시오."
   ]
  },
  {
   "cell_type": "code",
   "execution_count": 33,
   "metadata": {},
   "outputs": [
    {
     "name": "stdout",
     "output_type": "stream",
     "text": [
      "3\n"
     ]
    }
   ],
   "source": [
    "import datetime\n",
    "from datetime import datetime\n",
    "monday = 0\n",
    "nb_monday = 0\n",
    "months = range(1,13)\n",
    "for year in range(2015, 2017):\n",
    "    for month in months:\n",
    "        if datetime(year, month, 1).weekday() == monday:\n",
    "            nb_monday += 1\n",
    "\n",
    "print(nb_monday)"
   ]
  },
  {
   "cell_type": "markdown",
   "metadata": {},
   "source": [
    "* 지정된 날짜로부터 지정된 간격으로 지정한 개수의 날짜를 생성해주는 함수를 작성하시오."
   ]
  },
  {
   "cell_type": "code",
   "execution_count": 36,
   "metadata": {},
   "outputs": [
    {
     "name": "stdout",
     "output_type": "stream",
     "text": [
      "[datetime.date(2016, 8, 21), datetime.date(2016, 8, 21), datetime.date(2016, 8, 21), datetime.date(2016, 8, 21), datetime.date(2016, 8, 21), datetime.date(2016, 8, 21), datetime.date(2016, 8, 21), datetime.date(2016, 8, 21), datetime.date(2016, 8, 21), datetime.date(2016, 8, 21)]\n"
     ]
    }
   ],
   "source": [
    "import datetime\n",
    "\n",
    "def generate_date_sequence(d, interval_in_days, number):\n",
    "    date_sequence = []\n",
    "    for _ in range(number):\n",
    "        date_sequence.append(d + datetime.timedelta(days=interval_in_days))\n",
    "    return date_sequence\n",
    "\n",
    "dt = datetime.date(2016,8,1)\n",
    "date_sequence = generate_date_sequence(dt, 20, 10)\n",
    "print(date_sequence)"
   ]
  },
  {
   "cell_type": "markdown",
   "metadata": {},
   "source": [
    "* 날짜를 유닉스 타임스탬프로 변환하는 예제 프로그램을 작성하시오."
   ]
  },
  {
   "cell_type": "code",
   "execution_count": 40,
   "metadata": {},
   "outputs": [
    {
     "name": "stdout",
     "output_type": "stream",
     "text": [
      "2018-02-21 12:27:22.236642\n",
      "time.struct_time(tm_year=2018, tm_mon=2, tm_mday=21, tm_hour=12, tm_min=26, tm_sec=47, tm_wday=2, tm_yday=52, tm_isdst=-1)\n",
      "1519183642.0\n"
     ]
    }
   ],
   "source": [
    "import time\n",
    "import datetime\n",
    "now = datetime.datetime.now()\n",
    "print(now)\n",
    "\n",
    "tm = now.timetuple()\n",
    "print(time_tuple)\n",
    "\n",
    "ts = time.mktime(tm)\n",
    "print(ts)"
   ]
  },
  {
   "cell_type": "markdown",
   "metadata": {},
   "source": [
    "* 일시가 저장된 문자열로부터 유닉스 타임스탬프를 계산하는 예제 프로그램을 작성하시오."
   ]
  },
  {
   "cell_type": "code",
   "execution_count": 41,
   "metadata": {},
   "outputs": [
    {
     "name": "stdout",
     "output_type": "stream",
     "text": [
      "1475247600.0\n"
     ]
    }
   ],
   "source": [
    "import time\n",
    "import datetime\n",
    "dt_str = \"01/10/2016\"\n",
    "dt = datetime.datetime.strptime(dt_str, \"%d/%m/%Y\")\n",
    "tm = dt.timetuple()\n",
    "ts = time.mktime(tm)\n",
    "print(ts)"
   ]
  },
  {
   "cell_type": "markdown",
   "metadata": {},
   "source": [
    "* 두 날짜 사이의 날수를 계산하는 예제 프로그램을 작성하시오."
   ]
  },
  {
   "cell_type": "code",
   "execution_count": 47,
   "metadata": {},
   "outputs": [
    {
     "name": "stdout",
     "output_type": "stream",
     "text": [
      "494\n"
     ]
    }
   ],
   "source": [
    "import datetime\n",
    "from datetime import date\n",
    "\n",
    "begin_date = date(2016, 10, 12)\n",
    "end_date = date(2018, 2, 18)\n",
    "\n",
    "diff = end_date - begin_date\n",
    "\n",
    "print(diff.days)"
   ]
  },
  {
   "cell_type": "markdown",
   "metadata": {},
   "source": [
    "* 두 일시의 차이를 초 단위로 계산하는 함수를 작성하시오."
   ]
  },
  {
   "cell_type": "code",
   "execution_count": 48,
   "metadata": {},
   "outputs": [
    {
     "name": "stdout",
     "output_type": "stream",
     "text": [
      "\n",
      "99144737 seconds\n"
     ]
    }
   ],
   "source": [
    "from datetime import datetime, time\n",
    "\n",
    "def date_diff_in_seconds(dt2, dt1):\n",
    "    timedelta = dt2 - dt1\n",
    "    return timedelta.days * 24 * 3600 + timedelta.seconds\n",
    "\n",
    "datetime1 = datetime.strptime('2015-01-01 01:00:00', '%Y-%m-%d %H:%M:%S')\n",
    "datetime2 = datetime.now()\n",
    "\n",
    "print(\"\\n%d seconds\" %(date_diff_in_seconds(datetime2, datetime1)))"
   ]
  },
  {
   "cell_type": "markdown",
   "metadata": {},
   "source": [
    "* 두 일시의 차이가 몇 일 몇 시간 몇 분 몇 초인지를 계산하는 함수를 작성하시오."
   ]
  },
  {
   "cell_type": "code",
   "execution_count": 50,
   "metadata": {},
   "outputs": [
    {
     "name": "stdout",
     "output_type": "stream",
     "text": [
      "\n",
      "1147 days, 12 hours, 14 minutes, 47 seconds\n"
     ]
    }
   ],
   "source": [
    "from datetime import datetime, time\n",
    "\n",
    "def date_diff_in_seconds(dt2, dt1):\n",
    "    timedelta = dt2 - dt1\n",
    "    return timedelta.days * 24 * 3600 + timedelta.seconds\n",
    "\n",
    "def dhms_from_seconds(seconds):\n",
    "    minutes, seconds = divmod(seconds, 60)\n",
    "    hours, minutes = divmod(minutes, 60)\n",
    "    days, hours = divmod(hours, 24)\n",
    "    return (days, hours, minutes, seconds)\n",
    "\n",
    "datetime1 = datetime.strptime('2015-01-01 01:00:00', '%Y-%m-%d %H:%M:%S')\n",
    "datetime2 = datetime.now()\n",
    "\n",
    "print(\"\\n%d days, %d hours, %d minutes, %d seconds\" % dhms_from_seconds(date_diff_in_seconds(datetime2, datetime1)))"
   ]
  },
  {
   "cell_type": "markdown",
   "metadata": {},
   "source": [
    "* 일시를 원하는 형식으로 출력하는 예제 프로그램을 작성하시오."
   ]
  },
  {
   "cell_type": "code",
   "execution_count": 53,
   "metadata": {},
   "outputs": [
    {
     "name": "stdout",
     "output_type": "stream",
     "text": [
      "2018-02-21 13:47:18 PM\n"
     ]
    }
   ],
   "source": [
    "import datetime\n",
    "now = datetime.datetime.now()\n",
    "datestr = now.strftime(\"%Y-%m-%d %H:%M:%S %p\")\n",
    "print(datestr)"
   ]
  },
  {
   "cell_type": "markdown",
   "metadata": {},
   "source": [
    "* 함수가 실행하는 시간을 측정하는 예지 프로그램을 작성하시오."
   ]
  },
  {
   "cell_type": "code",
   "execution_count": 60,
   "metadata": {},
   "outputs": [
    {
     "name": "stdout",
     "output_type": "stream",
     "text": [
      "\n",
      "Time to sum of 1 to  10000  is  50005000  and required time to calculate is : 0.001001119613647461\n"
     ]
    }
   ],
   "source": [
    "import time\n",
    "def sum_of_n_numbers(n):\n",
    "    s = 0\n",
    "    for i in range(1,n+1):\n",
    "        s = s + i\n",
    "    return s\n",
    "\n",
    "n = 10000\n",
    "start_time = time.time()\n",
    "ans = sum_of_n_numbers(n)\n",
    "end_time = time.time()\n",
    "duration = end_time - start_time\n",
    "\n",
    "print(\"\\nTime to sum of 1 to \", n , \" is \", ans, \" and required time to calculate is :\", duration)"
   ]
  }
 ],
 "metadata": {
  "kernelspec": {
   "display_name": "Python [default]",
   "language": "python",
   "name": "python3"
  },
  "language_info": {
   "codemirror_mode": {
    "name": "ipython",
    "version": 3
   },
   "file_extension": ".py",
   "mimetype": "text/x-python",
   "name": "python",
   "nbconvert_exporter": "python",
   "pygments_lexer": "ipython3",
   "version": "3.6.3"
  }
 },
 "nbformat": 4,
 "nbformat_minor": 2
}
