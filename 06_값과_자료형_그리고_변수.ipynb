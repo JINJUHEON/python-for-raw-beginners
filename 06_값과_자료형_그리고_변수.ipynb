{
 "cells": [
  {
   "cell_type": "markdown",
   "metadata": {},
   "source": [
    "# 값과 자료형 그리고 변수"
   ]
  },
  {
   "cell_type": "markdown",
   "metadata": {},
   "source": [
    "## 자료형"
   ]
  },
  {
   "cell_type": "markdown",
   "metadata": {},
   "source": [
    "파이썬을 비롯한 대부분의 프로그래밍 언어가 기본적으로 이해하고 처리할 수 있는 값은 정수, 실수, 문자열, 논리값 4 종류이다.\n",
    "프로그래밍에서는 값의 종류를 **자료형** 또는 **데이터 타입**(data type)이라고 한다."
   ]
  },
  {
   "cell_type": "markdown",
   "metadata": {},
   "source": [
    "우리가 원하는 일을 수행하는 프로그램을 작성하기 위해서는 정수, 실수, 문자열, 논리값 외에도 복소수, 유리수, 날짜, 시각, 시간, 공간 상의 점, 벡터, 행렬, 색깔, 자동차, 비행기, 배, 게임 캐릭터 ... 같은 많은 자료형이 필요하다.\n",
    "이 중 일부는 이미 만들어져 프로그래밍 언어에 녹아있거나 **표준 라이브러리**(standard library)로 언어와 함께 배포되고 있다.\n",
    "그렇지 않은 자료형은 프로그래머가 필요에 따라 만들어서 사용해야 한다."
   ]
  },
  {
   "cell_type": "markdown",
   "metadata": {},
   "source": [
    "다음과 같은 값을 입력하고 엔터키를 누르시오.\n",
    "이 값들은 순서대로 정수, 실수, 문자열, 논리값 각각 2개씩이다.\n",
    "문자열은 반드시 따옴표로 감싸야 한다.\n",
    "작은 따옴표(single quotation mark)나 큰 따옴표(double quotation mark) 어느 것을 사용해도 좋으나 일관성은 유지해야 한다.\n",
    "참고로 논리값은 두 가지 밖에 없으며 `True`와 `False`가 그것이다.\n",
    "이들은 각각 참과 거짓을 나타내는 논리값이다.\n",
    "실행해보면 알겠지만 한 줄에 값 하나만 기재하는 것도 제대로 실행되는 프로그램 문장이다."
   ]
  },
  {
   "cell_type": "code",
   "execution_count": 1,
   "metadata": {},
   "outputs": [
    {
     "data": {
      "text/plain": [
       "False"
      ]
     },
     "execution_count": 1,
     "metadata": {},
     "output_type": "execute_result"
    }
   ],
   "source": [
    "2017\n",
    "-12345\n",
    "3.141592\n",
    "-23.45678\n",
    "'박중양'\n",
    "\"경상대학교 정보통계학과\"\n",
    "True\n",
    "False"
   ]
  },
  {
   "cell_type": "markdown",
   "metadata": {},
   "source": [
    "## 변수"
   ]
  },
  {
   "cell_type": "markdown",
   "metadata": {},
   "source": [
    "프로그램을 작성할 때 프로그램 곳곳에 값을 직접 기재하는 것은 바람직하지 않다.\n",
    "값이 크거나 복잡할 경우 오류를 범하기 쉽고 다른 값으로 변경해야 할 경우에도 번거롭다.\n",
    "특히 동일한 값을 프로그램 여러 곳에 기재해야 하는 경우에는 더욱 그러하다.\n",
    "\n",
    "수학에서와 같이 변수를 만들어서 값을 저장하고 프로그램은 변수를 사용해서 작성하는 것이 좋다.\n",
    "변수에 값을 저장하는 곳 외에 값을 기재하는 것은 반드시 피해야 할 프로그래밍의 기본이다."
   ]
  },
  {
   "cell_type": "markdown",
   "metadata": {},
   "source": [
    "다음은 변수를 만들면서 값을 저장하는 문장이다.\n",
    "여기서 **=**은 수학과 달리 오른쪽의 값을 왼쪽 변수에 저장하는 일을 하는데 **대입 연산자**(assignment operator)라고 한다.\n",
    "이처럼 특정한 일을 하는 기호를 **연산자**(operator)라고 한다."
   ]
  },
  {
   "cell_type": "code",
   "execution_count": 2,
   "metadata": {
    "collapsed": true
   },
   "outputs": [],
   "source": [
    "first_name = 'Joongyang'\n",
    "last_name = 'Park'\n",
    "height = 184.5\n",
    "weight = 76.5\n",
    "nb_friends = 5"
   ]
  },
  {
   "cell_type": "markdown",
   "metadata": {},
   "source": [
    "변수를 만들거나 만들어진 변수를 가리킬 때는 반드시 변수 이름을 지정해야 한다.\n",
    "위에서 `first_name`, `last_name`, `height`, `weight`, `nb_friends` 등이 바로 값을 저장할 변수의 이름이다.\n",
    "변수의 이름은 해당 변수에 저장하는 값이 어떤 값인지를 잘 나타내는 이름을 붙이는 것이 바람직하며, x, y, z, x1, x2, .. 같은 이름은 의미를 전달해주지 않으므로 피해야 한다."
   ]
  },
  {
   "cell_type": "markdown",
   "metadata": {},
   "source": [
    "## 변수의 이름"
   ]
  },
  {
   "cell_type": "markdown",
   "metadata": {},
   "source": [
    "변수에 의미있는 이름을 붙여야 한다는 것 외에도 이름을 붙일 때 지켜야 하는 규칙이 있다.\n",
    "\n",
    "1. 변수의 이름은 영문자 소문자와 대문자, 밑줄, 숫자로만 지어야 한다.\n",
    "2. 이름의 첫 글자는 숫자일 수 없다.\n",
    "\n",
    "첫 번째 규칙은 소문자와 대문자를 서로 다른 문자로 취급한다는 내용도 포함하고 있다.\n",
    "대소문자를 구별한다는 것은 변수 이름에만 적용되는 것이 아니라 파이썬 프로그램 전반에 적용되는 규칙이다.\n",
    "이처럼 대문자와 소문자를 구별하는 것을 `case-sensitive`하다고 한다.\n",
    "그러니까 파이썬은 `case-sensitive`한 프로그래밍 언어이다.\n",
    "반면에 윈도우즈 운영체제의 명령 프롬프트는 `case-insensitive`하다."
   ]
  },
  {
   "cell_type": "markdown",
   "metadata": {},
   "source": [
    "## 연습문제"
   ]
  },
  {
   "cell_type": "markdown",
   "metadata": {},
   "source": [
    "1. 지금 소유하고 있거나 미래에 소유할 승용차에 대한 정보를 변수에 저장하시오.\n",
    "승용차의 제조회사, 모델, 색깔, 배기량, 연비, 최대 탑승인원, 연료의 종류 등의 정보가 필요하다.\n",
    "2. 이번 학기에 수강하는 과목의 이름, 담당 교수, 수강인원, 주당 강의시간, 학점, 실습과목 여부 등의 정보를 변수에 저장하시오."
   ]
  }
 ],
 "metadata": {
  "anaconda-cloud": {},
  "kernelspec": {
   "display_name": "Python [default]",
   "language": "python",
   "name": "python3"
  },
  "language_info": {
   "codemirror_mode": {
    "name": "ipython",
    "version": 3
   },
   "file_extension": ".py",
   "mimetype": "text/x-python",
   "name": "python",
   "nbconvert_exporter": "python",
   "pygments_lexer": "ipython3",
   "version": "3.6.3"
  }
 },
 "nbformat": 4,
 "nbformat_minor": 2
}
