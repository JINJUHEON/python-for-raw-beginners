{
 "cells": [
  {
   "cell_type": "markdown",
   "metadata": {},
   "source": [
    "# 파이썬 설치와 실행"
   ]
  },
  {
   "cell_type": "markdown",
   "metadata": {},
   "source": [
    "## 파이썬은 ..."
   ]
  },
  {
   "cell_type": "markdown",
   "metadata": {},
   "source": [
    "**파이썬**(Python)은 네덜란드 프로그래머인 **귀도 반 로섬**(Guido van Rossum)이 1991년에 발표한 고급 프로그래밍 언어이다.\n",
    "파이선은 **플랫폼 독립적**(platform independent)이고며, **객체지향 프로그래밍**(object-oriented programming)과 **동적 타이핑**(dynamic typing)을 지원한다.\n",
    "파이썬이라는 이름은 귀도가 좋아하는 코미디 프로그램 **Monty Python's Flying Circus**에서 따온 것이다"
   ]
  },
  {
   "cell_type": "markdown",
   "metadata": {},
   "source": [
    "## 파이썬 설치하기"
   ]
  },
  {
   "cell_type": "markdown",
   "metadata": {},
   "source": [
    "공식적인 파이썬 배포 사이트 [python.org](https://www.python.org)에서 배포하는 배포판(distribution) 외에도 여러 배포판이 있으므로 사용자는 기호에 맞는 배포판을 선택해서 설치하면 된다.\n",
    "현재 많이 사용하는 배포판은 [wiki.python.org/moin/PythonDistributions](https://wiki.python.org/moin/PythonDistributions) 에서 확인할 수 있다."
   ]
  },
  {
   "cell_type": "markdown",
   "metadata": {},
   "source": [
    "가장 많이 사용하는 배포판 중 하나인 [아나콘다(Anaconda)](https://www.anaconda.com/download/) 배포판을 이용할 것을 권장한다.\n",
    "아나콘다 배포판에는 수학, 과학 연구, 통계분석, 기계학습(machine learning, ML), 심층학습(deep learning)을 위한 대부분의 패키지가 기본적으로 포함되어 있기 때문에 사용하기 편하다."
   ]
  },
  {
   "cell_type": "markdown",
   "metadata": {},
   "source": [
    "## 대화형으로 파이썬 사용하기"
   ]
  },
  {
   "cell_type": "markdown",
   "metadata": {},
   "source": [
    "가장 기본적인 파이썬 사용법은 대화형(interactive mode)이다.\n",
    "대화형은 파이썬 프로그램 문장을 입력하면 바로 그 실행 결과를 보여주는 방식이다.\n",
    "사용자는 이 결과를 보고 후속 프로그램 문장을 입력할 수 있다.\n",
    "파이썬을 대화형으로 사용하려면 명령 프롬프트에서 `python` 또는 `ipython` 명령을 주면 된다.\n",
    "두 명령 중에서 `ipython` 명령을 권장한다.\n",
    "\n",
    "```python\n",
    "F:\\python> ipython\n",
    "```\n",
    "\n",
    "이 후에 `ln [1]:` 프롬프트(prompt)가 나타나면 성공적으로 파이썬이 실행된 것이며 이제부터 파이썬 프로그램 문장을 실행하고 그 결과를 바로 볼 수 있다.\n",
    "\n",
    "간단한 예로 다음과 같이 화면에 인사말을 출력하도록 `print() 함수`를 실행할 수 있다.\n",
    "\n",
    "```python\n",
    "ln [1]: print('Hello, Python!!!')\n",
    "ln [2]: print('안녕 파이썬!!!')\n",
    "```\n",
    "\n",
    "대화형 파이썬 사용을 종료하려면 다음과 같이 `exit()` 함수를 실행하면 된다.\n",
    "\n",
    "```python\n",
    "ln [200]: exit()\n",
    "```"
   ]
  },
  {
   "cell_type": "markdown",
   "metadata": {},
   "source": [
    "## 통합개발환경 Spyder 사용하기"
   ]
  },
  {
   "cell_type": "markdown",
   "metadata": {},
   "source": [
    "명령 프롬프트에서 작업 디렉토리로 이동한 다음 통합개발환경 Spyder를 실행한다.\n",
    "\n",
    "```python\n",
    "F:\\python> spyder\n",
    "```\n",
    "\n",
    "Spyder 통합개발환경은 프로그램 작성에 필요한 편집기, 간단한 파일 탐색기, 파이썬을 대화형으로 사용할 수 있는 환경과 각종 도움말 등을 제공한다."
   ]
  },
  {
   "cell_type": "markdown",
   "metadata": {},
   "source": [
    "## 쥬피터 노트북"
   ]
  },
  {
   "cell_type": "markdown",
   "metadata": {},
   "source": [
    "파이썬 프로그램과 실행 결과를 내포하는 문서를 작성하고 배포하려면 쥬피터 노트북(Jupyter Notebook)을 사용하는 것이 바람직하다.\n",
    "쥬피터 노트북은 웹 브라우저를 이용하여 문서 작성과 프로그래밍을 동시에 할 수 있는 환경을 제공한다.\n",
    "뿐만 아니라 `LaTeX`, `HTML` 등의 파일로 변화할 수 도 있다."
   ]
  },
  {
   "cell_type": "markdown",
   "metadata": {},
   "source": [
    "쥬피터 노트북에서 문서를 작성할 때는 **마크다운**(markdown)이라는 간단한 **마크업**(markup) 언어를 사용한다.\n",
    "마크다운 사용법은 [Markdown Cheatsheet](https://github.com/adam-p/markdown-here/wiki/Markdown-Cheatsheet)에서 참고할 수 있다."
   ]
  },
  {
   "cell_type": "markdown",
   "metadata": {},
   "source": [
    "쥬피터 노트북을 실행하려면 명령 프롬프트에서 파일을 저장할 디렉토리로 이동한 다음 명령을 내린다.\n",
    "\n",
    "```python\n",
    "F:\\python> jupyter notebook\n",
    "```\n",
    "\n",
    "그러면 웹 브라우저가 열리면서 쥬피터 노트북를 작성할 수 있는 환경이 나타난다.\n",
    "이 환경에서 디렉토리와 여러 종률의 파일을 생성하고 변경하고 수정하고 삭제할 수 있다."
   ]
  },
  {
   "cell_type": "markdown",
   "metadata": {},
   "source": [
    "쥬피터 노트북 사용법은 [쥬피터 노트북](http://jupyter.readthedocs.io/en/latest/index.html) 사이트를 이용해서 익힐 수 있다."
   ]
  },
  {
   "cell_type": "markdown",
   "metadata": {},
   "source": [
    "## 연습문제"
   ]
  },
  {
   "cell_type": "markdown",
   "metadata": {},
   "source": [
    "1. 명령 프롬프트를 실행하시오.\n",
    "2. usb 메모리를 컴퓨터에 연결하고 `exercises` 디렉토리를 만드시오.\n",
    "3. usb 메모리에 만든 `exercises` 디렉토리로 이동하시오.\n",
    "4. 쥬피터 노트북을 실행하시오.\n",
    "5. 쥬피터 노트북을 이용해서 `exercises` 디렉토리에 `text_one.txt`인 파일을 만들고 다음 세 줄을 입력하시오.\n",
    "```python\n",
    "    this is line 1.\n",
    "    this is line 2.\n",
    "    this is line 3.\n",
    "```\n",
    "6. 새로운 쥬피터 노트북을 만들고 다음과 같은 작업을 수행하고 저장하시오.\n",
    "    - code 셀을 만들고 간단한 파이썬 프로그램을 입력하고 실행하시오.\n",
    "    - markdown 셀을 만들고 간단한 마크다운 문서를 만들어 보시오.\n",
    "    - 여러 가지 셀을 만들고, 삭제하고, 이동해보시오.\n",
    "7. 쥬피터 노트북을 종료하시오."
   ]
  }
 ],
 "metadata": {
  "anaconda-cloud": {},
  "kernelspec": {
   "display_name": "Python [default]",
   "language": "python",
   "name": "python3"
  },
  "language_info": {
   "codemirror_mode": {
    "name": "ipython",
    "version": 3
   },
   "file_extension": ".py",
   "mimetype": "text/x-python",
   "name": "python",
   "nbconvert_exporter": "python",
   "pygments_lexer": "ipython3",
   "version": "3.6.3"
  }
 },
 "nbformat": 4,
 "nbformat_minor": 1
}
