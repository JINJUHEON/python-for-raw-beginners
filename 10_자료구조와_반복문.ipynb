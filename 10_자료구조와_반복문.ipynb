{
 "cells": [
  {
   "cell_type": "markdown",
   "metadata": {},
   "source": [
    "# 자료구조와 반복문"
   ]
  },
  {
   "cell_type": "markdown",
   "metadata": {},
   "source": [
    "## 함수의 그래프 작성"
   ]
  },
  {
   "cell_type": "markdown",
   "metadata": {},
   "source": [
    "함수 $f(x)$의 그래프를 그리기 위해서는 다음과 과정을 순서대로 수행하면 된다.\n",
    "\n",
    "1. 함수 값을 계산할 $x$값을 결정한다. 이를 $x_1 < x_2 < \\dots < x_n$이라 하자.\n",
    "2. 모든 $x_i$에 대해서 $f(x_i)$를 계산한다.\n",
    "3. 가로 축을 $x$, 세로 축을 $f(x)$로 한 그래프에 좌표가 $(x_i, f(x_i)$인 점을 찍는다.\n",
    "4. 가로축 좌표가 인접한 점을 직선으로 연결한다.\n",
    "\n",
    "정밀한 그림을 작성하려면 $n$이 커야 하고 $x_i$, $i=1, 2, ..., n$ 간의 간격이 좁아야 한다."
   ]
  },
  {
   "cell_type": "markdown",
   "metadata": {},
   "source": [
    "여기서는 $\\lambda = 2$일 때 $0 \\le x \\le 10$ 구간에서 함수 $f(x) = \\lambda e^{-\\lambda x}$의 그래프를 작성하기 위해 위에서 언급한 1단계와 2단계를 수행하는 프로그램을 작성해보자.\n",
    "$0 \\le x \\le 10$에 사이에 있는 모든 $x$에 대해 함수 값을 계산할 수 없기 때문에 $0 \\le x \\le 10$에서 함수 값을 계산할 유한개의 $x$를 결정해야 한다.\n",
    "주어진 구간을 일정한 간격으로 등분하는 값을 사용하는 것이 일반적이다.\n",
    "예를 들어, $0 \\le x \\le 10$ 구간을 100 등분하는 101개의 값에서 함수 값을 계산할 수 있다."
   ]
  },
  {
   "cell_type": "markdown",
   "metadata": {},
   "source": [
    "이때 101개의 값을 서로 다른 변수에 저장한다면 101개의 변수 이름을 지어야 하며 이로 인해 프로그램도 상당히 어려워지고 복잡해진다.\n",
    "따라서 하나의 이름에 여러 개의 값을 저장하고 저장된 값을 편리하게 이용할 수 있게 해주는 자료형이 필요하다.\n",
    "이런 기능을 가진 자료형을 **자료구조**(data structure)라고 한다."
   ]
  },
  {
   "cell_type": "markdown",
   "metadata": {},
   "source": [
    "자료구조는 개념적으로는 수학의 벡터(vector)나 행렬과 유사하지만 이보다 더 다양한 종류가 다양한 용도로 사용된다.\n",
    "그리고 자료구조는 용도에 따라 다른 기능을 가져야 하기 때문에 모든 프로그래밍 언어는 여러 가지 자료구조를 제공한다.\n",
    "대부분의 프로그래밍 언어가 자료구조를 라이브러리로 지원하지만 파이썬은 언어 자체에 기본적인 자료구조가 포함되어 있기 때문에 사용하기 편하고 실행속도도 빠르다.\n",
    "파이썬이 제공하는 기본적인 자료구조는 `list`, `set`, `tuple`, `dict` 등인데 각각은 개념적으로 목록, 집합, 순서쌍, 사전에 해당한다."
   ]
  },
  {
   "cell_type": "markdown",
   "metadata": {},
   "source": [
    "## 리스트의 생성과 사용"
   ]
  },
  {
   "cell_type": "markdown",
   "metadata": {},
   "source": [
    "다음은 0과 1 사이를 10등분하는 11개 값을 이름이 x인 리스트에 저장하는 예이다.\n",
    "\n",
    "Note: 파이썬의 기본 자료구조를 만들 때 `[]`, `()`, `{}`와 같은 여러 종류의 괄호를 이용한다.\n",
    "어떤 괄호를 사용하느냐에 따라 다른 자료구조가 생성되고, 자료구조가 달라지면 이용하는 방법이 달라진다는 것을 기억하기 바란다.\n",
    "`[]`은 리스트, `()`은 튜플, `{}`은 셋과 사전에 사용된다."
   ]
  },
  {
   "cell_type": "code",
   "execution_count": 2,
   "metadata": {},
   "outputs": [
    {
     "name": "stdout",
     "output_type": "stream",
     "text": [
      "<class 'list'>\n",
      "[0, 0.1, 0.2, 0.3, 0.4, 0.5, 0.6, 0.7, 0.8, 0.9, 1.0]\n"
     ]
    }
   ],
   "source": [
    "x = [0, 0.1, 0.2, 0.3, 0.4, 0.5, 0.6, 0.7, 0.8, 0.9, 1.0]\n",
    "print(type(x))\n",
    "print(x)"
   ]
  },
  {
   "cell_type": "markdown",
   "metadata": {},
   "source": [
    "리스트에 저장된 값을 이용할 때는 몇 번째 값인가를 지정하는데 이를 **인덱스**(index)라고 한다.\n",
    "첫 번째 저장된 값의 인덱스는 0이고 그 다음 값의 인덱스는 1, 2, ...이다.\n",
    "따라서 리스트를 사용할 때는 값을 저장하는 순서가 중요하다.\n",
    "인덱스는 리스트 이름 다음에 `[]`를 쓰고 그 안에 기재한다."
   ]
  },
  {
   "cell_type": "code",
   "execution_count": 3,
   "metadata": {},
   "outputs": [
    {
     "name": "stdout",
     "output_type": "stream",
     "text": [
      "0\n",
      "0.1\n",
      "1.0\n"
     ]
    }
   ],
   "source": [
    "print(x[0])\n",
    "print(x[1])\n",
    "print(x[10])"
   ]
  },
  {
   "cell_type": "markdown",
   "metadata": {},
   "source": [
    "리스트에 값을 저장하면 저장한 값의 개수를 기억할 필요가 없다.\n",
    "리스트에 저장된 값의 개수가 필요하면 `len()` 내장함수로 언제든지 알아낼 수 있다."
   ]
  },
  {
   "cell_type": "code",
   "execution_count": 4,
   "metadata": {},
   "outputs": [
    {
     "name": "stdout",
     "output_type": "stream",
     "text": [
      "11\n",
      "1.0\n",
      "0.8\n"
     ]
    }
   ],
   "source": [
    "print(len(x))\n",
    "print(x[len(x)-1])\n",
    "print(x[len(x)-3])"
   ]
  },
  {
   "cell_type": "markdown",
   "metadata": {},
   "source": [
    "인덱스를 이용하여 리스트에 저장된 값을 변경할 수 있다.\n",
    "저장된 값을 수정할 수 있는 자료형을 `mutable`하다고 하는데 리스트는 `mutable`한 자료구조이다."
   ]
  },
  {
   "cell_type": "code",
   "execution_count": 5,
   "metadata": {},
   "outputs": [
    {
     "name": "stdout",
     "output_type": "stream",
     "text": [
      "[0, 0.1, 0.2, 0.3, 0.4, 0.5, 0.6, 0.7, 0.8, 0.9, 1000]\n",
      "[0, 0.1, 0.2, 0.3, 0.4, 0.5, 0.6, 0.7, 0.8, 0.9, 1.0]\n"
     ]
    }
   ],
   "source": [
    "x[10] = 1000\n",
    "print(x)\n",
    "x[10] = 1.0\n",
    "print(x)"
   ]
  },
  {
   "cell_type": "markdown",
   "metadata": {},
   "source": [
    "리스트 자료구조에 저장할 값들이 반드시 동일한 자료형일 필요는 없다.\n",
    "다음은 하나의 리스트에 여러 자료형의 값을 저장하는 예이다."
   ]
  },
  {
   "cell_type": "code",
   "execution_count": 5,
   "metadata": {},
   "outputs": [
    {
     "name": "stdout",
     "output_type": "stream",
     "text": [
      "['name park', 74.5, 12345, True]\n"
     ]
    }
   ],
   "source": [
    "student = ['name park', 74.5, 12345, True]\n",
    "print(student)"
   ]
  },
  {
   "cell_type": "markdown",
   "metadata": {},
   "source": [
    "## 슬라이싱"
   ]
  },
  {
   "cell_type": "markdown",
   "metadata": {},
   "source": [
    "리스트에 저장된 값 하나 하나가 아니라 일부분을 추출할 수도 있다.\n",
    "이때에는 추출하고자 하는 값들의 인덱스를 `[]` 속에\n",
    "```python\n",
    "시작_인덱스:종료_인덱스:인덱스증감양\n",
    "```\n",
    "와 같은 형식으로 주면 된다.\n",
    "그러면\n",
    "```python\n",
    "시작_인덱스, 시작_인덱스 + 인덱스증감양, 시작_인덱스 + 인덱스증감량 * 2, ...\n",
    "```\n",
    "에 해당하면서 종료_인덱스보다 작은 인덱스에 해당하는 값이 추출되어 **별도의 리스트**로 만들어 진다.\n",
    "인덱스 증감량이 1이면\n",
    "```python\n",
    "시작_인덱스:종료_인덱스\n",
    "```\n",
    "이 간단히 기재할 수 있다.\n",
    "만약 시작_인덱스 이후의 모든 값을 추출할 때는\n",
    "```python\n",
    "시작_인덱스:\n",
    "```\n",
    "이 기재할 수 있고, 시작_인덱스가 0이면 시작_인덱스를 생략할 수 있다.\n",
    "```python\n",
    "시작_인덱스:종료_인덱스:인덱스증감양\n",
    "```\n",
    "로 기재한 것을 **슬라이스**(slice)라고 하고, 슬라이스를 이용하여 리스트의 원소 일부분을 추출하는 연산을 **슬라이싱**(slicing)이라 한다."
   ]
  },
  {
   "cell_type": "code",
   "execution_count": 6,
   "metadata": {},
   "outputs": [
    {
     "name": "stdout",
     "output_type": "stream",
     "text": [
      "[0, 0.1, 0.2, 0.3, 0.4, 0.5, 0.6, 0.7, 0.8, 0.9, 1.0]\n",
      "[0, 0.1, 0.2, 0.3, 0.4]\n",
      "[0.5, 0.6]\n",
      "[0.7, 0.8, 0.9, 1.0]\n",
      "[0.2, 0.4, 0.6, 0.8, 1.0]\n",
      "[0, 0.2, 0.4, 0.6, 0.8, 1.0]\n"
     ]
    }
   ],
   "source": [
    "x_front = x[:5]\n",
    "x_middle = x[5:7]\n",
    "x_rear = x[7:]\n",
    "\n",
    "x_even = x[2::2]\n",
    "x_odd = x[::2]\n",
    "\n",
    "print(x)\n",
    "print(x_front)\n",
    "print(x_middle)\n",
    "print(x_rear)\n",
    "print(x_even)\n",
    "print(x_odd)"
   ]
  },
  {
   "cell_type": "markdown",
   "metadata": {},
   "source": [
    "## 리스트 간의 연산\n",
    "\n",
    "리스트 간에는 `+` 연산을 할 수 있다.\n",
    "두 리스트에 대해 `+` 연산을 하면 두 리스트를 연결한 긴 리스트가 새로 만들어진다.\n",
    "`+` 연산자가 정수나 실수에 대해서는 덧셈 연산을 산술 연산자이지만 리스트에 대해서는 그렇지 않다.\n",
    "프로그래밍 언어에서는 피연산자의 자료형에 따라 연산자가 다르게 작동할 수 있다는 것을 기억하기 바란다."
   ]
  },
  {
   "cell_type": "code",
   "execution_count": 7,
   "metadata": {},
   "outputs": [
    {
     "name": "stdout",
     "output_type": "stream",
     "text": [
      "[0, 0.1, 0.2, 0.3, 0.4, 0.5, 0.6, 0.7, 0.8, 0.9, 1.0]\n",
      "[0.2, 0.4, 0.6, 0.8, 1.0, 0, 0.2, 0.4, 0.6, 0.8, 1.0]\n"
     ]
    }
   ],
   "source": [
    "x_whole = x_front + x_middle + x_rear\n",
    "print(x_whole)\n",
    "x_both = x_even + x_odd\n",
    "print(x_both)"
   ]
  },
  {
   "cell_type": "markdown",
   "metadata": {},
   "source": [
    "리스트에 `*` 연산이 가능한데 반드시 정수를 곱해야 한다.\n",
    "리스트에 정수를 곱하면 동일한 리스트 정수개가 `+` 연산된 긴 리스트가 만들어진다.\n",
    "정수를 곱하지 않으면 `TypeError` 오류가 발생한다."
   ]
  },
  {
   "cell_type": "code",
   "execution_count": 8,
   "metadata": {},
   "outputs": [
    {
     "name": "stdout",
     "output_type": "stream",
     "text": [
      "[0, 0.1, 0.2, 0.3, 0.4, 0, 0.1, 0.2, 0.3, 0.4]\n"
     ]
    }
   ],
   "source": [
    "x_front_twice = x_front * 2\n",
    "print(x_front_twice)"
   ]
  },
  {
   "cell_type": "code",
   "execution_count": 9,
   "metadata": {},
   "outputs": [
    {
     "ename": "TypeError",
     "evalue": "can't multiply sequence by non-int of type 'float'",
     "output_type": "error",
     "traceback": [
      "\u001b[1;31m---------------------------------------------------------------------------\u001b[0m",
      "\u001b[1;31mTypeError\u001b[0m                                 Traceback (most recent call last)",
      "\u001b[1;32m<ipython-input-9-dce979e97ae7>\u001b[0m in \u001b[0;36m<module>\u001b[1;34m()\u001b[0m\n\u001b[1;32m----> 1\u001b[1;33m \u001b[0mx_reat_trice\u001b[0m \u001b[1;33m=\u001b[0m \u001b[0mx_rear\u001b[0m \u001b[1;33m*\u001b[0m \u001b[1;36m3.4\u001b[0m\u001b[1;33m\u001b[0m\u001b[0m\n\u001b[0m",
      "\u001b[1;31mTypeError\u001b[0m: can't multiply sequence by non-int of type 'float'"
     ]
    }
   ],
   "source": [
    "x_reat_trice = x_rear * 3.4"
   ]
  },
  {
   "cell_type": "markdown",
   "metadata": {},
   "source": [
    "## `in` 연산자"
   ]
  },
  {
   "cell_type": "markdown",
   "metadata": {},
   "source": [
    "`in` 연산자는 어떤 값이 리스트에 저장된 값인지 검사하여 그 결과를 논리값으로 준다.\n",
    "`in` 연산자가 사용된 표현식은 조건문과 반복문에서 자주 사용된다."
   ]
  },
  {
   "cell_type": "code",
   "execution_count": 10,
   "metadata": {},
   "outputs": [
    {
     "name": "stdout",
     "output_type": "stream",
     "text": [
      "집합의 원소이다\n",
      "False\n"
     ]
    }
   ],
   "source": [
    "if 0.9 in x_whole:\n",
    "    msg = '집합의 원소이다'\n",
    "else:\n",
    "    msg = '집합의 원소가 아니다'\n",
    "print(msg)\n",
    "ans = 5.2 in x_front\n",
    "print(ans)"
   ]
  },
  {
   "cell_type": "markdown",
   "metadata": {},
   "source": [
    "## `range()` 내장함수\n",
    "\n",
    "초항이 정수이고 공차가 정수인 등차수열이 저장된 자료구조를 만들 때는 `range()` 함수를 사용한다.\n",
    "`range()` 함수는 **범위**(range) 자료구조를 만들어 주는데 범위 자료구조가 리스트는 아니지만 리스트와 동일한 방법으로 사용한다.\n",
    "원한다면 `list()` 함수를 이용해서 범위 자료구조를 리스트 자료구조로 바꿀 수 있다."
   ]
  },
  {
   "cell_type": "markdown",
   "metadata": {},
   "source": [
    "`range()`를 호출할 때는 `range(start, stop, step)`과 같이 초항, 최대값, 공차를 순서대로 정수로 주어야 한다.\n",
    "어떤 함수를 실행할 때 괄호 속에 주는 값을 **인자**(argument)라고 한다.\n",
    "앞에서 사용한 `print()`, `int()`, `float()`, `bool()` 함수 등을 실행할 때도 적절한 인자를 주었다는 것을 기억하기 바란다.\n",
    "함수에 따라 인자의 개수와 자료형이 다르다."
   ]
  },
  {
   "cell_type": "markdown",
   "metadata": {},
   "source": [
    "일반적으로 함수를 호출(실행)하면 함수는 인자를 받아서 어떤 일을 한 다음 그 결과를 호출한 곳에 돌려준다.\n",
    "즉 함수를 호출한 코드가 함수가 돌려준 결과로 대체되어 다음 코드가 실행된다.\n",
    "`int()` 함수는 인자를 정수로 변환한 결과를 돌려주고, `float()` 함수는 인자를 실수로 변환한 결과를 반환하며, `bool()` 함수는 인자를 논리값으로 변환한 결과를 돌려준다.\n",
    "프로그래머는 함수가 돌려주는 값을 저장해서 다른 일에 사용하는 것이 일반적이다.\n",
    "이에 반해 `print()` 함수는 인자를 모니터에 출력하지만 아무런 결과도 돌려주지는 않는다."
   ]
  },
  {
   "cell_type": "code",
   "execution_count": 7,
   "metadata": {},
   "outputs": [
    {
     "name": "stdout",
     "output_type": "stream",
     "text": [
      "123.45\n",
      "None\n"
     ]
    }
   ],
   "source": [
    "x = float('123.45')\n",
    "ret = print(x)\n",
    "print(ret)"
   ]
  },
  {
   "cell_type": "markdown",
   "metadata": {},
   "source": [
    "Note: `None`은 결측치(missing value)를 나타내는 파이썬 상수이다."
   ]
  },
  {
   "cell_type": "markdown",
   "metadata": {},
   "source": [
    "앞에서 설명한 바와 같이 `range()` 함수는 여러 가지 방법으로 실행할 수 있다.\n",
    "초항이 0, 공차가 1이면 한 개의 인자만으로 `range()` 함수를 실행할 수 있고, 공차가 1이면 두 개의 인자로 `range()` 함수를 실행할 수 있다.\n",
    "이는 초항과 공차를 인자로 주지 않으면 자동적으로 0과 1로 설정된다는 의미이다.\n",
    "\n",
    "예를 들어 `range()` 함수를 실행할 때 다음과 같이 3개의 인자를 줄 수 있다.\n",
    "그리고 `range()` 함수로 생성한 결과인 범위 자료구조는 리스트와 같이 인덱스와 슬라이스로 사용할 수 있다.\n",
    "원한다면 `list()` 함수로 범위 자료구조를 리스트 자료구조로 변환할 수 있다."
   ]
  },
  {
   "cell_type": "code",
   "execution_count": 8,
   "metadata": {},
   "outputs": [
    {
     "name": "stdout",
     "output_type": "stream",
     "text": [
      "<class 'range'>\n",
      "range(1, 7)\n"
     ]
    }
   ],
   "source": [
    "die = range(1, 7, 1)\n",
    "print(type(die))\n",
    "print(die)"
   ]
  },
  {
   "cell_type": "code",
   "execution_count": 9,
   "metadata": {},
   "outputs": [
    {
     "name": "stdout",
     "output_type": "stream",
     "text": [
      "4\n",
      "range(3, 7)\n"
     ]
    }
   ],
   "source": [
    "print(die[3])\n",
    "print(die[2:])"
   ]
  },
  {
   "cell_type": "code",
   "execution_count": 10,
   "metadata": {},
   "outputs": [
    {
     "name": "stdout",
     "output_type": "stream",
     "text": [
      "<class 'list'>\n",
      "[1, 2, 3, 4, 5, 6]\n",
      "6\n"
     ]
    }
   ],
   "source": [
    "die = list(die)\n",
    "print(type(die))\n",
    "print(die)\n",
    "print(len(die))"
   ]
  },
  {
   "cell_type": "code",
   "execution_count": 11,
   "metadata": {},
   "outputs": [
    {
     "name": "stdout",
     "output_type": "stream",
     "text": [
      "[0, 1, 2, 3, 4, 5, 6, 7, 8, 9, 10, 11, 12, 13, 14, 15, 16, 17, 18, 19, 20, 21, 22, 23, 24, 25, 26, 27, 28, 29, 30, 31, 32, 33, 34, 35, 36, 37, 38, 39, 40, 41, 42, 43, 44, 45]\n"
     ]
    }
   ],
   "source": [
    "lotto = list(range(46))\n",
    "print(lotto)"
   ]
  },
  {
   "cell_type": "markdown",
   "metadata": {},
   "source": [
    "범위 자료구조에 저장된 값의 개수를 구할 때도 `len()` 함수를 사용한다."
   ]
  },
  {
   "cell_type": "code",
   "execution_count": 13,
   "metadata": {},
   "outputs": [
    {
     "name": "stdout",
     "output_type": "stream",
     "text": [
      "6\n"
     ]
    }
   ],
   "source": [
    "nb_values = len(die)\n",
    "print(nb_values)"
   ]
  },
  {
   "cell_type": "code",
   "execution_count": 12,
   "metadata": {},
   "outputs": [
    {
     "name": "stdout",
     "output_type": "stream",
     "text": [
      "[1, 2, 3, 4, 5, 6, 7, 8, 9, 10, 11, 12, 13, 14, 15, 16, 17, 18, 19, 20, 21, 22, 23, 24, 25, 26, 27, 28, 29, 30, 31, 32, 33, 34, 35, 36, 37, 38, 39, 40, 41, 42, 43, 44, 45, 46, 47, 48, 49, 50, 51, 52, 53, 54, 55, 56, 57, 58, 59, 60, 61, 62, 63, 64, 65, 66, 67, 68, 69, 70, 71, 72, 73, 74, 75, 76, 77, 78, 79, 80, 81, 82, 83, 84, 85, 86, 87, 88, 89, 90, 91, 92, 93, 94, 95, 96, 97, 98, 99, 100]\n"
     ]
    }
   ],
   "source": [
    "int_le_100 = list(range(1,101))\n",
    "print(int_le_100)"
   ]
  },
  {
   "cell_type": "markdown",
   "metadata": {},
   "source": [
    "## 반복문\n",
    "\n",
    "$\\lambda = 2$일 때 $0 \\le x \\le 10$ 구간에서 함수 $f(x) = \\lambda e^{-\\lambda x}$의 그래프를 작성하는데 필요한 $0 \\le x \\le 10$ 구간을 100 등분하는 값은 다음과 같이 구할 수 있다.\n",
    "\n",
    "1. `range()` 함수로 $0, 1, \\dots, 100$이 저장된 리스트를 만든다.\n",
    "2. 리스트에 저장된 각 값을 10으로 나눈 결과가 저장된 리스트를 만든다."
   ]
  },
  {
   "cell_type": "code",
   "execution_count": 15,
   "metadata": {},
   "outputs": [
    {
     "name": "stdout",
     "output_type": "stream",
     "text": [
      "[0, 1, 2, 3, 4, 5, 6, 7, 8, 9] [91, 92, 93, 94, 95, 96, 97, 98, 99, 100]\n"
     ]
    }
   ],
   "source": [
    "seq = list(range(101))\n",
    "print(seq[:10], seq[91:])"
   ]
  },
  {
   "cell_type": "markdown",
   "metadata": {},
   "source": [
    "리스트에 저장된 각 값을 10으로 나눈 결과가 저장된 리스트는 다음과 같이 구할 수 있다.\n",
    "\n",
    "1. 빈 리스트를 새로 만든다.\n",
    "2. 리스트에 저장된 값을 순차적으로 10으로 나눈 결과를 새로 만든 리스트에 추가한다.\n",
    "\n",
    "리스트에 저장된 값을 10으로 나누는 표현식은 변하지 않는다.\n",
    "즉 동일한 계산, 연산, 일을 리스트에 저장된 값만 순환하면서 반복한다.\n",
    "이와 같이 동일한 일을 반복할 때 사용하는 문장이 반복문이다.\n",
    "파이썬의 대표적인 반복문은 다음과 같이 사용하는 `for` 문이다.\n",
    "여기서 elem는 리스트에 저장된 값 하나를 가리키는 변수이다.\n",
    "\n",
    "```python\n",
    "for elem in 리스트:\n",
    "    elem를 사용하는 한 줄 이상의 들여쓴 코드\n",
    "```"
   ]
  },
  {
   "cell_type": "code",
   "execution_count": 16,
   "metadata": {},
   "outputs": [
    {
     "name": "stdout",
     "output_type": "stream",
     "text": [
      "[0.0, 0.1, 0.2, 0.3, 0.4, 0.5, 0.6, 0.7, 0.8, 0.9, 1.0, 1.1, 1.2, 1.3, 1.4, 1.5, 1.6, 1.7, 1.8, 1.9, 2.0, 2.1, 2.2, 2.3, 2.4, 2.5, 2.6, 2.7, 2.8, 2.9, 3.0, 3.1, 3.2, 3.3, 3.4, 3.5, 3.6, 3.7, 3.8, 3.9, 4.0, 4.1, 4.2, 4.3, 4.4, 4.5, 4.6, 4.7, 4.8, 4.9, 5.0, 5.1, 5.2, 5.3, 5.4, 5.5, 5.6, 5.7, 5.8, 5.9, 6.0, 6.1, 6.2, 6.3, 6.4, 6.5, 6.6, 6.7, 6.8, 6.9, 7.0, 7.1, 7.2, 7.3, 7.4, 7.5, 7.6, 7.7, 7.8, 7.9, 8.0, 8.1, 8.2, 8.3, 8.4, 8.5, 8.6, 8.7, 8.8, 8.9, 9.0, 9.1, 9.2, 9.3, 9.4, 9.5, 9.6, 9.7, 9.8, 9.9, 10.0]\n"
     ]
    }
   ],
   "source": [
    "x = []\n",
    "for number in seq:\n",
    "    value = number / 10\n",
    "    x = x + [value]\n",
    "print(x)"
   ]
  },
  {
   "cell_type": "markdown",
   "metadata": {},
   "source": [
    "다음과 같이 더 간단하게 프로그램 할 수도 있다."
   ]
  },
  {
   "cell_type": "code",
   "execution_count": 17,
   "metadata": {},
   "outputs": [
    {
     "name": "stdout",
     "output_type": "stream",
     "text": [
      "[0.0, 0.1, 0.2, 0.3, 0.4, 0.5, 0.6, 0.7, 0.8, 0.9, 1.0, 1.1, 1.2, 1.3, 1.4, 1.5, 1.6, 1.7, 1.8, 1.9, 2.0, 2.1, 2.2, 2.3, 2.4, 2.5, 2.6, 2.7, 2.8, 2.9, 3.0, 3.1, 3.2, 3.3, 3.4, 3.5, 3.6, 3.7, 3.8, 3.9, 4.0, 4.1, 4.2, 4.3, 4.4, 4.5, 4.6, 4.7, 4.8, 4.9, 5.0, 5.1, 5.2, 5.3, 5.4, 5.5, 5.6, 5.7, 5.8, 5.9, 6.0, 6.1, 6.2, 6.3, 6.4, 6.5, 6.6, 6.7, 6.8, 6.9, 7.0, 7.1, 7.2, 7.3, 7.4, 7.5, 7.6, 7.7, 7.8, 7.9, 8.0, 8.1, 8.2, 8.3, 8.4, 8.5, 8.6, 8.7, 8.8, 8.9, 9.0, 9.1, 9.2, 9.3, 9.4, 9.5, 9.6, 9.7, 9.8, 9.9, 10.0]\n"
     ]
    }
   ],
   "source": [
    "x = []\n",
    "for number in seq:\n",
    "    x = x + [number / 10]\n",
    "print(x)"
   ]
  },
  {
   "cell_type": "markdown",
   "metadata": {},
   "source": [
    "다음과 같이 인덱스를 이용해서 프로그램 할 수도 있다."
   ]
  },
  {
   "cell_type": "code",
   "execution_count": 18,
   "metadata": {},
   "outputs": [
    {
     "name": "stdout",
     "output_type": "stream",
     "text": [
      "[0.0, 0.1, 0.2, 0.3, 0.4, 0.5, 0.6, 0.7, 0.8, 0.9, 1.0, 1.1, 1.2, 1.3, 1.4, 1.5, 1.6, 1.7, 1.8, 1.9, 2.0, 2.1, 2.2, 2.3, 2.4, 2.5, 2.6, 2.7, 2.8, 2.9, 3.0, 3.1, 3.2, 3.3, 3.4, 3.5, 3.6, 3.7, 3.8, 3.9, 4.0, 4.1, 4.2, 4.3, 4.4, 4.5, 4.6, 4.7, 4.8, 4.9, 5.0, 5.1, 5.2, 5.3, 5.4, 5.5, 5.6, 5.7, 5.8, 5.9, 6.0, 6.1, 6.2, 6.3, 6.4, 6.5, 6.6, 6.7, 6.8, 6.9, 7.0, 7.1, 7.2, 7.3, 7.4, 7.5, 7.6, 7.7, 7.8, 7.9, 8.0, 8.1, 8.2, 8.3, 8.4, 8.5, 8.6, 8.7, 8.8, 8.9, 9.0, 9.1, 9.2, 9.3, 9.4, 9.5, 9.6, 9.7, 9.8, 9.9, 10.0]\n"
     ]
    }
   ],
   "source": [
    "x = []\n",
    "for idx in range(len(seq)):\n",
    "    value = seq[idx] / 10\n",
    "    x = x + [value]\n",
    "print(x)"
   ]
  },
  {
   "cell_type": "code",
   "execution_count": 19,
   "metadata": {},
   "outputs": [
    {
     "name": "stdout",
     "output_type": "stream",
     "text": [
      "[0.0, 0.1, 0.2, 0.3, 0.4, 0.5, 0.6, 0.7, 0.8, 0.9, 1.0, 1.1, 1.2, 1.3, 1.4, 1.5, 1.6, 1.7, 1.8, 1.9, 2.0, 2.1, 2.2, 2.3, 2.4, 2.5, 2.6, 2.7, 2.8, 2.9, 3.0, 3.1, 3.2, 3.3, 3.4, 3.5, 3.6, 3.7, 3.8, 3.9, 4.0, 4.1, 4.2, 4.3, 4.4, 4.5, 4.6, 4.7, 4.8, 4.9, 5.0, 5.1, 5.2, 5.3, 5.4, 5.5, 5.6, 5.7, 5.8, 5.9, 6.0, 6.1, 6.2, 6.3, 6.4, 6.5, 6.6, 6.7, 6.8, 6.9, 7.0, 7.1, 7.2, 7.3, 7.4, 7.5, 7.6, 7.7, 7.8, 7.9, 8.0, 8.1, 8.2, 8.3, 8.4, 8.5, 8.6, 8.7, 8.8, 8.9, 9.0, 9.1, 9.2, 9.3, 9.4, 9.5, 9.6, 9.7, 9.8, 9.9, 10.0]\n"
     ]
    }
   ],
   "source": [
    "x = []\n",
    "for idx in range(len(seq)):\n",
    "    x = x + [seq[idx] / 10]\n",
    "print(x)"
   ]
  },
  {
   "cell_type": "markdown",
   "metadata": {},
   "source": [
    "자료구조에 저장된 값과 인덱스가 동시에 필요할 때는 `enumerate()` 내장함수를 사용한다.\n",
    "`enumerate()` 내장함수에 리스트를 인자로 주면 인덱스와 값을 따로 받아서 프로그램 할 수 있다.\n",
    "`enumerate()` 함수의 사용법은 다음과 같다.\n",
    "\n",
    "```python\n",
    "for index, value in enumerate(리스트):\n",
    "    index와 value를 이용한 한 줄 이상의 들여쓴 코드\n",
    "```"
   ]
  },
  {
   "cell_type": "markdown",
   "metadata": {},
   "source": [
    "$0 \\le x \\le 10$ 구간을 100등분한 값 중에서 9 이상인 값과 그 값의 인덱스는 다음과 같이 출력할수 있다."
   ]
  },
  {
   "cell_type": "code",
   "execution_count": 22,
   "metadata": {},
   "outputs": [
    {
     "name": "stdout",
     "output_type": "stream",
     "text": [
      "90 9.0\n",
      "91 9.1\n",
      "92 9.2\n",
      "93 9.3\n",
      "94 9.4\n",
      "95 9.5\n",
      "96 9.6\n",
      "97 9.7\n",
      "98 9.8\n",
      "99 9.9\n",
      "100 10.0\n"
     ]
    }
   ],
   "source": [
    "for idx, x0 in enumerate(x):\n",
    "    if x0 >= 9:\n",
    "        print(idx, x0)"
   ]
  },
  {
   "cell_type": "markdown",
   "metadata": {},
   "source": [
    "함수 값을 계산할 x값이 만들어졌으므로 함수 값은 다음과 같이 계산할 수 있다.\n",
    "\n",
    "1. 함수 값을 저장할 빈 리스트 fx를 만든다.\n",
    "2. 리스트 x에 저장된 값으로 구한 함수 값을 fx에 추가한다.\n",
    "\n",
    "함수의 값을 계산하는 표현식은 동일하므로 위의 두 단계에 걸쳐 함수의 값을 계산할 때도 반복문을 사용할 수 있다."
   ]
  },
  {
   "cell_type": "code",
   "execution_count": 20,
   "metadata": {},
   "outputs": [
    {
     "name": "stdout",
     "output_type": "stream",
     "text": [
      "[2.0, 1.6374615061559636, 1.3406400920712787, 1.097623272188053, 0.8986579282344431, 0.7357588823428847, 0.6023884238244043, 0.493193927883213, 0.40379303598931077, 0.33059777644317306]\n"
     ]
    }
   ],
   "source": [
    "import math\n",
    "lamda = 2.0\n",
    "fx = []\n",
    "for x0 in x:\n",
    "    f = lamda * math.exp(-lamda * x0)\n",
    "    fx = fx + [f]\n",
    "print(fx[:10])"
   ]
  },
  {
   "cell_type": "markdown",
   "metadata": {},
   "source": [
    "## 또 다른 반복문: `while` 문"
   ]
  },
  {
   "cell_type": "markdown",
   "metadata": {},
   "source": [
    "특정한 조건이 만족할 때만 어떤 일을 반복하고 싶을 때는 `while` 문이 `for` 문보다 편리하다.\n",
    "\n",
    "$\\lambda = 2$일 때 $0 \\le x \\le 10$ 구간에서 함수 $f(x) = \\lambda e^{-\\lambda x}$의 그래프를 작성하는 문제에서 $0 \\le x \\le 10$ 구간을 100 등분하는 101개의 값에서 함수 값을 계산하기로 했다.\n",
    "$0 \\le x \\le 10$ 구간을 100 등분하는 101개의 값은 다음과 같이 구할 수 있다.\n",
    "\n",
    "1. 빈 리스트 x를 만든다\n",
    "2. x0에 0을 저장한다.\n",
    "3. x0가 10 보다 작으면 x0를 리스트 x에 저장한다. x0가 10보다 크면 반복을 종료한다.\n",
    "4. x0를 0.1만큼 증가시킨 다음 3으로 간다."
   ]
  },
  {
   "cell_type": "code",
   "execution_count": 21,
   "metadata": {},
   "outputs": [
    {
     "name": "stdout",
     "output_type": "stream",
     "text": [
      "[0, 0.1, 0.2, 0.30000000000000004, 0.4, 0.5, 0.6, 0.7, 0.7999999999999999, 0.8999999999999999]\n"
     ]
    }
   ],
   "source": [
    "lower_x = 0\n",
    "upper_x = 10\n",
    "n = 100\n",
    "dx = (upper_x - lower_x) / n\n",
    "\n",
    "x = []\n",
    "x0 = lower_x\n",
    "while x0 <= upper_x:\n",
    "    x = x + [x0]\n",
    "    x0 = x0 + dx\n",
    "print(x[:10])"
   ]
  },
  {
   "cell_type": "markdown",
   "metadata": {},
   "source": [
    "## 연습문제\n",
    "\n",
    "1. $\\lambda = 2$일 때 $0 \\le x \\le 20$ 구간을 1000 등분한 점에서 함수 $f(x) = 1 - e^{-\\lambda x}$의 값을 계산하여 출력하시오.\n",
    "2. $n=20$, $p=0.3$일 때 $x=0, 1, \\dots, n$에서 함수 $f(x) = \\binom{n}{x} p^x (1-p)^{n-x}$의 값을 계산하여 출력하시오.\n",
    "3. $\\alpha = 1.2$, $\\beta=2.5$일 때 $-10 \\le x \\le 10$ 구간을 2000 등분한 점에서 함수 $p(x) = \\frac{1}{1 + e^{-\\alpha - \\beta x}}$의 값을 계산하여 출력하시오.\n",
    "4. 앞 문제에서 계산한 $p(x)$를 이용하여 $logit(x) = \\log \\left( \\frac{p(x)}{1-p(x)} \\right)$를 계산하여 출력하시오.\n",
    "5. 구간 $[-5, 5]$을 100 등분하는 점에서 함수 $f(x) = \\left\\{\n",
    "     \\begin{array}{ll}\n",
    "       x & \\text{if } x \\gt 0 \\\\\n",
    "       0 & \\text{if} x \\le 0\n",
    "     \\end{array}\n",
    "   \\right.$를 계산하시오.\n",
    "6. $\\alpha=2$일 때 구간 $[-5, 5]$을 100 등분하는 점에서 함수 $f(x) = \\left\\{\n",
    "     \\begin{array}{ll}\n",
    "       x & \\text{if } x \\gt 0 \\\\\n",
    "       \\alpha (e^x - 1) & \\text{if} x \\le 0\n",
    "     \\end{array}\n",
    "   \\right.$를 계산하시오.\n",
    "7. 5명의 친구 이름이 저장된 리스트를 만드시오.\n",
    "키보드에서 이름을 입력받고 이 이름이 친구 이름인지 아닌지를 검사하시오.\n",
    "입력받은 이름이 친구 이름이면 \"반갑다 친구야!\"를 출력하고 친구 이름이 아니면 \"누구세요?\"를 출력하시오.\n",
    "8. 한 사이트에 등록된 사용자는 5명이다.\n",
    "5명 사용자의 이름과 암호가 저장된 리스트 usernames, passwords를 만드시오.\n",
    "\n",
    "    * 사용자의 이름과 암호를 키보드에서 입력받아 정상적인 사용자인지를 확인하는 프로그램을 작성하시오.\n",
    "    * 새로운 사용자의 이름과 암호를 입력받아서 usernames, passwords에 추가하는 프로그램을 작성하시오."
   ]
  }
 ],
 "metadata": {
  "anaconda-cloud": {},
  "kernelspec": {
   "display_name": "Python [default]",
   "language": "python",
   "name": "python3"
  },
  "language_info": {
   "codemirror_mode": {
    "name": "ipython",
    "version": 3
   },
   "file_extension": ".py",
   "mimetype": "text/x-python",
   "name": "python",
   "nbconvert_exporter": "python",
   "pygments_lexer": "ipython3",
   "version": "3.6.3"
  }
 },
 "nbformat": 4,
 "nbformat_minor": 2
}
