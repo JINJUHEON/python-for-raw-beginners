{
 "cells": [
  {
   "cell_type": "markdown",
   "metadata": {},
   "source": [
    "# 외부와 통신하는 프로그램"
   ]
  },
  {
   "cell_type": "markdown",
   "metadata": {},
   "source": [
    "프로그램은 외부(사용자, 모니터, 파일, 인터넷 등)와 통신할 수 있어야 한다.\n",
    "즉 여러 종류의 값을 주고 받을 수 있어야 한다.\n",
    "앞에서 사용한 `print()` 내장함수는 모니터로 값을 보내 프로그램 사용자가 볼 수 있게 해주는 통신 함수로 볼 수 있다."
   ]
  },
  {
   "cell_type": "markdown",
   "metadata": {},
   "source": [
    "## 키보드 입력을 처리하는 내장함수"
   ]
  },
  {
   "cell_type": "markdown",
   "metadata": {},
   "source": [
    "`print()` 내장함수와 반대로 사용자로 하여금 키보드를 통해 프로그램에 값을 보낼 수 있게 해주는 함수가 `input()` 함수이다.\n",
    "`input()` 함수를 실행할 때는 어떤 값을 입력하라는 메시지를 `()` 속에 문자열로 줄 수 있다.\n",
    "`input()` 함수를 실행하면 프로그램은 사용자가 엔터키를 칠 때까지 입력한 내용을 문자열로 만들어 준다.\n",
    "입력받은 것을 프로그램에 사용하려면 변수에 저장하는 것이 좋다."
   ]
  },
  {
   "cell_type": "code",
   "execution_count": 1,
   "metadata": {},
   "outputs": [
    {
     "name": "stdout",
     "output_type": "stream",
     "text": [
      "나이: 23\n",
      "23\n"
     ]
    }
   ],
   "source": [
    "msg = '나이: '\n",
    "age = input(msg)\n",
    "print(age)"
   ]
  },
  {
   "cell_type": "markdown",
   "metadata": {},
   "source": [
    "`input()` 함수로 키보드에서 입력받은 것은 항상 문자열이므로 다음 문장을 실행하면 오류가 발생한다.\n",
    "왜냐하면 문자열에 숫자를 더할 수 없기 때문이다."
   ]
  },
  {
   "cell_type": "code",
   "execution_count": 2,
   "metadata": {},
   "outputs": [
    {
     "name": "stdout",
     "output_type": "stream",
     "text": [
      "<class 'str'>\n"
     ]
    },
    {
     "ename": "TypeError",
     "evalue": "must be str, not int",
     "output_type": "error",
     "traceback": [
      "\u001b[1;31m---------------------------------------------------------------------------\u001b[0m",
      "\u001b[1;31mTypeError\u001b[0m                                 Traceback (most recent call last)",
      "\u001b[1;32m<ipython-input-2-51457b640bba>\u001b[0m in \u001b[0;36m<module>\u001b[1;34m()\u001b[0m\n\u001b[0;32m      1\u001b[0m \u001b[0mprint\u001b[0m\u001b[1;33m(\u001b[0m\u001b[0mtype\u001b[0m\u001b[1;33m(\u001b[0m\u001b[0mage\u001b[0m\u001b[1;33m)\u001b[0m\u001b[1;33m)\u001b[0m\u001b[1;33m\u001b[0m\u001b[0m\n\u001b[1;32m----> 2\u001b[1;33m \u001b[0mage_next_year\u001b[0m \u001b[1;33m=\u001b[0m \u001b[0mage\u001b[0m \u001b[1;33m+\u001b[0m \u001b[1;36m1\u001b[0m\u001b[1;33m\u001b[0m\u001b[0m\n\u001b[0m",
      "\u001b[1;31mTypeError\u001b[0m: must be str, not int"
     ]
    }
   ],
   "source": [
    "print(type(age))\n",
    "age_next_year = age + 1"
   ]
  },
  {
   "cell_type": "markdown",
   "metadata": {},
   "source": [
    "`input()` 함수가 입력받은 내용을 문자열로 만들어 준다는 점은 매우 중요하다.\n",
    "이는 필요하면 문자열을 정수 또는 실수로 변환해야 한다는 것을 의미한다.\n",
    "문자열을 정수로 변환할 때는 `int()` 함수, 실수로 변환할 때는 `float()` 함수, 논리값으로 변환할 때는 `bool()` 함수를 사용한다.\n",
    "변환할 수 없는 것을 변환하면 `ValueError`라는 종류의 오류가 발생한다."
   ]
  },
  {
   "cell_type": "code",
   "execution_count": 3,
   "metadata": {},
   "outputs": [
    {
     "ename": "ValueError",
     "evalue": "could not convert string to float: 'HEAM'",
     "output_type": "error",
     "traceback": [
      "\u001b[1;31m---------------------------------------------------------------------------\u001b[0m",
      "\u001b[1;31mValueError\u001b[0m                                Traceback (most recent call last)",
      "\u001b[1;32m<ipython-input-3-44b80b49f91c>\u001b[0m in \u001b[0;36m<module>\u001b[1;34m()\u001b[0m\n\u001b[1;32m----> 1\u001b[1;33m \u001b[0mfloat\u001b[0m\u001b[1;33m(\u001b[0m\u001b[1;34m'HEAM'\u001b[0m\u001b[1;33m)\u001b[0m\u001b[1;33m\u001b[0m\u001b[0m\n\u001b[0m",
      "\u001b[1;31mValueError\u001b[0m: could not convert string to float: 'HEAM'"
     ]
    }
   ],
   "source": [
    "float('HEAM')"
   ]
  },
  {
   "cell_type": "code",
   "execution_count": 4,
   "metadata": {},
   "outputs": [
    {
     "ename": "ValueError",
     "evalue": "invalid literal for int() with base 10: '123HEAM'",
     "output_type": "error",
     "traceback": [
      "\u001b[1;31m---------------------------------------------------------------------------\u001b[0m",
      "\u001b[1;31mValueError\u001b[0m                                Traceback (most recent call last)",
      "\u001b[1;32m<ipython-input-4-b1da9aba75f4>\u001b[0m in \u001b[0;36m<module>\u001b[1;34m()\u001b[0m\n\u001b[1;32m----> 1\u001b[1;33m \u001b[0mint\u001b[0m\u001b[1;33m(\u001b[0m\u001b[1;34m'123HEAM'\u001b[0m\u001b[1;33m)\u001b[0m\u001b[1;33m\u001b[0m\u001b[0m\n\u001b[0m",
      "\u001b[1;31mValueError\u001b[0m: invalid literal for int() with base 10: '123HEAM'"
     ]
    }
   ],
   "source": [
    "int('123HEAM')"
   ]
  },
  {
   "cell_type": "markdown",
   "metadata": {},
   "source": [
    "정수, 실수 또는 문자열은 논리값으로 변환할 수 있다.\n",
    "0이 아닌 정수나 실수는 `True`로 변환되고 0은 `False`로 변환된다.\n",
    "한편 빈 문자열(empty string) `''`은 `False`로 변환되고 그 외의 문자열은 모두 `True`로 변환된다."
   ]
  },
  {
   "cell_type": "code",
   "execution_count": 5,
   "metadata": {},
   "outputs": [
    {
     "name": "stdout",
     "output_type": "stream",
     "text": [
      "True\n",
      "False\n"
     ]
    }
   ],
   "source": [
    "ans = bool(0.5)\n",
    "print(ans)\n",
    "ans = bool(0)\n",
    "print(ans)"
   ]
  },
  {
   "cell_type": "code",
   "execution_count": 6,
   "metadata": {},
   "outputs": [
    {
     "name": "stdout",
     "output_type": "stream",
     "text": [
      "True\n",
      "False\n"
     ]
    }
   ],
   "source": [
    "ans = bool('joong')\n",
    "print(ans)\n",
    "ans = bool('')\n",
    "print(ans)"
   ]
  },
  {
   "cell_type": "markdown",
   "metadata": {},
   "source": [
    "다음은 앞에서 입력받은 나이를 실수로 변환하는 예이다."
   ]
  },
  {
   "cell_type": "code",
   "execution_count": 7,
   "metadata": {},
   "outputs": [
    {
     "name": "stdout",
     "output_type": "stream",
     "text": [
      "24.0\n"
     ]
    }
   ],
   "source": [
    "age = float(age)\n",
    "age_next_year = age + 1\n",
    "print(age_next_year)"
   ]
  },
  {
   "cell_type": "markdown",
   "metadata": {},
   "source": [
    "다음은 실수를 정수로 변환하는 예이다."
   ]
  },
  {
   "cell_type": "code",
   "execution_count": 8,
   "metadata": {},
   "outputs": [
    {
     "name": "stdout",
     "output_type": "stream",
     "text": [
      "24\n"
     ]
    }
   ],
   "source": [
    "age = int(age)\n",
    "age_next_year = age + 1\n",
    "print(age_next_year)"
   ]
  },
  {
   "cell_type": "markdown",
   "metadata": {},
   "source": [
    "실수나 정수 또는 논리값을 문자열로 변환할 때는 `str()` 함수를 사용한다."
   ]
  },
  {
   "cell_type": "code",
   "execution_count": 9,
   "metadata": {},
   "outputs": [
    {
     "name": "stdout",
     "output_type": "stream",
     "text": [
      "<class 'int'>\n",
      "24\n",
      "<class 'str'>\n"
     ]
    }
   ],
   "source": [
    "print(type(age_next_year))\n",
    "age_next_year = str(age_next_year)\n",
    "print(age_next_year)\n",
    "print(type(age_next_year))"
   ]
  },
  {
   "cell_type": "code",
   "execution_count": 10,
   "metadata": {},
   "outputs": [
    {
     "name": "stdout",
     "output_type": "stream",
     "text": [
      "True\n",
      "<class 'bool'>\n",
      "<class 'str'>\n",
      "True\n"
     ]
    }
   ],
   "source": [
    "boolean = True\n",
    "print(boolean)\n",
    "print(type(boolean))\n",
    "boolean = str(boolean)\n",
    "print(type(boolean))\n",
    "print(boolean)"
   ]
  },
  {
   "cell_type": "markdown",
   "metadata": {},
   "source": [
    "## 연습문제"
   ]
  },
  {
   "cell_type": "markdown",
   "metadata": {},
   "source": [
    "1. 체질량 지수(Body Mass Index, BMI)는 인간의 비만도를 나타내는 지수로, 체중과 키의 관계로 계산된다.\n",
    "키가 t 미터, 체중이 w 킬로그램일 때, BMI는 $w / t^2$와 같이 계산한다.\n",
    "\n",
    "    * 키보드에서 키와 체중이 입력받아 적절하게 변환한 다음 변수에 저장하시오.\n",
    "    * BMI를 계산해서 변수에 저장하시오.\n",
    "    \n",
    "2. 한국의 경우 BMI의 크기에 따라 다음과 같이 비만도를 분류한다.\n",
    "BMI가 35 이상이면 고도 비만, 30 - 35 사이에 있으면 중등도 비만, 25 - 30 사이에 있으면 경도 비만, 23 - 24.9 사이에 있으면 과체중, 18.5 - 22.9 사이이면 정상, 18.5 미만이면 저체중으로 판정하고 있다.\n",
    "\n",
    "    * 키보드에서 입력받은 키와 체중을 가진 사람은 어디에 해당하는지 판정하는 프로그램을 작성하시오.\n",
    "\n",
    "3. 혈압은 심장 수축기의 최고 혈압과 이완기의 최저 혈압의 두 측정치로 요약되는데, 휴식시 정상 혈압은 수축시 100~140mmHg에 이완시 60~90mmHg이고, 혈압이 지속적으로 140/90mmHg 이상일 때 고혈압이 있다고 말한다.\n",
    "\n",
    "    * 키보드에서 수축시 혈압(systolic blood pressure)과 이완시 혈압(diastolic blood pressure)을 입력받은 다음 이를 적절히 변환해서 변수에 저장하시오.\n",
    "    * 입력받은 혈압을 가진 사람이 정상인지 고혈압인지를 판정하는 프로그램을 작성하시오.\n",
    "    \n",
    "5. 키보드에서 $x$를 입력받은 다음 함수 $f(x) = \\left\\{\n",
    "     \\begin{array}{ll}\n",
    "       x & \\text{if } x \\gt 0 \\\\\n",
    "       0 & \\text{if} x \\le 0\n",
    "     \\end{array}\n",
    "   \\right.$를 계산하시오.\n",
    "6.  키보드에서 $\\alpha$와 $x$를 입력받아 함수 $f(x) = \\left\\{\n",
    "     \\begin{array}{ll}\n",
    "       x & \\text{if } x \\gt 0 \\\\\n",
    "       \\alpha (e^x - 1) & \\text{if} x \\le 0\n",
    "     \\end{array}\n",
    "   \\right.$를 계산하시오."
   ]
  }
 ],
 "metadata": {
  "kernelspec": {
   "display_name": "Python [default]",
   "language": "python",
   "name": "python3"
  },
  "language_info": {
   "codemirror_mode": {
    "name": "ipython",
    "version": 3
   },
   "file_extension": ".py",
   "mimetype": "text/x-python",
   "name": "python",
   "nbconvert_exporter": "python",
   "pygments_lexer": "ipython3",
   "version": "3.6.3"
  }
 },
 "nbformat": 4,
 "nbformat_minor": 2
}
